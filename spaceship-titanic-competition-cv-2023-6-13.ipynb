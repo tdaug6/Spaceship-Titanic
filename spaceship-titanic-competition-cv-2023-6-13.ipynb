{
 "cells": [
  {
   "cell_type": "markdown",
   "id": "923d018c",
   "metadata": {
    "papermill": {
     "duration": 0.018791,
     "end_time": "2023-06-13T18:42:54.032390",
     "exception": false,
     "start_time": "2023-06-13T18:42:54.013599",
     "status": "completed"
    },
    "tags": []
   },
   "source": [
    "# Spaceship Titanic Competition\n",
    "\n",
    "*Created by: Taylor Daugherty*\n",
    "\n",
    "*Created on: 5/23/2023    Last updated: 6/13/2023 - Clean up notebook*\n",
    "\n",
    "This notebook is used to practice using cross validation.\n",
    "\n",
    "\n",
    "**Input File:** train.csv and test.csv from the spaceship-titanic competition\n",
    "\n",
    "- train.csv contains a training set of data with features and true values\n",
    "\n",
    "- test.csv contains a testing set of data with only features. This is what will be used to make predictions and submit to the competition\n",
    "\n",
    "\n",
    "**Purpose of notebook:** Gain more practice with cross validation and make submissions to the spaceship titanic competition\n",
    "\n",
    "## Table of Contents\n",
    "\n",
    "1. Import packages\n",
    "\n",
    "2. Useful functions\n",
    "\n",
    "3. Initial Model\n",
    "\n",
    "4. Improvement 1: Remove 'Converted' group\n",
    "\n",
    "5. Improvement 2: Impute NaN values\n",
    "\n",
    "    a. Constant\n",
    "    \n",
    "    b. Mean\n",
    "    \n",
    "    c. Median"
   ]
  },
  {
   "cell_type": "markdown",
   "id": "7d4c45b6",
   "metadata": {
    "papermill": {
     "duration": 0.017945,
     "end_time": "2023-06-13T18:42:54.068843",
     "exception": false,
     "start_time": "2023-06-13T18:42:54.050898",
     "status": "completed"
    },
    "tags": []
   },
   "source": [
    "## Import packages\n",
    "\n",
    "Import the packages necessary to run the notebook\n",
    "\n",
    "1. numpy: used for linear algebra\n",
    "\n",
    "2. pandas: used for dataframe creation and manipulation\n",
    "\n",
    "4. `SimpleImputer`: Used to fill NaN values\n",
    "\n",
    "5. `LogisticRegression`: a classification model using logistic regression\n",
    "\n",
    "6. `KNeighborsClassifier`: a classification model using KNN\n",
    "\n",
    "7. `SVC`: a classification model using SVM\n",
    "\n",
    "8. `KFold` and `cross_val_score`: used for cross validation"
   ]
  },
  {
   "cell_type": "code",
   "execution_count": 1,
   "id": "ee0a9909",
   "metadata": {
    "_cell_guid": "b1076dfc-b9ad-4769-8c92-a6c4dae69d19",
    "_uuid": "8f2839f25d086af736a60e9eeb907d3b93b6e0e5",
    "execution": {
     "iopub.execute_input": "2023-06-13T18:42:54.108388Z",
     "iopub.status.busy": "2023-06-13T18:42:54.107732Z",
     "iopub.status.idle": "2023-06-13T18:42:55.962457Z",
     "shell.execute_reply": "2023-06-13T18:42:55.961394Z"
    },
    "papermill": {
     "duration": 1.877582,
     "end_time": "2023-06-13T18:42:55.965422",
     "exception": false,
     "start_time": "2023-06-13T18:42:54.087840",
     "status": "completed"
    },
    "tags": []
   },
   "outputs": [],
   "source": [
    "import pandas as pd\n",
    "import numpy as np\n",
    "from sklearn.impute import SimpleImputer\n",
    "\n",
    "from sklearn.linear_model import LogisticRegression\n",
    "from sklearn.neighbors import KNeighborsClassifier\n",
    "from sklearn.svm import SVC\n",
    "\n",
    "from sklearn.model_selection import StratifiedKFold, cross_val_score"
   ]
  },
  {
   "cell_type": "markdown",
   "id": "7150a862",
   "metadata": {
    "papermill": {
     "duration": 0.01849,
     "end_time": "2023-06-13T18:42:56.002179",
     "exception": false,
     "start_time": "2023-06-13T18:42:55.983689",
     "status": "completed"
    },
    "tags": []
   },
   "source": [
    "### File paths\n",
    "\n",
    "These are the filepaths to the original data"
   ]
  },
  {
   "cell_type": "code",
   "execution_count": 2,
   "id": "18b08718",
   "metadata": {
    "execution": {
     "iopub.execute_input": "2023-06-13T18:42:56.040852Z",
     "iopub.status.busy": "2023-06-13T18:42:56.040434Z",
     "iopub.status.idle": "2023-06-13T18:42:56.044730Z",
     "shell.execute_reply": "2023-06-13T18:42:56.043877Z"
    },
    "papermill": {
     "duration": 0.025731,
     "end_time": "2023-06-13T18:42:56.046654",
     "exception": false,
     "start_time": "2023-06-13T18:42:56.020923",
     "status": "completed"
    },
    "tags": []
   },
   "outputs": [],
   "source": [
    "train_filepath = '/kaggle/input/spaceship-titanic/train.csv'\n",
    "test_filepath = '/kaggle/input/spaceship-titanic/test.csv'"
   ]
  },
  {
   "cell_type": "code",
   "execution_count": 3,
   "id": "4be7944d",
   "metadata": {
    "execution": {
     "iopub.execute_input": "2023-06-13T18:42:56.085379Z",
     "iopub.status.busy": "2023-06-13T18:42:56.084624Z",
     "iopub.status.idle": "2023-06-13T18:42:56.190458Z",
     "shell.execute_reply": "2023-06-13T18:42:56.189479Z"
    },
    "papermill": {
     "duration": 0.128332,
     "end_time": "2023-06-13T18:42:56.193233",
     "exception": false,
     "start_time": "2023-06-13T18:42:56.064901",
     "status": "completed"
    },
    "tags": []
   },
   "outputs": [],
   "source": [
    "df_train = pd.read_csv(train_filepath)\n",
    "df_test = pd.read_csv(test_filepath)"
   ]
  },
  {
   "cell_type": "markdown",
   "id": "79d73607",
   "metadata": {
    "papermill": {
     "duration": 0.018086,
     "end_time": "2023-06-13T18:42:56.230272",
     "exception": false,
     "start_time": "2023-06-13T18:42:56.212186",
     "status": "completed"
    },
    "tags": []
   },
   "source": [
    "### Fill Lists\n",
    "\n",
    "There are many features with missing values in the dataset. For this reason, almost every column needs to fill missing values.\n",
    "\n",
    "These two lists are designed to identify features and common values to fill the NaN values with.\n",
    "\n",
    "- The first variable is a list of feature names that have missing values and will need to be filled\n",
    "\n",
    "- The second variable is a list of the most frequent values for their respective columns"
   ]
  },
  {
   "cell_type": "code",
   "execution_count": 4,
   "id": "b5372e30",
   "metadata": {
    "execution": {
     "iopub.execute_input": "2023-06-13T18:42:56.268055Z",
     "iopub.status.busy": "2023-06-13T18:42:56.267645Z",
     "iopub.status.idle": "2023-06-13T18:42:56.273015Z",
     "shell.execute_reply": "2023-06-13T18:42:56.271854Z"
    },
    "papermill": {
     "duration": 0.027062,
     "end_time": "2023-06-13T18:42:56.275392",
     "exception": false,
     "start_time": "2023-06-13T18:42:56.248330",
     "status": "completed"
    },
    "tags": []
   },
   "outputs": [],
   "source": [
    "fill_features = ['HomePlanet', 'Destination', 'Side', 'CryoSleep', 'VIP', 'RoomService', 'FoodCourt', 'ShoppingMall', 'Spa', 'VRDeck', 'Age']\n",
    "fill_freq = ['Earth', 'TRAPPIST-1e', 'S', False, False]"
   ]
  },
  {
   "cell_type": "markdown",
   "id": "f34f539c",
   "metadata": {
    "papermill": {
     "duration": 0.017686,
     "end_time": "2023-06-13T18:42:56.311112",
     "exception": false,
     "start_time": "2023-06-13T18:42:56.293426",
     "status": "completed"
    },
    "tags": []
   },
   "source": [
    "### Mapping Lists\n",
    "\n",
    "There are many columns in the dataset that contain purely categorical data. Categorical data cannot be used in machine learning models, so the data must be converted to numbers\n",
    "\n",
    "These two lists are designed to identify features and common values to map the categorical data.\n",
    "\n",
    "- The first variable is a list of feature names that have categorical values and will need to be mapped\n",
    "\n",
    "- The second variable is a list of dictionaries to use in mapping. The mapping values are based on frequency in the dataset with higher numbers corresponding to higher frequency"
   ]
  },
  {
   "cell_type": "code",
   "execution_count": 5,
   "id": "61efa216",
   "metadata": {
    "execution": {
     "iopub.execute_input": "2023-06-13T18:42:56.348990Z",
     "iopub.status.busy": "2023-06-13T18:42:56.348568Z",
     "iopub.status.idle": "2023-06-13T18:42:56.354680Z",
     "shell.execute_reply": "2023-06-13T18:42:56.353872Z"
    },
    "papermill": {
     "duration": 0.027813,
     "end_time": "2023-06-13T18:42:56.356893",
     "exception": false,
     "start_time": "2023-06-13T18:42:56.329080",
     "status": "completed"
    },
    "tags": []
   },
   "outputs": [],
   "source": [
    "map_features = ['HomePlanet','Destination','Deck','Side']\n",
    "\n",
    "map_dictionaries = [{'Earth':2, 'Europa':1, 'Mars':0}, \n",
    "                    {'TRAPPIST-1e':2, '55 Cancri e':1, 'PSO J318.5-22':0}, \n",
    "                    {'T':0, 'A':1, 'D':2, 'C':3, 'B':4, 'E':5, 'G':6, 'F':7}, \n",
    "                    {'P':0, 'S':1}]"
   ]
  },
  {
   "cell_type": "markdown",
   "id": "29d9f7ff",
   "metadata": {
    "papermill": {
     "duration": 0.017837,
     "end_time": "2023-06-13T18:42:56.393003",
     "exception": false,
     "start_time": "2023-06-13T18:42:56.375166",
     "status": "completed"
    },
    "tags": []
   },
   "source": [
    "### List of models\n",
    "\n",
    "These are the models that will be used during cross-validation. \n",
    "\n",
    "**Models:**\n",
    "\n",
    "- Logistic Regression\n",
    "\n",
    "- KNN\n",
    "\n",
    "- SVM"
   ]
  },
  {
   "cell_type": "code",
   "execution_count": 6,
   "id": "fef07ff8",
   "metadata": {
    "execution": {
     "iopub.execute_input": "2023-06-13T18:42:56.432289Z",
     "iopub.status.busy": "2023-06-13T18:42:56.431604Z",
     "iopub.status.idle": "2023-06-13T18:42:56.436700Z",
     "shell.execute_reply": "2023-06-13T18:42:56.435859Z"
    },
    "papermill": {
     "duration": 0.027415,
     "end_time": "2023-06-13T18:42:56.439052",
     "exception": false,
     "start_time": "2023-06-13T18:42:56.411637",
     "status": "completed"
    },
    "tags": []
   },
   "outputs": [],
   "source": [
    "models = []\n",
    "models.append(('LR', LogisticRegression()))\n",
    "models.append(('KNN', KNeighborsClassifier()))\n",
    "models.append(('SVM', SVC()))"
   ]
  },
  {
   "cell_type": "code",
   "execution_count": 7,
   "id": "5b6c738a",
   "metadata": {
    "execution": {
     "iopub.execute_input": "2023-06-13T18:42:56.478834Z",
     "iopub.status.busy": "2023-06-13T18:42:56.478116Z",
     "iopub.status.idle": "2023-06-13T18:42:56.494984Z",
     "shell.execute_reply": "2023-06-13T18:42:56.494112Z"
    },
    "papermill": {
     "duration": 0.039865,
     "end_time": "2023-06-13T18:42:56.497551",
     "exception": false,
     "start_time": "2023-06-13T18:42:56.457686",
     "status": "completed"
    },
    "tags": []
   },
   "outputs": [],
   "source": [
    "rs_mean = df_train['RoomService'].mean()\n",
    "fc_mean = df_train['FoodCourt'].mean()\n",
    "sm_mean = df_train['ShoppingMall'].mean()\n",
    "spa_mean = df_train['Spa'].mean()\n",
    "vr_mean = df_train['VRDeck'].mean()\n",
    "age_mean = df_train['Age'].mean()\n",
    "\n",
    "rs_test_mean = df_test['RoomService'].mean()\n",
    "fc_test_mean = df_test['FoodCourt'].mean()\n",
    "sm_test_mean = df_test['ShoppingMall'].mean()\n",
    "spa_test_mean = df_test['Spa'].mean()\n",
    "vr_test_mean = df_test['VRDeck'].mean()\n",
    "age_test_mean = df_test['Age'].mean()\n",
    "\n",
    "mean_nan_fill_train = [rs_mean, fc_mean, sm_mean, spa_mean, vr_mean, age_mean]\n",
    "mean_nan_fill_test = [rs_test_mean, fc_test_mean, sm_test_mean, spa_test_mean, vr_test_mean, age_test_mean]"
   ]
  },
  {
   "cell_type": "code",
   "execution_count": 8,
   "id": "a9ea04b2",
   "metadata": {
    "execution": {
     "iopub.execute_input": "2023-06-13T18:42:56.537462Z",
     "iopub.status.busy": "2023-06-13T18:42:56.536871Z",
     "iopub.status.idle": "2023-06-13T18:42:56.551314Z",
     "shell.execute_reply": "2023-06-13T18:42:56.550018Z"
    },
    "papermill": {
     "duration": 0.037501,
     "end_time": "2023-06-13T18:42:56.553873",
     "exception": false,
     "start_time": "2023-06-13T18:42:56.516372",
     "status": "completed"
    },
    "tags": []
   },
   "outputs": [],
   "source": [
    "rs_med = df_train['RoomService'].median()\n",
    "fc_med = df_train['FoodCourt'].median()\n",
    "sm_med = df_train['ShoppingMall'].median()\n",
    "spa_med = df_train['Spa'].median()\n",
    "vr_med = df_train['VRDeck'].median()\n",
    "age_med = df_train['Age'].median()\n",
    "\n",
    "rs_test_med = df_test['RoomService'].median()\n",
    "fc_test_med = df_test['FoodCourt'].median()\n",
    "sm_test_med = df_test['ShoppingMall'].median()\n",
    "spa_test_med = df_test['Spa'].median()\n",
    "vr_test_med = df_test['VRDeck'].median()\n",
    "age_test_med = df_test['Age'].median()\n",
    "\n",
    "med_nan_fill_train = [rs_med, fc_med, sm_med, spa_med, vr_med, age_med]\n",
    "med_nan_fill_test = [rs_test_med, fc_test_med, sm_test_med, spa_test_med, vr_test_med, age_test_med]"
   ]
  },
  {
   "cell_type": "markdown",
   "id": "f36f6072",
   "metadata": {
    "papermill": {
     "duration": 0.018509,
     "end_time": "2023-06-13T18:42:56.590711",
     "exception": false,
     "start_time": "2023-06-13T18:42:56.572202",
     "status": "completed"
    },
    "tags": []
   },
   "source": [
    "### perform_cross_validation()\n",
    "\n",
    "This function goes through the steps to perform Stratified K-fold cross validation using the list of models described above.\n",
    "\n",
    "**Input:** A dataframe containing the features use to build the model, a Series of the true values associated with the feature list\n",
    "\n",
    "**Output:** Printed result for the mean and standard deviation of each model"
   ]
  },
  {
   "cell_type": "code",
   "execution_count": 9,
   "id": "d757e650",
   "metadata": {
    "execution": {
     "iopub.execute_input": "2023-06-13T18:42:56.629443Z",
     "iopub.status.busy": "2023-06-13T18:42:56.628752Z",
     "iopub.status.idle": "2023-06-13T18:42:56.636639Z",
     "shell.execute_reply": "2023-06-13T18:42:56.635423Z"
    },
    "papermill": {
     "duration": 0.030115,
     "end_time": "2023-06-13T18:42:56.639315",
     "exception": false,
     "start_time": "2023-06-13T18:42:56.609200",
     "status": "completed"
    },
    "tags": []
   },
   "outputs": [],
   "source": [
    "def perform_cross_validation(X_train, y_train):\n",
    "    '''\n",
    "    This function goes through the steps to perform Stratified K-fold cross validation using the list of models described above.\n",
    "    \n",
    "    Input: \n",
    "        - A dataframe containing the features use to build the model\n",
    "        - A Series of the true values associated with the feature list\n",
    "    \n",
    "    Output: Printed result for the mean and standard deviation of each model\n",
    "    '''\n",
    "    results = dict()\n",
    "\n",
    "    for name, model in models:\n",
    "        kfold = StratifiedKFold(n_splits=10)\n",
    "        cv_results = cross_val_score(model, X_train, y_train, cv=kfold, scoring='accuracy')\n",
    "        results[name] = (cv_results.mean(), cv_results.std())\n",
    "\n",
    "    print('Model\\t\\tCV Mean\\t\\tCV std')\n",
    "    print(results)"
   ]
  },
  {
   "cell_type": "markdown",
   "id": "1299a79d",
   "metadata": {
    "papermill": {
     "duration": 0.017778,
     "end_time": "2023-06-13T18:42:56.675267",
     "exception": false,
     "start_time": "2023-06-13T18:42:56.657489",
     "status": "completed"
    },
    "tags": []
   },
   "source": [
    "### expand_cabin()\n",
    "\n",
    "This expands the 'Cabin' column into the 'Deck' and 'Side'. \n",
    "\n",
    "The 'Num' feature is removed because there are two many unique values. The 'Cabin' feature is removed since it is not needed after the expansion\n",
    "\n",
    "**Input:** A dataframe to with the Cabin feature to expand\n",
    "\n",
    "**Output:** A new dataframe with the cabin expanded to 'Deck' and 'Side' and without 'Cabin' or 'Num'"
   ]
  },
  {
   "cell_type": "code",
   "execution_count": 10,
   "id": "d05c2a08",
   "metadata": {
    "execution": {
     "iopub.execute_input": "2023-06-13T18:42:56.714004Z",
     "iopub.status.busy": "2023-06-13T18:42:56.713524Z",
     "iopub.status.idle": "2023-06-13T18:42:56.720093Z",
     "shell.execute_reply": "2023-06-13T18:42:56.718853Z"
    },
    "papermill": {
     "duration": 0.02908,
     "end_time": "2023-06-13T18:42:56.722460",
     "exception": false,
     "start_time": "2023-06-13T18:42:56.693380",
     "status": "completed"
    },
    "tags": []
   },
   "outputs": [],
   "source": [
    "def expand_cabin(df):\n",
    "    '''\n",
    "    This expands the 'Cabin' column into the 'Deck' and 'Side'.\n",
    "    \n",
    "    Input: A dataframe to with the Cabin feature to expand\n",
    "    \n",
    "    Output: A new dataframe with the cabin expanded to 'Deck' and 'Side' and without 'Cabin' or 'Num'\n",
    "    '''\n",
    "    df[['Deck','Num','Side']] = df['Cabin'].astype(str).str.split('/', expand=True)\n",
    "    df = df.drop('Cabin', axis=1)\n",
    "    df = df.drop('Num', axis=1)\n",
    "    return df"
   ]
  },
  {
   "cell_type": "markdown",
   "id": "fbbcd1f1",
   "metadata": {
    "papermill": {
     "duration": 0.018025,
     "end_time": "2023-06-13T18:42:56.759103",
     "exception": false,
     "start_time": "2023-06-13T18:42:56.741078",
     "status": "completed"
    },
    "tags": []
   },
   "source": [
    "### fill_na()\n",
    "\n",
    "Fill the NaN values of the features with the fill values\n",
    "\n",
    "**Input:** A dataframe, a list of features, a list of fill values\n",
    "\n",
    "- Dataframe to fill the missing values in\n",
    "\n",
    "- A list of features to look for missing values\n",
    "\n",
    "- A list of values to fill the missing values of the feature with\n",
    "\n",
    "**Output:** A dataframe with the found missing values filled"
   ]
  },
  {
   "cell_type": "code",
   "execution_count": 11,
   "id": "4fb4a549",
   "metadata": {
    "execution": {
     "iopub.execute_input": "2023-06-13T18:42:56.798531Z",
     "iopub.status.busy": "2023-06-13T18:42:56.797516Z",
     "iopub.status.idle": "2023-06-13T18:42:56.804309Z",
     "shell.execute_reply": "2023-06-13T18:42:56.803425Z"
    },
    "papermill": {
     "duration": 0.028978,
     "end_time": "2023-06-13T18:42:56.806968",
     "exception": false,
     "start_time": "2023-06-13T18:42:56.777990",
     "status": "completed"
    },
    "tags": []
   },
   "outputs": [],
   "source": [
    "def fill_na(df, features, fill_vals):\n",
    "    '''\n",
    "    Fill the NaN values of the features with the fill values\n",
    "    \n",
    "    Input:\n",
    "        - Dataframe to fill the missing values in\n",
    "        - A list of features to look for missing values\n",
    "        - A list of values to fill the missing values of the feature with\n",
    "    \n",
    "    Output: A dataframe with the found missing values filled\n",
    "    '''\n",
    "    df_filled = df\n",
    "    \n",
    "    for i in range(len(features)):\n",
    "        feature = features[i]\n",
    "        fill_val = fill_vals[i]\n",
    "        \n",
    "        df_filled[feature] = df_filled[feature].fillna(fill_val)\n",
    "        \n",
    "    return df_filled"
   ]
  },
  {
   "cell_type": "markdown",
   "id": "cffbc026",
   "metadata": {
    "papermill": {
     "duration": 0.017795,
     "end_time": "2023-06-13T18:42:56.842986",
     "exception": false,
     "start_time": "2023-06-13T18:42:56.825191",
     "status": "completed"
    },
    "tags": []
   },
   "source": [
    "### map_cat()\n",
    "\n",
    "Map categorical data to be numeric\n",
    "\n",
    "**Input:** A dataframe, a list of features, a list of dictionaries\n",
    "\n",
    "- Dataframe for the mapping to take place in\n",
    "\n",
    "- List of features that contain categorical data\n",
    "\n",
    "- List of dictionaries to govern how to map the feature\n",
    "\n",
    "**Output:** A dataframe with the given features mapped according to the dictionaries"
   ]
  },
  {
   "cell_type": "code",
   "execution_count": 12,
   "id": "af72a54b",
   "metadata": {
    "execution": {
     "iopub.execute_input": "2023-06-13T18:42:56.882404Z",
     "iopub.status.busy": "2023-06-13T18:42:56.881986Z",
     "iopub.status.idle": "2023-06-13T18:42:56.888877Z",
     "shell.execute_reply": "2023-06-13T18:42:56.887444Z"
    },
    "papermill": {
     "duration": 0.029302,
     "end_time": "2023-06-13T18:42:56.891254",
     "exception": false,
     "start_time": "2023-06-13T18:42:56.861952",
     "status": "completed"
    },
    "tags": []
   },
   "outputs": [],
   "source": [
    "def map_cat(df, features, dictionaries):\n",
    "    '''\n",
    "    Map categorical data to be numeric\n",
    "    \n",
    "    Input:\n",
    "        - Dataframe for the mapping to take place in\n",
    "        - List of features that contain categorical data\n",
    "        - List of dictionaries to govern how to map the feature\n",
    "    \n",
    "    Output: A dataframe with the given features mapped according to the dictionaries\n",
    "        \n",
    "    '''\n",
    "    df_mapped = df\n",
    "    \n",
    "    for i in range(len(features)):\n",
    "        feature = features[i]\n",
    "        dictionary = dictionaries[i]\n",
    "        \n",
    "        df_mapped[feature] = df[feature].map(dictionary)\n",
    "        \n",
    "    return df_mapped"
   ]
  },
  {
   "cell_type": "markdown",
   "id": "10354d76",
   "metadata": {
    "papermill": {
     "duration": 0.017971,
     "end_time": "2023-06-13T18:42:56.927841",
     "exception": false,
     "start_time": "2023-06-13T18:42:56.909870",
     "status": "completed"
    },
    "tags": []
   },
   "source": [
    "### normalize()\n",
    "\n",
    "Normalizes a Series\n",
    "\n",
    "**Input:** A feature of type Series\n",
    "\n",
    "**Output:** The normalized feature of type Series"
   ]
  },
  {
   "cell_type": "code",
   "execution_count": 13,
   "id": "4bf6956f",
   "metadata": {
    "execution": {
     "iopub.execute_input": "2023-06-13T18:42:56.967133Z",
     "iopub.status.busy": "2023-06-13T18:42:56.966629Z",
     "iopub.status.idle": "2023-06-13T18:42:56.971527Z",
     "shell.execute_reply": "2023-06-13T18:42:56.970744Z"
    },
    "papermill": {
     "duration": 0.027155,
     "end_time": "2023-06-13T18:42:56.973793",
     "exception": false,
     "start_time": "2023-06-13T18:42:56.946638",
     "status": "completed"
    },
    "tags": []
   },
   "outputs": [],
   "source": [
    "def normalize(feature):\n",
    "    '''\n",
    "    This function normalizes a Series\n",
    "    \n",
    "    Input: A feature of type Series\n",
    "    \n",
    "    Output: The normalized feature of type Series\n",
    "    '''\n",
    "    return (feature - feature.mean())/feature.std()"
   ]
  },
  {
   "cell_type": "markdown",
   "id": "4d878fdc",
   "metadata": {
    "papermill": {
     "duration": 0.018711,
     "end_time": "2023-06-13T18:42:57.010862",
     "exception": false,
     "start_time": "2023-06-13T18:42:56.992151",
     "status": "completed"
    },
    "tags": []
   },
   "source": [
    "### normalize_features()\n",
    "\n",
    "Normalizes all features in a given dataframe. This will normalize ALL features, so ensure that the inputted dataframe consists only of numeric values.\n",
    "\n",
    "**Input:** A dataframe to normalize\n",
    "\n",
    "**Output:** A normalized dataframe"
   ]
  },
  {
   "cell_type": "code",
   "execution_count": 14,
   "id": "f4f4ad92",
   "metadata": {
    "execution": {
     "iopub.execute_input": "2023-06-13T18:42:57.049051Z",
     "iopub.status.busy": "2023-06-13T18:42:57.048631Z",
     "iopub.status.idle": "2023-06-13T18:42:57.054346Z",
     "shell.execute_reply": "2023-06-13T18:42:57.053188Z"
    },
    "papermill": {
     "duration": 0.027484,
     "end_time": "2023-06-13T18:42:57.056748",
     "exception": false,
     "start_time": "2023-06-13T18:42:57.029264",
     "status": "completed"
    },
    "tags": []
   },
   "outputs": [],
   "source": [
    "def normalize_features(df):\n",
    "    '''\n",
    "    This function normalizes all features in a dataframe\n",
    "    \n",
    "    Input: A pandas dataframe\n",
    "    \n",
    "    Output: The normalized dataframe\n",
    "    '''\n",
    "    for column in df.columns:\n",
    "        df[column] = normalize(df[column])\n",
    "    return df"
   ]
  },
  {
   "cell_type": "code",
   "execution_count": 15,
   "id": "1c6d80d3",
   "metadata": {
    "execution": {
     "iopub.execute_input": "2023-06-13T18:42:57.095584Z",
     "iopub.status.busy": "2023-06-13T18:42:57.094984Z",
     "iopub.status.idle": "2023-06-13T18:42:57.100513Z",
     "shell.execute_reply": "2023-06-13T18:42:57.099699Z"
    },
    "papermill": {
     "duration": 0.02778,
     "end_time": "2023-06-13T18:42:57.103134",
     "exception": false,
     "start_time": "2023-06-13T18:42:57.075354",
     "status": "completed"
    },
    "tags": []
   },
   "outputs": [],
   "source": [
    "def prepare_dataframe(df, fill_nans):\n",
    "    df = df.drop('Name', axis=1)\n",
    "    df = expand_cabin(df)\n",
    "    df['Deck'] = df['Deck'].replace('nan','F')\n",
    "    \n",
    "    fill_vals = fill_freq + fill_nans\n",
    "    df_filled = fill_na(df, fill_features, fill_vals)\n",
    "    \n",
    "    df_mapped = map_cat(df_filled, map_features, map_dictionaries)\n",
    "    return df_mapped"
   ]
  },
  {
   "cell_type": "code",
   "execution_count": 16,
   "id": "9b16e04e",
   "metadata": {
    "execution": {
     "iopub.execute_input": "2023-06-13T18:42:57.141289Z",
     "iopub.status.busy": "2023-06-13T18:42:57.140901Z",
     "iopub.status.idle": "2023-06-13T18:42:57.145625Z",
     "shell.execute_reply": "2023-06-13T18:42:57.144375Z"
    },
    "papermill": {
     "duration": 0.026583,
     "end_time": "2023-06-13T18:42:57.147920",
     "exception": false,
     "start_time": "2023-06-13T18:42:57.121337",
     "status": "completed"
    },
    "tags": []
   },
   "outputs": [],
   "source": [
    "# df_tr = pd.read_csv(train_filepath, index_col='PassengerId')\n",
    "# df_tr = prepare_dataframe(df_tr, mean_nan_fill_train)\n",
    "\n",
    "# X = df_tr.drop('Transported', axis=1)\n",
    "# X_norm = normalize(X)\n",
    "# X_norm.head()"
   ]
  },
  {
   "cell_type": "markdown",
   "id": "e0f72715",
   "metadata": {
    "papermill": {
     "duration": 0.017836,
     "end_time": "2023-06-13T18:42:57.183911",
     "exception": false,
     "start_time": "2023-06-13T18:42:57.166075",
     "status": "completed"
    },
    "tags": []
   },
   "source": [
    "**--------------------------------------------------------------------------------**"
   ]
  },
  {
   "cell_type": "markdown",
   "id": "6d05f263",
   "metadata": {
    "papermill": {
     "duration": 0.017771,
     "end_time": "2023-06-13T18:42:57.219843",
     "exception": false,
     "start_time": "2023-06-13T18:42:57.202072",
     "status": "completed"
    },
    "tags": []
   },
   "source": [
    "## Fill with Mean\n",
    "\n",
    "This model fills the missing values for spending features with the mean of the feature\n",
    "\n",
    "**Unique attributes:**\n",
    "\n",
    "- Fill NaN with feature mean\n",
    "\n",
    "**Result of CV:** The model used to make predictions was SVM because it had the highest accuracy score\n",
    "\n",
    "**Accuracy:** The accuracy after submitting the predictions\n",
    "\n",
    "    0.79541"
   ]
  },
  {
   "cell_type": "markdown",
   "id": "6f9f0ab8",
   "metadata": {
    "papermill": {
     "duration": 0.017718,
     "end_time": "2023-06-13T18:42:57.255588",
     "exception": false,
     "start_time": "2023-06-13T18:42:57.237870",
     "status": "completed"
    },
    "tags": []
   },
   "source": [
    "### Prepare dataframe\n",
    "\n",
    "Perform all necessary preprocessing steps for cross-validation\n",
    "\n",
    "**Steps:**\n",
    "\n",
    "1. Load original dataset\n",
    "\n",
    "2. Adjust features\n",
    "\n",
    "3. "
   ]
  },
  {
   "cell_type": "code",
   "execution_count": 17,
   "id": "edf22aaa",
   "metadata": {
    "execution": {
     "iopub.execute_input": "2023-06-13T18:42:57.293831Z",
     "iopub.status.busy": "2023-06-13T18:42:57.293411Z",
     "iopub.status.idle": "2023-06-13T18:42:57.367035Z",
     "shell.execute_reply": "2023-06-13T18:42:57.365879Z"
    },
    "papermill": {
     "duration": 0.095965,
     "end_time": "2023-06-13T18:42:57.369969",
     "exception": false,
     "start_time": "2023-06-13T18:42:57.274004",
     "status": "completed"
    },
    "tags": []
   },
   "outputs": [],
   "source": [
    "df_train = pd.read_csv(train_filepath, index_col='PassengerId')\n",
    "df_test = pd.read_csv(test_filepath, index_col='PassengerId')"
   ]
  },
  {
   "cell_type": "code",
   "execution_count": 18,
   "id": "5291c9fa",
   "metadata": {
    "execution": {
     "iopub.execute_input": "2023-06-13T18:42:57.408303Z",
     "iopub.status.busy": "2023-06-13T18:42:57.407613Z",
     "iopub.status.idle": "2023-06-13T18:42:57.449317Z",
     "shell.execute_reply": "2023-06-13T18:42:57.448295Z"
    },
    "papermill": {
     "duration": 0.064245,
     "end_time": "2023-06-13T18:42:57.452332",
     "exception": false,
     "start_time": "2023-06-13T18:42:57.388087",
     "status": "completed"
    },
    "tags": []
   },
   "outputs": [
    {
     "data": {
      "text/html": [
       "<div>\n",
       "<style scoped>\n",
       "    .dataframe tbody tr th:only-of-type {\n",
       "        vertical-align: middle;\n",
       "    }\n",
       "\n",
       "    .dataframe tbody tr th {\n",
       "        vertical-align: top;\n",
       "    }\n",
       "\n",
       "    .dataframe thead th {\n",
       "        text-align: right;\n",
       "    }\n",
       "</style>\n",
       "<table border=\"1\" class=\"dataframe\">\n",
       "  <thead>\n",
       "    <tr style=\"text-align: right;\">\n",
       "      <th></th>\n",
       "      <th>HomePlanet</th>\n",
       "      <th>CryoSleep</th>\n",
       "      <th>Cabin</th>\n",
       "      <th>Destination</th>\n",
       "      <th>Age</th>\n",
       "      <th>VIP</th>\n",
       "      <th>RoomService</th>\n",
       "      <th>FoodCourt</th>\n",
       "      <th>ShoppingMall</th>\n",
       "      <th>Spa</th>\n",
       "      <th>VRDeck</th>\n",
       "      <th>Name</th>\n",
       "      <th>Transported</th>\n",
       "    </tr>\n",
       "    <tr>\n",
       "      <th>PassengerId</th>\n",
       "      <th></th>\n",
       "      <th></th>\n",
       "      <th></th>\n",
       "      <th></th>\n",
       "      <th></th>\n",
       "      <th></th>\n",
       "      <th></th>\n",
       "      <th></th>\n",
       "      <th></th>\n",
       "      <th></th>\n",
       "      <th></th>\n",
       "      <th></th>\n",
       "      <th></th>\n",
       "    </tr>\n",
       "  </thead>\n",
       "  <tbody>\n",
       "    <tr>\n",
       "      <th>0001_01</th>\n",
       "      <td>Europa</td>\n",
       "      <td>False</td>\n",
       "      <td>B/0/P</td>\n",
       "      <td>TRAPPIST-1e</td>\n",
       "      <td>39.0</td>\n",
       "      <td>False</td>\n",
       "      <td>0.0</td>\n",
       "      <td>0.0</td>\n",
       "      <td>0.0</td>\n",
       "      <td>0.0</td>\n",
       "      <td>0.0</td>\n",
       "      <td>Maham Ofracculy</td>\n",
       "      <td>False</td>\n",
       "    </tr>\n",
       "    <tr>\n",
       "      <th>0002_01</th>\n",
       "      <td>Earth</td>\n",
       "      <td>False</td>\n",
       "      <td>F/0/S</td>\n",
       "      <td>TRAPPIST-1e</td>\n",
       "      <td>24.0</td>\n",
       "      <td>False</td>\n",
       "      <td>109.0</td>\n",
       "      <td>9.0</td>\n",
       "      <td>25.0</td>\n",
       "      <td>549.0</td>\n",
       "      <td>44.0</td>\n",
       "      <td>Juanna Vines</td>\n",
       "      <td>True</td>\n",
       "    </tr>\n",
       "    <tr>\n",
       "      <th>0003_01</th>\n",
       "      <td>Europa</td>\n",
       "      <td>False</td>\n",
       "      <td>A/0/S</td>\n",
       "      <td>TRAPPIST-1e</td>\n",
       "      <td>58.0</td>\n",
       "      <td>True</td>\n",
       "      <td>43.0</td>\n",
       "      <td>3576.0</td>\n",
       "      <td>0.0</td>\n",
       "      <td>6715.0</td>\n",
       "      <td>49.0</td>\n",
       "      <td>Altark Susent</td>\n",
       "      <td>False</td>\n",
       "    </tr>\n",
       "    <tr>\n",
       "      <th>0003_02</th>\n",
       "      <td>Europa</td>\n",
       "      <td>False</td>\n",
       "      <td>A/0/S</td>\n",
       "      <td>TRAPPIST-1e</td>\n",
       "      <td>33.0</td>\n",
       "      <td>False</td>\n",
       "      <td>0.0</td>\n",
       "      <td>1283.0</td>\n",
       "      <td>371.0</td>\n",
       "      <td>3329.0</td>\n",
       "      <td>193.0</td>\n",
       "      <td>Solam Susent</td>\n",
       "      <td>False</td>\n",
       "    </tr>\n",
       "    <tr>\n",
       "      <th>0004_01</th>\n",
       "      <td>Earth</td>\n",
       "      <td>False</td>\n",
       "      <td>F/1/S</td>\n",
       "      <td>TRAPPIST-1e</td>\n",
       "      <td>16.0</td>\n",
       "      <td>False</td>\n",
       "      <td>303.0</td>\n",
       "      <td>70.0</td>\n",
       "      <td>151.0</td>\n",
       "      <td>565.0</td>\n",
       "      <td>2.0</td>\n",
       "      <td>Willy Santantines</td>\n",
       "      <td>True</td>\n",
       "    </tr>\n",
       "    <tr>\n",
       "      <th>0005_01</th>\n",
       "      <td>Earth</td>\n",
       "      <td>False</td>\n",
       "      <td>F/0/P</td>\n",
       "      <td>PSO J318.5-22</td>\n",
       "      <td>44.0</td>\n",
       "      <td>False</td>\n",
       "      <td>0.0</td>\n",
       "      <td>483.0</td>\n",
       "      <td>0.0</td>\n",
       "      <td>291.0</td>\n",
       "      <td>0.0</td>\n",
       "      <td>Sandie Hinetthews</td>\n",
       "      <td>True</td>\n",
       "    </tr>\n",
       "    <tr>\n",
       "      <th>0006_01</th>\n",
       "      <td>Earth</td>\n",
       "      <td>False</td>\n",
       "      <td>F/2/S</td>\n",
       "      <td>TRAPPIST-1e</td>\n",
       "      <td>26.0</td>\n",
       "      <td>False</td>\n",
       "      <td>42.0</td>\n",
       "      <td>1539.0</td>\n",
       "      <td>3.0</td>\n",
       "      <td>0.0</td>\n",
       "      <td>0.0</td>\n",
       "      <td>Billex Jacostaffey</td>\n",
       "      <td>True</td>\n",
       "    </tr>\n",
       "    <tr>\n",
       "      <th>0006_02</th>\n",
       "      <td>Earth</td>\n",
       "      <td>True</td>\n",
       "      <td>G/0/S</td>\n",
       "      <td>TRAPPIST-1e</td>\n",
       "      <td>28.0</td>\n",
       "      <td>False</td>\n",
       "      <td>0.0</td>\n",
       "      <td>0.0</td>\n",
       "      <td>0.0</td>\n",
       "      <td>0.0</td>\n",
       "      <td>NaN</td>\n",
       "      <td>Candra Jacostaffey</td>\n",
       "      <td>True</td>\n",
       "    </tr>\n",
       "    <tr>\n",
       "      <th>0007_01</th>\n",
       "      <td>Earth</td>\n",
       "      <td>False</td>\n",
       "      <td>F/3/S</td>\n",
       "      <td>TRAPPIST-1e</td>\n",
       "      <td>35.0</td>\n",
       "      <td>False</td>\n",
       "      <td>0.0</td>\n",
       "      <td>785.0</td>\n",
       "      <td>17.0</td>\n",
       "      <td>216.0</td>\n",
       "      <td>0.0</td>\n",
       "      <td>Andona Beston</td>\n",
       "      <td>True</td>\n",
       "    </tr>\n",
       "    <tr>\n",
       "      <th>0008_01</th>\n",
       "      <td>Europa</td>\n",
       "      <td>True</td>\n",
       "      <td>B/1/P</td>\n",
       "      <td>55 Cancri e</td>\n",
       "      <td>14.0</td>\n",
       "      <td>False</td>\n",
       "      <td>0.0</td>\n",
       "      <td>0.0</td>\n",
       "      <td>0.0</td>\n",
       "      <td>0.0</td>\n",
       "      <td>0.0</td>\n",
       "      <td>Erraiam Flatic</td>\n",
       "      <td>True</td>\n",
       "    </tr>\n",
       "  </tbody>\n",
       "</table>\n",
       "</div>"
      ],
      "text/plain": [
       "            HomePlanet CryoSleep  Cabin    Destination   Age    VIP  \\\n",
       "PassengerId                                                           \n",
       "0001_01         Europa     False  B/0/P    TRAPPIST-1e  39.0  False   \n",
       "0002_01          Earth     False  F/0/S    TRAPPIST-1e  24.0  False   \n",
       "0003_01         Europa     False  A/0/S    TRAPPIST-1e  58.0   True   \n",
       "0003_02         Europa     False  A/0/S    TRAPPIST-1e  33.0  False   \n",
       "0004_01          Earth     False  F/1/S    TRAPPIST-1e  16.0  False   \n",
       "0005_01          Earth     False  F/0/P  PSO J318.5-22  44.0  False   \n",
       "0006_01          Earth     False  F/2/S    TRAPPIST-1e  26.0  False   \n",
       "0006_02          Earth      True  G/0/S    TRAPPIST-1e  28.0  False   \n",
       "0007_01          Earth     False  F/3/S    TRAPPIST-1e  35.0  False   \n",
       "0008_01         Europa      True  B/1/P    55 Cancri e  14.0  False   \n",
       "\n",
       "             RoomService  FoodCourt  ShoppingMall     Spa  VRDeck  \\\n",
       "PassengerId                                                         \n",
       "0001_01              0.0        0.0           0.0     0.0     0.0   \n",
       "0002_01            109.0        9.0          25.0   549.0    44.0   \n",
       "0003_01             43.0     3576.0           0.0  6715.0    49.0   \n",
       "0003_02              0.0     1283.0         371.0  3329.0   193.0   \n",
       "0004_01            303.0       70.0         151.0   565.0     2.0   \n",
       "0005_01              0.0      483.0           0.0   291.0     0.0   \n",
       "0006_01             42.0     1539.0           3.0     0.0     0.0   \n",
       "0006_02              0.0        0.0           0.0     0.0     NaN   \n",
       "0007_01              0.0      785.0          17.0   216.0     0.0   \n",
       "0008_01              0.0        0.0           0.0     0.0     0.0   \n",
       "\n",
       "                           Name  Transported  \n",
       "PassengerId                                   \n",
       "0001_01         Maham Ofracculy        False  \n",
       "0002_01            Juanna Vines         True  \n",
       "0003_01           Altark Susent        False  \n",
       "0003_02            Solam Susent        False  \n",
       "0004_01       Willy Santantines         True  \n",
       "0005_01       Sandie Hinetthews         True  \n",
       "0006_01      Billex Jacostaffey         True  \n",
       "0006_02      Candra Jacostaffey         True  \n",
       "0007_01           Andona Beston         True  \n",
       "0008_01          Erraiam Flatic         True  "
      ]
     },
     "execution_count": 18,
     "metadata": {},
     "output_type": "execute_result"
    }
   ],
   "source": [
    "df_train.head(10)"
   ]
  },
  {
   "cell_type": "code",
   "execution_count": 19,
   "id": "e3d0beaa",
   "metadata": {
    "execution": {
     "iopub.execute_input": "2023-06-13T18:42:57.492517Z",
     "iopub.status.busy": "2023-06-13T18:42:57.491912Z",
     "iopub.status.idle": "2023-06-13T18:42:57.500314Z",
     "shell.execute_reply": "2023-06-13T18:42:57.499415Z"
    },
    "papermill": {
     "duration": 0.031374,
     "end_time": "2023-06-13T18:42:57.502833",
     "exception": false,
     "start_time": "2023-06-13T18:42:57.471459",
     "status": "completed"
    },
    "tags": []
   },
   "outputs": [],
   "source": [
    "df_train = df_train.drop('Name', axis=1)\n",
    "df_test = df_test.drop('Name', axis=1)"
   ]
  },
  {
   "cell_type": "code",
   "execution_count": 20,
   "id": "f729bcb2",
   "metadata": {
    "execution": {
     "iopub.execute_input": "2023-06-13T18:42:57.542654Z",
     "iopub.status.busy": "2023-06-13T18:42:57.542011Z",
     "iopub.status.idle": "2023-06-13T18:42:57.580312Z",
     "shell.execute_reply": "2023-06-13T18:42:57.579343Z"
    },
    "papermill": {
     "duration": 0.061337,
     "end_time": "2023-06-13T18:42:57.582865",
     "exception": false,
     "start_time": "2023-06-13T18:42:57.521528",
     "status": "completed"
    },
    "tags": []
   },
   "outputs": [],
   "source": [
    "df_train = expand_cabin(df_train)\n",
    "df_test = expand_cabin(df_test)"
   ]
  },
  {
   "cell_type": "code",
   "execution_count": 21,
   "id": "8b291136",
   "metadata": {
    "execution": {
     "iopub.execute_input": "2023-06-13T18:42:57.623240Z",
     "iopub.status.busy": "2023-06-13T18:42:57.622587Z",
     "iopub.status.idle": "2023-06-13T18:42:57.629972Z",
     "shell.execute_reply": "2023-06-13T18:42:57.628982Z"
    },
    "papermill": {
     "duration": 0.030804,
     "end_time": "2023-06-13T18:42:57.632329",
     "exception": false,
     "start_time": "2023-06-13T18:42:57.601525",
     "status": "completed"
    },
    "tags": []
   },
   "outputs": [],
   "source": [
    "df_train['Deck'] = df_train['Deck'].replace('nan','F')\n",
    "df_test['Deck'] = df_test['Deck'].replace('nan','F')"
   ]
  },
  {
   "cell_type": "code",
   "execution_count": 22,
   "id": "bf2e51c0",
   "metadata": {
    "execution": {
     "iopub.execute_input": "2023-06-13T18:42:57.671834Z",
     "iopub.status.busy": "2023-06-13T18:42:57.671173Z",
     "iopub.status.idle": "2023-06-13T18:42:57.677729Z",
     "shell.execute_reply": "2023-06-13T18:42:57.676919Z"
    },
    "papermill": {
     "duration": 0.028692,
     "end_time": "2023-06-13T18:42:57.679930",
     "exception": false,
     "start_time": "2023-06-13T18:42:57.651238",
     "status": "completed"
    },
    "tags": []
   },
   "outputs": [],
   "source": [
    "X = df_train.drop('Transported', axis=1)\n",
    "\n",
    "y = df_train['Transported']"
   ]
  },
  {
   "cell_type": "code",
   "execution_count": 23,
   "id": "0c429b97",
   "metadata": {
    "execution": {
     "iopub.execute_input": "2023-06-13T18:42:57.719532Z",
     "iopub.status.busy": "2023-06-13T18:42:57.718884Z",
     "iopub.status.idle": "2023-06-13T18:42:57.729416Z",
     "shell.execute_reply": "2023-06-13T18:42:57.728563Z"
    },
    "papermill": {
     "duration": 0.033761,
     "end_time": "2023-06-13T18:42:57.732180",
     "exception": false,
     "start_time": "2023-06-13T18:42:57.698419",
     "status": "completed"
    },
    "tags": []
   },
   "outputs": [],
   "source": [
    "rs_mean = X['RoomService'].mean()\n",
    "fc_mean = X['FoodCourt'].mean()\n",
    "sm_mean = X['ShoppingMall'].mean()\n",
    "spa_mean = X['Spa'].mean()\n",
    "vr_mean = X['VRDeck'].mean()\n",
    "age_mean = X['Age'].mean()\n",
    "\n",
    "rs_test_mean = df_test['RoomService'].mean()\n",
    "fc_test_mean = df_test['FoodCourt'].mean()\n",
    "sm_test_mean = df_test['ShoppingMall'].mean()\n",
    "spa_test_mean = df_test['Spa'].mean()\n",
    "vr_test_mean = df_test['VRDeck'].mean()\n",
    "age_test_mean = df_test['Age'].mean()"
   ]
  },
  {
   "cell_type": "code",
   "execution_count": 24,
   "id": "e4b7443a",
   "metadata": {
    "execution": {
     "iopub.execute_input": "2023-06-13T18:42:57.772312Z",
     "iopub.status.busy": "2023-06-13T18:42:57.771648Z",
     "iopub.status.idle": "2023-06-13T18:42:57.778446Z",
     "shell.execute_reply": "2023-06-13T18:42:57.777436Z"
    },
    "papermill": {
     "duration": 0.02973,
     "end_time": "2023-06-13T18:42:57.781205",
     "exception": false,
     "start_time": "2023-06-13T18:42:57.751475",
     "status": "completed"
    },
    "tags": []
   },
   "outputs": [],
   "source": [
    "fill_features = ['Deck','HomePlanet', 'Destination', 'Side', 'CryoSleep', 'VIP', 'RoomService', 'FoodCourt', 'ShoppingMall', 'Spa', 'VRDeck', 'Age']\n",
    "fill_vals = ['F', 'Earth', 'TRAPPIST-1e', 'S', False, False]\n",
    "\n",
    "fill_vals_train = fill_vals + [rs_mean, fc_mean, sm_mean, spa_mean, vr_mean, age_mean]\n",
    "fill_vals_test = fill_vals + [rs_test_mean, fc_test_mean, sm_test_mean, spa_test_mean, vr_test_mean, age_test_mean]"
   ]
  },
  {
   "cell_type": "code",
   "execution_count": 25,
   "id": "1616b8be",
   "metadata": {
    "execution": {
     "iopub.execute_input": "2023-06-13T18:42:57.820715Z",
     "iopub.status.busy": "2023-06-13T18:42:57.820281Z",
     "iopub.status.idle": "2023-06-13T18:42:57.870118Z",
     "shell.execute_reply": "2023-06-13T18:42:57.869256Z"
    },
    "papermill": {
     "duration": 0.07325,
     "end_time": "2023-06-13T18:42:57.873096",
     "exception": false,
     "start_time": "2023-06-13T18:42:57.799846",
     "status": "completed"
    },
    "tags": []
   },
   "outputs": [
    {
     "data": {
      "text/html": [
       "<div>\n",
       "<style scoped>\n",
       "    .dataframe tbody tr th:only-of-type {\n",
       "        vertical-align: middle;\n",
       "    }\n",
       "\n",
       "    .dataframe tbody tr th {\n",
       "        vertical-align: top;\n",
       "    }\n",
       "\n",
       "    .dataframe thead th {\n",
       "        text-align: right;\n",
       "    }\n",
       "</style>\n",
       "<table border=\"1\" class=\"dataframe\">\n",
       "  <thead>\n",
       "    <tr style=\"text-align: right;\">\n",
       "      <th></th>\n",
       "      <th>HomePlanet</th>\n",
       "      <th>CryoSleep</th>\n",
       "      <th>Destination</th>\n",
       "      <th>Age</th>\n",
       "      <th>VIP</th>\n",
       "      <th>RoomService</th>\n",
       "      <th>FoodCourt</th>\n",
       "      <th>ShoppingMall</th>\n",
       "      <th>Spa</th>\n",
       "      <th>VRDeck</th>\n",
       "      <th>Deck</th>\n",
       "      <th>Side</th>\n",
       "    </tr>\n",
       "    <tr>\n",
       "      <th>PassengerId</th>\n",
       "      <th></th>\n",
       "      <th></th>\n",
       "      <th></th>\n",
       "      <th></th>\n",
       "      <th></th>\n",
       "      <th></th>\n",
       "      <th></th>\n",
       "      <th></th>\n",
       "      <th></th>\n",
       "      <th></th>\n",
       "      <th></th>\n",
       "      <th></th>\n",
       "    </tr>\n",
       "  </thead>\n",
       "  <tbody>\n",
       "    <tr>\n",
       "      <th>0001_01</th>\n",
       "      <td>Europa</td>\n",
       "      <td>False</td>\n",
       "      <td>TRAPPIST-1e</td>\n",
       "      <td>39.0</td>\n",
       "      <td>False</td>\n",
       "      <td>0.0</td>\n",
       "      <td>0.0</td>\n",
       "      <td>0.0</td>\n",
       "      <td>0.0</td>\n",
       "      <td>0.000000</td>\n",
       "      <td>B</td>\n",
       "      <td>P</td>\n",
       "    </tr>\n",
       "    <tr>\n",
       "      <th>0002_01</th>\n",
       "      <td>Earth</td>\n",
       "      <td>False</td>\n",
       "      <td>TRAPPIST-1e</td>\n",
       "      <td>24.0</td>\n",
       "      <td>False</td>\n",
       "      <td>109.0</td>\n",
       "      <td>9.0</td>\n",
       "      <td>25.0</td>\n",
       "      <td>549.0</td>\n",
       "      <td>44.000000</td>\n",
       "      <td>F</td>\n",
       "      <td>S</td>\n",
       "    </tr>\n",
       "    <tr>\n",
       "      <th>0003_01</th>\n",
       "      <td>Europa</td>\n",
       "      <td>False</td>\n",
       "      <td>TRAPPIST-1e</td>\n",
       "      <td>58.0</td>\n",
       "      <td>True</td>\n",
       "      <td>43.0</td>\n",
       "      <td>3576.0</td>\n",
       "      <td>0.0</td>\n",
       "      <td>6715.0</td>\n",
       "      <td>49.000000</td>\n",
       "      <td>A</td>\n",
       "      <td>S</td>\n",
       "    </tr>\n",
       "    <tr>\n",
       "      <th>0003_02</th>\n",
       "      <td>Europa</td>\n",
       "      <td>False</td>\n",
       "      <td>TRAPPIST-1e</td>\n",
       "      <td>33.0</td>\n",
       "      <td>False</td>\n",
       "      <td>0.0</td>\n",
       "      <td>1283.0</td>\n",
       "      <td>371.0</td>\n",
       "      <td>3329.0</td>\n",
       "      <td>193.000000</td>\n",
       "      <td>A</td>\n",
       "      <td>S</td>\n",
       "    </tr>\n",
       "    <tr>\n",
       "      <th>0004_01</th>\n",
       "      <td>Earth</td>\n",
       "      <td>False</td>\n",
       "      <td>TRAPPIST-1e</td>\n",
       "      <td>16.0</td>\n",
       "      <td>False</td>\n",
       "      <td>303.0</td>\n",
       "      <td>70.0</td>\n",
       "      <td>151.0</td>\n",
       "      <td>565.0</td>\n",
       "      <td>2.000000</td>\n",
       "      <td>F</td>\n",
       "      <td>S</td>\n",
       "    </tr>\n",
       "    <tr>\n",
       "      <th>0005_01</th>\n",
       "      <td>Earth</td>\n",
       "      <td>False</td>\n",
       "      <td>PSO J318.5-22</td>\n",
       "      <td>44.0</td>\n",
       "      <td>False</td>\n",
       "      <td>0.0</td>\n",
       "      <td>483.0</td>\n",
       "      <td>0.0</td>\n",
       "      <td>291.0</td>\n",
       "      <td>0.000000</td>\n",
       "      <td>F</td>\n",
       "      <td>P</td>\n",
       "    </tr>\n",
       "    <tr>\n",
       "      <th>0006_01</th>\n",
       "      <td>Earth</td>\n",
       "      <td>False</td>\n",
       "      <td>TRAPPIST-1e</td>\n",
       "      <td>26.0</td>\n",
       "      <td>False</td>\n",
       "      <td>42.0</td>\n",
       "      <td>1539.0</td>\n",
       "      <td>3.0</td>\n",
       "      <td>0.0</td>\n",
       "      <td>0.000000</td>\n",
       "      <td>F</td>\n",
       "      <td>S</td>\n",
       "    </tr>\n",
       "    <tr>\n",
       "      <th>0006_02</th>\n",
       "      <td>Earth</td>\n",
       "      <td>True</td>\n",
       "      <td>TRAPPIST-1e</td>\n",
       "      <td>28.0</td>\n",
       "      <td>False</td>\n",
       "      <td>0.0</td>\n",
       "      <td>0.0</td>\n",
       "      <td>0.0</td>\n",
       "      <td>0.0</td>\n",
       "      <td>304.854791</td>\n",
       "      <td>G</td>\n",
       "      <td>S</td>\n",
       "    </tr>\n",
       "    <tr>\n",
       "      <th>0007_01</th>\n",
       "      <td>Earth</td>\n",
       "      <td>False</td>\n",
       "      <td>TRAPPIST-1e</td>\n",
       "      <td>35.0</td>\n",
       "      <td>False</td>\n",
       "      <td>0.0</td>\n",
       "      <td>785.0</td>\n",
       "      <td>17.0</td>\n",
       "      <td>216.0</td>\n",
       "      <td>0.000000</td>\n",
       "      <td>F</td>\n",
       "      <td>S</td>\n",
       "    </tr>\n",
       "    <tr>\n",
       "      <th>0008_01</th>\n",
       "      <td>Europa</td>\n",
       "      <td>True</td>\n",
       "      <td>55 Cancri e</td>\n",
       "      <td>14.0</td>\n",
       "      <td>False</td>\n",
       "      <td>0.0</td>\n",
       "      <td>0.0</td>\n",
       "      <td>0.0</td>\n",
       "      <td>0.0</td>\n",
       "      <td>0.000000</td>\n",
       "      <td>B</td>\n",
       "      <td>P</td>\n",
       "    </tr>\n",
       "  </tbody>\n",
       "</table>\n",
       "</div>"
      ],
      "text/plain": [
       "            HomePlanet  CryoSleep    Destination   Age    VIP  RoomService  \\\n",
       "PassengerId                                                                  \n",
       "0001_01         Europa      False    TRAPPIST-1e  39.0  False          0.0   \n",
       "0002_01          Earth      False    TRAPPIST-1e  24.0  False        109.0   \n",
       "0003_01         Europa      False    TRAPPIST-1e  58.0   True         43.0   \n",
       "0003_02         Europa      False    TRAPPIST-1e  33.0  False          0.0   \n",
       "0004_01          Earth      False    TRAPPIST-1e  16.0  False        303.0   \n",
       "0005_01          Earth      False  PSO J318.5-22  44.0  False          0.0   \n",
       "0006_01          Earth      False    TRAPPIST-1e  26.0  False         42.0   \n",
       "0006_02          Earth       True    TRAPPIST-1e  28.0  False          0.0   \n",
       "0007_01          Earth      False    TRAPPIST-1e  35.0  False          0.0   \n",
       "0008_01         Europa       True    55 Cancri e  14.0  False          0.0   \n",
       "\n",
       "             FoodCourt  ShoppingMall     Spa      VRDeck Deck Side  \n",
       "PassengerId                                                         \n",
       "0001_01            0.0           0.0     0.0    0.000000    B    P  \n",
       "0002_01            9.0          25.0   549.0   44.000000    F    S  \n",
       "0003_01         3576.0           0.0  6715.0   49.000000    A    S  \n",
       "0003_02         1283.0         371.0  3329.0  193.000000    A    S  \n",
       "0004_01           70.0         151.0   565.0    2.000000    F    S  \n",
       "0005_01          483.0           0.0   291.0    0.000000    F    P  \n",
       "0006_01         1539.0           3.0     0.0    0.000000    F    S  \n",
       "0006_02            0.0           0.0     0.0  304.854791    G    S  \n",
       "0007_01          785.0          17.0   216.0    0.000000    F    S  \n",
       "0008_01            0.0           0.0     0.0    0.000000    B    P  "
      ]
     },
     "execution_count": 25,
     "metadata": {},
     "output_type": "execute_result"
    }
   ],
   "source": [
    "X_imputed = fill_na(X, fill_features, fill_vals_train)\n",
    "X_test_imputed = fill_na(df_test, fill_features, fill_vals_test)\n",
    "X_imputed.head(10)"
   ]
  },
  {
   "cell_type": "code",
   "execution_count": 26,
   "id": "5679dc6b",
   "metadata": {
    "execution": {
     "iopub.execute_input": "2023-06-13T18:42:57.913772Z",
     "iopub.status.busy": "2023-06-13T18:42:57.913158Z",
     "iopub.status.idle": "2023-06-13T18:42:57.918773Z",
     "shell.execute_reply": "2023-06-13T18:42:57.917962Z"
    },
    "papermill": {
     "duration": 0.028594,
     "end_time": "2023-06-13T18:42:57.920960",
     "exception": false,
     "start_time": "2023-06-13T18:42:57.892366",
     "status": "completed"
    },
    "tags": []
   },
   "outputs": [],
   "source": [
    "map_features = ['HomePlanet','Destination','Deck','Side']\n",
    "\n",
    "map_dictionaries = [{'Earth':2, 'Europa':1, 'Mars':0}, \n",
    "                    {'TRAPPIST-1e':2, '55 Cancri e':1, 'PSO J318.5-22':0}, \n",
    "                    {'T':0, 'A':1, 'D':2, 'C':3, 'B':4, 'E':5, 'G':6, 'F':7}, \n",
    "                    {'P':0, 'S':1}]"
   ]
  },
  {
   "cell_type": "code",
   "execution_count": 27,
   "id": "3a73bd49",
   "metadata": {
    "execution": {
     "iopub.execute_input": "2023-06-13T18:42:57.962804Z",
     "iopub.status.busy": "2023-06-13T18:42:57.962336Z",
     "iopub.status.idle": "2023-06-13T18:42:57.995945Z",
     "shell.execute_reply": "2023-06-13T18:42:57.994717Z"
    },
    "papermill": {
     "duration": 0.05809,
     "end_time": "2023-06-13T18:42:57.998719",
     "exception": false,
     "start_time": "2023-06-13T18:42:57.940629",
     "status": "completed"
    },
    "tags": []
   },
   "outputs": [
    {
     "data": {
      "text/html": [
       "<div>\n",
       "<style scoped>\n",
       "    .dataframe tbody tr th:only-of-type {\n",
       "        vertical-align: middle;\n",
       "    }\n",
       "\n",
       "    .dataframe tbody tr th {\n",
       "        vertical-align: top;\n",
       "    }\n",
       "\n",
       "    .dataframe thead th {\n",
       "        text-align: right;\n",
       "    }\n",
       "</style>\n",
       "<table border=\"1\" class=\"dataframe\">\n",
       "  <thead>\n",
       "    <tr style=\"text-align: right;\">\n",
       "      <th></th>\n",
       "      <th>HomePlanet</th>\n",
       "      <th>CryoSleep</th>\n",
       "      <th>Destination</th>\n",
       "      <th>Age</th>\n",
       "      <th>VIP</th>\n",
       "      <th>RoomService</th>\n",
       "      <th>FoodCourt</th>\n",
       "      <th>ShoppingMall</th>\n",
       "      <th>Spa</th>\n",
       "      <th>VRDeck</th>\n",
       "      <th>Deck</th>\n",
       "      <th>Side</th>\n",
       "    </tr>\n",
       "    <tr>\n",
       "      <th>PassengerId</th>\n",
       "      <th></th>\n",
       "      <th></th>\n",
       "      <th></th>\n",
       "      <th></th>\n",
       "      <th></th>\n",
       "      <th></th>\n",
       "      <th></th>\n",
       "      <th></th>\n",
       "      <th></th>\n",
       "      <th></th>\n",
       "      <th></th>\n",
       "      <th></th>\n",
       "    </tr>\n",
       "  </thead>\n",
       "  <tbody>\n",
       "    <tr>\n",
       "      <th>0001_01</th>\n",
       "      <td>1</td>\n",
       "      <td>False</td>\n",
       "      <td>2</td>\n",
       "      <td>39.0</td>\n",
       "      <td>False</td>\n",
       "      <td>0.0</td>\n",
       "      <td>0.0</td>\n",
       "      <td>0.0</td>\n",
       "      <td>0.0</td>\n",
       "      <td>0.0</td>\n",
       "      <td>4</td>\n",
       "      <td>0</td>\n",
       "    </tr>\n",
       "    <tr>\n",
       "      <th>0002_01</th>\n",
       "      <td>2</td>\n",
       "      <td>False</td>\n",
       "      <td>2</td>\n",
       "      <td>24.0</td>\n",
       "      <td>False</td>\n",
       "      <td>109.0</td>\n",
       "      <td>9.0</td>\n",
       "      <td>25.0</td>\n",
       "      <td>549.0</td>\n",
       "      <td>44.0</td>\n",
       "      <td>7</td>\n",
       "      <td>1</td>\n",
       "    </tr>\n",
       "    <tr>\n",
       "      <th>0003_01</th>\n",
       "      <td>1</td>\n",
       "      <td>False</td>\n",
       "      <td>2</td>\n",
       "      <td>58.0</td>\n",
       "      <td>True</td>\n",
       "      <td>43.0</td>\n",
       "      <td>3576.0</td>\n",
       "      <td>0.0</td>\n",
       "      <td>6715.0</td>\n",
       "      <td>49.0</td>\n",
       "      <td>1</td>\n",
       "      <td>1</td>\n",
       "    </tr>\n",
       "    <tr>\n",
       "      <th>0003_02</th>\n",
       "      <td>1</td>\n",
       "      <td>False</td>\n",
       "      <td>2</td>\n",
       "      <td>33.0</td>\n",
       "      <td>False</td>\n",
       "      <td>0.0</td>\n",
       "      <td>1283.0</td>\n",
       "      <td>371.0</td>\n",
       "      <td>3329.0</td>\n",
       "      <td>193.0</td>\n",
       "      <td>1</td>\n",
       "      <td>1</td>\n",
       "    </tr>\n",
       "    <tr>\n",
       "      <th>0004_01</th>\n",
       "      <td>2</td>\n",
       "      <td>False</td>\n",
       "      <td>2</td>\n",
       "      <td>16.0</td>\n",
       "      <td>False</td>\n",
       "      <td>303.0</td>\n",
       "      <td>70.0</td>\n",
       "      <td>151.0</td>\n",
       "      <td>565.0</td>\n",
       "      <td>2.0</td>\n",
       "      <td>7</td>\n",
       "      <td>1</td>\n",
       "    </tr>\n",
       "  </tbody>\n",
       "</table>\n",
       "</div>"
      ],
      "text/plain": [
       "             HomePlanet  CryoSleep  Destination   Age    VIP  RoomService  \\\n",
       "PassengerId                                                                 \n",
       "0001_01               1      False            2  39.0  False          0.0   \n",
       "0002_01               2      False            2  24.0  False        109.0   \n",
       "0003_01               1      False            2  58.0   True         43.0   \n",
       "0003_02               1      False            2  33.0  False          0.0   \n",
       "0004_01               2      False            2  16.0  False        303.0   \n",
       "\n",
       "             FoodCourt  ShoppingMall     Spa  VRDeck  Deck  Side  \n",
       "PassengerId                                                       \n",
       "0001_01            0.0           0.0     0.0     0.0     4     0  \n",
       "0002_01            9.0          25.0   549.0    44.0     7     1  \n",
       "0003_01         3576.0           0.0  6715.0    49.0     1     1  \n",
       "0003_02         1283.0         371.0  3329.0   193.0     1     1  \n",
       "0004_01           70.0         151.0   565.0     2.0     7     1  "
      ]
     },
     "execution_count": 27,
     "metadata": {},
     "output_type": "execute_result"
    }
   ],
   "source": [
    "X_mapped = map_cat(X_imputed, map_features, map_dictionaries)\n",
    "X_test_mapped = map_cat(X_test_imputed, map_features, map_dictionaries)\n",
    "\n",
    "X_mapped.head()"
   ]
  },
  {
   "cell_type": "code",
   "execution_count": 28,
   "id": "6628cba7",
   "metadata": {
    "execution": {
     "iopub.execute_input": "2023-06-13T18:42:58.040436Z",
     "iopub.status.busy": "2023-06-13T18:42:58.040063Z",
     "iopub.status.idle": "2023-06-13T18:42:58.069448Z",
     "shell.execute_reply": "2023-06-13T18:42:58.068643Z"
    },
    "papermill": {
     "duration": 0.05288,
     "end_time": "2023-06-13T18:42:58.071620",
     "exception": false,
     "start_time": "2023-06-13T18:42:58.018740",
     "status": "completed"
    },
    "tags": []
   },
   "outputs": [
    {
     "data": {
      "text/html": [
       "<div>\n",
       "<style scoped>\n",
       "    .dataframe tbody tr th:only-of-type {\n",
       "        vertical-align: middle;\n",
       "    }\n",
       "\n",
       "    .dataframe tbody tr th {\n",
       "        vertical-align: top;\n",
       "    }\n",
       "\n",
       "    .dataframe thead th {\n",
       "        text-align: right;\n",
       "    }\n",
       "</style>\n",
       "<table border=\"1\" class=\"dataframe\">\n",
       "  <thead>\n",
       "    <tr style=\"text-align: right;\">\n",
       "      <th></th>\n",
       "      <th>HomePlanet</th>\n",
       "      <th>CryoSleep</th>\n",
       "      <th>Destination</th>\n",
       "      <th>Age</th>\n",
       "      <th>VIP</th>\n",
       "      <th>RoomService</th>\n",
       "      <th>FoodCourt</th>\n",
       "      <th>ShoppingMall</th>\n",
       "      <th>Spa</th>\n",
       "      <th>VRDeck</th>\n",
       "      <th>Deck</th>\n",
       "      <th>Side</th>\n",
       "    </tr>\n",
       "    <tr>\n",
       "      <th>PassengerId</th>\n",
       "      <th></th>\n",
       "      <th></th>\n",
       "      <th></th>\n",
       "      <th></th>\n",
       "      <th></th>\n",
       "      <th></th>\n",
       "      <th></th>\n",
       "      <th></th>\n",
       "      <th></th>\n",
       "      <th></th>\n",
       "      <th></th>\n",
       "      <th></th>\n",
       "    </tr>\n",
       "  </thead>\n",
       "  <tbody>\n",
       "    <tr>\n",
       "      <th>0001_01</th>\n",
       "      <td>1</td>\n",
       "      <td>False</td>\n",
       "      <td>2</td>\n",
       "      <td>39.0</td>\n",
       "      <td>False</td>\n",
       "      <td>0.0</td>\n",
       "      <td>0.0</td>\n",
       "      <td>0.000000</td>\n",
       "      <td>0.0</td>\n",
       "      <td>0.000000</td>\n",
       "      <td>4</td>\n",
       "      <td>0</td>\n",
       "    </tr>\n",
       "    <tr>\n",
       "      <th>0002_01</th>\n",
       "      <td>2</td>\n",
       "      <td>False</td>\n",
       "      <td>2</td>\n",
       "      <td>24.0</td>\n",
       "      <td>False</td>\n",
       "      <td>109.0</td>\n",
       "      <td>9.0</td>\n",
       "      <td>25.000000</td>\n",
       "      <td>549.0</td>\n",
       "      <td>44.000000</td>\n",
       "      <td>7</td>\n",
       "      <td>1</td>\n",
       "    </tr>\n",
       "    <tr>\n",
       "      <th>0003_01</th>\n",
       "      <td>1</td>\n",
       "      <td>False</td>\n",
       "      <td>2</td>\n",
       "      <td>58.0</td>\n",
       "      <td>True</td>\n",
       "      <td>43.0</td>\n",
       "      <td>3576.0</td>\n",
       "      <td>0.000000</td>\n",
       "      <td>6715.0</td>\n",
       "      <td>49.000000</td>\n",
       "      <td>1</td>\n",
       "      <td>1</td>\n",
       "    </tr>\n",
       "    <tr>\n",
       "      <th>0003_02</th>\n",
       "      <td>1</td>\n",
       "      <td>False</td>\n",
       "      <td>2</td>\n",
       "      <td>33.0</td>\n",
       "      <td>False</td>\n",
       "      <td>0.0</td>\n",
       "      <td>1283.0</td>\n",
       "      <td>371.000000</td>\n",
       "      <td>3329.0</td>\n",
       "      <td>193.000000</td>\n",
       "      <td>1</td>\n",
       "      <td>1</td>\n",
       "    </tr>\n",
       "    <tr>\n",
       "      <th>0004_01</th>\n",
       "      <td>2</td>\n",
       "      <td>False</td>\n",
       "      <td>2</td>\n",
       "      <td>16.0</td>\n",
       "      <td>False</td>\n",
       "      <td>303.0</td>\n",
       "      <td>70.0</td>\n",
       "      <td>151.000000</td>\n",
       "      <td>565.0</td>\n",
       "      <td>2.000000</td>\n",
       "      <td>7</td>\n",
       "      <td>1</td>\n",
       "    </tr>\n",
       "    <tr>\n",
       "      <th>0005_01</th>\n",
       "      <td>2</td>\n",
       "      <td>False</td>\n",
       "      <td>0</td>\n",
       "      <td>44.0</td>\n",
       "      <td>False</td>\n",
       "      <td>0.0</td>\n",
       "      <td>483.0</td>\n",
       "      <td>0.000000</td>\n",
       "      <td>291.0</td>\n",
       "      <td>0.000000</td>\n",
       "      <td>7</td>\n",
       "      <td>0</td>\n",
       "    </tr>\n",
       "    <tr>\n",
       "      <th>0006_01</th>\n",
       "      <td>2</td>\n",
       "      <td>False</td>\n",
       "      <td>2</td>\n",
       "      <td>26.0</td>\n",
       "      <td>False</td>\n",
       "      <td>42.0</td>\n",
       "      <td>1539.0</td>\n",
       "      <td>3.000000</td>\n",
       "      <td>0.0</td>\n",
       "      <td>0.000000</td>\n",
       "      <td>7</td>\n",
       "      <td>1</td>\n",
       "    </tr>\n",
       "    <tr>\n",
       "      <th>0006_02</th>\n",
       "      <td>2</td>\n",
       "      <td>True</td>\n",
       "      <td>2</td>\n",
       "      <td>28.0</td>\n",
       "      <td>False</td>\n",
       "      <td>0.0</td>\n",
       "      <td>0.0</td>\n",
       "      <td>0.000000</td>\n",
       "      <td>0.0</td>\n",
       "      <td>304.854791</td>\n",
       "      <td>6</td>\n",
       "      <td>1</td>\n",
       "    </tr>\n",
       "    <tr>\n",
       "      <th>0007_01</th>\n",
       "      <td>2</td>\n",
       "      <td>False</td>\n",
       "      <td>2</td>\n",
       "      <td>35.0</td>\n",
       "      <td>False</td>\n",
       "      <td>0.0</td>\n",
       "      <td>785.0</td>\n",
       "      <td>17.000000</td>\n",
       "      <td>216.0</td>\n",
       "      <td>0.000000</td>\n",
       "      <td>7</td>\n",
       "      <td>1</td>\n",
       "    </tr>\n",
       "    <tr>\n",
       "      <th>0008_01</th>\n",
       "      <td>1</td>\n",
       "      <td>True</td>\n",
       "      <td>1</td>\n",
       "      <td>14.0</td>\n",
       "      <td>False</td>\n",
       "      <td>0.0</td>\n",
       "      <td>0.0</td>\n",
       "      <td>0.000000</td>\n",
       "      <td>0.0</td>\n",
       "      <td>0.000000</td>\n",
       "      <td>4</td>\n",
       "      <td>0</td>\n",
       "    </tr>\n",
       "    <tr>\n",
       "      <th>0008_02</th>\n",
       "      <td>1</td>\n",
       "      <td>True</td>\n",
       "      <td>2</td>\n",
       "      <td>34.0</td>\n",
       "      <td>False</td>\n",
       "      <td>0.0</td>\n",
       "      <td>0.0</td>\n",
       "      <td>173.729169</td>\n",
       "      <td>0.0</td>\n",
       "      <td>0.000000</td>\n",
       "      <td>4</td>\n",
       "      <td>0</td>\n",
       "    </tr>\n",
       "    <tr>\n",
       "      <th>0008_03</th>\n",
       "      <td>1</td>\n",
       "      <td>False</td>\n",
       "      <td>1</td>\n",
       "      <td>45.0</td>\n",
       "      <td>False</td>\n",
       "      <td>39.0</td>\n",
       "      <td>7295.0</td>\n",
       "      <td>589.000000</td>\n",
       "      <td>110.0</td>\n",
       "      <td>124.000000</td>\n",
       "      <td>4</td>\n",
       "      <td>0</td>\n",
       "    </tr>\n",
       "    <tr>\n",
       "      <th>0009_01</th>\n",
       "      <td>0</td>\n",
       "      <td>False</td>\n",
       "      <td>2</td>\n",
       "      <td>32.0</td>\n",
       "      <td>False</td>\n",
       "      <td>73.0</td>\n",
       "      <td>0.0</td>\n",
       "      <td>1123.000000</td>\n",
       "      <td>0.0</td>\n",
       "      <td>113.000000</td>\n",
       "      <td>7</td>\n",
       "      <td>0</td>\n",
       "    </tr>\n",
       "    <tr>\n",
       "      <th>0010_01</th>\n",
       "      <td>2</td>\n",
       "      <td>False</td>\n",
       "      <td>2</td>\n",
       "      <td>48.0</td>\n",
       "      <td>False</td>\n",
       "      <td>719.0</td>\n",
       "      <td>1.0</td>\n",
       "      <td>65.000000</td>\n",
       "      <td>0.0</td>\n",
       "      <td>24.000000</td>\n",
       "      <td>6</td>\n",
       "      <td>1</td>\n",
       "    </tr>\n",
       "    <tr>\n",
       "      <th>0011_01</th>\n",
       "      <td>2</td>\n",
       "      <td>False</td>\n",
       "      <td>2</td>\n",
       "      <td>28.0</td>\n",
       "      <td>False</td>\n",
       "      <td>8.0</td>\n",
       "      <td>974.0</td>\n",
       "      <td>12.000000</td>\n",
       "      <td>2.0</td>\n",
       "      <td>7.000000</td>\n",
       "      <td>7</td>\n",
       "      <td>0</td>\n",
       "    </tr>\n",
       "    <tr>\n",
       "      <th>0012_01</th>\n",
       "      <td>2</td>\n",
       "      <td>False</td>\n",
       "      <td>2</td>\n",
       "      <td>31.0</td>\n",
       "      <td>False</td>\n",
       "      <td>32.0</td>\n",
       "      <td>0.0</td>\n",
       "      <td>876.000000</td>\n",
       "      <td>0.0</td>\n",
       "      <td>0.000000</td>\n",
       "      <td>7</td>\n",
       "      <td>1</td>\n",
       "    </tr>\n",
       "    <tr>\n",
       "      <th>0014_01</th>\n",
       "      <td>0</td>\n",
       "      <td>False</td>\n",
       "      <td>1</td>\n",
       "      <td>27.0</td>\n",
       "      <td>False</td>\n",
       "      <td>1286.0</td>\n",
       "      <td>122.0</td>\n",
       "      <td>173.729169</td>\n",
       "      <td>0.0</td>\n",
       "      <td>0.000000</td>\n",
       "      <td>7</td>\n",
       "      <td>0</td>\n",
       "    </tr>\n",
       "    <tr>\n",
       "      <th>0015_01</th>\n",
       "      <td>2</td>\n",
       "      <td>False</td>\n",
       "      <td>1</td>\n",
       "      <td>24.0</td>\n",
       "      <td>False</td>\n",
       "      <td>0.0</td>\n",
       "      <td>1.0</td>\n",
       "      <td>0.000000</td>\n",
       "      <td>0.0</td>\n",
       "      <td>637.000000</td>\n",
       "      <td>7</td>\n",
       "      <td>0</td>\n",
       "    </tr>\n",
       "    <tr>\n",
       "      <th>0016_01</th>\n",
       "      <td>0</td>\n",
       "      <td>True</td>\n",
       "      <td>2</td>\n",
       "      <td>45.0</td>\n",
       "      <td>False</td>\n",
       "      <td>0.0</td>\n",
       "      <td>0.0</td>\n",
       "      <td>0.000000</td>\n",
       "      <td>0.0</td>\n",
       "      <td>0.000000</td>\n",
       "      <td>7</td>\n",
       "      <td>0</td>\n",
       "    </tr>\n",
       "    <tr>\n",
       "      <th>0017_01</th>\n",
       "      <td>2</td>\n",
       "      <td>False</td>\n",
       "      <td>2</td>\n",
       "      <td>0.0</td>\n",
       "      <td>False</td>\n",
       "      <td>0.0</td>\n",
       "      <td>0.0</td>\n",
       "      <td>0.000000</td>\n",
       "      <td>0.0</td>\n",
       "      <td>0.000000</td>\n",
       "      <td>6</td>\n",
       "      <td>0</td>\n",
       "    </tr>\n",
       "  </tbody>\n",
       "</table>\n",
       "</div>"
      ],
      "text/plain": [
       "             HomePlanet  CryoSleep  Destination   Age    VIP  RoomService  \\\n",
       "PassengerId                                                                 \n",
       "0001_01               1      False            2  39.0  False          0.0   \n",
       "0002_01               2      False            2  24.0  False        109.0   \n",
       "0003_01               1      False            2  58.0   True         43.0   \n",
       "0003_02               1      False            2  33.0  False          0.0   \n",
       "0004_01               2      False            2  16.0  False        303.0   \n",
       "0005_01               2      False            0  44.0  False          0.0   \n",
       "0006_01               2      False            2  26.0  False         42.0   \n",
       "0006_02               2       True            2  28.0  False          0.0   \n",
       "0007_01               2      False            2  35.0  False          0.0   \n",
       "0008_01               1       True            1  14.0  False          0.0   \n",
       "0008_02               1       True            2  34.0  False          0.0   \n",
       "0008_03               1      False            1  45.0  False         39.0   \n",
       "0009_01               0      False            2  32.0  False         73.0   \n",
       "0010_01               2      False            2  48.0  False        719.0   \n",
       "0011_01               2      False            2  28.0  False          8.0   \n",
       "0012_01               2      False            2  31.0  False         32.0   \n",
       "0014_01               0      False            1  27.0  False       1286.0   \n",
       "0015_01               2      False            1  24.0  False          0.0   \n",
       "0016_01               0       True            2  45.0  False          0.0   \n",
       "0017_01               2      False            2   0.0  False          0.0   \n",
       "\n",
       "             FoodCourt  ShoppingMall     Spa      VRDeck  Deck  Side  \n",
       "PassengerId                                                           \n",
       "0001_01            0.0      0.000000     0.0    0.000000     4     0  \n",
       "0002_01            9.0     25.000000   549.0   44.000000     7     1  \n",
       "0003_01         3576.0      0.000000  6715.0   49.000000     1     1  \n",
       "0003_02         1283.0    371.000000  3329.0  193.000000     1     1  \n",
       "0004_01           70.0    151.000000   565.0    2.000000     7     1  \n",
       "0005_01          483.0      0.000000   291.0    0.000000     7     0  \n",
       "0006_01         1539.0      3.000000     0.0    0.000000     7     1  \n",
       "0006_02            0.0      0.000000     0.0  304.854791     6     1  \n",
       "0007_01          785.0     17.000000   216.0    0.000000     7     1  \n",
       "0008_01            0.0      0.000000     0.0    0.000000     4     0  \n",
       "0008_02            0.0    173.729169     0.0    0.000000     4     0  \n",
       "0008_03         7295.0    589.000000   110.0  124.000000     4     0  \n",
       "0009_01            0.0   1123.000000     0.0  113.000000     7     0  \n",
       "0010_01            1.0     65.000000     0.0   24.000000     6     1  \n",
       "0011_01          974.0     12.000000     2.0    7.000000     7     0  \n",
       "0012_01            0.0    876.000000     0.0    0.000000     7     1  \n",
       "0014_01          122.0    173.729169     0.0    0.000000     7     0  \n",
       "0015_01            1.0      0.000000     0.0  637.000000     7     0  \n",
       "0016_01            0.0      0.000000     0.0    0.000000     7     0  \n",
       "0017_01            0.0      0.000000     0.0    0.000000     6     0  "
      ]
     },
     "execution_count": 28,
     "metadata": {},
     "output_type": "execute_result"
    }
   ],
   "source": [
    "X_mapped.head(20)"
   ]
  },
  {
   "cell_type": "code",
   "execution_count": 29,
   "id": "092ffa3a",
   "metadata": {
    "execution": {
     "iopub.execute_input": "2023-06-13T18:42:58.113949Z",
     "iopub.status.busy": "2023-06-13T18:42:58.113217Z",
     "iopub.status.idle": "2023-06-13T18:42:58.138249Z",
     "shell.execute_reply": "2023-06-13T18:42:58.137070Z"
    },
    "papermill": {
     "duration": 0.04928,
     "end_time": "2023-06-13T18:42:58.141158",
     "exception": false,
     "start_time": "2023-06-13T18:42:58.091878",
     "status": "completed"
    },
    "tags": []
   },
   "outputs": [],
   "source": [
    "X_normalized = normalize_features(X)\n",
    "X_test_normalized = normalize_features(X_test_mapped)"
   ]
  },
  {
   "cell_type": "code",
   "execution_count": 30,
   "id": "a0455431",
   "metadata": {
    "execution": {
     "iopub.execute_input": "2023-06-13T18:42:58.184197Z",
     "iopub.status.busy": "2023-06-13T18:42:58.183762Z",
     "iopub.status.idle": "2023-06-13T18:42:58.202908Z",
     "shell.execute_reply": "2023-06-13T18:42:58.202000Z"
    },
    "papermill": {
     "duration": 0.043319,
     "end_time": "2023-06-13T18:42:58.205194",
     "exception": false,
     "start_time": "2023-06-13T18:42:58.161875",
     "status": "completed"
    },
    "tags": []
   },
   "outputs": [
    {
     "data": {
      "text/html": [
       "<div>\n",
       "<style scoped>\n",
       "    .dataframe tbody tr th:only-of-type {\n",
       "        vertical-align: middle;\n",
       "    }\n",
       "\n",
       "    .dataframe tbody tr th {\n",
       "        vertical-align: top;\n",
       "    }\n",
       "\n",
       "    .dataframe thead th {\n",
       "        text-align: right;\n",
       "    }\n",
       "</style>\n",
       "<table border=\"1\" class=\"dataframe\">\n",
       "  <thead>\n",
       "    <tr style=\"text-align: right;\">\n",
       "      <th></th>\n",
       "      <th>HomePlanet</th>\n",
       "      <th>CryoSleep</th>\n",
       "      <th>Destination</th>\n",
       "      <th>Age</th>\n",
       "      <th>VIP</th>\n",
       "      <th>RoomService</th>\n",
       "      <th>FoodCourt</th>\n",
       "      <th>ShoppingMall</th>\n",
       "      <th>Spa</th>\n",
       "      <th>VRDeck</th>\n",
       "      <th>Deck</th>\n",
       "      <th>Side</th>\n",
       "    </tr>\n",
       "    <tr>\n",
       "      <th>PassengerId</th>\n",
       "      <th></th>\n",
       "      <th></th>\n",
       "      <th></th>\n",
       "      <th></th>\n",
       "      <th></th>\n",
       "      <th></th>\n",
       "      <th></th>\n",
       "      <th></th>\n",
       "      <th></th>\n",
       "      <th></th>\n",
       "      <th></th>\n",
       "      <th></th>\n",
       "    </tr>\n",
       "  </thead>\n",
       "  <tbody>\n",
       "    <tr>\n",
       "      <th>0001_01</th>\n",
       "      <td>-0.440360</td>\n",
       "      <td>-0.732728</td>\n",
       "      <td>0.601283</td>\n",
       "      <td>0.709396</td>\n",
       "      <td>-0.153054</td>\n",
       "      <td>-0.340570</td>\n",
       "      <td>-0.287298</td>\n",
       "      <td>-0.290800</td>\n",
       "      <td>-0.276648</td>\n",
       "      <td>-0.269007</td>\n",
       "      <td>-0.843795</td>\n",
       "      <td>-1.032805</td>\n",
       "    </tr>\n",
       "    <tr>\n",
       "      <th>0002_01</th>\n",
       "      <td>0.817212</td>\n",
       "      <td>-0.732728</td>\n",
       "      <td>0.601283</td>\n",
       "      <td>-0.336698</td>\n",
       "      <td>-0.153054</td>\n",
       "      <td>-0.175354</td>\n",
       "      <td>-0.281653</td>\n",
       "      <td>-0.248954</td>\n",
       "      <td>0.211493</td>\n",
       "      <td>-0.230181</td>\n",
       "      <td>0.919170</td>\n",
       "      <td>0.968125</td>\n",
       "    </tr>\n",
       "    <tr>\n",
       "      <th>0003_01</th>\n",
       "      <td>-0.440360</td>\n",
       "      <td>-0.732728</td>\n",
       "      <td>0.601283</td>\n",
       "      <td>2.034449</td>\n",
       "      <td>6.532879</td>\n",
       "      <td>-0.275393</td>\n",
       "      <td>1.955503</td>\n",
       "      <td>-0.290800</td>\n",
       "      <td>5.693962</td>\n",
       "      <td>-0.225769</td>\n",
       "      <td>-2.606761</td>\n",
       "      <td>0.968125</td>\n",
       "    </tr>\n",
       "    <tr>\n",
       "      <th>0003_02</th>\n",
       "      <td>-0.440360</td>\n",
       "      <td>-0.732728</td>\n",
       "      <td>0.601283</td>\n",
       "      <td>0.290958</td>\n",
       "      <td>-0.153054</td>\n",
       "      <td>-0.340570</td>\n",
       "      <td>0.517376</td>\n",
       "      <td>0.330206</td>\n",
       "      <td>2.683316</td>\n",
       "      <td>-0.098702</td>\n",
       "      <td>-2.606761</td>\n",
       "      <td>0.968125</td>\n",
       "    </tr>\n",
       "    <tr>\n",
       "      <th>0004_01</th>\n",
       "      <td>0.817212</td>\n",
       "      <td>-0.732728</td>\n",
       "      <td>0.601283</td>\n",
       "      <td>-0.894615</td>\n",
       "      <td>-0.153054</td>\n",
       "      <td>0.118702</td>\n",
       "      <td>-0.243395</td>\n",
       "      <td>-0.038046</td>\n",
       "      <td>0.225719</td>\n",
       "      <td>-0.267242</td>\n",
       "      <td>0.919170</td>\n",
       "      <td>0.968125</td>\n",
       "    </tr>\n",
       "  </tbody>\n",
       "</table>\n",
       "</div>"
      ],
      "text/plain": [
       "             HomePlanet  CryoSleep  Destination       Age       VIP  \\\n",
       "PassengerId                                                           \n",
       "0001_01       -0.440360  -0.732728     0.601283  0.709396 -0.153054   \n",
       "0002_01        0.817212  -0.732728     0.601283 -0.336698 -0.153054   \n",
       "0003_01       -0.440360  -0.732728     0.601283  2.034449  6.532879   \n",
       "0003_02       -0.440360  -0.732728     0.601283  0.290958 -0.153054   \n",
       "0004_01        0.817212  -0.732728     0.601283 -0.894615 -0.153054   \n",
       "\n",
       "             RoomService  FoodCourt  ShoppingMall       Spa    VRDeck  \\\n",
       "PassengerId                                                             \n",
       "0001_01        -0.340570  -0.287298     -0.290800 -0.276648 -0.269007   \n",
       "0002_01        -0.175354  -0.281653     -0.248954  0.211493 -0.230181   \n",
       "0003_01        -0.275393   1.955503     -0.290800  5.693962 -0.225769   \n",
       "0003_02        -0.340570   0.517376      0.330206  2.683316 -0.098702   \n",
       "0004_01         0.118702  -0.243395     -0.038046  0.225719 -0.267242   \n",
       "\n",
       "                 Deck      Side  \n",
       "PassengerId                      \n",
       "0001_01     -0.843795 -1.032805  \n",
       "0002_01      0.919170  0.968125  \n",
       "0003_01     -2.606761  0.968125  \n",
       "0003_02     -2.606761  0.968125  \n",
       "0004_01      0.919170  0.968125  "
      ]
     },
     "execution_count": 30,
     "metadata": {},
     "output_type": "execute_result"
    }
   ],
   "source": [
    "X_normalized.head()"
   ]
  },
  {
   "cell_type": "code",
   "execution_count": 31,
   "id": "218c713d",
   "metadata": {
    "execution": {
     "iopub.execute_input": "2023-06-13T18:42:58.248872Z",
     "iopub.status.busy": "2023-06-13T18:42:58.248242Z",
     "iopub.status.idle": "2023-06-13T18:42:58.253594Z",
     "shell.execute_reply": "2023-06-13T18:42:58.252609Z"
    },
    "papermill": {
     "duration": 0.030193,
     "end_time": "2023-06-13T18:42:58.256033",
     "exception": false,
     "start_time": "2023-06-13T18:42:58.225840",
     "status": "completed"
    },
    "tags": []
   },
   "outputs": [],
   "source": [
    "# perform_cross_validation(X_normalized, y)"
   ]
  },
  {
   "cell_type": "code",
   "execution_count": 32,
   "id": "07404083",
   "metadata": {
    "execution": {
     "iopub.execute_input": "2023-06-13T18:42:58.299413Z",
     "iopub.status.busy": "2023-06-13T18:42:58.299008Z",
     "iopub.status.idle": "2023-06-13T18:42:58.309703Z",
     "shell.execute_reply": "2023-06-13T18:42:58.308603Z"
    },
    "papermill": {
     "duration": 0.035325,
     "end_time": "2023-06-13T18:42:58.312291",
     "exception": false,
     "start_time": "2023-06-13T18:42:58.276966",
     "status": "completed"
    },
    "tags": []
   },
   "outputs": [
    {
     "data": {
      "text/plain": [
       "HomePlanet      0\n",
       "CryoSleep       0\n",
       "Destination     0\n",
       "Age             0\n",
       "VIP             0\n",
       "RoomService     0\n",
       "FoodCourt       0\n",
       "ShoppingMall    0\n",
       "Spa             0\n",
       "VRDeck          0\n",
       "Deck            0\n",
       "Side            0\n",
       "dtype: int64"
      ]
     },
     "execution_count": 32,
     "metadata": {},
     "output_type": "execute_result"
    }
   ],
   "source": [
    "X_normalized.isnull().sum()"
   ]
  },
  {
   "cell_type": "code",
   "execution_count": 33,
   "id": "256316a1",
   "metadata": {
    "execution": {
     "iopub.execute_input": "2023-06-13T18:42:58.356144Z",
     "iopub.status.busy": "2023-06-13T18:42:58.355764Z",
     "iopub.status.idle": "2023-06-13T18:43:02.102755Z",
     "shell.execute_reply": "2023-06-13T18:43:02.101575Z"
    },
    "papermill": {
     "duration": 3.772028,
     "end_time": "2023-06-13T18:43:02.105220",
     "exception": false,
     "start_time": "2023-06-13T18:42:58.333192",
     "status": "completed"
    },
    "tags": []
   },
   "outputs": [
    {
     "data": {
      "text/html": [
       "<div>\n",
       "<style scoped>\n",
       "    .dataframe tbody tr th:only-of-type {\n",
       "        vertical-align: middle;\n",
       "    }\n",
       "\n",
       "    .dataframe tbody tr th {\n",
       "        vertical-align: top;\n",
       "    }\n",
       "\n",
       "    .dataframe thead th {\n",
       "        text-align: right;\n",
       "    }\n",
       "</style>\n",
       "<table border=\"1\" class=\"dataframe\">\n",
       "  <thead>\n",
       "    <tr style=\"text-align: right;\">\n",
       "      <th></th>\n",
       "      <th>Transported</th>\n",
       "    </tr>\n",
       "    <tr>\n",
       "      <th>PassengerId</th>\n",
       "      <th></th>\n",
       "    </tr>\n",
       "  </thead>\n",
       "  <tbody>\n",
       "    <tr>\n",
       "      <th>0013_01</th>\n",
       "      <td>True</td>\n",
       "    </tr>\n",
       "    <tr>\n",
       "      <th>0018_01</th>\n",
       "      <td>False</td>\n",
       "    </tr>\n",
       "    <tr>\n",
       "      <th>0019_01</th>\n",
       "      <td>True</td>\n",
       "    </tr>\n",
       "    <tr>\n",
       "      <th>0021_01</th>\n",
       "      <td>True</td>\n",
       "    </tr>\n",
       "    <tr>\n",
       "      <th>0023_01</th>\n",
       "      <td>True</td>\n",
       "    </tr>\n",
       "  </tbody>\n",
       "</table>\n",
       "</div>"
      ],
      "text/plain": [
       "             Transported\n",
       "PassengerId             \n",
       "0013_01             True\n",
       "0018_01            False\n",
       "0019_01             True\n",
       "0021_01             True\n",
       "0023_01             True"
      ]
     },
     "execution_count": 33,
     "metadata": {},
     "output_type": "execute_result"
    }
   ],
   "source": [
    "clf = SVC().fit(X_normalized, y)\n",
    "\n",
    "predictions = clf.predict(X_test_normalized)\n",
    "\n",
    "submission1 = pd.DataFrame(data={'Transported':predictions}, index=df_test.index)\n",
    "\n",
    "submission1.head()"
   ]
  },
  {
   "cell_type": "code",
   "execution_count": 34,
   "id": "2257511e",
   "metadata": {
    "execution": {
     "iopub.execute_input": "2023-06-13T18:43:02.148702Z",
     "iopub.status.busy": "2023-06-13T18:43:02.147992Z",
     "iopub.status.idle": "2023-06-13T18:43:02.164000Z",
     "shell.execute_reply": "2023-06-13T18:43:02.162738Z"
    },
    "papermill": {
     "duration": 0.040848,
     "end_time": "2023-06-13T18:43:02.166808",
     "exception": false,
     "start_time": "2023-06-13T18:43:02.125960",
     "status": "completed"
    },
    "tags": []
   },
   "outputs": [],
   "source": [
    "submission1.to_csv('2023-6-13_Submission1.csv')"
   ]
  },
  {
   "cell_type": "markdown",
   "id": "8c6fe082",
   "metadata": {
    "papermill": {
     "duration": 0.021336,
     "end_time": "2023-06-13T18:43:02.209451",
     "exception": false,
     "start_time": "2023-06-13T18:43:02.188115",
     "status": "completed"
    },
    "tags": []
   },
   "source": [
    "Result: 0.79541"
   ]
  },
  {
   "cell_type": "markdown",
   "id": "9f484602",
   "metadata": {
    "papermill": {
     "duration": 0.020435,
     "end_time": "2023-06-13T18:43:02.251347",
     "exception": false,
     "start_time": "2023-06-13T18:43:02.230912",
     "status": "completed"
    },
    "tags": []
   },
   "source": [
    "**--------------------------------------------------------------------------------**"
   ]
  },
  {
   "cell_type": "code",
   "execution_count": 35,
   "id": "daafbf4b",
   "metadata": {
    "execution": {
     "iopub.execute_input": "2023-06-13T18:43:02.294658Z",
     "iopub.status.busy": "2023-06-13T18:43:02.294279Z",
     "iopub.status.idle": "2023-06-13T18:43:02.358709Z",
     "shell.execute_reply": "2023-06-13T18:43:02.357352Z"
    },
    "papermill": {
     "duration": 0.089354,
     "end_time": "2023-06-13T18:43:02.361505",
     "exception": false,
     "start_time": "2023-06-13T18:43:02.272151",
     "status": "completed"
    },
    "tags": []
   },
   "outputs": [],
   "source": [
    "df_train2 = pd.read_csv(train_filepath, index_col='PassengerId')\n",
    "df_test2 = pd.read_csv(test_filepath, index_col='PassengerId')"
   ]
  },
  {
   "cell_type": "code",
   "execution_count": 36,
   "id": "cdcbff14",
   "metadata": {
    "execution": {
     "iopub.execute_input": "2023-06-13T18:43:02.406523Z",
     "iopub.status.busy": "2023-06-13T18:43:02.405828Z",
     "iopub.status.idle": "2023-06-13T18:43:02.414742Z",
     "shell.execute_reply": "2023-06-13T18:43:02.413124Z"
    },
    "papermill": {
     "duration": 0.034289,
     "end_time": "2023-06-13T18:43:02.417523",
     "exception": false,
     "start_time": "2023-06-13T18:43:02.383234",
     "status": "completed"
    },
    "tags": []
   },
   "outputs": [],
   "source": [
    "df_train2 = df_train2.drop('Name', axis=1)\n",
    "df_test2 = df_test2.drop('Name', axis=1)"
   ]
  },
  {
   "cell_type": "code",
   "execution_count": 37,
   "id": "2e7bb986",
   "metadata": {
    "execution": {
     "iopub.execute_input": "2023-06-13T18:43:02.462965Z",
     "iopub.status.busy": "2023-06-13T18:43:02.462433Z",
     "iopub.status.idle": "2023-06-13T18:43:02.504675Z",
     "shell.execute_reply": "2023-06-13T18:43:02.503346Z"
    },
    "papermill": {
     "duration": 0.068549,
     "end_time": "2023-06-13T18:43:02.507492",
     "exception": false,
     "start_time": "2023-06-13T18:43:02.438943",
     "status": "completed"
    },
    "tags": []
   },
   "outputs": [],
   "source": [
    "df_train2 = expand_cabin(df_train2)\n",
    "df_test2 = expand_cabin(df_test2)"
   ]
  },
  {
   "cell_type": "code",
   "execution_count": 38,
   "id": "d1f5a332",
   "metadata": {
    "execution": {
     "iopub.execute_input": "2023-06-13T18:43:02.552033Z",
     "iopub.status.busy": "2023-06-13T18:43:02.551588Z",
     "iopub.status.idle": "2023-06-13T18:43:02.559346Z",
     "shell.execute_reply": "2023-06-13T18:43:02.557864Z"
    },
    "papermill": {
     "duration": 0.032603,
     "end_time": "2023-06-13T18:43:02.561803",
     "exception": false,
     "start_time": "2023-06-13T18:43:02.529200",
     "status": "completed"
    },
    "tags": []
   },
   "outputs": [],
   "source": [
    "X2 = df_train2.drop('Transported', axis=1)\n",
    "\n",
    "y2 = df_train2['Transported']"
   ]
  },
  {
   "cell_type": "code",
   "execution_count": 39,
   "id": "9b063fcb",
   "metadata": {
    "execution": {
     "iopub.execute_input": "2023-06-13T18:43:02.605325Z",
     "iopub.status.busy": "2023-06-13T18:43:02.604898Z",
     "iopub.status.idle": "2023-06-13T18:43:02.613111Z",
     "shell.execute_reply": "2023-06-13T18:43:02.611874Z"
    },
    "papermill": {
     "duration": 0.032955,
     "end_time": "2023-06-13T18:43:02.615549",
     "exception": false,
     "start_time": "2023-06-13T18:43:02.582594",
     "status": "completed"
    },
    "tags": []
   },
   "outputs": [],
   "source": [
    "X2['Deck'] = X2['Deck'].replace('nan','F')\n",
    "df_test2['Deck'] = df_test2['Deck'].replace('nan','F')"
   ]
  },
  {
   "cell_type": "code",
   "execution_count": 40,
   "id": "41d42e95",
   "metadata": {
    "execution": {
     "iopub.execute_input": "2023-06-13T18:43:02.661792Z",
     "iopub.status.busy": "2023-06-13T18:43:02.661393Z",
     "iopub.status.idle": "2023-06-13T18:43:02.675504Z",
     "shell.execute_reply": "2023-06-13T18:43:02.674198Z"
    },
    "papermill": {
     "duration": 0.039165,
     "end_time": "2023-06-13T18:43:02.678474",
     "exception": false,
     "start_time": "2023-06-13T18:43:02.639309",
     "status": "completed"
    },
    "tags": []
   },
   "outputs": [],
   "source": [
    "rs_med = X2['RoomService'].median()\n",
    "fc_med = X2['FoodCourt'].median()\n",
    "sm_med = X2['ShoppingMall'].median()\n",
    "spa_med = X2['Spa'].median()\n",
    "vr_med = X2['VRDeck'].median()\n",
    "age_med = X2['Age'].median()\n",
    "\n",
    "rs_test_med = df_test2['RoomService'].median()\n",
    "fc_test_med = df_test2['FoodCourt'].median()\n",
    "sm_test_med = df_test2['ShoppingMall'].median()\n",
    "spa_test_med = df_test2['Spa'].median()\n",
    "vr_test_med = df_test2['VRDeck'].median()\n",
    "age_test_med = df_test2['Age'].median()"
   ]
  },
  {
   "cell_type": "code",
   "execution_count": 41,
   "id": "ea8f7479",
   "metadata": {
    "execution": {
     "iopub.execute_input": "2023-06-13T18:43:02.723372Z",
     "iopub.status.busy": "2023-06-13T18:43:02.722957Z",
     "iopub.status.idle": "2023-06-13T18:43:02.729650Z",
     "shell.execute_reply": "2023-06-13T18:43:02.728259Z"
    },
    "papermill": {
     "duration": 0.032485,
     "end_time": "2023-06-13T18:43:02.732022",
     "exception": false,
     "start_time": "2023-06-13T18:43:02.699537",
     "status": "completed"
    },
    "tags": []
   },
   "outputs": [],
   "source": [
    "fill_features = ['HomePlanet', 'Destination', 'Side', 'CryoSleep', 'VIP', 'RoomService', 'FoodCourt', 'ShoppingMall', 'Spa', 'VRDeck', 'Age']\n",
    "fill_vals = ['Earth', 'TRAPPIST-1e', 'S', False, False]\n",
    "\n",
    "fill_vals_train_med = fill_vals + [rs_med, fc_med, sm_med, spa_med, vr_med, age_med]\n",
    "fill_vals_test_med = fill_vals + [rs_test_med, fc_test_med, sm_test_med, spa_test_med, vr_test_med, age_test_med]"
   ]
  },
  {
   "cell_type": "code",
   "execution_count": 42,
   "id": "bffe920d",
   "metadata": {
    "execution": {
     "iopub.execute_input": "2023-06-13T18:43:02.775340Z",
     "iopub.status.busy": "2023-06-13T18:43:02.774963Z",
     "iopub.status.idle": "2023-06-13T18:43:02.803680Z",
     "shell.execute_reply": "2023-06-13T18:43:02.802458Z"
    },
    "papermill": {
     "duration": 0.053474,
     "end_time": "2023-06-13T18:43:02.806459",
     "exception": false,
     "start_time": "2023-06-13T18:43:02.752985",
     "status": "completed"
    },
    "tags": []
   },
   "outputs": [],
   "source": [
    "X_imputed2 = fill_na(X2, fill_features, fill_vals_train_med)\n",
    "X_test_imputed2 = fill_na(df_test2, fill_features, fill_vals_test_med)"
   ]
  },
  {
   "cell_type": "code",
   "execution_count": 43,
   "id": "e4254797",
   "metadata": {
    "execution": {
     "iopub.execute_input": "2023-06-13T18:43:02.850010Z",
     "iopub.status.busy": "2023-06-13T18:43:02.849536Z",
     "iopub.status.idle": "2023-06-13T18:43:02.856472Z",
     "shell.execute_reply": "2023-06-13T18:43:02.855186Z"
    },
    "papermill": {
     "duration": 0.031519,
     "end_time": "2023-06-13T18:43:02.858979",
     "exception": false,
     "start_time": "2023-06-13T18:43:02.827460",
     "status": "completed"
    },
    "tags": []
   },
   "outputs": [],
   "source": [
    "map_features = ['HomePlanet','Destination','Deck','Side']\n",
    "\n",
    "map_dictionaries = [{'Earth':2, 'Europa':1, 'Mars':0}, \n",
    "                    {'TRAPPIST-1e':2, '55 Cancri e':1, 'PSO J318.5-22':0}, \n",
    "                    {'T':0, 'A':1, 'D':2, 'C':3, 'B':4, 'E':5, 'G':6, 'F':7}, \n",
    "                    {'P':0, 'S':1}]"
   ]
  },
  {
   "cell_type": "code",
   "execution_count": 44,
   "id": "10fbedf9",
   "metadata": {
    "execution": {
     "iopub.execute_input": "2023-06-13T18:43:02.903253Z",
     "iopub.status.busy": "2023-06-13T18:43:02.902849Z",
     "iopub.status.idle": "2023-06-13T18:43:02.923199Z",
     "shell.execute_reply": "2023-06-13T18:43:02.922031Z"
    },
    "papermill": {
     "duration": 0.046081,
     "end_time": "2023-06-13T18:43:02.926032",
     "exception": false,
     "start_time": "2023-06-13T18:43:02.879951",
     "status": "completed"
    },
    "tags": []
   },
   "outputs": [],
   "source": [
    "X_mapped2 = map_cat(X_imputed2, map_features, map_dictionaries)\n",
    "X_test_mapped2 = map_cat(X_test_imputed2, map_features, map_dictionaries)"
   ]
  },
  {
   "cell_type": "code",
   "execution_count": 45,
   "id": "108506d1",
   "metadata": {
    "execution": {
     "iopub.execute_input": "2023-06-13T18:43:02.970676Z",
     "iopub.status.busy": "2023-06-13T18:43:02.970285Z",
     "iopub.status.idle": "2023-06-13T18:43:02.997051Z",
     "shell.execute_reply": "2023-06-13T18:43:02.995727Z"
    },
    "papermill": {
     "duration": 0.052887,
     "end_time": "2023-06-13T18:43:02.999782",
     "exception": false,
     "start_time": "2023-06-13T18:43:02.946895",
     "status": "completed"
    },
    "tags": []
   },
   "outputs": [],
   "source": [
    "X_normalized2 = normalize_features(X_mapped2)\n",
    "X_test_normalized2 = normalize_features(X_test_mapped2)"
   ]
  },
  {
   "cell_type": "code",
   "execution_count": 46,
   "id": "5ef778a5",
   "metadata": {
    "execution": {
     "iopub.execute_input": "2023-06-13T18:43:03.043127Z",
     "iopub.status.busy": "2023-06-13T18:43:03.042736Z",
     "iopub.status.idle": "2023-06-13T18:43:03.047872Z",
     "shell.execute_reply": "2023-06-13T18:43:03.046549Z"
    },
    "papermill": {
     "duration": 0.029981,
     "end_time": "2023-06-13T18:43:03.050436",
     "exception": false,
     "start_time": "2023-06-13T18:43:03.020455",
     "status": "completed"
    },
    "tags": []
   },
   "outputs": [],
   "source": [
    "# perform_cross_validation(X_normalized2, y2)"
   ]
  },
  {
   "cell_type": "code",
   "execution_count": 47,
   "id": "1329a7ee",
   "metadata": {
    "execution": {
     "iopub.execute_input": "2023-06-13T18:43:03.094144Z",
     "iopub.status.busy": "2023-06-13T18:43:03.093763Z",
     "iopub.status.idle": "2023-06-13T18:43:06.848631Z",
     "shell.execute_reply": "2023-06-13T18:43:06.847778Z"
    },
    "papermill": {
     "duration": 3.779545,
     "end_time": "2023-06-13T18:43:06.850988",
     "exception": false,
     "start_time": "2023-06-13T18:43:03.071443",
     "status": "completed"
    },
    "tags": []
   },
   "outputs": [
    {
     "data": {
      "text/html": [
       "<div>\n",
       "<style scoped>\n",
       "    .dataframe tbody tr th:only-of-type {\n",
       "        vertical-align: middle;\n",
       "    }\n",
       "\n",
       "    .dataframe tbody tr th {\n",
       "        vertical-align: top;\n",
       "    }\n",
       "\n",
       "    .dataframe thead th {\n",
       "        text-align: right;\n",
       "    }\n",
       "</style>\n",
       "<table border=\"1\" class=\"dataframe\">\n",
       "  <thead>\n",
       "    <tr style=\"text-align: right;\">\n",
       "      <th></th>\n",
       "      <th>Transported</th>\n",
       "    </tr>\n",
       "    <tr>\n",
       "      <th>PassengerId</th>\n",
       "      <th></th>\n",
       "    </tr>\n",
       "  </thead>\n",
       "  <tbody>\n",
       "    <tr>\n",
       "      <th>0013_01</th>\n",
       "      <td>True</td>\n",
       "    </tr>\n",
       "    <tr>\n",
       "      <th>0018_01</th>\n",
       "      <td>False</td>\n",
       "    </tr>\n",
       "    <tr>\n",
       "      <th>0019_01</th>\n",
       "      <td>True</td>\n",
       "    </tr>\n",
       "    <tr>\n",
       "      <th>0021_01</th>\n",
       "      <td>True</td>\n",
       "    </tr>\n",
       "    <tr>\n",
       "      <th>0023_01</th>\n",
       "      <td>True</td>\n",
       "    </tr>\n",
       "  </tbody>\n",
       "</table>\n",
       "</div>"
      ],
      "text/plain": [
       "             Transported\n",
       "PassengerId             \n",
       "0013_01             True\n",
       "0018_01            False\n",
       "0019_01             True\n",
       "0021_01             True\n",
       "0023_01             True"
      ]
     },
     "execution_count": 47,
     "metadata": {},
     "output_type": "execute_result"
    }
   ],
   "source": [
    "clf_med = SVC().fit(X_normalized2, y2)\n",
    "\n",
    "predictions_med = clf.predict(X_test_normalized2)\n",
    "\n",
    "submission2 = pd.DataFrame(data={'Transported':predictions_med}, index=df_test.index)\n",
    "\n",
    "submission2.head()"
   ]
  },
  {
   "cell_type": "code",
   "execution_count": 48,
   "id": "e40a7176",
   "metadata": {
    "execution": {
     "iopub.execute_input": "2023-06-13T18:43:06.895543Z",
     "iopub.status.busy": "2023-06-13T18:43:06.894746Z",
     "iopub.status.idle": "2023-06-13T18:43:06.905331Z",
     "shell.execute_reply": "2023-06-13T18:43:06.904213Z"
    },
    "papermill": {
     "duration": 0.035999,
     "end_time": "2023-06-13T18:43:06.908327",
     "exception": false,
     "start_time": "2023-06-13T18:43:06.872328",
     "status": "completed"
    },
    "tags": []
   },
   "outputs": [],
   "source": [
    "submission2.to_csv('2023-6-13_Submission2.csv')"
   ]
  },
  {
   "cell_type": "markdown",
   "id": "d55cec2a",
   "metadata": {
    "papermill": {
     "duration": 0.020556,
     "end_time": "2023-06-13T18:43:06.950637",
     "exception": false,
     "start_time": "2023-06-13T18:43:06.930081",
     "status": "completed"
    },
    "tags": []
   },
   "source": [
    "Result: 0.79611"
   ]
  }
 ],
 "metadata": {
  "kernelspec": {
   "display_name": "Python 3",
   "language": "python",
   "name": "python3"
  },
  "language_info": {
   "codemirror_mode": {
    "name": "ipython",
    "version": 3
   },
   "file_extension": ".py",
   "mimetype": "text/x-python",
   "name": "python",
   "nbconvert_exporter": "python",
   "pygments_lexer": "ipython3",
   "version": "3.10.10"
  },
  "papermill": {
   "default_parameters": {},
   "duration": 26.870267,
   "end_time": "2023-06-13T18:43:07.995810",
   "environment_variables": {},
   "exception": null,
   "input_path": "__notebook__.ipynb",
   "output_path": "__notebook__.ipynb",
   "parameters": {},
   "start_time": "2023-06-13T18:42:41.125543",
   "version": "2.4.0"
  }
 },
 "nbformat": 4,
 "nbformat_minor": 5
}
