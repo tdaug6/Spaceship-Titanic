{
 "cells": [
  {
   "cell_type": "markdown",
   "id": "b2862869",
   "metadata": {
    "papermill": {
     "duration": 0.017727,
     "end_time": "2023-06-13T16:53:28.497696",
     "exception": false,
     "start_time": "2023-06-13T16:53:28.479969",
     "status": "completed"
    },
    "tags": []
   },
   "source": [
    "# Spaceship Titanic Competition\n",
    "\n",
    "*Created by: Taylor Daugherty*\n",
    "\n",
    "*Created on: 5/23/2023    Last updated: 6/13/2023 - Clean up notebook*\n",
    "\n",
    "This notebook is used to practice using cross validation.\n",
    "\n",
    "\n",
    "**Input File:** train.csv and test.csv from the spaceship-titanic competition\n",
    "\n",
    "- train.csv contains a training set of data with features and true values\n",
    "\n",
    "- test.csv contains a testing set of data with only features. This is what will be used to make predictions and submit to the competition\n",
    "\n",
    "\n",
    "**Purpose of notebook:** Gain more practice with cross validation and make submissions to the spaceship titanic competition\n",
    "\n",
    "## Table of Contents\n",
    "\n",
    "1. Import packages\n",
    "\n",
    "2. Useful functions\n",
    "\n",
    "3. Initial Model\n",
    "\n",
    "4. Improvement 1: Remove 'Converted' group\n",
    "\n",
    "5. Improvement 2: Impute NaN values\n",
    "\n",
    "    a. Constant\n",
    "    \n",
    "    b. Mean\n",
    "    \n",
    "    c. Median"
   ]
  },
  {
   "cell_type": "markdown",
   "id": "cecbde6e",
   "metadata": {
    "papermill": {
     "duration": 0.01402,
     "end_time": "2023-06-13T16:53:28.527404",
     "exception": false,
     "start_time": "2023-06-13T16:53:28.513384",
     "status": "completed"
    },
    "tags": []
   },
   "source": [
    "## Import packages\n",
    "\n",
    "Import the packages necessary to run the notebook\n",
    "\n",
    "1. numpy: used for linear algebra\n",
    "\n",
    "2. pandas: used for dataframe creation and manipulation\n",
    "\n",
    "4. `SimpleImputer`: Used to fill NaN values\n",
    "\n",
    "5. `LogisticRegression`: a classification model using logistic regression\n",
    "\n",
    "6. `KNeighborsClassifier`: a classification model using KNN\n",
    "\n",
    "7. `SVC`: a classification model using SVM\n",
    "\n",
    "8. `KFold` and `cross_val_score`: used for cross validation"
   ]
  },
  {
   "cell_type": "code",
   "execution_count": 1,
   "id": "0a18d8ca",
   "metadata": {
    "_cell_guid": "b1076dfc-b9ad-4769-8c92-a6c4dae69d19",
    "_uuid": "8f2839f25d086af736a60e9eeb907d3b93b6e0e5",
    "execution": {
     "iopub.execute_input": "2023-06-13T16:53:28.560962Z",
     "iopub.status.busy": "2023-06-13T16:53:28.560519Z",
     "iopub.status.idle": "2023-06-13T16:53:30.830269Z",
     "shell.execute_reply": "2023-06-13T16:53:30.828873Z"
    },
    "papermill": {
     "duration": 2.292017,
     "end_time": "2023-06-13T16:53:30.833941",
     "exception": false,
     "start_time": "2023-06-13T16:53:28.541924",
     "status": "completed"
    },
    "tags": []
   },
   "outputs": [],
   "source": [
    "import pandas as pd\n",
    "import numpy as np\n",
    "from sklearn.impute import SimpleImputer\n",
    "\n",
    "from sklearn.linear_model import LogisticRegression\n",
    "from sklearn.neighbors import KNeighborsClassifier\n",
    "from sklearn.svm import SVC\n",
    "\n",
    "from sklearn.model_selection import StratifiedKFold, cross_val_score"
   ]
  },
  {
   "cell_type": "code",
   "execution_count": 2,
   "id": "69ed9859",
   "metadata": {
    "execution": {
     "iopub.execute_input": "2023-06-13T16:53:30.866338Z",
     "iopub.status.busy": "2023-06-13T16:53:30.865575Z",
     "iopub.status.idle": "2023-06-13T16:53:30.872248Z",
     "shell.execute_reply": "2023-06-13T16:53:30.870096Z"
    },
    "papermill": {
     "duration": 0.026266,
     "end_time": "2023-06-13T16:53:30.875288",
     "exception": false,
     "start_time": "2023-06-13T16:53:30.849022",
     "status": "completed"
    },
    "tags": []
   },
   "outputs": [],
   "source": [
    "train_filepath = '/kaggle/input/spaceship-titanic/train.csv'\n",
    "test_filepath = '/kaggle/input/spaceship-titanic/test.csv'"
   ]
  },
  {
   "cell_type": "markdown",
   "id": "47ceaa76",
   "metadata": {
    "papermill": {
     "duration": 0.014604,
     "end_time": "2023-06-13T16:53:30.905728",
     "exception": false,
     "start_time": "2023-06-13T16:53:30.891124",
     "status": "completed"
    },
    "tags": []
   },
   "source": [
    "### List of models\n",
    "\n",
    "These are the models that will be used during cross-validation. \n",
    "\n",
    "**Models:**\n",
    "\n",
    "- Logistic Regression\n",
    "\n",
    "- KNN\n",
    "\n",
    "- SVM"
   ]
  },
  {
   "cell_type": "code",
   "execution_count": 3,
   "id": "db4fa981",
   "metadata": {
    "execution": {
     "iopub.execute_input": "2023-06-13T16:53:30.937016Z",
     "iopub.status.busy": "2023-06-13T16:53:30.936321Z",
     "iopub.status.idle": "2023-06-13T16:53:30.944153Z",
     "shell.execute_reply": "2023-06-13T16:53:30.942418Z"
    },
    "papermill": {
     "duration": 0.027855,
     "end_time": "2023-06-13T16:53:30.947920",
     "exception": false,
     "start_time": "2023-06-13T16:53:30.920065",
     "status": "completed"
    },
    "tags": []
   },
   "outputs": [],
   "source": [
    "models = []\n",
    "models.append(('LR', LogisticRegression()))\n",
    "models.append(('KNN', KNeighborsClassifier()))\n",
    "models.append(('SVM', SVC()))"
   ]
  },
  {
   "cell_type": "markdown",
   "id": "4532a8b2",
   "metadata": {
    "papermill": {
     "duration": 0.014262,
     "end_time": "2023-06-13T16:53:30.977411",
     "exception": false,
     "start_time": "2023-06-13T16:53:30.963149",
     "status": "completed"
    },
    "tags": []
   },
   "source": [
    "### apply_imputer()\n",
    "\n",
    "This function is used in the Improvement 2 section for all three imputation methods. Here, the imputer is applied to the dataframe and the columns are returned to their correct names\n",
    "\n",
    "**Input:** A simple imputer to apply, \n",
    "           a dataframe to impute\n",
    "           \n",
    "**Output:** The imputed dataframe"
   ]
  },
  {
   "cell_type": "code",
   "execution_count": 4,
   "id": "bb71f466",
   "metadata": {
    "execution": {
     "iopub.execute_input": "2023-06-13T16:53:31.011376Z",
     "iopub.status.busy": "2023-06-13T16:53:31.009952Z",
     "iopub.status.idle": "2023-06-13T16:53:31.018010Z",
     "shell.execute_reply": "2023-06-13T16:53:31.016535Z"
    },
    "papermill": {
     "duration": 0.029447,
     "end_time": "2023-06-13T16:53:31.021164",
     "exception": false,
     "start_time": "2023-06-13T16:53:30.991717",
     "status": "completed"
    },
    "tags": []
   },
   "outputs": [],
   "source": [
    "def apply_imputer(si, df):\n",
    "    df_imputed = pd.DataFrame(si.fit_transform(df))\n",
    "    df_imputed.columns = df.columns\n",
    "    return df_imputed"
   ]
  },
  {
   "cell_type": "markdown",
   "id": "9ab5da8e",
   "metadata": {
    "papermill": {
     "duration": 0.016058,
     "end_time": "2023-06-13T16:53:31.052550",
     "exception": false,
     "start_time": "2023-06-13T16:53:31.036492",
     "status": "completed"
    },
    "tags": []
   },
   "source": [
    "### perform_cross_validation()\n",
    "\n",
    "This function goes through the steps to perform K-fold cross validation using the list of models described above.\n",
    "\n",
    "**Input:** A dataframe containing the features use to build the model, a Series of the true values associated with the feature list\n",
    "\n",
    "**Output:** Printed result for the mean and standard deviation of each model"
   ]
  },
  {
   "cell_type": "code",
   "execution_count": 5,
   "id": "31df797a",
   "metadata": {
    "execution": {
     "iopub.execute_input": "2023-06-13T16:53:31.084882Z",
     "iopub.status.busy": "2023-06-13T16:53:31.083696Z",
     "iopub.status.idle": "2023-06-13T16:53:31.090677Z",
     "shell.execute_reply": "2023-06-13T16:53:31.089705Z"
    },
    "papermill": {
     "duration": 0.025774,
     "end_time": "2023-06-13T16:53:31.093504",
     "exception": false,
     "start_time": "2023-06-13T16:53:31.067730",
     "status": "completed"
    },
    "tags": []
   },
   "outputs": [],
   "source": [
    "def perform_cross_validation(X_train, y_train):\n",
    "    results = dict()\n",
    "\n",
    "    for name, model in models:\n",
    "        kfold = StratifiedKFold(n_splits=10)\n",
    "        cv_results = cross_val_score(model, X_train, y_train, cv=kfold, scoring='accuracy')\n",
    "        results[name] = (cv_results.mean(), cv_results.std())\n",
    "\n",
    "    print('Model\\t\\tCV Mean\\t\\tCV std')\n",
    "    print(results)"
   ]
  },
  {
   "cell_type": "code",
   "execution_count": 6,
   "id": "e65f4762",
   "metadata": {
    "execution": {
     "iopub.execute_input": "2023-06-13T16:53:31.124724Z",
     "iopub.status.busy": "2023-06-13T16:53:31.123951Z",
     "iopub.status.idle": "2023-06-13T16:53:31.129705Z",
     "shell.execute_reply": "2023-06-13T16:53:31.128823Z"
    },
    "papermill": {
     "duration": 0.024758,
     "end_time": "2023-06-13T16:53:31.132521",
     "exception": false,
     "start_time": "2023-06-13T16:53:31.107763",
     "status": "completed"
    },
    "tags": []
   },
   "outputs": [],
   "source": [
    "def expand_cabin(df):\n",
    "    df[['Deck','Num','Side']] = df['Cabin'].astype(str).str.split('/', expand=True)\n",
    "    df = df.drop('Cabin', axis=1)\n",
    "    df = df.drop('Num', axis=1)\n",
    "    return df"
   ]
  },
  {
   "cell_type": "code",
   "execution_count": 7,
   "id": "9a77419d",
   "metadata": {
    "execution": {
     "iopub.execute_input": "2023-06-13T16:53:31.163737Z",
     "iopub.status.busy": "2023-06-13T16:53:31.162952Z",
     "iopub.status.idle": "2023-06-13T16:53:31.169739Z",
     "shell.execute_reply": "2023-06-13T16:53:31.168124Z"
    },
    "papermill": {
     "duration": 0.026225,
     "end_time": "2023-06-13T16:53:31.173013",
     "exception": false,
     "start_time": "2023-06-13T16:53:31.146788",
     "status": "completed"
    },
    "tags": []
   },
   "outputs": [],
   "source": [
    "def fill_na(df, features, fill_vals):\n",
    "    df_filled = df\n",
    "    \n",
    "    for i in range(len(features)):\n",
    "        feature = features[i]\n",
    "        fill_val = fill_vals[i]\n",
    "        \n",
    "        df_filled[feature] = df_filled[feature].fillna(fill_val)\n",
    "        \n",
    "    return df_filled"
   ]
  },
  {
   "cell_type": "code",
   "execution_count": 8,
   "id": "e1b912fb",
   "metadata": {
    "execution": {
     "iopub.execute_input": "2023-06-13T16:53:31.204365Z",
     "iopub.status.busy": "2023-06-13T16:53:31.203901Z",
     "iopub.status.idle": "2023-06-13T16:53:31.211598Z",
     "shell.execute_reply": "2023-06-13T16:53:31.209757Z"
    },
    "papermill": {
     "duration": 0.026936,
     "end_time": "2023-06-13T16:53:31.214646",
     "exception": false,
     "start_time": "2023-06-13T16:53:31.187710",
     "status": "completed"
    },
    "tags": []
   },
   "outputs": [],
   "source": [
    "def map_cat(df, features, dictionaries):\n",
    "    df_mapped = df\n",
    "    \n",
    "    for i in range(len(features)):\n",
    "        feature = features[i]\n",
    "        dictionary = dictionaries[i]\n",
    "        \n",
    "        df_mapped[feature] = df[feature].map(dictionary)\n",
    "        \n",
    "    return df_mapped"
   ]
  },
  {
   "cell_type": "code",
   "execution_count": 9,
   "id": "a177b28d",
   "metadata": {
    "execution": {
     "iopub.execute_input": "2023-06-13T16:53:31.245581Z",
     "iopub.status.busy": "2023-06-13T16:53:31.245113Z",
     "iopub.status.idle": "2023-06-13T16:53:31.253500Z",
     "shell.execute_reply": "2023-06-13T16:53:31.252122Z"
    },
    "papermill": {
     "duration": 0.027419,
     "end_time": "2023-06-13T16:53:31.256358",
     "exception": false,
     "start_time": "2023-06-13T16:53:31.228939",
     "status": "completed"
    },
    "tags": []
   },
   "outputs": [],
   "source": [
    "def normalize(feature):\n",
    "    '''\n",
    "    This function normalizes a Series\n",
    "    \n",
    "    Input: A feature of type Series\n",
    "    \n",
    "    Output: The normalized feature of type Series\n",
    "    '''\n",
    "    return (feature - feature.mean())/feature.std()"
   ]
  },
  {
   "cell_type": "code",
   "execution_count": 10,
   "id": "9cc1f876",
   "metadata": {
    "execution": {
     "iopub.execute_input": "2023-06-13T16:53:31.287965Z",
     "iopub.status.busy": "2023-06-13T16:53:31.287500Z",
     "iopub.status.idle": "2023-06-13T16:53:31.293906Z",
     "shell.execute_reply": "2023-06-13T16:53:31.292455Z"
    },
    "papermill": {
     "duration": 0.026604,
     "end_time": "2023-06-13T16:53:31.297228",
     "exception": false,
     "start_time": "2023-06-13T16:53:31.270624",
     "status": "completed"
    },
    "tags": []
   },
   "outputs": [],
   "source": [
    "def normalize_features(df):\n",
    "    '''\n",
    "    This function normalizes all features in a dataframe\n",
    "    \n",
    "    Input: A pandas dataframe\n",
    "    \n",
    "    Output: The normalized dataframe\n",
    "    '''\n",
    "    for column in df.columns:\n",
    "        df[column] = normalize(df[column])\n",
    "    return df"
   ]
  },
  {
   "cell_type": "markdown",
   "id": "cc2699e6",
   "metadata": {
    "papermill": {
     "duration": 0.014028,
     "end_time": "2023-06-13T16:53:31.325750",
     "exception": false,
     "start_time": "2023-06-13T16:53:31.311722",
     "status": "completed"
    },
    "tags": []
   },
   "source": [
    "## Initial Model"
   ]
  },
  {
   "cell_type": "code",
   "execution_count": 11,
   "id": "ce133947",
   "metadata": {
    "execution": {
     "iopub.execute_input": "2023-06-13T16:53:31.359291Z",
     "iopub.status.busy": "2023-06-13T16:53:31.358776Z",
     "iopub.status.idle": "2023-06-13T16:53:31.497426Z",
     "shell.execute_reply": "2023-06-13T16:53:31.496167Z"
    },
    "papermill": {
     "duration": 0.159078,
     "end_time": "2023-06-13T16:53:31.500788",
     "exception": false,
     "start_time": "2023-06-13T16:53:31.341710",
     "status": "completed"
    },
    "tags": []
   },
   "outputs": [],
   "source": [
    "df_train = pd.read_csv(train_filepath, index_col='PassengerId')\n",
    "df_test = pd.read_csv(test_filepath, index_col='PassengerId')"
   ]
  },
  {
   "cell_type": "code",
   "execution_count": 12,
   "id": "3976d929",
   "metadata": {
    "execution": {
     "iopub.execute_input": "2023-06-13T16:53:31.533333Z",
     "iopub.status.busy": "2023-06-13T16:53:31.532854Z",
     "iopub.status.idle": "2023-06-13T16:53:31.586603Z",
     "shell.execute_reply": "2023-06-13T16:53:31.584770Z"
    },
    "papermill": {
     "duration": 0.072617,
     "end_time": "2023-06-13T16:53:31.589395",
     "exception": false,
     "start_time": "2023-06-13T16:53:31.516778",
     "status": "completed"
    },
    "tags": []
   },
   "outputs": [
    {
     "data": {
      "text/html": [
       "<div>\n",
       "<style scoped>\n",
       "    .dataframe tbody tr th:only-of-type {\n",
       "        vertical-align: middle;\n",
       "    }\n",
       "\n",
       "    .dataframe tbody tr th {\n",
       "        vertical-align: top;\n",
       "    }\n",
       "\n",
       "    .dataframe thead th {\n",
       "        text-align: right;\n",
       "    }\n",
       "</style>\n",
       "<table border=\"1\" class=\"dataframe\">\n",
       "  <thead>\n",
       "    <tr style=\"text-align: right;\">\n",
       "      <th></th>\n",
       "      <th>HomePlanet</th>\n",
       "      <th>CryoSleep</th>\n",
       "      <th>Cabin</th>\n",
       "      <th>Destination</th>\n",
       "      <th>Age</th>\n",
       "      <th>VIP</th>\n",
       "      <th>RoomService</th>\n",
       "      <th>FoodCourt</th>\n",
       "      <th>ShoppingMall</th>\n",
       "      <th>Spa</th>\n",
       "      <th>VRDeck</th>\n",
       "      <th>Name</th>\n",
       "      <th>Transported</th>\n",
       "    </tr>\n",
       "    <tr>\n",
       "      <th>PassengerId</th>\n",
       "      <th></th>\n",
       "      <th></th>\n",
       "      <th></th>\n",
       "      <th></th>\n",
       "      <th></th>\n",
       "      <th></th>\n",
       "      <th></th>\n",
       "      <th></th>\n",
       "      <th></th>\n",
       "      <th></th>\n",
       "      <th></th>\n",
       "      <th></th>\n",
       "      <th></th>\n",
       "    </tr>\n",
       "  </thead>\n",
       "  <tbody>\n",
       "    <tr>\n",
       "      <th>0001_01</th>\n",
       "      <td>Europa</td>\n",
       "      <td>False</td>\n",
       "      <td>B/0/P</td>\n",
       "      <td>TRAPPIST-1e</td>\n",
       "      <td>39.0</td>\n",
       "      <td>False</td>\n",
       "      <td>0.0</td>\n",
       "      <td>0.0</td>\n",
       "      <td>0.0</td>\n",
       "      <td>0.0</td>\n",
       "      <td>0.0</td>\n",
       "      <td>Maham Ofracculy</td>\n",
       "      <td>False</td>\n",
       "    </tr>\n",
       "    <tr>\n",
       "      <th>0002_01</th>\n",
       "      <td>Earth</td>\n",
       "      <td>False</td>\n",
       "      <td>F/0/S</td>\n",
       "      <td>TRAPPIST-1e</td>\n",
       "      <td>24.0</td>\n",
       "      <td>False</td>\n",
       "      <td>109.0</td>\n",
       "      <td>9.0</td>\n",
       "      <td>25.0</td>\n",
       "      <td>549.0</td>\n",
       "      <td>44.0</td>\n",
       "      <td>Juanna Vines</td>\n",
       "      <td>True</td>\n",
       "    </tr>\n",
       "    <tr>\n",
       "      <th>0003_01</th>\n",
       "      <td>Europa</td>\n",
       "      <td>False</td>\n",
       "      <td>A/0/S</td>\n",
       "      <td>TRAPPIST-1e</td>\n",
       "      <td>58.0</td>\n",
       "      <td>True</td>\n",
       "      <td>43.0</td>\n",
       "      <td>3576.0</td>\n",
       "      <td>0.0</td>\n",
       "      <td>6715.0</td>\n",
       "      <td>49.0</td>\n",
       "      <td>Altark Susent</td>\n",
       "      <td>False</td>\n",
       "    </tr>\n",
       "    <tr>\n",
       "      <th>0003_02</th>\n",
       "      <td>Europa</td>\n",
       "      <td>False</td>\n",
       "      <td>A/0/S</td>\n",
       "      <td>TRAPPIST-1e</td>\n",
       "      <td>33.0</td>\n",
       "      <td>False</td>\n",
       "      <td>0.0</td>\n",
       "      <td>1283.0</td>\n",
       "      <td>371.0</td>\n",
       "      <td>3329.0</td>\n",
       "      <td>193.0</td>\n",
       "      <td>Solam Susent</td>\n",
       "      <td>False</td>\n",
       "    </tr>\n",
       "    <tr>\n",
       "      <th>0004_01</th>\n",
       "      <td>Earth</td>\n",
       "      <td>False</td>\n",
       "      <td>F/1/S</td>\n",
       "      <td>TRAPPIST-1e</td>\n",
       "      <td>16.0</td>\n",
       "      <td>False</td>\n",
       "      <td>303.0</td>\n",
       "      <td>70.0</td>\n",
       "      <td>151.0</td>\n",
       "      <td>565.0</td>\n",
       "      <td>2.0</td>\n",
       "      <td>Willy Santantines</td>\n",
       "      <td>True</td>\n",
       "    </tr>\n",
       "    <tr>\n",
       "      <th>0005_01</th>\n",
       "      <td>Earth</td>\n",
       "      <td>False</td>\n",
       "      <td>F/0/P</td>\n",
       "      <td>PSO J318.5-22</td>\n",
       "      <td>44.0</td>\n",
       "      <td>False</td>\n",
       "      <td>0.0</td>\n",
       "      <td>483.0</td>\n",
       "      <td>0.0</td>\n",
       "      <td>291.0</td>\n",
       "      <td>0.0</td>\n",
       "      <td>Sandie Hinetthews</td>\n",
       "      <td>True</td>\n",
       "    </tr>\n",
       "    <tr>\n",
       "      <th>0006_01</th>\n",
       "      <td>Earth</td>\n",
       "      <td>False</td>\n",
       "      <td>F/2/S</td>\n",
       "      <td>TRAPPIST-1e</td>\n",
       "      <td>26.0</td>\n",
       "      <td>False</td>\n",
       "      <td>42.0</td>\n",
       "      <td>1539.0</td>\n",
       "      <td>3.0</td>\n",
       "      <td>0.0</td>\n",
       "      <td>0.0</td>\n",
       "      <td>Billex Jacostaffey</td>\n",
       "      <td>True</td>\n",
       "    </tr>\n",
       "    <tr>\n",
       "      <th>0006_02</th>\n",
       "      <td>Earth</td>\n",
       "      <td>True</td>\n",
       "      <td>G/0/S</td>\n",
       "      <td>TRAPPIST-1e</td>\n",
       "      <td>28.0</td>\n",
       "      <td>False</td>\n",
       "      <td>0.0</td>\n",
       "      <td>0.0</td>\n",
       "      <td>0.0</td>\n",
       "      <td>0.0</td>\n",
       "      <td>NaN</td>\n",
       "      <td>Candra Jacostaffey</td>\n",
       "      <td>True</td>\n",
       "    </tr>\n",
       "    <tr>\n",
       "      <th>0007_01</th>\n",
       "      <td>Earth</td>\n",
       "      <td>False</td>\n",
       "      <td>F/3/S</td>\n",
       "      <td>TRAPPIST-1e</td>\n",
       "      <td>35.0</td>\n",
       "      <td>False</td>\n",
       "      <td>0.0</td>\n",
       "      <td>785.0</td>\n",
       "      <td>17.0</td>\n",
       "      <td>216.0</td>\n",
       "      <td>0.0</td>\n",
       "      <td>Andona Beston</td>\n",
       "      <td>True</td>\n",
       "    </tr>\n",
       "    <tr>\n",
       "      <th>0008_01</th>\n",
       "      <td>Europa</td>\n",
       "      <td>True</td>\n",
       "      <td>B/1/P</td>\n",
       "      <td>55 Cancri e</td>\n",
       "      <td>14.0</td>\n",
       "      <td>False</td>\n",
       "      <td>0.0</td>\n",
       "      <td>0.0</td>\n",
       "      <td>0.0</td>\n",
       "      <td>0.0</td>\n",
       "      <td>0.0</td>\n",
       "      <td>Erraiam Flatic</td>\n",
       "      <td>True</td>\n",
       "    </tr>\n",
       "  </tbody>\n",
       "</table>\n",
       "</div>"
      ],
      "text/plain": [
       "            HomePlanet CryoSleep  Cabin    Destination   Age    VIP  \\\n",
       "PassengerId                                                           \n",
       "0001_01         Europa     False  B/0/P    TRAPPIST-1e  39.0  False   \n",
       "0002_01          Earth     False  F/0/S    TRAPPIST-1e  24.0  False   \n",
       "0003_01         Europa     False  A/0/S    TRAPPIST-1e  58.0   True   \n",
       "0003_02         Europa     False  A/0/S    TRAPPIST-1e  33.0  False   \n",
       "0004_01          Earth     False  F/1/S    TRAPPIST-1e  16.0  False   \n",
       "0005_01          Earth     False  F/0/P  PSO J318.5-22  44.0  False   \n",
       "0006_01          Earth     False  F/2/S    TRAPPIST-1e  26.0  False   \n",
       "0006_02          Earth      True  G/0/S    TRAPPIST-1e  28.0  False   \n",
       "0007_01          Earth     False  F/3/S    TRAPPIST-1e  35.0  False   \n",
       "0008_01         Europa      True  B/1/P    55 Cancri e  14.0  False   \n",
       "\n",
       "             RoomService  FoodCourt  ShoppingMall     Spa  VRDeck  \\\n",
       "PassengerId                                                         \n",
       "0001_01              0.0        0.0           0.0     0.0     0.0   \n",
       "0002_01            109.0        9.0          25.0   549.0    44.0   \n",
       "0003_01             43.0     3576.0           0.0  6715.0    49.0   \n",
       "0003_02              0.0     1283.0         371.0  3329.0   193.0   \n",
       "0004_01            303.0       70.0         151.0   565.0     2.0   \n",
       "0005_01              0.0      483.0           0.0   291.0     0.0   \n",
       "0006_01             42.0     1539.0           3.0     0.0     0.0   \n",
       "0006_02              0.0        0.0           0.0     0.0     NaN   \n",
       "0007_01              0.0      785.0          17.0   216.0     0.0   \n",
       "0008_01              0.0        0.0           0.0     0.0     0.0   \n",
       "\n",
       "                           Name  Transported  \n",
       "PassengerId                                   \n",
       "0001_01         Maham Ofracculy        False  \n",
       "0002_01            Juanna Vines         True  \n",
       "0003_01           Altark Susent        False  \n",
       "0003_02            Solam Susent        False  \n",
       "0004_01       Willy Santantines         True  \n",
       "0005_01       Sandie Hinetthews         True  \n",
       "0006_01      Billex Jacostaffey         True  \n",
       "0006_02      Candra Jacostaffey         True  \n",
       "0007_01           Andona Beston         True  \n",
       "0008_01          Erraiam Flatic         True  "
      ]
     },
     "execution_count": 12,
     "metadata": {},
     "output_type": "execute_result"
    }
   ],
   "source": [
    "df_train.head(10)"
   ]
  },
  {
   "cell_type": "code",
   "execution_count": 13,
   "id": "10ee61d1",
   "metadata": {
    "execution": {
     "iopub.execute_input": "2023-06-13T16:53:31.621452Z",
     "iopub.status.busy": "2023-06-13T16:53:31.620936Z",
     "iopub.status.idle": "2023-06-13T16:53:31.631648Z",
     "shell.execute_reply": "2023-06-13T16:53:31.630448Z"
    },
    "papermill": {
     "duration": 0.030349,
     "end_time": "2023-06-13T16:53:31.634766",
     "exception": false,
     "start_time": "2023-06-13T16:53:31.604417",
     "status": "completed"
    },
    "tags": []
   },
   "outputs": [],
   "source": [
    "df_train = df_train.drop('Name', axis=1)\n",
    "df_test = df_test.drop('Name', axis=1)"
   ]
  },
  {
   "cell_type": "code",
   "execution_count": 14,
   "id": "b50889a2",
   "metadata": {
    "execution": {
     "iopub.execute_input": "2023-06-13T16:53:31.666487Z",
     "iopub.status.busy": "2023-06-13T16:53:31.665982Z",
     "iopub.status.idle": "2023-06-13T16:53:31.712160Z",
     "shell.execute_reply": "2023-06-13T16:53:31.710316Z"
    },
    "papermill": {
     "duration": 0.065954,
     "end_time": "2023-06-13T16:53:31.715645",
     "exception": false,
     "start_time": "2023-06-13T16:53:31.649691",
     "status": "completed"
    },
    "tags": []
   },
   "outputs": [],
   "source": [
    "df_train = expand_cabin(df_train)\n",
    "df_test = expand_cabin(df_test)"
   ]
  },
  {
   "cell_type": "code",
   "execution_count": 15,
   "id": "703828bc",
   "metadata": {
    "execution": {
     "iopub.execute_input": "2023-06-13T16:53:31.750475Z",
     "iopub.status.busy": "2023-06-13T16:53:31.749680Z",
     "iopub.status.idle": "2023-06-13T16:53:31.758809Z",
     "shell.execute_reply": "2023-06-13T16:53:31.757181Z"
    },
    "papermill": {
     "duration": 0.030658,
     "end_time": "2023-06-13T16:53:31.761816",
     "exception": false,
     "start_time": "2023-06-13T16:53:31.731158",
     "status": "completed"
    },
    "tags": []
   },
   "outputs": [],
   "source": [
    "X = df_train.drop('Transported', axis=1)\n",
    "\n",
    "y = df_train['Transported']"
   ]
  },
  {
   "cell_type": "code",
   "execution_count": 16,
   "id": "6a094664",
   "metadata": {
    "execution": {
     "iopub.execute_input": "2023-06-13T16:53:31.795235Z",
     "iopub.status.busy": "2023-06-13T16:53:31.794722Z",
     "iopub.status.idle": "2023-06-13T16:53:31.804850Z",
     "shell.execute_reply": "2023-06-13T16:53:31.803228Z"
    },
    "papermill": {
     "duration": 0.029867,
     "end_time": "2023-06-13T16:53:31.807588",
     "exception": false,
     "start_time": "2023-06-13T16:53:31.777721",
     "status": "completed"
    },
    "tags": []
   },
   "outputs": [],
   "source": [
    "X['Deck'] = X['Deck'].replace('nan','F')\n",
    "df_test['Deck'] = df_test['Deck'].replace('nan','F')"
   ]
  },
  {
   "cell_type": "code",
   "execution_count": 17,
   "id": "4fd397e9",
   "metadata": {
    "execution": {
     "iopub.execute_input": "2023-06-13T16:53:31.841444Z",
     "iopub.status.busy": "2023-06-13T16:53:31.840952Z",
     "iopub.status.idle": "2023-06-13T16:53:31.855229Z",
     "shell.execute_reply": "2023-06-13T16:53:31.852798Z"
    },
    "papermill": {
     "duration": 0.035724,
     "end_time": "2023-06-13T16:53:31.858415",
     "exception": false,
     "start_time": "2023-06-13T16:53:31.822691",
     "status": "completed"
    },
    "tags": []
   },
   "outputs": [],
   "source": [
    "rs_mean = X['RoomService'].mean()\n",
    "fc_mean = X['FoodCourt'].mean()\n",
    "sm_mean = X['ShoppingMall'].mean()\n",
    "spa_mean = X['Spa'].mean()\n",
    "vr_mean = X['VRDeck'].mean()\n",
    "age_mean = X['Age'].mean()\n",
    "\n",
    "rs_test_mean = df_test['RoomService'].mean()\n",
    "fc_test_mean = df_test['FoodCourt'].mean()\n",
    "sm_test_mean = df_test['ShoppingMall'].mean()\n",
    "spa_test_mean = df_test['Spa'].mean()\n",
    "vr_test_mean = df_test['VRDeck'].mean()\n",
    "age_test_mean = df_test['Age'].mean()"
   ]
  },
  {
   "cell_type": "code",
   "execution_count": 18,
   "id": "6251cf2f",
   "metadata": {
    "execution": {
     "iopub.execute_input": "2023-06-13T16:53:31.891970Z",
     "iopub.status.busy": "2023-06-13T16:53:31.891473Z",
     "iopub.status.idle": "2023-06-13T16:53:31.898854Z",
     "shell.execute_reply": "2023-06-13T16:53:31.897545Z"
    },
    "papermill": {
     "duration": 0.026242,
     "end_time": "2023-06-13T16:53:31.901262",
     "exception": false,
     "start_time": "2023-06-13T16:53:31.875020",
     "status": "completed"
    },
    "tags": []
   },
   "outputs": [],
   "source": [
    "fill_features = ['HomePlanet', 'Destination', 'Side', 'CryoSleep', 'VIP', 'RoomService', 'FoodCourt', 'ShoppingMall', 'Spa', 'VRDeck', 'Age']\n",
    "fill_vals = ['Earth', 'TRAPPIST-1e', 'S', False, False]\n",
    "\n",
    "fill_vals_train = fill_vals + [rs_mean, fc_mean, sm_mean, spa_mean, vr_mean, age_mean]\n",
    "fill_vals_test = fill_vals + [rs_test_mean, fc_test_mean, sm_test_mean, spa_test_mean, vr_test_mean, age_test_mean]"
   ]
  },
  {
   "cell_type": "code",
   "execution_count": 19,
   "id": "d0627659",
   "metadata": {
    "execution": {
     "iopub.execute_input": "2023-06-13T16:53:31.936688Z",
     "iopub.status.busy": "2023-06-13T16:53:31.936258Z",
     "iopub.status.idle": "2023-06-13T16:53:31.989027Z",
     "shell.execute_reply": "2023-06-13T16:53:31.987661Z"
    },
    "papermill": {
     "duration": 0.074775,
     "end_time": "2023-06-13T16:53:31.991824",
     "exception": false,
     "start_time": "2023-06-13T16:53:31.917049",
     "status": "completed"
    },
    "tags": []
   },
   "outputs": [
    {
     "data": {
      "text/html": [
       "<div>\n",
       "<style scoped>\n",
       "    .dataframe tbody tr th:only-of-type {\n",
       "        vertical-align: middle;\n",
       "    }\n",
       "\n",
       "    .dataframe tbody tr th {\n",
       "        vertical-align: top;\n",
       "    }\n",
       "\n",
       "    .dataframe thead th {\n",
       "        text-align: right;\n",
       "    }\n",
       "</style>\n",
       "<table border=\"1\" class=\"dataframe\">\n",
       "  <thead>\n",
       "    <tr style=\"text-align: right;\">\n",
       "      <th></th>\n",
       "      <th>HomePlanet</th>\n",
       "      <th>CryoSleep</th>\n",
       "      <th>Destination</th>\n",
       "      <th>Age</th>\n",
       "      <th>VIP</th>\n",
       "      <th>RoomService</th>\n",
       "      <th>FoodCourt</th>\n",
       "      <th>ShoppingMall</th>\n",
       "      <th>Spa</th>\n",
       "      <th>VRDeck</th>\n",
       "      <th>Deck</th>\n",
       "      <th>Side</th>\n",
       "    </tr>\n",
       "    <tr>\n",
       "      <th>PassengerId</th>\n",
       "      <th></th>\n",
       "      <th></th>\n",
       "      <th></th>\n",
       "      <th></th>\n",
       "      <th></th>\n",
       "      <th></th>\n",
       "      <th></th>\n",
       "      <th></th>\n",
       "      <th></th>\n",
       "      <th></th>\n",
       "      <th></th>\n",
       "      <th></th>\n",
       "    </tr>\n",
       "  </thead>\n",
       "  <tbody>\n",
       "    <tr>\n",
       "      <th>0001_01</th>\n",
       "      <td>Europa</td>\n",
       "      <td>False</td>\n",
       "      <td>TRAPPIST-1e</td>\n",
       "      <td>39.0</td>\n",
       "      <td>False</td>\n",
       "      <td>0.0</td>\n",
       "      <td>0.0</td>\n",
       "      <td>0.0</td>\n",
       "      <td>0.0</td>\n",
       "      <td>0.000000</td>\n",
       "      <td>B</td>\n",
       "      <td>P</td>\n",
       "    </tr>\n",
       "    <tr>\n",
       "      <th>0002_01</th>\n",
       "      <td>Earth</td>\n",
       "      <td>False</td>\n",
       "      <td>TRAPPIST-1e</td>\n",
       "      <td>24.0</td>\n",
       "      <td>False</td>\n",
       "      <td>109.0</td>\n",
       "      <td>9.0</td>\n",
       "      <td>25.0</td>\n",
       "      <td>549.0</td>\n",
       "      <td>44.000000</td>\n",
       "      <td>F</td>\n",
       "      <td>S</td>\n",
       "    </tr>\n",
       "    <tr>\n",
       "      <th>0003_01</th>\n",
       "      <td>Europa</td>\n",
       "      <td>False</td>\n",
       "      <td>TRAPPIST-1e</td>\n",
       "      <td>58.0</td>\n",
       "      <td>True</td>\n",
       "      <td>43.0</td>\n",
       "      <td>3576.0</td>\n",
       "      <td>0.0</td>\n",
       "      <td>6715.0</td>\n",
       "      <td>49.000000</td>\n",
       "      <td>A</td>\n",
       "      <td>S</td>\n",
       "    </tr>\n",
       "    <tr>\n",
       "      <th>0003_02</th>\n",
       "      <td>Europa</td>\n",
       "      <td>False</td>\n",
       "      <td>TRAPPIST-1e</td>\n",
       "      <td>33.0</td>\n",
       "      <td>False</td>\n",
       "      <td>0.0</td>\n",
       "      <td>1283.0</td>\n",
       "      <td>371.0</td>\n",
       "      <td>3329.0</td>\n",
       "      <td>193.000000</td>\n",
       "      <td>A</td>\n",
       "      <td>S</td>\n",
       "    </tr>\n",
       "    <tr>\n",
       "      <th>0004_01</th>\n",
       "      <td>Earth</td>\n",
       "      <td>False</td>\n",
       "      <td>TRAPPIST-1e</td>\n",
       "      <td>16.0</td>\n",
       "      <td>False</td>\n",
       "      <td>303.0</td>\n",
       "      <td>70.0</td>\n",
       "      <td>151.0</td>\n",
       "      <td>565.0</td>\n",
       "      <td>2.000000</td>\n",
       "      <td>F</td>\n",
       "      <td>S</td>\n",
       "    </tr>\n",
       "    <tr>\n",
       "      <th>0005_01</th>\n",
       "      <td>Earth</td>\n",
       "      <td>False</td>\n",
       "      <td>PSO J318.5-22</td>\n",
       "      <td>44.0</td>\n",
       "      <td>False</td>\n",
       "      <td>0.0</td>\n",
       "      <td>483.0</td>\n",
       "      <td>0.0</td>\n",
       "      <td>291.0</td>\n",
       "      <td>0.000000</td>\n",
       "      <td>F</td>\n",
       "      <td>P</td>\n",
       "    </tr>\n",
       "    <tr>\n",
       "      <th>0006_01</th>\n",
       "      <td>Earth</td>\n",
       "      <td>False</td>\n",
       "      <td>TRAPPIST-1e</td>\n",
       "      <td>26.0</td>\n",
       "      <td>False</td>\n",
       "      <td>42.0</td>\n",
       "      <td>1539.0</td>\n",
       "      <td>3.0</td>\n",
       "      <td>0.0</td>\n",
       "      <td>0.000000</td>\n",
       "      <td>F</td>\n",
       "      <td>S</td>\n",
       "    </tr>\n",
       "    <tr>\n",
       "      <th>0006_02</th>\n",
       "      <td>Earth</td>\n",
       "      <td>True</td>\n",
       "      <td>TRAPPIST-1e</td>\n",
       "      <td>28.0</td>\n",
       "      <td>False</td>\n",
       "      <td>0.0</td>\n",
       "      <td>0.0</td>\n",
       "      <td>0.0</td>\n",
       "      <td>0.0</td>\n",
       "      <td>304.854791</td>\n",
       "      <td>G</td>\n",
       "      <td>S</td>\n",
       "    </tr>\n",
       "    <tr>\n",
       "      <th>0007_01</th>\n",
       "      <td>Earth</td>\n",
       "      <td>False</td>\n",
       "      <td>TRAPPIST-1e</td>\n",
       "      <td>35.0</td>\n",
       "      <td>False</td>\n",
       "      <td>0.0</td>\n",
       "      <td>785.0</td>\n",
       "      <td>17.0</td>\n",
       "      <td>216.0</td>\n",
       "      <td>0.000000</td>\n",
       "      <td>F</td>\n",
       "      <td>S</td>\n",
       "    </tr>\n",
       "    <tr>\n",
       "      <th>0008_01</th>\n",
       "      <td>Europa</td>\n",
       "      <td>True</td>\n",
       "      <td>55 Cancri e</td>\n",
       "      <td>14.0</td>\n",
       "      <td>False</td>\n",
       "      <td>0.0</td>\n",
       "      <td>0.0</td>\n",
       "      <td>0.0</td>\n",
       "      <td>0.0</td>\n",
       "      <td>0.000000</td>\n",
       "      <td>B</td>\n",
       "      <td>P</td>\n",
       "    </tr>\n",
       "  </tbody>\n",
       "</table>\n",
       "</div>"
      ],
      "text/plain": [
       "            HomePlanet  CryoSleep    Destination   Age    VIP  RoomService  \\\n",
       "PassengerId                                                                  \n",
       "0001_01         Europa      False    TRAPPIST-1e  39.0  False          0.0   \n",
       "0002_01          Earth      False    TRAPPIST-1e  24.0  False        109.0   \n",
       "0003_01         Europa      False    TRAPPIST-1e  58.0   True         43.0   \n",
       "0003_02         Europa      False    TRAPPIST-1e  33.0  False          0.0   \n",
       "0004_01          Earth      False    TRAPPIST-1e  16.0  False        303.0   \n",
       "0005_01          Earth      False  PSO J318.5-22  44.0  False          0.0   \n",
       "0006_01          Earth      False    TRAPPIST-1e  26.0  False         42.0   \n",
       "0006_02          Earth       True    TRAPPIST-1e  28.0  False          0.0   \n",
       "0007_01          Earth      False    TRAPPIST-1e  35.0  False          0.0   \n",
       "0008_01         Europa       True    55 Cancri e  14.0  False          0.0   \n",
       "\n",
       "             FoodCourt  ShoppingMall     Spa      VRDeck Deck Side  \n",
       "PassengerId                                                         \n",
       "0001_01            0.0           0.0     0.0    0.000000    B    P  \n",
       "0002_01            9.0          25.0   549.0   44.000000    F    S  \n",
       "0003_01         3576.0           0.0  6715.0   49.000000    A    S  \n",
       "0003_02         1283.0         371.0  3329.0  193.000000    A    S  \n",
       "0004_01           70.0         151.0   565.0    2.000000    F    S  \n",
       "0005_01          483.0           0.0   291.0    0.000000    F    P  \n",
       "0006_01         1539.0           3.0     0.0    0.000000    F    S  \n",
       "0006_02            0.0           0.0     0.0  304.854791    G    S  \n",
       "0007_01          785.0          17.0   216.0    0.000000    F    S  \n",
       "0008_01            0.0           0.0     0.0    0.000000    B    P  "
      ]
     },
     "execution_count": 19,
     "metadata": {},
     "output_type": "execute_result"
    }
   ],
   "source": [
    "X_imputed = fill_na(X, fill_features, fill_vals_train)\n",
    "X_test_imputed = fill_na(df_test, fill_features, fill_vals_test)\n",
    "X_imputed.head(10)"
   ]
  },
  {
   "cell_type": "code",
   "execution_count": 20,
   "id": "17bc89da",
   "metadata": {
    "execution": {
     "iopub.execute_input": "2023-06-13T16:53:32.024913Z",
     "iopub.status.busy": "2023-06-13T16:53:32.024414Z",
     "iopub.status.idle": "2023-06-13T16:53:32.032370Z",
     "shell.execute_reply": "2023-06-13T16:53:32.030602Z"
    },
    "papermill": {
     "duration": 0.028479,
     "end_time": "2023-06-13T16:53:32.035719",
     "exception": false,
     "start_time": "2023-06-13T16:53:32.007240",
     "status": "completed"
    },
    "tags": []
   },
   "outputs": [],
   "source": [
    "map_features = ['HomePlanet','Destination','Deck','Side']\n",
    "\n",
    "map_dictionaries = [{'Earth':2, 'Europa':1, 'Mars':0}, \n",
    "                    {'TRAPPIST-1e':2, '55 Cancri e':1, 'PSO J318.5-22':0}, \n",
    "                    {'T':0, 'A':1, 'D':2, 'C':3, 'B':4, 'E':5, 'G':6, 'F':7}, \n",
    "                    {'P':0, 'S':1}]"
   ]
  },
  {
   "cell_type": "code",
   "execution_count": 21,
   "id": "0aa7f865",
   "metadata": {
    "execution": {
     "iopub.execute_input": "2023-06-13T16:53:32.071738Z",
     "iopub.status.busy": "2023-06-13T16:53:32.070885Z",
     "iopub.status.idle": "2023-06-13T16:53:32.108360Z",
     "shell.execute_reply": "2023-06-13T16:53:32.106667Z"
    },
    "papermill": {
     "duration": 0.059263,
     "end_time": "2023-06-13T16:53:32.111098",
     "exception": false,
     "start_time": "2023-06-13T16:53:32.051835",
     "status": "completed"
    },
    "tags": []
   },
   "outputs": [
    {
     "data": {
      "text/html": [
       "<div>\n",
       "<style scoped>\n",
       "    .dataframe tbody tr th:only-of-type {\n",
       "        vertical-align: middle;\n",
       "    }\n",
       "\n",
       "    .dataframe tbody tr th {\n",
       "        vertical-align: top;\n",
       "    }\n",
       "\n",
       "    .dataframe thead th {\n",
       "        text-align: right;\n",
       "    }\n",
       "</style>\n",
       "<table border=\"1\" class=\"dataframe\">\n",
       "  <thead>\n",
       "    <tr style=\"text-align: right;\">\n",
       "      <th></th>\n",
       "      <th>HomePlanet</th>\n",
       "      <th>CryoSleep</th>\n",
       "      <th>Destination</th>\n",
       "      <th>Age</th>\n",
       "      <th>VIP</th>\n",
       "      <th>RoomService</th>\n",
       "      <th>FoodCourt</th>\n",
       "      <th>ShoppingMall</th>\n",
       "      <th>Spa</th>\n",
       "      <th>VRDeck</th>\n",
       "      <th>Deck</th>\n",
       "      <th>Side</th>\n",
       "    </tr>\n",
       "    <tr>\n",
       "      <th>PassengerId</th>\n",
       "      <th></th>\n",
       "      <th></th>\n",
       "      <th></th>\n",
       "      <th></th>\n",
       "      <th></th>\n",
       "      <th></th>\n",
       "      <th></th>\n",
       "      <th></th>\n",
       "      <th></th>\n",
       "      <th></th>\n",
       "      <th></th>\n",
       "      <th></th>\n",
       "    </tr>\n",
       "  </thead>\n",
       "  <tbody>\n",
       "    <tr>\n",
       "      <th>0001_01</th>\n",
       "      <td>1</td>\n",
       "      <td>False</td>\n",
       "      <td>2</td>\n",
       "      <td>39.0</td>\n",
       "      <td>False</td>\n",
       "      <td>0.0</td>\n",
       "      <td>0.0</td>\n",
       "      <td>0.0</td>\n",
       "      <td>0.0</td>\n",
       "      <td>0.0</td>\n",
       "      <td>4</td>\n",
       "      <td>0</td>\n",
       "    </tr>\n",
       "    <tr>\n",
       "      <th>0002_01</th>\n",
       "      <td>2</td>\n",
       "      <td>False</td>\n",
       "      <td>2</td>\n",
       "      <td>24.0</td>\n",
       "      <td>False</td>\n",
       "      <td>109.0</td>\n",
       "      <td>9.0</td>\n",
       "      <td>25.0</td>\n",
       "      <td>549.0</td>\n",
       "      <td>44.0</td>\n",
       "      <td>7</td>\n",
       "      <td>1</td>\n",
       "    </tr>\n",
       "    <tr>\n",
       "      <th>0003_01</th>\n",
       "      <td>1</td>\n",
       "      <td>False</td>\n",
       "      <td>2</td>\n",
       "      <td>58.0</td>\n",
       "      <td>True</td>\n",
       "      <td>43.0</td>\n",
       "      <td>3576.0</td>\n",
       "      <td>0.0</td>\n",
       "      <td>6715.0</td>\n",
       "      <td>49.0</td>\n",
       "      <td>1</td>\n",
       "      <td>1</td>\n",
       "    </tr>\n",
       "    <tr>\n",
       "      <th>0003_02</th>\n",
       "      <td>1</td>\n",
       "      <td>False</td>\n",
       "      <td>2</td>\n",
       "      <td>33.0</td>\n",
       "      <td>False</td>\n",
       "      <td>0.0</td>\n",
       "      <td>1283.0</td>\n",
       "      <td>371.0</td>\n",
       "      <td>3329.0</td>\n",
       "      <td>193.0</td>\n",
       "      <td>1</td>\n",
       "      <td>1</td>\n",
       "    </tr>\n",
       "    <tr>\n",
       "      <th>0004_01</th>\n",
       "      <td>2</td>\n",
       "      <td>False</td>\n",
       "      <td>2</td>\n",
       "      <td>16.0</td>\n",
       "      <td>False</td>\n",
       "      <td>303.0</td>\n",
       "      <td>70.0</td>\n",
       "      <td>151.0</td>\n",
       "      <td>565.0</td>\n",
       "      <td>2.0</td>\n",
       "      <td>7</td>\n",
       "      <td>1</td>\n",
       "    </tr>\n",
       "  </tbody>\n",
       "</table>\n",
       "</div>"
      ],
      "text/plain": [
       "             HomePlanet  CryoSleep  Destination   Age    VIP  RoomService  \\\n",
       "PassengerId                                                                 \n",
       "0001_01               1      False            2  39.0  False          0.0   \n",
       "0002_01               2      False            2  24.0  False        109.0   \n",
       "0003_01               1      False            2  58.0   True         43.0   \n",
       "0003_02               1      False            2  33.0  False          0.0   \n",
       "0004_01               2      False            2  16.0  False        303.0   \n",
       "\n",
       "             FoodCourt  ShoppingMall     Spa  VRDeck  Deck  Side  \n",
       "PassengerId                                                       \n",
       "0001_01            0.0           0.0     0.0     0.0     4     0  \n",
       "0002_01            9.0          25.0   549.0    44.0     7     1  \n",
       "0003_01         3576.0           0.0  6715.0    49.0     1     1  \n",
       "0003_02         1283.0         371.0  3329.0   193.0     1     1  \n",
       "0004_01           70.0         151.0   565.0     2.0     7     1  "
      ]
     },
     "execution_count": 21,
     "metadata": {},
     "output_type": "execute_result"
    }
   ],
   "source": [
    "X_mapped = map_cat(X_imputed, map_features, map_dictionaries)\n",
    "X_test_mapped = map_cat(X_test_imputed, map_features, map_dictionaries)\n",
    "\n",
    "X_mapped.head()"
   ]
  },
  {
   "cell_type": "code",
   "execution_count": 22,
   "id": "ad287125",
   "metadata": {
    "execution": {
     "iopub.execute_input": "2023-06-13T16:53:32.145861Z",
     "iopub.status.busy": "2023-06-13T16:53:32.144496Z",
     "iopub.status.idle": "2023-06-13T16:53:32.171943Z",
     "shell.execute_reply": "2023-06-13T16:53:32.170877Z"
    },
    "papermill": {
     "duration": 0.047867,
     "end_time": "2023-06-13T16:53:32.174770",
     "exception": false,
     "start_time": "2023-06-13T16:53:32.126903",
     "status": "completed"
    },
    "tags": []
   },
   "outputs": [],
   "source": [
    "X_normalized = normalize_features(X_mapped)\n",
    "X_test_normalized = normalize_features(X_test_mapped)"
   ]
  },
  {
   "cell_type": "code",
   "execution_count": 23,
   "id": "acc2c06d",
   "metadata": {
    "execution": {
     "iopub.execute_input": "2023-06-13T16:53:32.211777Z",
     "iopub.status.busy": "2023-06-13T16:53:32.211086Z",
     "iopub.status.idle": "2023-06-13T16:53:32.231350Z",
     "shell.execute_reply": "2023-06-13T16:53:32.230387Z"
    },
    "papermill": {
     "duration": 0.043364,
     "end_time": "2023-06-13T16:53:32.233880",
     "exception": false,
     "start_time": "2023-06-13T16:53:32.190516",
     "status": "completed"
    },
    "tags": []
   },
   "outputs": [
    {
     "data": {
      "text/html": [
       "<div>\n",
       "<style scoped>\n",
       "    .dataframe tbody tr th:only-of-type {\n",
       "        vertical-align: middle;\n",
       "    }\n",
       "\n",
       "    .dataframe tbody tr th {\n",
       "        vertical-align: top;\n",
       "    }\n",
       "\n",
       "    .dataframe thead th {\n",
       "        text-align: right;\n",
       "    }\n",
       "</style>\n",
       "<table border=\"1\" class=\"dataframe\">\n",
       "  <thead>\n",
       "    <tr style=\"text-align: right;\">\n",
       "      <th></th>\n",
       "      <th>HomePlanet</th>\n",
       "      <th>CryoSleep</th>\n",
       "      <th>Destination</th>\n",
       "      <th>Age</th>\n",
       "      <th>VIP</th>\n",
       "      <th>RoomService</th>\n",
       "      <th>FoodCourt</th>\n",
       "      <th>ShoppingMall</th>\n",
       "      <th>Spa</th>\n",
       "      <th>VRDeck</th>\n",
       "      <th>Deck</th>\n",
       "      <th>Side</th>\n",
       "    </tr>\n",
       "    <tr>\n",
       "      <th>PassengerId</th>\n",
       "      <th></th>\n",
       "      <th></th>\n",
       "      <th></th>\n",
       "      <th></th>\n",
       "      <th></th>\n",
       "      <th></th>\n",
       "      <th></th>\n",
       "      <th></th>\n",
       "      <th></th>\n",
       "      <th></th>\n",
       "      <th></th>\n",
       "      <th></th>\n",
       "    </tr>\n",
       "  </thead>\n",
       "  <tbody>\n",
       "    <tr>\n",
       "      <th>0001_01</th>\n",
       "      <td>-0.440360</td>\n",
       "      <td>-0.732728</td>\n",
       "      <td>0.601283</td>\n",
       "      <td>0.709396</td>\n",
       "      <td>-0.153054</td>\n",
       "      <td>-0.340570</td>\n",
       "      <td>-0.287298</td>\n",
       "      <td>-0.290800</td>\n",
       "      <td>-0.276648</td>\n",
       "      <td>-0.269007</td>\n",
       "      <td>-0.843795</td>\n",
       "      <td>-1.032805</td>\n",
       "    </tr>\n",
       "    <tr>\n",
       "      <th>0002_01</th>\n",
       "      <td>0.817212</td>\n",
       "      <td>-0.732728</td>\n",
       "      <td>0.601283</td>\n",
       "      <td>-0.336698</td>\n",
       "      <td>-0.153054</td>\n",
       "      <td>-0.175354</td>\n",
       "      <td>-0.281653</td>\n",
       "      <td>-0.248954</td>\n",
       "      <td>0.211493</td>\n",
       "      <td>-0.230181</td>\n",
       "      <td>0.919170</td>\n",
       "      <td>0.968125</td>\n",
       "    </tr>\n",
       "    <tr>\n",
       "      <th>0003_01</th>\n",
       "      <td>-0.440360</td>\n",
       "      <td>-0.732728</td>\n",
       "      <td>0.601283</td>\n",
       "      <td>2.034449</td>\n",
       "      <td>6.532879</td>\n",
       "      <td>-0.275393</td>\n",
       "      <td>1.955503</td>\n",
       "      <td>-0.290800</td>\n",
       "      <td>5.693962</td>\n",
       "      <td>-0.225769</td>\n",
       "      <td>-2.606761</td>\n",
       "      <td>0.968125</td>\n",
       "    </tr>\n",
       "    <tr>\n",
       "      <th>0003_02</th>\n",
       "      <td>-0.440360</td>\n",
       "      <td>-0.732728</td>\n",
       "      <td>0.601283</td>\n",
       "      <td>0.290958</td>\n",
       "      <td>-0.153054</td>\n",
       "      <td>-0.340570</td>\n",
       "      <td>0.517376</td>\n",
       "      <td>0.330206</td>\n",
       "      <td>2.683316</td>\n",
       "      <td>-0.098702</td>\n",
       "      <td>-2.606761</td>\n",
       "      <td>0.968125</td>\n",
       "    </tr>\n",
       "    <tr>\n",
       "      <th>0004_01</th>\n",
       "      <td>0.817212</td>\n",
       "      <td>-0.732728</td>\n",
       "      <td>0.601283</td>\n",
       "      <td>-0.894615</td>\n",
       "      <td>-0.153054</td>\n",
       "      <td>0.118702</td>\n",
       "      <td>-0.243395</td>\n",
       "      <td>-0.038046</td>\n",
       "      <td>0.225719</td>\n",
       "      <td>-0.267242</td>\n",
       "      <td>0.919170</td>\n",
       "      <td>0.968125</td>\n",
       "    </tr>\n",
       "  </tbody>\n",
       "</table>\n",
       "</div>"
      ],
      "text/plain": [
       "             HomePlanet  CryoSleep  Destination       Age       VIP  \\\n",
       "PassengerId                                                           \n",
       "0001_01       -0.440360  -0.732728     0.601283  0.709396 -0.153054   \n",
       "0002_01        0.817212  -0.732728     0.601283 -0.336698 -0.153054   \n",
       "0003_01       -0.440360  -0.732728     0.601283  2.034449  6.532879   \n",
       "0003_02       -0.440360  -0.732728     0.601283  0.290958 -0.153054   \n",
       "0004_01        0.817212  -0.732728     0.601283 -0.894615 -0.153054   \n",
       "\n",
       "             RoomService  FoodCourt  ShoppingMall       Spa    VRDeck  \\\n",
       "PassengerId                                                             \n",
       "0001_01        -0.340570  -0.287298     -0.290800 -0.276648 -0.269007   \n",
       "0002_01        -0.175354  -0.281653     -0.248954  0.211493 -0.230181   \n",
       "0003_01        -0.275393   1.955503     -0.290800  5.693962 -0.225769   \n",
       "0003_02        -0.340570   0.517376      0.330206  2.683316 -0.098702   \n",
       "0004_01         0.118702  -0.243395     -0.038046  0.225719 -0.267242   \n",
       "\n",
       "                 Deck      Side  \n",
       "PassengerId                      \n",
       "0001_01     -0.843795 -1.032805  \n",
       "0002_01      0.919170  0.968125  \n",
       "0003_01     -2.606761  0.968125  \n",
       "0003_02     -2.606761  0.968125  \n",
       "0004_01      0.919170  0.968125  "
      ]
     },
     "execution_count": 23,
     "metadata": {},
     "output_type": "execute_result"
    }
   ],
   "source": [
    "X_normalized.head()"
   ]
  },
  {
   "cell_type": "code",
   "execution_count": 24,
   "id": "34423fba",
   "metadata": {
    "execution": {
     "iopub.execute_input": "2023-06-13T16:53:32.269979Z",
     "iopub.status.busy": "2023-06-13T16:53:32.269342Z",
     "iopub.status.idle": "2023-06-13T16:53:32.273325Z",
     "shell.execute_reply": "2023-06-13T16:53:32.272504Z"
    },
    "papermill": {
     "duration": 0.025345,
     "end_time": "2023-06-13T16:53:32.275582",
     "exception": false,
     "start_time": "2023-06-13T16:53:32.250237",
     "status": "completed"
    },
    "tags": []
   },
   "outputs": [],
   "source": [
    "# perform_cross_validation(X_normalized, y)"
   ]
  },
  {
   "cell_type": "code",
   "execution_count": 25,
   "id": "87651860",
   "metadata": {
    "execution": {
     "iopub.execute_input": "2023-06-13T16:53:32.311670Z",
     "iopub.status.busy": "2023-06-13T16:53:32.310698Z",
     "iopub.status.idle": "2023-06-13T16:53:36.127202Z",
     "shell.execute_reply": "2023-06-13T16:53:36.125972Z"
    },
    "papermill": {
     "duration": 3.838484,
     "end_time": "2023-06-13T16:53:36.130368",
     "exception": false,
     "start_time": "2023-06-13T16:53:32.291884",
     "status": "completed"
    },
    "tags": []
   },
   "outputs": [
    {
     "data": {
      "text/html": [
       "<div>\n",
       "<style scoped>\n",
       "    .dataframe tbody tr th:only-of-type {\n",
       "        vertical-align: middle;\n",
       "    }\n",
       "\n",
       "    .dataframe tbody tr th {\n",
       "        vertical-align: top;\n",
       "    }\n",
       "\n",
       "    .dataframe thead th {\n",
       "        text-align: right;\n",
       "    }\n",
       "</style>\n",
       "<table border=\"1\" class=\"dataframe\">\n",
       "  <thead>\n",
       "    <tr style=\"text-align: right;\">\n",
       "      <th></th>\n",
       "      <th>Transported</th>\n",
       "    </tr>\n",
       "    <tr>\n",
       "      <th>PassengerId</th>\n",
       "      <th></th>\n",
       "    </tr>\n",
       "  </thead>\n",
       "  <tbody>\n",
       "    <tr>\n",
       "      <th>0013_01</th>\n",
       "      <td>True</td>\n",
       "    </tr>\n",
       "    <tr>\n",
       "      <th>0018_01</th>\n",
       "      <td>False</td>\n",
       "    </tr>\n",
       "    <tr>\n",
       "      <th>0019_01</th>\n",
       "      <td>True</td>\n",
       "    </tr>\n",
       "    <tr>\n",
       "      <th>0021_01</th>\n",
       "      <td>True</td>\n",
       "    </tr>\n",
       "    <tr>\n",
       "      <th>0023_01</th>\n",
       "      <td>True</td>\n",
       "    </tr>\n",
       "  </tbody>\n",
       "</table>\n",
       "</div>"
      ],
      "text/plain": [
       "             Transported\n",
       "PassengerId             \n",
       "0013_01             True\n",
       "0018_01            False\n",
       "0019_01             True\n",
       "0021_01             True\n",
       "0023_01             True"
      ]
     },
     "execution_count": 25,
     "metadata": {},
     "output_type": "execute_result"
    }
   ],
   "source": [
    "clf = SVC().fit(X_normalized, y)\n",
    "\n",
    "predictions = clf.predict(X_test_normalized)\n",
    "\n",
    "submission1 = pd.DataFrame(data={'Transported':predictions}, index=df_test.index)\n",
    "\n",
    "submission1.head()"
   ]
  },
  {
   "cell_type": "code",
   "execution_count": 26,
   "id": "fa5e3697",
   "metadata": {
    "execution": {
     "iopub.execute_input": "2023-06-13T16:53:36.165630Z",
     "iopub.status.busy": "2023-06-13T16:53:36.165179Z",
     "iopub.status.idle": "2023-06-13T16:53:36.181929Z",
     "shell.execute_reply": "2023-06-13T16:53:36.180590Z"
    },
    "papermill": {
     "duration": 0.03773,
     "end_time": "2023-06-13T16:53:36.185217",
     "exception": false,
     "start_time": "2023-06-13T16:53:36.147487",
     "status": "completed"
    },
    "tags": []
   },
   "outputs": [],
   "source": [
    "submission1.to_csv('2023-6-13_Submission1.csv')"
   ]
  },
  {
   "cell_type": "markdown",
   "id": "b60f7e40",
   "metadata": {
    "papermill": {
     "duration": 0.016451,
     "end_time": "2023-06-13T16:53:36.219216",
     "exception": false,
     "start_time": "2023-06-13T16:53:36.202765",
     "status": "completed"
    },
    "tags": []
   },
   "source": [
    "**--------------------------------------------------------------------------------**"
   ]
  },
  {
   "cell_type": "code",
   "execution_count": 27,
   "id": "630f5d0b",
   "metadata": {
    "execution": {
     "iopub.execute_input": "2023-06-13T16:53:36.255440Z",
     "iopub.status.busy": "2023-06-13T16:53:36.254149Z",
     "iopub.status.idle": "2023-06-13T16:53:36.325931Z",
     "shell.execute_reply": "2023-06-13T16:53:36.324482Z"
    },
    "papermill": {
     "duration": 0.093993,
     "end_time": "2023-06-13T16:53:36.329191",
     "exception": false,
     "start_time": "2023-06-13T16:53:36.235198",
     "status": "completed"
    },
    "tags": []
   },
   "outputs": [],
   "source": [
    "df_train2 = pd.read_csv(train_filepath, index_col='PassengerId')\n",
    "df_test2 = pd.read_csv(test_filepath, index_col='PassengerId')"
   ]
  },
  {
   "cell_type": "code",
   "execution_count": 28,
   "id": "2e191355",
   "metadata": {
    "execution": {
     "iopub.execute_input": "2023-06-13T16:53:36.367938Z",
     "iopub.status.busy": "2023-06-13T16:53:36.367277Z",
     "iopub.status.idle": "2023-06-13T16:53:36.378862Z",
     "shell.execute_reply": "2023-06-13T16:53:36.376862Z"
    },
    "papermill": {
     "duration": 0.036069,
     "end_time": "2023-06-13T16:53:36.382284",
     "exception": false,
     "start_time": "2023-06-13T16:53:36.346215",
     "status": "completed"
    },
    "tags": []
   },
   "outputs": [],
   "source": [
    "df_train2 = df_train2.drop('Name', axis=1)\n",
    "df_test2 = df_test2.drop('Name', axis=1)"
   ]
  },
  {
   "cell_type": "code",
   "execution_count": 29,
   "id": "2044c69e",
   "metadata": {
    "execution": {
     "iopub.execute_input": "2023-06-13T16:53:36.419250Z",
     "iopub.status.busy": "2023-06-13T16:53:36.418764Z",
     "iopub.status.idle": "2023-06-13T16:53:36.463108Z",
     "shell.execute_reply": "2023-06-13T16:53:36.461070Z"
    },
    "papermill": {
     "duration": 0.067835,
     "end_time": "2023-06-13T16:53:36.466794",
     "exception": false,
     "start_time": "2023-06-13T16:53:36.398959",
     "status": "completed"
    },
    "tags": []
   },
   "outputs": [],
   "source": [
    "df_train2 = expand_cabin(df_train2)\n",
    "df_test2 = expand_cabin(df_test2)"
   ]
  },
  {
   "cell_type": "code",
   "execution_count": 30,
   "id": "814022c0",
   "metadata": {
    "execution": {
     "iopub.execute_input": "2023-06-13T16:53:36.502965Z",
     "iopub.status.busy": "2023-06-13T16:53:36.502520Z",
     "iopub.status.idle": "2023-06-13T16:53:36.511514Z",
     "shell.execute_reply": "2023-06-13T16:53:36.509743Z"
    },
    "papermill": {
     "duration": 0.030833,
     "end_time": "2023-06-13T16:53:36.514725",
     "exception": false,
     "start_time": "2023-06-13T16:53:36.483892",
     "status": "completed"
    },
    "tags": []
   },
   "outputs": [],
   "source": [
    "X2 = df_train2.drop('Transported', axis=1)\n",
    "\n",
    "y2 = df_train2['Transported']"
   ]
  },
  {
   "cell_type": "code",
   "execution_count": 31,
   "id": "31691091",
   "metadata": {
    "execution": {
     "iopub.execute_input": "2023-06-13T16:53:36.550221Z",
     "iopub.status.busy": "2023-06-13T16:53:36.549751Z",
     "iopub.status.idle": "2023-06-13T16:53:36.559600Z",
     "shell.execute_reply": "2023-06-13T16:53:36.558306Z"
    },
    "papermill": {
     "duration": 0.031748,
     "end_time": "2023-06-13T16:53:36.562786",
     "exception": false,
     "start_time": "2023-06-13T16:53:36.531038",
     "status": "completed"
    },
    "tags": []
   },
   "outputs": [],
   "source": [
    "X2['Deck'] = X2['Deck'].replace('nan','F')\n",
    "df_test2['Deck'] = df_test2['Deck'].replace('nan','F')"
   ]
  },
  {
   "cell_type": "code",
   "execution_count": 32,
   "id": "30d79c48",
   "metadata": {
    "execution": {
     "iopub.execute_input": "2023-06-13T16:53:36.598310Z",
     "iopub.status.busy": "2023-06-13T16:53:36.597792Z",
     "iopub.status.idle": "2023-06-13T16:53:36.616730Z",
     "shell.execute_reply": "2023-06-13T16:53:36.614974Z"
    },
    "papermill": {
     "duration": 0.041328,
     "end_time": "2023-06-13T16:53:36.620863",
     "exception": false,
     "start_time": "2023-06-13T16:53:36.579535",
     "status": "completed"
    },
    "tags": []
   },
   "outputs": [],
   "source": [
    "rs_med = X2['RoomService'].median()\n",
    "fc_med = X2['FoodCourt'].median()\n",
    "sm_med = X2['ShoppingMall'].median()\n",
    "spa_med = X2['Spa'].median()\n",
    "vr_med = X2['VRDeck'].median()\n",
    "age_med = X2['Age'].median()\n",
    "\n",
    "rs_test_med = df_test2['RoomService'].median()\n",
    "fc_test_med = df_test2['FoodCourt'].median()\n",
    "sm_test_med = df_test2['ShoppingMall'].median()\n",
    "spa_test_med = df_test2['Spa'].median()\n",
    "vr_test_med = df_test2['VRDeck'].median()\n",
    "age_test_med = df_test2['Age'].median()"
   ]
  },
  {
   "cell_type": "code",
   "execution_count": 33,
   "id": "99a8be8b",
   "metadata": {
    "execution": {
     "iopub.execute_input": "2023-06-13T16:53:36.657196Z",
     "iopub.status.busy": "2023-06-13T16:53:36.656726Z",
     "iopub.status.idle": "2023-06-13T16:53:36.664407Z",
     "shell.execute_reply": "2023-06-13T16:53:36.662848Z"
    },
    "papermill": {
     "duration": 0.028755,
     "end_time": "2023-06-13T16:53:36.667516",
     "exception": false,
     "start_time": "2023-06-13T16:53:36.638761",
     "status": "completed"
    },
    "tags": []
   },
   "outputs": [],
   "source": [
    "fill_features = ['HomePlanet', 'Destination', 'Side', 'CryoSleep', 'VIP', 'RoomService', 'FoodCourt', 'ShoppingMall', 'Spa', 'VRDeck', 'Age']\n",
    "fill_vals = ['Earth', 'TRAPPIST-1e', 'S', False, False]\n",
    "\n",
    "fill_vals_train_med = fill_vals + [rs_med, fc_med, sm_med, spa_med, vr_med, age_med]\n",
    "fill_vals_test_med = fill_vals + [rs_test_med, fc_test_med, sm_test_med, spa_test_med, vr_test_med, age_test_med]"
   ]
  },
  {
   "cell_type": "code",
   "execution_count": 34,
   "id": "0637d09f",
   "metadata": {
    "execution": {
     "iopub.execute_input": "2023-06-13T16:53:36.703978Z",
     "iopub.status.busy": "2023-06-13T16:53:36.703533Z",
     "iopub.status.idle": "2023-06-13T16:53:36.733822Z",
     "shell.execute_reply": "2023-06-13T16:53:36.731927Z"
    },
    "papermill": {
     "duration": 0.051978,
     "end_time": "2023-06-13T16:53:36.736893",
     "exception": false,
     "start_time": "2023-06-13T16:53:36.684915",
     "status": "completed"
    },
    "tags": []
   },
   "outputs": [],
   "source": [
    "X_imputed2 = fill_na(X2, fill_features, fill_vals_train_med)\n",
    "X_test_imputed2 = fill_na(df_test2, fill_features, fill_vals_test_med)"
   ]
  },
  {
   "cell_type": "code",
   "execution_count": 35,
   "id": "b5ee96cc",
   "metadata": {
    "execution": {
     "iopub.execute_input": "2023-06-13T16:53:36.771772Z",
     "iopub.status.busy": "2023-06-13T16:53:36.771352Z",
     "iopub.status.idle": "2023-06-13T16:53:36.778337Z",
     "shell.execute_reply": "2023-06-13T16:53:36.776829Z"
    },
    "papermill": {
     "duration": 0.028102,
     "end_time": "2023-06-13T16:53:36.781361",
     "exception": false,
     "start_time": "2023-06-13T16:53:36.753259",
     "status": "completed"
    },
    "tags": []
   },
   "outputs": [],
   "source": [
    "map_features = ['HomePlanet','Destination','Deck','Side']\n",
    "\n",
    "map_dictionaries = [{'Earth':2, 'Europa':1, 'Mars':0}, \n",
    "                    {'TRAPPIST-1e':2, '55 Cancri e':1, 'PSO J318.5-22':0}, \n",
    "                    {'T':0, 'A':1, 'D':2, 'C':3, 'B':4, 'E':5, 'G':6, 'F':7}, \n",
    "                    {'P':0, 'S':1}]"
   ]
  },
  {
   "cell_type": "code",
   "execution_count": 36,
   "id": "7bd4db5e",
   "metadata": {
    "execution": {
     "iopub.execute_input": "2023-06-13T16:53:36.815943Z",
     "iopub.status.busy": "2023-06-13T16:53:36.815528Z",
     "iopub.status.idle": "2023-06-13T16:53:36.838748Z",
     "shell.execute_reply": "2023-06-13T16:53:36.837150Z"
    },
    "papermill": {
     "duration": 0.04436,
     "end_time": "2023-06-13T16:53:36.841964",
     "exception": false,
     "start_time": "2023-06-13T16:53:36.797604",
     "status": "completed"
    },
    "tags": []
   },
   "outputs": [],
   "source": [
    "X_mapped2 = map_cat(X_imputed2, map_features, map_dictionaries)\n",
    "X_test_mapped2 = map_cat(X_test_imputed2, map_features, map_dictionaries)"
   ]
  },
  {
   "cell_type": "code",
   "execution_count": 37,
   "id": "645f3baa",
   "metadata": {
    "execution": {
     "iopub.execute_input": "2023-06-13T16:53:36.878869Z",
     "iopub.status.busy": "2023-06-13T16:53:36.878418Z",
     "iopub.status.idle": "2023-06-13T16:53:36.911189Z",
     "shell.execute_reply": "2023-06-13T16:53:36.909461Z"
    },
    "papermill": {
     "duration": 0.055168,
     "end_time": "2023-06-13T16:53:36.914377",
     "exception": false,
     "start_time": "2023-06-13T16:53:36.859209",
     "status": "completed"
    },
    "tags": []
   },
   "outputs": [],
   "source": [
    "X_normalized2 = normalize_features(X_mapped2)\n",
    "X_test_normalized2 = normalize_features(X_test_mapped2)"
   ]
  },
  {
   "cell_type": "code",
   "execution_count": 38,
   "id": "25640422",
   "metadata": {
    "execution": {
     "iopub.execute_input": "2023-06-13T16:53:36.955022Z",
     "iopub.status.busy": "2023-06-13T16:53:36.954381Z",
     "iopub.status.idle": "2023-06-13T16:53:36.959859Z",
     "shell.execute_reply": "2023-06-13T16:53:36.958867Z"
    },
    "papermill": {
     "duration": 0.02915,
     "end_time": "2023-06-13T16:53:36.962529",
     "exception": false,
     "start_time": "2023-06-13T16:53:36.933379",
     "status": "completed"
    },
    "tags": []
   },
   "outputs": [],
   "source": [
    "# perform_cross_validation(X_normalized2, y2)"
   ]
  },
  {
   "cell_type": "code",
   "execution_count": 39,
   "id": "06984dde",
   "metadata": {
    "execution": {
     "iopub.execute_input": "2023-06-13T16:53:36.999127Z",
     "iopub.status.busy": "2023-06-13T16:53:36.998539Z",
     "iopub.status.idle": "2023-06-13T16:53:40.921291Z",
     "shell.execute_reply": "2023-06-13T16:53:40.919925Z"
    },
    "papermill": {
     "duration": 3.944785,
     "end_time": "2023-06-13T16:53:40.924764",
     "exception": false,
     "start_time": "2023-06-13T16:53:36.979979",
     "status": "completed"
    },
    "tags": []
   },
   "outputs": [
    {
     "data": {
      "text/html": [
       "<div>\n",
       "<style scoped>\n",
       "    .dataframe tbody tr th:only-of-type {\n",
       "        vertical-align: middle;\n",
       "    }\n",
       "\n",
       "    .dataframe tbody tr th {\n",
       "        vertical-align: top;\n",
       "    }\n",
       "\n",
       "    .dataframe thead th {\n",
       "        text-align: right;\n",
       "    }\n",
       "</style>\n",
       "<table border=\"1\" class=\"dataframe\">\n",
       "  <thead>\n",
       "    <tr style=\"text-align: right;\">\n",
       "      <th></th>\n",
       "      <th>Transported</th>\n",
       "    </tr>\n",
       "    <tr>\n",
       "      <th>PassengerId</th>\n",
       "      <th></th>\n",
       "    </tr>\n",
       "  </thead>\n",
       "  <tbody>\n",
       "    <tr>\n",
       "      <th>0013_01</th>\n",
       "      <td>True</td>\n",
       "    </tr>\n",
       "    <tr>\n",
       "      <th>0018_01</th>\n",
       "      <td>False</td>\n",
       "    </tr>\n",
       "    <tr>\n",
       "      <th>0019_01</th>\n",
       "      <td>True</td>\n",
       "    </tr>\n",
       "    <tr>\n",
       "      <th>0021_01</th>\n",
       "      <td>True</td>\n",
       "    </tr>\n",
       "    <tr>\n",
       "      <th>0023_01</th>\n",
       "      <td>True</td>\n",
       "    </tr>\n",
       "  </tbody>\n",
       "</table>\n",
       "</div>"
      ],
      "text/plain": [
       "             Transported\n",
       "PassengerId             \n",
       "0013_01             True\n",
       "0018_01            False\n",
       "0019_01             True\n",
       "0021_01             True\n",
       "0023_01             True"
      ]
     },
     "execution_count": 39,
     "metadata": {},
     "output_type": "execute_result"
    }
   ],
   "source": [
    "clf_med = SVC().fit(X_normalized2, y2)\n",
    "\n",
    "predictions_med = clf.predict(X_test_normalized2)\n",
    "\n",
    "submission2 = pd.DataFrame(data={'Transported':predictions_med}, index=df_test.index)\n",
    "\n",
    "submission2.head()"
   ]
  },
  {
   "cell_type": "code",
   "execution_count": 40,
   "id": "0b06c663",
   "metadata": {
    "execution": {
     "iopub.execute_input": "2023-06-13T16:53:40.960984Z",
     "iopub.status.busy": "2023-06-13T16:53:40.960308Z",
     "iopub.status.idle": "2023-06-13T16:53:40.971347Z",
     "shell.execute_reply": "2023-06-13T16:53:40.970088Z"
    },
    "papermill": {
     "duration": 0.033393,
     "end_time": "2023-06-13T16:53:40.975078",
     "exception": false,
     "start_time": "2023-06-13T16:53:40.941685",
     "status": "completed"
    },
    "tags": []
   },
   "outputs": [],
   "source": [
    "submission2.to_csv('2023-6-13_Submission2.csv')"
   ]
  }
 ],
 "metadata": {
  "kernelspec": {
   "display_name": "Python 3",
   "language": "python",
   "name": "python3"
  },
  "language_info": {
   "codemirror_mode": {
    "name": "ipython",
    "version": 3
   },
   "file_extension": ".py",
   "mimetype": "text/x-python",
   "name": "python",
   "nbconvert_exporter": "python",
   "pygments_lexer": "ipython3",
   "version": "3.10.10"
  },
  "papermill": {
   "default_parameters": {},
   "duration": 30.000082,
   "end_time": "2023-06-13T16:53:42.219539",
   "environment_variables": {},
   "exception": null,
   "input_path": "__notebook__.ipynb",
   "output_path": "__notebook__.ipynb",
   "parameters": {},
   "start_time": "2023-06-13T16:53:12.219457",
   "version": "2.4.0"
  }
 },
 "nbformat": 4,
 "nbformat_minor": 5
}
