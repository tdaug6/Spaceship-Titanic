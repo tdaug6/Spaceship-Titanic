{
 "cells": [
  {
   "cell_type": "markdown",
   "id": "a21ca2e4",
   "metadata": {
    "papermill": {
     "duration": 0.017815,
     "end_time": "2023-06-13T20:40:42.814827",
     "exception": false,
     "start_time": "2023-06-13T20:40:42.797012",
     "status": "completed"
    },
    "tags": []
   },
   "source": [
    "# Spaceship Titanic Competition\n",
    "\n",
    "*Created by: Taylor Daugherty*\n",
    "\n",
    "*Created on: 5/23/2023    Last updated: 6/13/2023 - Clean up notebook*\n",
    "\n",
    "This notebook contains code to make predictions for the Spaceship Titanic competition. The notebook attempts to determine the best imputation method for most accurate competition results.\n",
    "\n",
    "**Input File:** train.csv and test.csv from the spaceship-titanic competition\n",
    "\n",
    "- train.csv contains a training set of data with features and true values\n",
    "\n",
    "- test.csv contains a testing set of data with only features. This is what will be used to make predictions and submit to the competition\n",
    "\n",
    "\n",
    "**Purpose of notebook:** Gain more practice with cross validation and make submissions to the spaceship titanic competition\n",
    "\n",
    "## Table of Contents\n",
    "\n",
    "1. **Universal Application**\n",
    "\n",
    "    a. Imports\n",
    "    \n",
    "    b. Lists\n",
    "    \n",
    "    b. Functions\n",
    "\n",
    "2. **Models**\n",
    "\n",
    "    a. With Mean\n",
    "    \n",
    "    b. With Median"
   ]
  },
  {
   "cell_type": "markdown",
   "id": "85eb1fbd",
   "metadata": {
    "papermill": {
     "duration": 0.016811,
     "end_time": "2023-06-13T20:40:42.848731",
     "exception": false,
     "start_time": "2023-06-13T20:40:42.831920",
     "status": "completed"
    },
    "tags": []
   },
   "source": [
    "**----------------------------------------------------------------------------------------------------------------------------------------------------------------**"
   ]
  },
  {
   "cell_type": "markdown",
   "id": "abb470d3",
   "metadata": {
    "papermill": {
     "duration": 0.017445,
     "end_time": "2023-06-13T20:40:42.883817",
     "exception": false,
     "start_time": "2023-06-13T20:40:42.866372",
     "status": "completed"
    },
    "tags": []
   },
   "source": [
    "# Univeral Application\n",
    "\n",
    "In this section is all of the code that is universally applicable throughout the notebook. This includes imports, lists, and functions that make the code much more readable\n",
    "\n",
    "## Contents:\n",
    "\n",
    "1. Imports\n",
    "\n",
    "2. Lists\n",
    "\n",
    "3. Functions"
   ]
  },
  {
   "cell_type": "markdown",
   "id": "deda982f",
   "metadata": {
    "papermill": {
     "duration": 0.017512,
     "end_time": "2023-06-13T20:40:42.918818",
     "exception": false,
     "start_time": "2023-06-13T20:40:42.901306",
     "status": "completed"
    },
    "tags": []
   },
   "source": [
    "## Imports\n",
    "\n",
    "The program relies on importing basic functionalities and data. In this section is the most essential information for the notebook to run\n",
    "\n",
    "### Contents:\n",
    "\n",
    "1. Packages\n",
    "\n",
    "2. Filenames\n",
    "\n",
    "3. Initial Dataframe"
   ]
  },
  {
   "cell_type": "markdown",
   "id": "650c93a1",
   "metadata": {
    "papermill": {
     "duration": 0.016692,
     "end_time": "2023-06-13T20:40:42.952498",
     "exception": false,
     "start_time": "2023-06-13T20:40:42.935806",
     "status": "completed"
    },
    "tags": []
   },
   "source": [
    "### Packages\n",
    "\n",
    "Import the packages necessary to run the notebook\n",
    "\n",
    "1. numpy: used for linear algebra\n",
    "\n",
    "2. pandas: used for dataframe creation and manipulation\n",
    "\n",
    "4. `SimpleImputer`: Used to fill NaN values\n",
    "\n",
    "5. `LogisticRegression`: a classification model using logistic regression\n",
    "\n",
    "6. `KNeighborsClassifier`: a classification model using KNN\n",
    "\n",
    "7. `SVC`: a classification model using SVM\n",
    "\n",
    "8. `KFold` and `cross_val_score`: used for cross validation"
   ]
  },
  {
   "cell_type": "code",
   "execution_count": 1,
   "id": "05b6f089",
   "metadata": {
    "_cell_guid": "b1076dfc-b9ad-4769-8c92-a6c4dae69d19",
    "_uuid": "8f2839f25d086af736a60e9eeb907d3b93b6e0e5",
    "execution": {
     "iopub.execute_input": "2023-06-13T20:40:42.989640Z",
     "iopub.status.busy": "2023-06-13T20:40:42.988858Z",
     "iopub.status.idle": "2023-06-13T20:40:44.568718Z",
     "shell.execute_reply": "2023-06-13T20:40:44.567384Z"
    },
    "papermill": {
     "duration": 1.602191,
     "end_time": "2023-06-13T20:40:44.571717",
     "exception": false,
     "start_time": "2023-06-13T20:40:42.969526",
     "status": "completed"
    },
    "tags": []
   },
   "outputs": [],
   "source": [
    "import pandas as pd\n",
    "import numpy as np\n",
    "from sklearn.impute import SimpleImputer\n",
    "\n",
    "from sklearn.linear_model import LogisticRegression\n",
    "from sklearn.neighbors import KNeighborsClassifier\n",
    "from sklearn.svm import SVC\n",
    "\n",
    "from sklearn.model_selection import StratifiedKFold, cross_val_score"
   ]
  },
  {
   "cell_type": "markdown",
   "id": "53768f55",
   "metadata": {
    "papermill": {
     "duration": 0.017723,
     "end_time": "2023-06-13T20:40:44.606665",
     "exception": false,
     "start_time": "2023-06-13T20:40:44.588942",
     "status": "completed"
    },
    "tags": []
   },
   "source": [
    "### File paths\n",
    "\n",
    "These are the filepaths to the original data"
   ]
  },
  {
   "cell_type": "code",
   "execution_count": 2,
   "id": "57aeee66",
   "metadata": {
    "execution": {
     "iopub.execute_input": "2023-06-13T20:40:44.642769Z",
     "iopub.status.busy": "2023-06-13T20:40:44.642400Z",
     "iopub.status.idle": "2023-06-13T20:40:44.647232Z",
     "shell.execute_reply": "2023-06-13T20:40:44.645997Z"
    },
    "papermill": {
     "duration": 0.025778,
     "end_time": "2023-06-13T20:40:44.649785",
     "exception": false,
     "start_time": "2023-06-13T20:40:44.624007",
     "status": "completed"
    },
    "tags": []
   },
   "outputs": [],
   "source": [
    "train_filepath = '/kaggle/input/spaceship-titanic/train.csv'\n",
    "test_filepath = '/kaggle/input/spaceship-titanic/test.csv'"
   ]
  },
  {
   "cell_type": "markdown",
   "id": "cb208d0d",
   "metadata": {
    "papermill": {
     "duration": 0.017312,
     "end_time": "2023-06-13T20:40:44.684229",
     "exception": false,
     "start_time": "2023-06-13T20:40:44.666917",
     "status": "completed"
    },
    "tags": []
   },
   "source": [
    "### Dataframes\n",
    "\n",
    "This is an initial import of the data. There has been no special adaptations to this dataframe that may exist in later imports"
   ]
  },
  {
   "cell_type": "code",
   "execution_count": 3,
   "id": "5e93dc19",
   "metadata": {
    "execution": {
     "iopub.execute_input": "2023-06-13T20:40:44.720137Z",
     "iopub.status.busy": "2023-06-13T20:40:44.719753Z",
     "iopub.status.idle": "2023-06-13T20:40:44.812976Z",
     "shell.execute_reply": "2023-06-13T20:40:44.811985Z"
    },
    "papermill": {
     "duration": 0.114077,
     "end_time": "2023-06-13T20:40:44.815650",
     "exception": false,
     "start_time": "2023-06-13T20:40:44.701573",
     "status": "completed"
    },
    "tags": []
   },
   "outputs": [],
   "source": [
    "df_train = pd.read_csv(train_filepath)\n",
    "df_test = pd.read_csv(test_filepath)"
   ]
  },
  {
   "cell_type": "markdown",
   "id": "39be9aca",
   "metadata": {
    "papermill": {
     "duration": 0.016703,
     "end_time": "2023-06-13T20:40:44.849355",
     "exception": false,
     "start_time": "2023-06-13T20:40:44.832652",
     "status": "completed"
    },
    "tags": []
   },
   "source": [
    "**--------------------------------------------------------------------------------**\n"
   ]
  },
  {
   "cell_type": "markdown",
   "id": "596b9a75",
   "metadata": {
    "papermill": {
     "duration": 0.016636,
     "end_time": "2023-06-13T20:40:44.882813",
     "exception": false,
     "start_time": "2023-06-13T20:40:44.866177",
     "status": "completed"
    },
    "tags": []
   },
   "source": [
    "## Lists\n",
    "\n",
    "There are many cases in this notebook that call for a list. This is so prevalent that a section is needed for it.\n",
    "\n",
    "### Contents:\n",
    "\n",
    "1. Fill NaN\n",
    "\n",
    "2. Mapping\n",
    "\n",
    "3. Models"
   ]
  },
  {
   "cell_type": "markdown",
   "id": "4a1e44c4",
   "metadata": {
    "papermill": {
     "duration": 0.016595,
     "end_time": "2023-06-13T20:40:44.916332",
     "exception": false,
     "start_time": "2023-06-13T20:40:44.899737",
     "status": "completed"
    },
    "tags": []
   },
   "source": [
    "### Fill NaN\n",
    "\n",
    "This section contains all lists associated with filling missing values in the dataframe.\n",
    "\n",
    "There are many features with missing values in the dataset. For this reason, almost every column needs to fill missing values that are unique to the features"
   ]
  },
  {
   "cell_type": "markdown",
   "id": "13c58311",
   "metadata": {
    "papermill": {
     "duration": 0.016643,
     "end_time": "2023-06-13T20:40:44.949848",
     "exception": false,
     "start_time": "2023-06-13T20:40:44.933205",
     "status": "completed"
    },
    "tags": []
   },
   "source": [
    "#### Basic fills\n",
    "\n",
    "These two lists are designed to identify features and common values to fill the NaN values with.\n",
    "\n",
    "- The first variable is a list of feature names that have missing values and will need to be filled\n",
    "\n",
    "- The second variable is a list of the most frequent values for their respective columns"
   ]
  },
  {
   "cell_type": "code",
   "execution_count": 4,
   "id": "64cf548d",
   "metadata": {
    "execution": {
     "iopub.execute_input": "2023-06-13T20:40:44.985615Z",
     "iopub.status.busy": "2023-06-13T20:40:44.985210Z",
     "iopub.status.idle": "2023-06-13T20:40:44.990605Z",
     "shell.execute_reply": "2023-06-13T20:40:44.989483Z"
    },
    "papermill": {
     "duration": 0.026281,
     "end_time": "2023-06-13T20:40:44.992946",
     "exception": false,
     "start_time": "2023-06-13T20:40:44.966665",
     "status": "completed"
    },
    "tags": []
   },
   "outputs": [],
   "source": [
    "fill_features = ['HomePlanet', 'Destination', 'Side', 'CryoSleep', 'VIP', 'RoomService', 'FoodCourt', 'ShoppingMall', 'Spa', 'VRDeck', 'Age']\n",
    "fill_freq = ['Earth', 'TRAPPIST-1e', 'S', False, False]"
   ]
  },
  {
   "cell_type": "markdown",
   "id": "1b1a9755",
   "metadata": {
    "papermill": {
     "duration": 0.016724,
     "end_time": "2023-06-13T20:40:45.026841",
     "exception": false,
     "start_time": "2023-06-13T20:40:45.010117",
     "status": "completed"
    },
    "tags": []
   },
   "source": [
    "#### Mean fills\n",
    "\n",
    "These are the means of the features containing numeric data. In this code are the means for both the training and testing sets. \n",
    "\n",
    "For simplicity, the values have been combined into a lists (one for training, one for testing"
   ]
  },
  {
   "cell_type": "code",
   "execution_count": 5,
   "id": "8f898411",
   "metadata": {
    "execution": {
     "iopub.execute_input": "2023-06-13T20:40:45.062832Z",
     "iopub.status.busy": "2023-06-13T20:40:45.062474Z",
     "iopub.status.idle": "2023-06-13T20:40:45.078241Z",
     "shell.execute_reply": "2023-06-13T20:40:45.077411Z"
    },
    "papermill": {
     "duration": 0.036576,
     "end_time": "2023-06-13T20:40:45.080606",
     "exception": false,
     "start_time": "2023-06-13T20:40:45.044030",
     "status": "completed"
    },
    "tags": []
   },
   "outputs": [],
   "source": [
    "# Training means\n",
    "rs_mean = df_train['RoomService'].mean()\n",
    "fc_mean = df_train['FoodCourt'].mean()\n",
    "sm_mean = df_train['ShoppingMall'].mean()\n",
    "spa_mean = df_train['Spa'].mean()\n",
    "vr_mean = df_train['VRDeck'].mean()\n",
    "age_mean = df_train['Age'].mean()\n",
    "\n",
    "# Testing means\n",
    "rs_test_mean = df_test['RoomService'].mean()\n",
    "fc_test_mean = df_test['FoodCourt'].mean()\n",
    "sm_test_mean = df_test['ShoppingMall'].mean()\n",
    "spa_test_mean = df_test['Spa'].mean()\n",
    "vr_test_mean = df_test['VRDeck'].mean()\n",
    "age_test_mean = df_test['Age'].mean()\n",
    "\n",
    "# Mean lists\n",
    "mean_nan_fill_train = [rs_mean, fc_mean, sm_mean, spa_mean, vr_mean, age_mean]\n",
    "mean_nan_fill_test = [rs_test_mean, fc_test_mean, sm_test_mean, spa_test_mean, vr_test_mean, age_test_mean]"
   ]
  },
  {
   "cell_type": "markdown",
   "id": "e4183c33",
   "metadata": {
    "papermill": {
     "duration": 0.016737,
     "end_time": "2023-06-13T20:40:45.114402",
     "exception": false,
     "start_time": "2023-06-13T20:40:45.097665",
     "status": "completed"
    },
    "tags": []
   },
   "source": [
    "#### Median fills\n",
    "\n",
    "These are the medians of the features containing numeric data. In this code are the means for both the training and testing sets. \n",
    "\n",
    "For simplicity, the values have been combined into a lists (one for training, one for testing"
   ]
  },
  {
   "cell_type": "code",
   "execution_count": 6,
   "id": "9422f191",
   "metadata": {
    "execution": {
     "iopub.execute_input": "2023-06-13T20:40:45.150469Z",
     "iopub.status.busy": "2023-06-13T20:40:45.149583Z",
     "iopub.status.idle": "2023-06-13T20:40:45.164207Z",
     "shell.execute_reply": "2023-06-13T20:40:45.163298Z"
    },
    "papermill": {
     "duration": 0.035384,
     "end_time": "2023-06-13T20:40:45.166768",
     "exception": false,
     "start_time": "2023-06-13T20:40:45.131384",
     "status": "completed"
    },
    "tags": []
   },
   "outputs": [],
   "source": [
    "# Training medians\n",
    "rs_med = df_train['RoomService'].median()\n",
    "fc_med = df_train['FoodCourt'].median()\n",
    "sm_med = df_train['ShoppingMall'].median()\n",
    "spa_med = df_train['Spa'].median()\n",
    "vr_med = df_train['VRDeck'].median()\n",
    "age_med = df_train['Age'].median()\n",
    "\n",
    "# Testing medians\n",
    "rs_test_med = df_test['RoomService'].median()\n",
    "fc_test_med = df_test['FoodCourt'].median()\n",
    "sm_test_med = df_test['ShoppingMall'].median()\n",
    "spa_test_med = df_test['Spa'].median()\n",
    "vr_test_med = df_test['VRDeck'].median()\n",
    "age_test_med = df_test['Age'].median()\n",
    "\n",
    "# Median lists\n",
    "med_nan_fill_train = [rs_med, fc_med, sm_med, spa_med, vr_med, age_med]\n",
    "med_nan_fill_test = [rs_test_med, fc_test_med, sm_test_med, spa_test_med, vr_test_med, age_test_med]"
   ]
  },
  {
   "cell_type": "markdown",
   "id": "52e1a505",
   "metadata": {
    "papermill": {
     "duration": 0.017045,
     "end_time": "2023-06-13T20:40:45.201074",
     "exception": false,
     "start_time": "2023-06-13T20:40:45.184029",
     "status": "completed"
    },
    "tags": []
   },
   "source": [
    "### Mapping\n",
    "\n",
    "There are many columns in the dataset that contain purely categorical data. Categorical data cannot be used in machine learning models, so the data must be converted to numbers\n",
    "\n",
    "These two lists are designed to identify features and common values to map the categorical data.\n",
    "\n",
    "- The first variable is a list of feature names that have categorical values and will need to be mapped\n",
    "\n",
    "- The second variable is a list of dictionaries to use in mapping. The mapping values are based on frequency in the dataset with higher numbers corresponding to higher frequency"
   ]
  },
  {
   "cell_type": "code",
   "execution_count": 7,
   "id": "2efded67",
   "metadata": {
    "execution": {
     "iopub.execute_input": "2023-06-13T20:40:45.237453Z",
     "iopub.status.busy": "2023-06-13T20:40:45.236490Z",
     "iopub.status.idle": "2023-06-13T20:40:45.242879Z",
     "shell.execute_reply": "2023-06-13T20:40:45.241783Z"
    },
    "papermill": {
     "duration": 0.026887,
     "end_time": "2023-06-13T20:40:45.245001",
     "exception": false,
     "start_time": "2023-06-13T20:40:45.218114",
     "status": "completed"
    },
    "tags": []
   },
   "outputs": [],
   "source": [
    "map_features = ['HomePlanet','Destination','Deck','Side']\n",
    "\n",
    "map_dictionaries = [{'Earth':2, 'Europa':1, 'Mars':0}, \n",
    "                    {'TRAPPIST-1e':2, '55 Cancri e':1, 'PSO J318.5-22':0}, \n",
    "                    {'T':0, 'A':1, 'D':2, 'C':3, 'B':4, 'E':5, 'G':6, 'F':7}, \n",
    "                    {'P':0, 'S':1}]"
   ]
  },
  {
   "cell_type": "markdown",
   "id": "cf7ac8e1",
   "metadata": {
    "papermill": {
     "duration": 0.016851,
     "end_time": "2023-06-13T20:40:45.278906",
     "exception": false,
     "start_time": "2023-06-13T20:40:45.262055",
     "status": "completed"
    },
    "tags": []
   },
   "source": [
    "### Models\n",
    "\n",
    "These are the models that will be used during cross-validation. \n",
    "\n",
    "**Models:**\n",
    "\n",
    "- Logistic Regression\n",
    "\n",
    "- KNN\n",
    "\n",
    "- SVM"
   ]
  },
  {
   "cell_type": "code",
   "execution_count": 8,
   "id": "f7ea3333",
   "metadata": {
    "execution": {
     "iopub.execute_input": "2023-06-13T20:40:45.315479Z",
     "iopub.status.busy": "2023-06-13T20:40:45.315101Z",
     "iopub.status.idle": "2023-06-13T20:40:45.319987Z",
     "shell.execute_reply": "2023-06-13T20:40:45.319218Z"
    },
    "papermill": {
     "duration": 0.025528,
     "end_time": "2023-06-13T20:40:45.322222",
     "exception": false,
     "start_time": "2023-06-13T20:40:45.296694",
     "status": "completed"
    },
    "tags": []
   },
   "outputs": [],
   "source": [
    "models = []\n",
    "models.append(('LR', LogisticRegression()))\n",
    "models.append(('KNN', KNeighborsClassifier()))\n",
    "models.append(('SVM', SVC()))"
   ]
  },
  {
   "cell_type": "markdown",
   "id": "589ff767",
   "metadata": {
    "papermill": {
     "duration": 0.016761,
     "end_time": "2023-06-13T20:40:45.356060",
     "exception": false,
     "start_time": "2023-06-13T20:40:45.339299",
     "status": "completed"
    },
    "tags": []
   },
   "source": [
    "**--------------------------------------------------------------------------------**"
   ]
  },
  {
   "cell_type": "markdown",
   "id": "4c3bcc82",
   "metadata": {
    "papermill": {
     "duration": 0.017454,
     "end_time": "2023-06-13T20:40:45.390785",
     "exception": false,
     "start_time": "2023-06-13T20:40:45.373331",
     "status": "completed"
    },
    "tags": []
   },
   "source": [
    "## Functions\n",
    "\n",
    "This notebook is heavily dependent on the functions that were created special for it. \n",
    "\n",
    "These functions improve both the readability of the notebook as well as the recreatability of its results. \n",
    "\n",
    "### Contents:\n",
    "\n",
    "1. Dataframe Adjustments\n",
    "\n",
    "2. Cross Validation\n",
    "\n",
    "3. Transform Dataframe"
   ]
  },
  {
   "cell_type": "markdown",
   "id": "a669619c",
   "metadata": {
    "papermill": {
     "duration": 0.020005,
     "end_time": "2023-06-13T20:40:45.427764",
     "exception": false,
     "start_time": "2023-06-13T20:40:45.407759",
     "status": "completed"
    },
    "tags": []
   },
   "source": [
    "### Dataframe Adjustments\n",
    "\n",
    "These functions all relate to making changes to the dataframe"
   ]
  },
  {
   "cell_type": "markdown",
   "id": "f05c71d7",
   "metadata": {
    "papermill": {
     "duration": 0.017427,
     "end_time": "2023-06-13T20:40:45.462410",
     "exception": false,
     "start_time": "2023-06-13T20:40:45.444983",
     "status": "completed"
    },
    "tags": []
   },
   "source": [
    "#### expand_cabin()\n",
    "\n",
    "This expands the 'Cabin' column into the 'Deck' and 'Side'. \n",
    "\n",
    "The 'Num' feature is removed because there are two many unique values. The 'Cabin' feature is removed since it is not needed after the expansion\n",
    "\n",
    "**Input:** A dataframe to with the Cabin feature to expand\n",
    "\n",
    "**Output:** A new dataframe with the cabin expanded to 'Deck' and 'Side' and without 'Cabin' or 'Num'"
   ]
  },
  {
   "cell_type": "code",
   "execution_count": 9,
   "id": "a060f036",
   "metadata": {
    "execution": {
     "iopub.execute_input": "2023-06-13T20:40:45.498604Z",
     "iopub.status.busy": "2023-06-13T20:40:45.497887Z",
     "iopub.status.idle": "2023-06-13T20:40:45.504829Z",
     "shell.execute_reply": "2023-06-13T20:40:45.503691Z"
    },
    "papermill": {
     "duration": 0.027979,
     "end_time": "2023-06-13T20:40:45.507428",
     "exception": false,
     "start_time": "2023-06-13T20:40:45.479449",
     "status": "completed"
    },
    "tags": []
   },
   "outputs": [],
   "source": [
    "def expand_cabin(df):\n",
    "    '''\n",
    "    This expands the 'Cabin' column into the 'Deck' and 'Side'.\n",
    "    \n",
    "    Input: A dataframe to with the Cabin feature to expand\n",
    "    \n",
    "    Output: A new dataframe with the cabin expanded to 'Deck' and 'Side' and without 'Cabin' or 'Num'\n",
    "    '''\n",
    "    df[['Deck','Num','Side']] = df['Cabin'].astype(str).str.split('/', expand=True)\n",
    "    df = df.drop('Cabin', axis=1)\n",
    "    df = df.drop('Num', axis=1)\n",
    "    return df"
   ]
  },
  {
   "cell_type": "markdown",
   "id": "27dff2a0",
   "metadata": {
    "papermill": {
     "duration": 0.016703,
     "end_time": "2023-06-13T20:40:45.541446",
     "exception": false,
     "start_time": "2023-06-13T20:40:45.524743",
     "status": "completed"
    },
    "tags": []
   },
   "source": [
    "#### fill_na()\n",
    "\n",
    "Fill the NaN values of the features with the fill values\n",
    "\n",
    "**Input:** A dataframe, a list of features, a list of fill values\n",
    "\n",
    "- Dataframe to fill the missing values in\n",
    "\n",
    "- A list of features to look for missing values\n",
    "\n",
    "- A list of values to fill the missing values of the feature with\n",
    "\n",
    "**Output:** A dataframe with the found missing values filled"
   ]
  },
  {
   "cell_type": "code",
   "execution_count": 10,
   "id": "746010d3",
   "metadata": {
    "execution": {
     "iopub.execute_input": "2023-06-13T20:40:45.577141Z",
     "iopub.status.busy": "2023-06-13T20:40:45.576762Z",
     "iopub.status.idle": "2023-06-13T20:40:45.583506Z",
     "shell.execute_reply": "2023-06-13T20:40:45.582279Z"
    },
    "papermill": {
     "duration": 0.027642,
     "end_time": "2023-06-13T20:40:45.585981",
     "exception": false,
     "start_time": "2023-06-13T20:40:45.558339",
     "status": "completed"
    },
    "tags": []
   },
   "outputs": [],
   "source": [
    "def fill_na(df, features, fill_vals):\n",
    "    '''\n",
    "    Fill the NaN values of the features with the fill values\n",
    "    \n",
    "    Input:\n",
    "        - Dataframe to fill the missing values in\n",
    "        - A list of features to look for missing values\n",
    "        - A list of values to fill the missing values of the feature with\n",
    "    \n",
    "    Output: A dataframe with the found missing values filled\n",
    "    '''\n",
    "    df_filled = df\n",
    "    \n",
    "    for i in range(len(features)):\n",
    "        feature = features[i]\n",
    "        fill_val = fill_vals[i]\n",
    "        \n",
    "        df_filled[feature] = df_filled[feature].fillna(fill_val)\n",
    "        \n",
    "    return df_filled"
   ]
  },
  {
   "cell_type": "markdown",
   "id": "cd80d60c",
   "metadata": {
    "papermill": {
     "duration": 0.017508,
     "end_time": "2023-06-13T20:40:45.620682",
     "exception": false,
     "start_time": "2023-06-13T20:40:45.603174",
     "status": "completed"
    },
    "tags": []
   },
   "source": [
    "#### map_cat()\n",
    "\n",
    "Map categorical data to be numeric\n",
    "\n",
    "**Input:** A dataframe, a list of features, a list of dictionaries\n",
    "\n",
    "- Dataframe for the mapping to take place in\n",
    "\n",
    "- List of features that contain categorical data\n",
    "\n",
    "- List of dictionaries to govern how to map the feature\n",
    "\n",
    "**Output:** A dataframe with the given features mapped according to the dictionaries"
   ]
  },
  {
   "cell_type": "code",
   "execution_count": 11,
   "id": "a4bfe1d4",
   "metadata": {
    "execution": {
     "iopub.execute_input": "2023-06-13T20:40:45.658215Z",
     "iopub.status.busy": "2023-06-13T20:40:45.657114Z",
     "iopub.status.idle": "2023-06-13T20:40:45.663523Z",
     "shell.execute_reply": "2023-06-13T20:40:45.662693Z"
    },
    "papermill": {
     "duration": 0.027691,
     "end_time": "2023-06-13T20:40:45.665777",
     "exception": false,
     "start_time": "2023-06-13T20:40:45.638086",
     "status": "completed"
    },
    "tags": []
   },
   "outputs": [],
   "source": [
    "def map_cat(df, features, dictionaries):\n",
    "    '''\n",
    "    Map categorical data to be numeric\n",
    "    \n",
    "    Input:\n",
    "        - Dataframe for the mapping to take place in\n",
    "        - List of features that contain categorical data\n",
    "        - List of dictionaries to govern how to map the feature\n",
    "    \n",
    "    Output: A dataframe with the given features mapped according to the dictionaries\n",
    "        \n",
    "    '''\n",
    "    df_mapped = df\n",
    "    \n",
    "    for i in range(len(features)):\n",
    "        feature = features[i]\n",
    "        dictionary = dictionaries[i]\n",
    "        \n",
    "        df_mapped[feature] = df[feature].map(dictionary)\n",
    "        \n",
    "    return df_mapped"
   ]
  },
  {
   "cell_type": "markdown",
   "id": "c13b5e11",
   "metadata": {
    "papermill": {
     "duration": 0.016736,
     "end_time": "2023-06-13T20:40:45.699559",
     "exception": false,
     "start_time": "2023-06-13T20:40:45.682823",
     "status": "completed"
    },
    "tags": []
   },
   "source": [
    "#### normalize()\n",
    "\n",
    "Normalizes a Series\n",
    "\n",
    "**Input:** A feature of type Series\n",
    "\n",
    "**Output:** The normalized feature of type Series"
   ]
  },
  {
   "cell_type": "code",
   "execution_count": 12,
   "id": "b4ecb8a8",
   "metadata": {
    "execution": {
     "iopub.execute_input": "2023-06-13T20:40:45.736562Z",
     "iopub.status.busy": "2023-06-13T20:40:45.735794Z",
     "iopub.status.idle": "2023-06-13T20:40:45.740569Z",
     "shell.execute_reply": "2023-06-13T20:40:45.739756Z"
    },
    "papermill": {
     "duration": 0.025388,
     "end_time": "2023-06-13T20:40:45.742713",
     "exception": false,
     "start_time": "2023-06-13T20:40:45.717325",
     "status": "completed"
    },
    "tags": []
   },
   "outputs": [],
   "source": [
    "def normalize(feature):\n",
    "    '''\n",
    "    This function normalizes a Series\n",
    "    \n",
    "    Input: A feature of type Series\n",
    "    \n",
    "    Output: The normalized feature of type Series\n",
    "    '''\n",
    "    return (feature - feature.mean())/feature.std()"
   ]
  },
  {
   "cell_type": "markdown",
   "id": "b517d56a",
   "metadata": {
    "papermill": {
     "duration": 0.016831,
     "end_time": "2023-06-13T20:40:45.776524",
     "exception": false,
     "start_time": "2023-06-13T20:40:45.759693",
     "status": "completed"
    },
    "tags": []
   },
   "source": [
    "#### normalize_features()\n",
    "\n",
    "Normalizes all features in a given dataframe. This will normalize ALL features, so ensure that the inputted dataframe consists only of numeric values.\n",
    "\n",
    "**Input:** A dataframe to normalize\n",
    "\n",
    "**Output:** A normalized dataframe"
   ]
  },
  {
   "cell_type": "code",
   "execution_count": 13,
   "id": "8263fdf8",
   "metadata": {
    "execution": {
     "iopub.execute_input": "2023-06-13T20:40:45.812330Z",
     "iopub.status.busy": "2023-06-13T20:40:45.811919Z",
     "iopub.status.idle": "2023-06-13T20:40:45.817496Z",
     "shell.execute_reply": "2023-06-13T20:40:45.816461Z"
    },
    "papermill": {
     "duration": 0.026187,
     "end_time": "2023-06-13T20:40:45.819773",
     "exception": false,
     "start_time": "2023-06-13T20:40:45.793586",
     "status": "completed"
    },
    "tags": []
   },
   "outputs": [],
   "source": [
    "def normalize_features(df):\n",
    "    '''\n",
    "    This function normalizes all features in a dataframe\n",
    "    \n",
    "    Input: A pandas dataframe\n",
    "    \n",
    "    Output: The normalized dataframe\n",
    "    '''\n",
    "    for column in df.columns:\n",
    "        df[column] = normalize(df[column])\n",
    "    return df"
   ]
  },
  {
   "cell_type": "markdown",
   "id": "c2050183",
   "metadata": {
    "papermill": {
     "duration": 0.016722,
     "end_time": "2023-06-13T20:40:45.853415",
     "exception": false,
     "start_time": "2023-06-13T20:40:45.836693",
     "status": "completed"
    },
    "tags": []
   },
   "source": [
    "### Cross Validation\n",
    "\n",
    "This function relates to performing cross validation on the dataset using the models listed earlier in the notebook"
   ]
  },
  {
   "cell_type": "markdown",
   "id": "5a14d932",
   "metadata": {
    "papermill": {
     "duration": 0.016601,
     "end_time": "2023-06-13T20:40:45.886934",
     "exception": false,
     "start_time": "2023-06-13T20:40:45.870333",
     "status": "completed"
    },
    "tags": []
   },
   "source": [
    "#### perform_cross_validation()\n",
    "\n",
    "This function goes through the steps to perform Stratified K-fold cross validation using the list of models described above.\n",
    "\n",
    "**Input:** A dataframe containing the features use to build the model, a Series of the true values associated with the feature list\n",
    "\n",
    "**Output:** Printed result for the mean and standard deviation of each model"
   ]
  },
  {
   "cell_type": "code",
   "execution_count": 14,
   "id": "a3ae55da",
   "metadata": {
    "execution": {
     "iopub.execute_input": "2023-06-13T20:40:45.923042Z",
     "iopub.status.busy": "2023-06-13T20:40:45.922298Z",
     "iopub.status.idle": "2023-06-13T20:40:45.929248Z",
     "shell.execute_reply": "2023-06-13T20:40:45.928392Z"
    },
    "papermill": {
     "duration": 0.027742,
     "end_time": "2023-06-13T20:40:45.931563",
     "exception": false,
     "start_time": "2023-06-13T20:40:45.903821",
     "status": "completed"
    },
    "tags": []
   },
   "outputs": [],
   "source": [
    "def perform_cross_validation(X_train, y_train):\n",
    "    '''\n",
    "    This function goes through the steps to perform Stratified K-fold cross validation using the list of models described above.\n",
    "    \n",
    "    Input: \n",
    "        - A dataframe containing the features use to build the model\n",
    "        - A Series of the true values associated with the feature list\n",
    "    \n",
    "    Output: Printed result for the mean and standard deviation of each model\n",
    "    '''\n",
    "    results = dict()\n",
    "\n",
    "    for name, model in models:\n",
    "        kfold = StratifiedKFold(n_splits=10)\n",
    "        cv_results = cross_val_score(model, X_train, y_train, cv=kfold, scoring='accuracy')\n",
    "        results[name] = (cv_results.mean(), cv_results.std())\n",
    "\n",
    "    print('Model\\t\\tCV Mean\\t\\tCV std')\n",
    "    print(results)"
   ]
  },
  {
   "cell_type": "markdown",
   "id": "207df2e0",
   "metadata": {
    "papermill": {
     "duration": 0.016738,
     "end_time": "2023-06-13T20:40:45.965355",
     "exception": false,
     "start_time": "2023-06-13T20:40:45.948617",
     "status": "completed"
    },
    "tags": []
   },
   "source": [
    "### Transform Dataframe\n",
    "\n",
    "Apply dataframe adjustment functions in a single place to transform the dataframe in one step."
   ]
  },
  {
   "cell_type": "markdown",
   "id": "8c8dd0d0",
   "metadata": {
    "papermill": {
     "duration": 0.017068,
     "end_time": "2023-06-13T20:40:45.999305",
     "exception": false,
     "start_time": "2023-06-13T20:40:45.982237",
     "status": "completed"
    },
    "tags": []
   },
   "source": [
    "#### prepare_dataframe()\n",
    "\n",
    "Prepare the dataframe for splitting into feature and target. This combines most steps from previous file versions into a single function. This is intended to improve readability and reduce the length of the code.\n",
    "\n",
    "**Input:** A dataframe, list of fill values\n",
    "\n",
    "- A dataframe to perform functions on. Works with training and testing dataframes\n",
    "\n",
    "- A list of values to fill the missing datapoints with\n",
    "\n",
    "    - This was added to give freedom for train and test dataframes as well as different imputation methods\n",
    "    \n",
    "**Output:** A dataframe ready to be normalizedPrepare the dataframe for splitting into feature and target"
   ]
  },
  {
   "cell_type": "code",
   "execution_count": 15,
   "id": "d277e4d2",
   "metadata": {
    "execution": {
     "iopub.execute_input": "2023-06-13T20:40:46.035455Z",
     "iopub.status.busy": "2023-06-13T20:40:46.035049Z",
     "iopub.status.idle": "2023-06-13T20:40:46.041698Z",
     "shell.execute_reply": "2023-06-13T20:40:46.040614Z"
    },
    "papermill": {
     "duration": 0.027884,
     "end_time": "2023-06-13T20:40:46.044104",
     "exception": false,
     "start_time": "2023-06-13T20:40:46.016220",
     "status": "completed"
    },
    "tags": []
   },
   "outputs": [],
   "source": [
    "def prepare_dataframe(df, fill_nans):\n",
    "    '''\n",
    "    Prepare the dataframe for splitting into feature and target\n",
    "    \n",
    "    Input:\n",
    "        - Prepare the dataframe for splitting into feature and target\n",
    "        - A list of values to fill the missing datapoints with\n",
    "        \n",
    "    Output: A dataframe ready to be normalizedPrepare the dataframe for splitting into feature and target\n",
    "    '''\n",
    "    df = df.drop('Name', axis=1)\n",
    "    df = expand_cabin(df)\n",
    "    df['Deck'] = df['Deck'].replace('nan','F')\n",
    "    \n",
    "    fill_vals = fill_freq + fill_nans\n",
    "    df_filled = fill_na(df, fill_features, fill_vals)\n",
    "    \n",
    "    df_mapped = map_cat(df_filled, map_features, map_dictionaries)\n",
    "    return df_mapped"
   ]
  },
  {
   "cell_type": "markdown",
   "id": "78af7b80",
   "metadata": {
    "papermill": {
     "duration": 0.01792,
     "end_time": "2023-06-13T20:40:46.078917",
     "exception": false,
     "start_time": "2023-06-13T20:40:46.060997",
     "status": "completed"
    },
    "tags": []
   },
   "source": [
    "**----------------------------------------------------------------------------------------------------------------------------------------------------------------**"
   ]
  },
  {
   "cell_type": "markdown",
   "id": "b65b87a7",
   "metadata": {
    "papermill": {
     "duration": 0.016746,
     "end_time": "2023-06-13T20:40:46.113201",
     "exception": false,
     "start_time": "2023-06-13T20:40:46.096455",
     "status": "completed"
    },
    "tags": []
   },
   "source": [
    "# Models\n",
    "\n",
    "This notebook investigates the accuracy of two models on the Spaceship Titanic Competition dataset.\n",
    "\n",
    "Given the larget number of missing values in the dataset, the models will differ in the method they use to impute those missing points\n",
    "\n",
    "## Contents:\n",
    "\n",
    "1. Fill with Mean\n",
    "\n",
    "2. Fill with Median\n",
    "\n",
    "## Results:\n",
    "\n",
    "The best imputation method was median with a competition accuracy score = 0.79635 "
   ]
  },
  {
   "cell_type": "markdown",
   "id": "5970e420",
   "metadata": {
    "papermill": {
     "duration": 0.016546,
     "end_time": "2023-06-13T20:40:46.146557",
     "exception": false,
     "start_time": "2023-06-13T20:40:46.130011",
     "status": "completed"
    },
    "tags": []
   },
   "source": [
    "**--------------------------------------------------------------------------------**"
   ]
  },
  {
   "cell_type": "markdown",
   "id": "902d5a30",
   "metadata": {
    "papermill": {
     "duration": 0.01645,
     "end_time": "2023-06-13T20:40:46.179817",
     "exception": false,
     "start_time": "2023-06-13T20:40:46.163367",
     "status": "completed"
    },
    "tags": []
   },
   "source": [
    "## Fill with Mean\n",
    "\n",
    "This model fills the missing values for spending features with the mean of the feature\n",
    "\n",
    "**Unique attributes:**\n",
    "\n",
    "- Fill NaN with feature mean\n",
    "\n",
    "**Result of CV:** The model used to make predictions was SVM because it had the highest accuracy score\n",
    "\n",
    "**Accuracy:** The accuracy after submitting the predictions\n",
    "\n",
    "    0.79611"
   ]
  },
  {
   "cell_type": "markdown",
   "id": "7c9829e4",
   "metadata": {
    "papermill": {
     "duration": 0.016536,
     "end_time": "2023-06-13T20:40:46.213474",
     "exception": false,
     "start_time": "2023-06-13T20:40:46.196938",
     "status": "completed"
    },
    "tags": []
   },
   "source": [
    "### Prepare Training\n",
    "\n",
    "Here, the training data is loaded, prepared, separated into features and target, and the features are normalized"
   ]
  },
  {
   "cell_type": "code",
   "execution_count": 16,
   "id": "abc0e7ba",
   "metadata": {
    "execution": {
     "iopub.execute_input": "2023-06-13T20:40:46.249453Z",
     "iopub.status.busy": "2023-06-13T20:40:46.248798Z",
     "iopub.status.idle": "2023-06-13T20:40:46.355027Z",
     "shell.execute_reply": "2023-06-13T20:40:46.353819Z"
    },
    "papermill": {
     "duration": 0.128188,
     "end_time": "2023-06-13T20:40:46.358422",
     "exception": false,
     "start_time": "2023-06-13T20:40:46.230234",
     "status": "completed"
    },
    "tags": []
   },
   "outputs": [],
   "source": [
    "df_train_mean = pd.read_csv(train_filepath, index_col='PassengerId')\n",
    "\n",
    "df_train_mean = prepare_dataframe(df_train_mean, mean_nan_fill_train)\n",
    "\n",
    "X_mean_train = df_train_mean.drop('Transported', axis=1)\n",
    "y_mean = df_train_mean['Transported']\n",
    "\n",
    "X_mean_norm_train = normalize_features(X_mean_train)"
   ]
  },
  {
   "cell_type": "markdown",
   "id": "6f586067",
   "metadata": {
    "papermill": {
     "duration": 0.017069,
     "end_time": "2023-06-13T20:40:46.392896",
     "exception": false,
     "start_time": "2023-06-13T20:40:46.375827",
     "status": "completed"
    },
    "tags": []
   },
   "source": [
    "### Prepare testing\n",
    "\n",
    "Here, the testing data is loaded, prepared, and normalized"
   ]
  },
  {
   "cell_type": "code",
   "execution_count": 17,
   "id": "06a2b56c",
   "metadata": {
    "execution": {
     "iopub.execute_input": "2023-06-13T20:40:46.431358Z",
     "iopub.status.busy": "2023-06-13T20:40:46.430910Z",
     "iopub.status.idle": "2023-06-13T20:40:46.492411Z",
     "shell.execute_reply": "2023-06-13T20:40:46.491505Z"
    },
    "papermill": {
     "duration": 0.084737,
     "end_time": "2023-06-13T20:40:46.494980",
     "exception": false,
     "start_time": "2023-06-13T20:40:46.410243",
     "status": "completed"
    },
    "tags": []
   },
   "outputs": [],
   "source": [
    "df_test_mean = pd.read_csv(test_filepath, index_col='PassengerId')\n",
    "\n",
    "df_test_mean = prepare_dataframe(df_test_mean, med_nan_fill_test)\n",
    "\n",
    "df_test_mean_norm = normalize_features(df_test_mean)"
   ]
  },
  {
   "cell_type": "markdown",
   "id": "33ba760b",
   "metadata": {
    "papermill": {
     "duration": 0.016596,
     "end_time": "2023-06-13T20:40:46.528651",
     "exception": false,
     "start_time": "2023-06-13T20:40:46.512055",
     "status": "completed"
    },
    "tags": []
   },
   "source": [
    "### Cross Validation\n",
    "\n",
    "Uncomment this cell to see the results of cross validation on this training set"
   ]
  },
  {
   "cell_type": "code",
   "execution_count": 18,
   "id": "41a4baaf",
   "metadata": {
    "execution": {
     "iopub.execute_input": "2023-06-13T20:40:46.565857Z",
     "iopub.status.busy": "2023-06-13T20:40:46.564881Z",
     "iopub.status.idle": "2023-06-13T20:40:46.569945Z",
     "shell.execute_reply": "2023-06-13T20:40:46.568663Z"
    },
    "papermill": {
     "duration": 0.026774,
     "end_time": "2023-06-13T20:40:46.572401",
     "exception": false,
     "start_time": "2023-06-13T20:40:46.545627",
     "status": "completed"
    },
    "tags": []
   },
   "outputs": [],
   "source": [
    "# perform_cross_validation(X_mean_norm_train, y_mean)"
   ]
  },
  {
   "cell_type": "markdown",
   "id": "87967c8a",
   "metadata": {
    "papermill": {
     "duration": 0.016801,
     "end_time": "2023-06-13T20:40:46.606376",
     "exception": false,
     "start_time": "2023-06-13T20:40:46.589575",
     "status": "completed"
    },
    "tags": []
   },
   "source": [
    "### Predictions\n",
    "\n",
    "Using the most accurate model from cross validation (SVM), build and fit a model and make predictions based on the normalized test set.\n",
    "\n",
    "The predictions are then put into a dataframe to be submitted to the competition"
   ]
  },
  {
   "cell_type": "code",
   "execution_count": 19,
   "id": "a8b12132",
   "metadata": {
    "execution": {
     "iopub.execute_input": "2023-06-13T20:40:46.643537Z",
     "iopub.status.busy": "2023-06-13T20:40:46.642916Z",
     "iopub.status.idle": "2023-06-13T20:40:50.322726Z",
     "shell.execute_reply": "2023-06-13T20:40:50.321824Z"
    },
    "papermill": {
     "duration": 3.701806,
     "end_time": "2023-06-13T20:40:50.325285",
     "exception": false,
     "start_time": "2023-06-13T20:40:46.623479",
     "status": "completed"
    },
    "tags": []
   },
   "outputs": [
    {
     "data": {
      "text/html": [
       "<div>\n",
       "<style scoped>\n",
       "    .dataframe tbody tr th:only-of-type {\n",
       "        vertical-align: middle;\n",
       "    }\n",
       "\n",
       "    .dataframe tbody tr th {\n",
       "        vertical-align: top;\n",
       "    }\n",
       "\n",
       "    .dataframe thead th {\n",
       "        text-align: right;\n",
       "    }\n",
       "</style>\n",
       "<table border=\"1\" class=\"dataframe\">\n",
       "  <thead>\n",
       "    <tr style=\"text-align: right;\">\n",
       "      <th></th>\n",
       "      <th>Transported</th>\n",
       "    </tr>\n",
       "    <tr>\n",
       "      <th>PassengerId</th>\n",
       "      <th></th>\n",
       "    </tr>\n",
       "  </thead>\n",
       "  <tbody>\n",
       "    <tr>\n",
       "      <th>0013_01</th>\n",
       "      <td>True</td>\n",
       "    </tr>\n",
       "    <tr>\n",
       "      <th>0018_01</th>\n",
       "      <td>False</td>\n",
       "    </tr>\n",
       "    <tr>\n",
       "      <th>0019_01</th>\n",
       "      <td>True</td>\n",
       "    </tr>\n",
       "    <tr>\n",
       "      <th>0021_01</th>\n",
       "      <td>True</td>\n",
       "    </tr>\n",
       "    <tr>\n",
       "      <th>0023_01</th>\n",
       "      <td>True</td>\n",
       "    </tr>\n",
       "  </tbody>\n",
       "</table>\n",
       "</div>"
      ],
      "text/plain": [
       "             Transported\n",
       "PassengerId             \n",
       "0013_01             True\n",
       "0018_01            False\n",
       "0019_01             True\n",
       "0021_01             True\n",
       "0023_01             True"
      ]
     },
     "execution_count": 19,
     "metadata": {},
     "output_type": "execute_result"
    }
   ],
   "source": [
    "clf_mean = SVC().fit(X_mean_norm_train, y_mean)\n",
    "\n",
    "predictions_mean = clf_mean.predict(df_test_mean_norm)\n",
    "\n",
    "submission_mean = pd.DataFrame(data={'Transported':predictions_mean}, index=df_test_mean_norm.index)\n",
    "\n",
    "submission_mean.head()"
   ]
  },
  {
   "cell_type": "markdown",
   "id": "8639d50a",
   "metadata": {
    "papermill": {
     "duration": 0.019415,
     "end_time": "2023-06-13T20:40:50.362273",
     "exception": false,
     "start_time": "2023-06-13T20:40:50.342858",
     "status": "completed"
    },
    "tags": []
   },
   "source": [
    "### Final File\n",
    "\n",
    "This is the final file ready for submission"
   ]
  },
  {
   "cell_type": "code",
   "execution_count": 20,
   "id": "bae61303",
   "metadata": {
    "execution": {
     "iopub.execute_input": "2023-06-13T20:40:50.400572Z",
     "iopub.status.busy": "2023-06-13T20:40:50.399909Z",
     "iopub.status.idle": "2023-06-13T20:40:50.414905Z",
     "shell.execute_reply": "2023-06-13T20:40:50.413813Z"
    },
    "papermill": {
     "duration": 0.036961,
     "end_time": "2023-06-13T20:40:50.417656",
     "exception": false,
     "start_time": "2023-06-13T20:40:50.380695",
     "status": "completed"
    },
    "tags": []
   },
   "outputs": [],
   "source": [
    "submission_mean.to_csv('2023-6-13_Mean-fill-Nan_Submission1.csv')"
   ]
  },
  {
   "cell_type": "markdown",
   "id": "149a2321",
   "metadata": {
    "papermill": {
     "duration": 0.020613,
     "end_time": "2023-06-13T20:40:50.455892",
     "exception": false,
     "start_time": "2023-06-13T20:40:50.435279",
     "status": "completed"
    },
    "tags": []
   },
   "source": [
    "## Result\n",
    "\n",
    "The submissions scored an accuracy of **0.79611** on the competition website"
   ]
  },
  {
   "cell_type": "markdown",
   "id": "a2cb7616",
   "metadata": {
    "papermill": {
     "duration": 0.021602,
     "end_time": "2023-06-13T20:40:50.495141",
     "exception": false,
     "start_time": "2023-06-13T20:40:50.473539",
     "status": "completed"
    },
    "tags": []
   },
   "source": [
    "**--------------------------------------------------------------------------------**"
   ]
  },
  {
   "cell_type": "markdown",
   "id": "937f01f6",
   "metadata": {
    "papermill": {
     "duration": 0.020945,
     "end_time": "2023-06-13T20:40:50.538142",
     "exception": false,
     "start_time": "2023-06-13T20:40:50.517197",
     "status": "completed"
    },
    "tags": []
   },
   "source": [
    "## Fill with Median\n",
    "\n",
    "This model fills the missing values for spending features with the median of the feature\n",
    "\n",
    "**Unique attributes:**\n",
    "\n",
    "- Fill NaN with feature median\n",
    "\n",
    "**Result of CV:** The model used to make predictions was SVM because it had the highest accuracy score\n",
    "\n",
    "**Accuracy:** The accuracy after submitting the predictions\n",
    "\n",
    "    0.79635"
   ]
  },
  {
   "cell_type": "markdown",
   "id": "d22cb810",
   "metadata": {
    "papermill": {
     "duration": 0.016936,
     "end_time": "2023-06-13T20:40:50.572314",
     "exception": false,
     "start_time": "2023-06-13T20:40:50.555378",
     "status": "completed"
    },
    "tags": []
   },
   "source": [
    "### Prepare Training\n",
    "\n",
    "Here, the training data is loaded, prepared, separated into features and target, and the features are normalized"
   ]
  },
  {
   "cell_type": "code",
   "execution_count": 21,
   "id": "f09d8306",
   "metadata": {
    "execution": {
     "iopub.execute_input": "2023-06-13T20:40:50.608692Z",
     "iopub.status.busy": "2023-06-13T20:40:50.607840Z",
     "iopub.status.idle": "2023-06-13T20:40:50.708239Z",
     "shell.execute_reply": "2023-06-13T20:40:50.707329Z"
    },
    "papermill": {
     "duration": 0.121547,
     "end_time": "2023-06-13T20:40:50.710960",
     "exception": false,
     "start_time": "2023-06-13T20:40:50.589413",
     "status": "completed"
    },
    "tags": []
   },
   "outputs": [],
   "source": [
    "df_train_med = pd.read_csv(train_filepath, index_col='PassengerId')\n",
    "\n",
    "df_train_med = prepare_dataframe(df_train_med, med_nan_fill_train)\n",
    "\n",
    "X_med_train = df_train_med.drop('Transported', axis=1)\n",
    "y_med = df_train_med['Transported']\n",
    "\n",
    "X_med_norm_train = normalize_features(X_med_train)"
   ]
  },
  {
   "cell_type": "markdown",
   "id": "3a56c5d2",
   "metadata": {
    "papermill": {
     "duration": 0.017133,
     "end_time": "2023-06-13T20:40:50.745750",
     "exception": false,
     "start_time": "2023-06-13T20:40:50.728617",
     "status": "completed"
    },
    "tags": []
   },
   "source": [
    "### Prepare testing\n",
    "\n",
    "Here, the testing data is loaded, prepared, and normalized"
   ]
  },
  {
   "cell_type": "code",
   "execution_count": 22,
   "id": "c6d5a387",
   "metadata": {
    "execution": {
     "iopub.execute_input": "2023-06-13T20:40:50.782594Z",
     "iopub.status.busy": "2023-06-13T20:40:50.782202Z",
     "iopub.status.idle": "2023-06-13T20:40:50.845423Z",
     "shell.execute_reply": "2023-06-13T20:40:50.844450Z"
    },
    "papermill": {
     "duration": 0.084612,
     "end_time": "2023-06-13T20:40:50.848128",
     "exception": false,
     "start_time": "2023-06-13T20:40:50.763516",
     "status": "completed"
    },
    "tags": []
   },
   "outputs": [],
   "source": [
    "df_test_med = pd.read_csv(test_filepath, index_col='PassengerId')\n",
    "\n",
    "df_test_med = prepare_dataframe(df_test_med, med_nan_fill_test)\n",
    "\n",
    "df_test_med_norm = normalize_features(df_test_med)"
   ]
  },
  {
   "cell_type": "markdown",
   "id": "3bf735f8",
   "metadata": {
    "papermill": {
     "duration": 0.016925,
     "end_time": "2023-06-13T20:40:50.882342",
     "exception": false,
     "start_time": "2023-06-13T20:40:50.865417",
     "status": "completed"
    },
    "tags": []
   },
   "source": [
    "### Cross Validation\n",
    "\n",
    "Uncomment this cell to see the results of cross validation on this training set"
   ]
  },
  {
   "cell_type": "code",
   "execution_count": 23,
   "id": "65d6ab12",
   "metadata": {
    "execution": {
     "iopub.execute_input": "2023-06-13T20:40:50.918901Z",
     "iopub.status.busy": "2023-06-13T20:40:50.918167Z",
     "iopub.status.idle": "2023-06-13T20:40:50.923239Z",
     "shell.execute_reply": "2023-06-13T20:40:50.922190Z"
    },
    "papermill": {
     "duration": 0.025987,
     "end_time": "2023-06-13T20:40:50.925612",
     "exception": false,
     "start_time": "2023-06-13T20:40:50.899625",
     "status": "completed"
    },
    "tags": []
   },
   "outputs": [],
   "source": [
    "# perform_cross_validation(X_med_norm_train, y_mean)"
   ]
  },
  {
   "cell_type": "markdown",
   "id": "4f810ed6",
   "metadata": {
    "papermill": {
     "duration": 0.016911,
     "end_time": "2023-06-13T20:40:50.959779",
     "exception": false,
     "start_time": "2023-06-13T20:40:50.942868",
     "status": "completed"
    },
    "tags": []
   },
   "source": [
    "### Predictions\n",
    "\n",
    "Using the most accurate model from cross validation (SVM), build and fit a model and make predictions based on the normalized test set.\n",
    "\n",
    "The predictions are then put into a dataframe to be submitted to the competition"
   ]
  },
  {
   "cell_type": "code",
   "execution_count": 24,
   "id": "2ab9cae1",
   "metadata": {
    "execution": {
     "iopub.execute_input": "2023-06-13T20:40:50.995738Z",
     "iopub.status.busy": "2023-06-13T20:40:50.995363Z",
     "iopub.status.idle": "2023-06-13T20:40:54.743786Z",
     "shell.execute_reply": "2023-06-13T20:40:54.742742Z"
    },
    "papermill": {
     "duration": 3.769212,
     "end_time": "2023-06-13T20:40:54.746185",
     "exception": false,
     "start_time": "2023-06-13T20:40:50.976973",
     "status": "completed"
    },
    "tags": []
   },
   "outputs": [
    {
     "data": {
      "text/html": [
       "<div>\n",
       "<style scoped>\n",
       "    .dataframe tbody tr th:only-of-type {\n",
       "        vertical-align: middle;\n",
       "    }\n",
       "\n",
       "    .dataframe tbody tr th {\n",
       "        vertical-align: top;\n",
       "    }\n",
       "\n",
       "    .dataframe thead th {\n",
       "        text-align: right;\n",
       "    }\n",
       "</style>\n",
       "<table border=\"1\" class=\"dataframe\">\n",
       "  <thead>\n",
       "    <tr style=\"text-align: right;\">\n",
       "      <th></th>\n",
       "      <th>Transported</th>\n",
       "    </tr>\n",
       "    <tr>\n",
       "      <th>PassengerId</th>\n",
       "      <th></th>\n",
       "    </tr>\n",
       "  </thead>\n",
       "  <tbody>\n",
       "    <tr>\n",
       "      <th>0013_01</th>\n",
       "      <td>True</td>\n",
       "    </tr>\n",
       "    <tr>\n",
       "      <th>0018_01</th>\n",
       "      <td>False</td>\n",
       "    </tr>\n",
       "    <tr>\n",
       "      <th>0019_01</th>\n",
       "      <td>True</td>\n",
       "    </tr>\n",
       "    <tr>\n",
       "      <th>0021_01</th>\n",
       "      <td>True</td>\n",
       "    </tr>\n",
       "    <tr>\n",
       "      <th>0023_01</th>\n",
       "      <td>True</td>\n",
       "    </tr>\n",
       "  </tbody>\n",
       "</table>\n",
       "</div>"
      ],
      "text/plain": [
       "             Transported\n",
       "PassengerId             \n",
       "0013_01             True\n",
       "0018_01            False\n",
       "0019_01             True\n",
       "0021_01             True\n",
       "0023_01             True"
      ]
     },
     "execution_count": 24,
     "metadata": {},
     "output_type": "execute_result"
    }
   ],
   "source": [
    "clf_med = SVC().fit(X_med_train, y_med)\n",
    "\n",
    "predictions_med = clf_med.predict(df_test_med_norm)\n",
    "\n",
    "submission_med = pd.DataFrame(data={'Transported':predictions_med}, index=df_test_med_norm.index)\n",
    "\n",
    "submission_med.head()"
   ]
  },
  {
   "cell_type": "markdown",
   "id": "2ef73fcc",
   "metadata": {
    "papermill": {
     "duration": 0.017201,
     "end_time": "2023-06-13T20:40:54.781760",
     "exception": false,
     "start_time": "2023-06-13T20:40:54.764559",
     "status": "completed"
    },
    "tags": []
   },
   "source": [
    "### Final File\n",
    "\n",
    "This is the final file ready for submission"
   ]
  },
  {
   "cell_type": "code",
   "execution_count": 25,
   "id": "09cd15e5",
   "metadata": {
    "execution": {
     "iopub.execute_input": "2023-06-13T20:40:54.819612Z",
     "iopub.status.busy": "2023-06-13T20:40:54.819192Z",
     "iopub.status.idle": "2023-06-13T20:40:54.830334Z",
     "shell.execute_reply": "2023-06-13T20:40:54.829314Z"
    },
    "papermill": {
     "duration": 0.032817,
     "end_time": "2023-06-13T20:40:54.832701",
     "exception": false,
     "start_time": "2023-06-13T20:40:54.799884",
     "status": "completed"
    },
    "tags": []
   },
   "outputs": [],
   "source": [
    "submission_med.to_csv('2023-6-13_Median-fill-Nan_Submission1.csv')"
   ]
  },
  {
   "cell_type": "markdown",
   "id": "24b58c8b",
   "metadata": {
    "papermill": {
     "duration": 0.018009,
     "end_time": "2023-06-13T20:40:54.868574",
     "exception": false,
     "start_time": "2023-06-13T20:40:54.850565",
     "status": "completed"
    },
    "tags": []
   },
   "source": [
    "## Result\n",
    "\n",
    "The submissions scored an accuracy of **0.79635** on the competition website"
   ]
  }
 ],
 "metadata": {
  "kernelspec": {
   "display_name": "Python 3",
   "language": "python",
   "name": "python3"
  },
  "language_info": {
   "codemirror_mode": {
    "name": "ipython",
    "version": 3
   },
   "file_extension": ".py",
   "mimetype": "text/x-python",
   "name": "python",
   "nbconvert_exporter": "python",
   "pygments_lexer": "ipython3",
   "version": "3.10.10"
  },
  "papermill": {
   "default_parameters": {},
   "duration": 25.132668,
   "end_time": "2023-06-13T20:40:55.809796",
   "environment_variables": {},
   "exception": null,
   "input_path": "__notebook__.ipynb",
   "output_path": "__notebook__.ipynb",
   "parameters": {},
   "start_time": "2023-06-13T20:40:30.677128",
   "version": "2.4.0"
  }
 },
 "nbformat": 4,
 "nbformat_minor": 5
}
