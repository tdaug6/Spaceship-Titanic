{
 "cells": [
  {
   "cell_type": "markdown",
   "id": "ca14fcf8",
   "metadata": {
    "papermill": {
     "duration": 0.016385,
     "end_time": "2023-06-13T18:52:35.026051",
     "exception": false,
     "start_time": "2023-06-13T18:52:35.009666",
     "status": "completed"
    },
    "tags": []
   },
   "source": [
    "# Spaceship Titanic Competition\n",
    "\n",
    "*Created by: Taylor Daugherty*\n",
    "\n",
    "*Created on: 5/23/2023    Last updated: 6/13/2023 - Clean up notebook*\n",
    "\n",
    "This notebook is used to practice using cross validation.\n",
    "\n",
    "\n",
    "**Input File:** train.csv and test.csv from the spaceship-titanic competition\n",
    "\n",
    "- train.csv contains a training set of data with features and true values\n",
    "\n",
    "- test.csv contains a testing set of data with only features. This is what will be used to make predictions and submit to the competition\n",
    "\n",
    "\n",
    "**Purpose of notebook:** Gain more practice with cross validation and make submissions to the spaceship titanic competition\n",
    "\n",
    "## Table of Contents\n",
    "\n",
    "1. Import packages\n",
    "\n",
    "2. Useful functions\n",
    "\n",
    "3. Initial Model\n",
    "\n",
    "4. Improvement 1: Remove 'Converted' group\n",
    "\n",
    "5. Improvement 2: Impute NaN values\n",
    "\n",
    "    a. Constant\n",
    "    \n",
    "    b. Mean\n",
    "    \n",
    "    c. Median"
   ]
  },
  {
   "cell_type": "markdown",
   "id": "8f085659",
   "metadata": {
    "papermill": {
     "duration": 0.01363,
     "end_time": "2023-06-13T18:52:35.053869",
     "exception": false,
     "start_time": "2023-06-13T18:52:35.040239",
     "status": "completed"
    },
    "tags": []
   },
   "source": [
    "## Import packages\n",
    "\n",
    "Import the packages necessary to run the notebook\n",
    "\n",
    "1. numpy: used for linear algebra\n",
    "\n",
    "2. pandas: used for dataframe creation and manipulation\n",
    "\n",
    "4. `SimpleImputer`: Used to fill NaN values\n",
    "\n",
    "5. `LogisticRegression`: a classification model using logistic regression\n",
    "\n",
    "6. `KNeighborsClassifier`: a classification model using KNN\n",
    "\n",
    "7. `SVC`: a classification model using SVM\n",
    "\n",
    "8. `KFold` and `cross_val_score`: used for cross validation"
   ]
  },
  {
   "cell_type": "code",
   "execution_count": 1,
   "id": "5cb47fe4",
   "metadata": {
    "_cell_guid": "b1076dfc-b9ad-4769-8c92-a6c4dae69d19",
    "_uuid": "8f2839f25d086af736a60e9eeb907d3b93b6e0e5",
    "execution": {
     "iopub.execute_input": "2023-06-13T18:52:35.084601Z",
     "iopub.status.busy": "2023-06-13T18:52:35.084073Z",
     "iopub.status.idle": "2023-06-13T18:52:36.977705Z",
     "shell.execute_reply": "2023-06-13T18:52:36.976488Z"
    },
    "papermill": {
     "duration": 1.912681,
     "end_time": "2023-06-13T18:52:36.980683",
     "exception": false,
     "start_time": "2023-06-13T18:52:35.068002",
     "status": "completed"
    },
    "tags": []
   },
   "outputs": [],
   "source": [
    "import pandas as pd\n",
    "import numpy as np\n",
    "from sklearn.impute import SimpleImputer\n",
    "\n",
    "from sklearn.linear_model import LogisticRegression\n",
    "from sklearn.neighbors import KNeighborsClassifier\n",
    "from sklearn.svm import SVC\n",
    "\n",
    "from sklearn.model_selection import StratifiedKFold, cross_val_score"
   ]
  },
  {
   "cell_type": "markdown",
   "id": "34acca3c",
   "metadata": {
    "papermill": {
     "duration": 0.013892,
     "end_time": "2023-06-13T18:52:37.008988",
     "exception": false,
     "start_time": "2023-06-13T18:52:36.995096",
     "status": "completed"
    },
    "tags": []
   },
   "source": [
    "### File paths\n",
    "\n",
    "These are the filepaths to the original data"
   ]
  },
  {
   "cell_type": "code",
   "execution_count": 2,
   "id": "f9465463",
   "metadata": {
    "execution": {
     "iopub.execute_input": "2023-06-13T18:52:37.039347Z",
     "iopub.status.busy": "2023-06-13T18:52:37.038933Z",
     "iopub.status.idle": "2023-06-13T18:52:37.043948Z",
     "shell.execute_reply": "2023-06-13T18:52:37.042719Z"
    },
    "papermill": {
     "duration": 0.023406,
     "end_time": "2023-06-13T18:52:37.046626",
     "exception": false,
     "start_time": "2023-06-13T18:52:37.023220",
     "status": "completed"
    },
    "tags": []
   },
   "outputs": [],
   "source": [
    "train_filepath = '/kaggle/input/spaceship-titanic/train.csv'\n",
    "test_filepath = '/kaggle/input/spaceship-titanic/test.csv'"
   ]
  },
  {
   "cell_type": "code",
   "execution_count": 3,
   "id": "b8f47597",
   "metadata": {
    "execution": {
     "iopub.execute_input": "2023-06-13T18:52:37.078270Z",
     "iopub.status.busy": "2023-06-13T18:52:37.077868Z",
     "iopub.status.idle": "2023-06-13T18:52:37.194829Z",
     "shell.execute_reply": "2023-06-13T18:52:37.193477Z"
    },
    "papermill": {
     "duration": 0.136692,
     "end_time": "2023-06-13T18:52:37.197910",
     "exception": false,
     "start_time": "2023-06-13T18:52:37.061218",
     "status": "completed"
    },
    "tags": []
   },
   "outputs": [],
   "source": [
    "df_train = pd.read_csv(train_filepath)\n",
    "df_test = pd.read_csv(test_filepath)"
   ]
  },
  {
   "cell_type": "markdown",
   "id": "c88c39d0",
   "metadata": {
    "papermill": {
     "duration": 0.01429,
     "end_time": "2023-06-13T18:52:37.226530",
     "exception": false,
     "start_time": "2023-06-13T18:52:37.212240",
     "status": "completed"
    },
    "tags": []
   },
   "source": [
    "### Fill Lists\n",
    "\n",
    "There are many features with missing values in the dataset. For this reason, almost every column needs to fill missing values.\n",
    "\n",
    "These two lists are designed to identify features and common values to fill the NaN values with.\n",
    "\n",
    "- The first variable is a list of feature names that have missing values and will need to be filled\n",
    "\n",
    "- The second variable is a list of the most frequent values for their respective columns"
   ]
  },
  {
   "cell_type": "code",
   "execution_count": 4,
   "id": "1d031724",
   "metadata": {
    "execution": {
     "iopub.execute_input": "2023-06-13T18:52:37.256939Z",
     "iopub.status.busy": "2023-06-13T18:52:37.256553Z",
     "iopub.status.idle": "2023-06-13T18:52:37.262557Z",
     "shell.execute_reply": "2023-06-13T18:52:37.261203Z"
    },
    "papermill": {
     "duration": 0.024472,
     "end_time": "2023-06-13T18:52:37.265315",
     "exception": false,
     "start_time": "2023-06-13T18:52:37.240843",
     "status": "completed"
    },
    "tags": []
   },
   "outputs": [],
   "source": [
    "fill_features = ['HomePlanet', 'Destination', 'Side', 'CryoSleep', 'VIP', 'RoomService', 'FoodCourt', 'ShoppingMall', 'Spa', 'VRDeck', 'Age']\n",
    "fill_freq = ['Earth', 'TRAPPIST-1e', 'S', False, False]"
   ]
  },
  {
   "cell_type": "markdown",
   "id": "f4a2bcb8",
   "metadata": {
    "papermill": {
     "duration": 0.013799,
     "end_time": "2023-06-13T18:52:37.293515",
     "exception": false,
     "start_time": "2023-06-13T18:52:37.279716",
     "status": "completed"
    },
    "tags": []
   },
   "source": [
    "### Mapping Lists\n",
    "\n",
    "There are many columns in the dataset that contain purely categorical data. Categorical data cannot be used in machine learning models, so the data must be converted to numbers\n",
    "\n",
    "These two lists are designed to identify features and common values to map the categorical data.\n",
    "\n",
    "- The first variable is a list of feature names that have categorical values and will need to be mapped\n",
    "\n",
    "- The second variable is a list of dictionaries to use in mapping. The mapping values are based on frequency in the dataset with higher numbers corresponding to higher frequency"
   ]
  },
  {
   "cell_type": "code",
   "execution_count": 5,
   "id": "db069b1c",
   "metadata": {
    "execution": {
     "iopub.execute_input": "2023-06-13T18:52:37.325167Z",
     "iopub.status.busy": "2023-06-13T18:52:37.324677Z",
     "iopub.status.idle": "2023-06-13T18:52:37.331945Z",
     "shell.execute_reply": "2023-06-13T18:52:37.330736Z"
    },
    "papermill": {
     "duration": 0.025458,
     "end_time": "2023-06-13T18:52:37.334441",
     "exception": false,
     "start_time": "2023-06-13T18:52:37.308983",
     "status": "completed"
    },
    "tags": []
   },
   "outputs": [],
   "source": [
    "map_features = ['HomePlanet','Destination','Deck','Side']\n",
    "\n",
    "map_dictionaries = [{'Earth':2, 'Europa':1, 'Mars':0}, \n",
    "                    {'TRAPPIST-1e':2, '55 Cancri e':1, 'PSO J318.5-22':0}, \n",
    "                    {'T':0, 'A':1, 'D':2, 'C':3, 'B':4, 'E':5, 'G':6, 'F':7}, \n",
    "                    {'P':0, 'S':1}]"
   ]
  },
  {
   "cell_type": "markdown",
   "id": "808d0797",
   "metadata": {
    "papermill": {
     "duration": 0.013648,
     "end_time": "2023-06-13T18:52:37.362039",
     "exception": false,
     "start_time": "2023-06-13T18:52:37.348391",
     "status": "completed"
    },
    "tags": []
   },
   "source": [
    "### List of models\n",
    "\n",
    "These are the models that will be used during cross-validation. \n",
    "\n",
    "**Models:**\n",
    "\n",
    "- Logistic Regression\n",
    "\n",
    "- KNN\n",
    "\n",
    "- SVM"
   ]
  },
  {
   "cell_type": "code",
   "execution_count": 6,
   "id": "b59b74aa",
   "metadata": {
    "execution": {
     "iopub.execute_input": "2023-06-13T18:52:37.392038Z",
     "iopub.status.busy": "2023-06-13T18:52:37.391607Z",
     "iopub.status.idle": "2023-06-13T18:52:37.397412Z",
     "shell.execute_reply": "2023-06-13T18:52:37.396247Z"
    },
    "papermill": {
     "duration": 0.023652,
     "end_time": "2023-06-13T18:52:37.399706",
     "exception": false,
     "start_time": "2023-06-13T18:52:37.376054",
     "status": "completed"
    },
    "tags": []
   },
   "outputs": [],
   "source": [
    "models = []\n",
    "models.append(('LR', LogisticRegression()))\n",
    "models.append(('KNN', KNeighborsClassifier()))\n",
    "models.append(('SVM', SVC()))"
   ]
  },
  {
   "cell_type": "code",
   "execution_count": 7,
   "id": "988c0d08",
   "metadata": {
    "execution": {
     "iopub.execute_input": "2023-06-13T18:52:37.429498Z",
     "iopub.status.busy": "2023-06-13T18:52:37.429117Z",
     "iopub.status.idle": "2023-06-13T18:52:37.445750Z",
     "shell.execute_reply": "2023-06-13T18:52:37.444635Z"
    },
    "papermill": {
     "duration": 0.034687,
     "end_time": "2023-06-13T18:52:37.448312",
     "exception": false,
     "start_time": "2023-06-13T18:52:37.413625",
     "status": "completed"
    },
    "tags": []
   },
   "outputs": [],
   "source": [
    "rs_mean = df_train['RoomService'].mean()\n",
    "fc_mean = df_train['FoodCourt'].mean()\n",
    "sm_mean = df_train['ShoppingMall'].mean()\n",
    "spa_mean = df_train['Spa'].mean()\n",
    "vr_mean = df_train['VRDeck'].mean()\n",
    "age_mean = df_train['Age'].mean()\n",
    "\n",
    "rs_test_mean = df_test['RoomService'].mean()\n",
    "fc_test_mean = df_test['FoodCourt'].mean()\n",
    "sm_test_mean = df_test['ShoppingMall'].mean()\n",
    "spa_test_mean = df_test['Spa'].mean()\n",
    "vr_test_mean = df_test['VRDeck'].mean()\n",
    "age_test_mean = df_test['Age'].mean()\n",
    "\n",
    "mean_nan_fill_train = [rs_mean, fc_mean, sm_mean, spa_mean, vr_mean, age_mean]\n",
    "mean_nan_fill_test = [rs_test_mean, fc_test_mean, sm_test_mean, spa_test_mean, vr_test_mean, age_test_mean]"
   ]
  },
  {
   "cell_type": "code",
   "execution_count": 8,
   "id": "621ad95b",
   "metadata": {
    "execution": {
     "iopub.execute_input": "2023-06-13T18:52:37.478765Z",
     "iopub.status.busy": "2023-06-13T18:52:37.477765Z",
     "iopub.status.idle": "2023-06-13T18:52:37.493266Z",
     "shell.execute_reply": "2023-06-13T18:52:37.492101Z"
    },
    "papermill": {
     "duration": 0.033814,
     "end_time": "2023-06-13T18:52:37.496170",
     "exception": false,
     "start_time": "2023-06-13T18:52:37.462356",
     "status": "completed"
    },
    "tags": []
   },
   "outputs": [],
   "source": [
    "rs_med = df_train['RoomService'].median()\n",
    "fc_med = df_train['FoodCourt'].median()\n",
    "sm_med = df_train['ShoppingMall'].median()\n",
    "spa_med = df_train['Spa'].median()\n",
    "vr_med = df_train['VRDeck'].median()\n",
    "age_med = df_train['Age'].median()\n",
    "\n",
    "rs_test_med = df_test['RoomService'].median()\n",
    "fc_test_med = df_test['FoodCourt'].median()\n",
    "sm_test_med = df_test['ShoppingMall'].median()\n",
    "spa_test_med = df_test['Spa'].median()\n",
    "vr_test_med = df_test['VRDeck'].median()\n",
    "age_test_med = df_test['Age'].median()\n",
    "\n",
    "med_nan_fill_train = [rs_med, fc_med, sm_med, spa_med, vr_med, age_med]\n",
    "med_nan_fill_test = [rs_test_med, fc_test_med, sm_test_med, spa_test_med, vr_test_med, age_test_med]"
   ]
  },
  {
   "cell_type": "markdown",
   "id": "53bcb2f7",
   "metadata": {
    "papermill": {
     "duration": 0.013841,
     "end_time": "2023-06-13T18:52:37.524399",
     "exception": false,
     "start_time": "2023-06-13T18:52:37.510558",
     "status": "completed"
    },
    "tags": []
   },
   "source": [
    "### perform_cross_validation()\n",
    "\n",
    "This function goes through the steps to perform Stratified K-fold cross validation using the list of models described above.\n",
    "\n",
    "**Input:** A dataframe containing the features use to build the model, a Series of the true values associated with the feature list\n",
    "\n",
    "**Output:** Printed result for the mean and standard deviation of each model"
   ]
  },
  {
   "cell_type": "code",
   "execution_count": 9,
   "id": "80c77b8d",
   "metadata": {
    "execution": {
     "iopub.execute_input": "2023-06-13T18:52:37.554045Z",
     "iopub.status.busy": "2023-06-13T18:52:37.553580Z",
     "iopub.status.idle": "2023-06-13T18:52:37.561327Z",
     "shell.execute_reply": "2023-06-13T18:52:37.560032Z"
    },
    "papermill": {
     "duration": 0.025405,
     "end_time": "2023-06-13T18:52:37.563756",
     "exception": false,
     "start_time": "2023-06-13T18:52:37.538351",
     "status": "completed"
    },
    "tags": []
   },
   "outputs": [],
   "source": [
    "def perform_cross_validation(X_train, y_train):\n",
    "    '''\n",
    "    This function goes through the steps to perform Stratified K-fold cross validation using the list of models described above.\n",
    "    \n",
    "    Input: \n",
    "        - A dataframe containing the features use to build the model\n",
    "        - A Series of the true values associated with the feature list\n",
    "    \n",
    "    Output: Printed result for the mean and standard deviation of each model\n",
    "    '''\n",
    "    results = dict()\n",
    "\n",
    "    for name, model in models:\n",
    "        kfold = StratifiedKFold(n_splits=10)\n",
    "        cv_results = cross_val_score(model, X_train, y_train, cv=kfold, scoring='accuracy')\n",
    "        results[name] = (cv_results.mean(), cv_results.std())\n",
    "\n",
    "    print('Model\\t\\tCV Mean\\t\\tCV std')\n",
    "    print(results)"
   ]
  },
  {
   "cell_type": "markdown",
   "id": "8a53164e",
   "metadata": {
    "papermill": {
     "duration": 0.013666,
     "end_time": "2023-06-13T18:52:37.591553",
     "exception": false,
     "start_time": "2023-06-13T18:52:37.577887",
     "status": "completed"
    },
    "tags": []
   },
   "source": [
    "### expand_cabin()\n",
    "\n",
    "This expands the 'Cabin' column into the 'Deck' and 'Side'. \n",
    "\n",
    "The 'Num' feature is removed because there are two many unique values. The 'Cabin' feature is removed since it is not needed after the expansion\n",
    "\n",
    "**Input:** A dataframe to with the Cabin feature to expand\n",
    "\n",
    "**Output:** A new dataframe with the cabin expanded to 'Deck' and 'Side' and without 'Cabin' or 'Num'"
   ]
  },
  {
   "cell_type": "code",
   "execution_count": 10,
   "id": "4d65df04",
   "metadata": {
    "execution": {
     "iopub.execute_input": "2023-06-13T18:52:37.621434Z",
     "iopub.status.busy": "2023-06-13T18:52:37.621037Z",
     "iopub.status.idle": "2023-06-13T18:52:37.628051Z",
     "shell.execute_reply": "2023-06-13T18:52:37.626893Z"
    },
    "papermill": {
     "duration": 0.025014,
     "end_time": "2023-06-13T18:52:37.630638",
     "exception": false,
     "start_time": "2023-06-13T18:52:37.605624",
     "status": "completed"
    },
    "tags": []
   },
   "outputs": [],
   "source": [
    "def expand_cabin(df):\n",
    "    '''\n",
    "    This expands the 'Cabin' column into the 'Deck' and 'Side'.\n",
    "    \n",
    "    Input: A dataframe to with the Cabin feature to expand\n",
    "    \n",
    "    Output: A new dataframe with the cabin expanded to 'Deck' and 'Side' and without 'Cabin' or 'Num'\n",
    "    '''\n",
    "    df[['Deck','Num','Side']] = df['Cabin'].astype(str).str.split('/', expand=True)\n",
    "    df = df.drop('Cabin', axis=1)\n",
    "    df = df.drop('Num', axis=1)\n",
    "    return df"
   ]
  },
  {
   "cell_type": "markdown",
   "id": "f0922674",
   "metadata": {
    "papermill": {
     "duration": 0.013944,
     "end_time": "2023-06-13T18:52:37.659258",
     "exception": false,
     "start_time": "2023-06-13T18:52:37.645314",
     "status": "completed"
    },
    "tags": []
   },
   "source": [
    "### fill_na()\n",
    "\n",
    "Fill the NaN values of the features with the fill values\n",
    "\n",
    "**Input:** A dataframe, a list of features, a list of fill values\n",
    "\n",
    "- Dataframe to fill the missing values in\n",
    "\n",
    "- A list of features to look for missing values\n",
    "\n",
    "- A list of values to fill the missing values of the feature with\n",
    "\n",
    "**Output:** A dataframe with the found missing values filled"
   ]
  },
  {
   "cell_type": "code",
   "execution_count": 11,
   "id": "a64c640d",
   "metadata": {
    "execution": {
     "iopub.execute_input": "2023-06-13T18:52:37.689635Z",
     "iopub.status.busy": "2023-06-13T18:52:37.688820Z",
     "iopub.status.idle": "2023-06-13T18:52:37.695738Z",
     "shell.execute_reply": "2023-06-13T18:52:37.694541Z"
    },
    "papermill": {
     "duration": 0.024777,
     "end_time": "2023-06-13T18:52:37.698155",
     "exception": false,
     "start_time": "2023-06-13T18:52:37.673378",
     "status": "completed"
    },
    "tags": []
   },
   "outputs": [],
   "source": [
    "def fill_na(df, features, fill_vals):\n",
    "    '''\n",
    "    Fill the NaN values of the features with the fill values\n",
    "    \n",
    "    Input:\n",
    "        - Dataframe to fill the missing values in\n",
    "        - A list of features to look for missing values\n",
    "        - A list of values to fill the missing values of the feature with\n",
    "    \n",
    "    Output: A dataframe with the found missing values filled\n",
    "    '''\n",
    "    df_filled = df\n",
    "    \n",
    "    for i in range(len(features)):\n",
    "        feature = features[i]\n",
    "        fill_val = fill_vals[i]\n",
    "        \n",
    "        df_filled[feature] = df_filled[feature].fillna(fill_val)\n",
    "        \n",
    "    return df_filled"
   ]
  },
  {
   "cell_type": "markdown",
   "id": "78570c21",
   "metadata": {
    "papermill": {
     "duration": 0.014207,
     "end_time": "2023-06-13T18:52:37.726896",
     "exception": false,
     "start_time": "2023-06-13T18:52:37.712689",
     "status": "completed"
    },
    "tags": []
   },
   "source": [
    "### map_cat()\n",
    "\n",
    "Map categorical data to be numeric\n",
    "\n",
    "**Input:** A dataframe, a list of features, a list of dictionaries\n",
    "\n",
    "- Dataframe for the mapping to take place in\n",
    "\n",
    "- List of features that contain categorical data\n",
    "\n",
    "- List of dictionaries to govern how to map the feature\n",
    "\n",
    "**Output:** A dataframe with the given features mapped according to the dictionaries"
   ]
  },
  {
   "cell_type": "code",
   "execution_count": 12,
   "id": "48761074",
   "metadata": {
    "execution": {
     "iopub.execute_input": "2023-06-13T18:52:37.758469Z",
     "iopub.status.busy": "2023-06-13T18:52:37.757798Z",
     "iopub.status.idle": "2023-06-13T18:52:37.764936Z",
     "shell.execute_reply": "2023-06-13T18:52:37.763663Z"
    },
    "papermill": {
     "duration": 0.024575,
     "end_time": "2023-06-13T18:52:37.766993",
     "exception": false,
     "start_time": "2023-06-13T18:52:37.742418",
     "status": "completed"
    },
    "tags": []
   },
   "outputs": [],
   "source": [
    "def map_cat(df, features, dictionaries):\n",
    "    '''\n",
    "    Map categorical data to be numeric\n",
    "    \n",
    "    Input:\n",
    "        - Dataframe for the mapping to take place in\n",
    "        - List of features that contain categorical data\n",
    "        - List of dictionaries to govern how to map the feature\n",
    "    \n",
    "    Output: A dataframe with the given features mapped according to the dictionaries\n",
    "        \n",
    "    '''\n",
    "    df_mapped = df\n",
    "    \n",
    "    for i in range(len(features)):\n",
    "        feature = features[i]\n",
    "        dictionary = dictionaries[i]\n",
    "        \n",
    "        df_mapped[feature] = df[feature].map(dictionary)\n",
    "        \n",
    "    return df_mapped"
   ]
  },
  {
   "cell_type": "markdown",
   "id": "c34a6072",
   "metadata": {
    "papermill": {
     "duration": 0.01417,
     "end_time": "2023-06-13T18:52:37.795178",
     "exception": false,
     "start_time": "2023-06-13T18:52:37.781008",
     "status": "completed"
    },
    "tags": []
   },
   "source": [
    "### normalize()\n",
    "\n",
    "Normalizes a Series\n",
    "\n",
    "**Input:** A feature of type Series\n",
    "\n",
    "**Output:** The normalized feature of type Series"
   ]
  },
  {
   "cell_type": "code",
   "execution_count": 13,
   "id": "5fbf8537",
   "metadata": {
    "execution": {
     "iopub.execute_input": "2023-06-13T18:52:37.824699Z",
     "iopub.status.busy": "2023-06-13T18:52:37.824278Z",
     "iopub.status.idle": "2023-06-13T18:52:37.830036Z",
     "shell.execute_reply": "2023-06-13T18:52:37.828826Z"
    },
    "papermill": {
     "duration": 0.023148,
     "end_time": "2023-06-13T18:52:37.832223",
     "exception": false,
     "start_time": "2023-06-13T18:52:37.809075",
     "status": "completed"
    },
    "tags": []
   },
   "outputs": [],
   "source": [
    "def normalize(feature):\n",
    "    '''\n",
    "    This function normalizes a Series\n",
    "    \n",
    "    Input: A feature of type Series\n",
    "    \n",
    "    Output: The normalized feature of type Series\n",
    "    '''\n",
    "    return (feature - feature.mean())/feature.std()"
   ]
  },
  {
   "cell_type": "markdown",
   "id": "c5c9f868",
   "metadata": {
    "papermill": {
     "duration": 0.013709,
     "end_time": "2023-06-13T18:52:37.859983",
     "exception": false,
     "start_time": "2023-06-13T18:52:37.846274",
     "status": "completed"
    },
    "tags": []
   },
   "source": [
    "### normalize_features()\n",
    "\n",
    "Normalizes all features in a given dataframe. This will normalize ALL features, so ensure that the inputted dataframe consists only of numeric values.\n",
    "\n",
    "**Input:** A dataframe to normalize\n",
    "\n",
    "**Output:** A normalized dataframe"
   ]
  },
  {
   "cell_type": "code",
   "execution_count": 14,
   "id": "9037c097",
   "metadata": {
    "execution": {
     "iopub.execute_input": "2023-06-13T18:52:37.889452Z",
     "iopub.status.busy": "2023-06-13T18:52:37.889084Z",
     "iopub.status.idle": "2023-06-13T18:52:37.894750Z",
     "shell.execute_reply": "2023-06-13T18:52:37.893631Z"
    },
    "papermill": {
     "duration": 0.023179,
     "end_time": "2023-06-13T18:52:37.897113",
     "exception": false,
     "start_time": "2023-06-13T18:52:37.873934",
     "status": "completed"
    },
    "tags": []
   },
   "outputs": [],
   "source": [
    "def normalize_features(df):\n",
    "    '''\n",
    "    This function normalizes all features in a dataframe\n",
    "    \n",
    "    Input: A pandas dataframe\n",
    "    \n",
    "    Output: The normalized dataframe\n",
    "    '''\n",
    "    for column in df.columns:\n",
    "        df[column] = normalize(df[column])\n",
    "    return df"
   ]
  },
  {
   "cell_type": "code",
   "execution_count": 15,
   "id": "ee6938dc",
   "metadata": {
    "execution": {
     "iopub.execute_input": "2023-06-13T18:52:37.926948Z",
     "iopub.status.busy": "2023-06-13T18:52:37.926558Z",
     "iopub.status.idle": "2023-06-13T18:52:37.933813Z",
     "shell.execute_reply": "2023-06-13T18:52:37.932701Z"
    },
    "papermill": {
     "duration": 0.02519,
     "end_time": "2023-06-13T18:52:37.936451",
     "exception": false,
     "start_time": "2023-06-13T18:52:37.911261",
     "status": "completed"
    },
    "tags": []
   },
   "outputs": [],
   "source": [
    "def prepare_dataframe(df, fill_nans):\n",
    "    df = df.drop('Name', axis=1)\n",
    "    df = expand_cabin(df)\n",
    "    df['Deck'] = df['Deck'].replace('nan','F')\n",
    "    \n",
    "    fill_vals = fill_freq + fill_nans\n",
    "    df_filled = fill_na(df, fill_features, fill_vals)\n",
    "    \n",
    "    df_mapped = map_cat(df_filled, map_features, map_dictionaries)\n",
    "    return df_mapped"
   ]
  },
  {
   "cell_type": "markdown",
   "id": "abacee74",
   "metadata": {
    "papermill": {
     "duration": 0.014094,
     "end_time": "2023-06-13T18:52:37.965219",
     "exception": false,
     "start_time": "2023-06-13T18:52:37.951125",
     "status": "completed"
    },
    "tags": []
   },
   "source": [
    "**--------------------------------------------------------------------------------**"
   ]
  },
  {
   "cell_type": "markdown",
   "id": "ca465cfb",
   "metadata": {
    "papermill": {
     "duration": 0.013558,
     "end_time": "2023-06-13T18:52:37.992822",
     "exception": false,
     "start_time": "2023-06-13T18:52:37.979264",
     "status": "completed"
    },
    "tags": []
   },
   "source": [
    "## Fill with Mean\n",
    "\n",
    "This model fills the missing values for spending features with the mean of the feature\n",
    "\n",
    "**Unique attributes:**\n",
    "\n",
    "- Fill NaN with feature mean\n",
    "\n",
    "**Result of CV:** The model used to make predictions was SVM because it had the highest accuracy score\n",
    "\n",
    "**Accuracy:** The accuracy after submitting the predictions\n",
    "\n",
    "    0.79541"
   ]
  },
  {
   "cell_type": "code",
   "execution_count": 16,
   "id": "fd825dc6",
   "metadata": {
    "execution": {
     "iopub.execute_input": "2023-06-13T18:52:38.023746Z",
     "iopub.status.busy": "2023-06-13T18:52:38.023166Z",
     "iopub.status.idle": "2023-06-13T18:52:38.128810Z",
     "shell.execute_reply": "2023-06-13T18:52:38.127676Z"
    },
    "papermill": {
     "duration": 0.124852,
     "end_time": "2023-06-13T18:52:38.131664",
     "exception": false,
     "start_time": "2023-06-13T18:52:38.006812",
     "status": "completed"
    },
    "tags": []
   },
   "outputs": [],
   "source": [
    "df_train_mean = pd.read_csv(train_filepath, index_col='PassengerId')\n",
    "\n",
    "df_train_mean = prepare_dataframe(df_train_mean, mean_nan_fill_train)\n",
    "\n",
    "X_mean_train = df_train_mean.drop('Transported', axis=1)\n",
    "y_mean = df_train_mean['Transported']\n",
    "\n",
    "X_mean_norm_train = normalize(X_mean_train)"
   ]
  },
  {
   "cell_type": "code",
   "execution_count": 17,
   "id": "6c0c86d7",
   "metadata": {
    "execution": {
     "iopub.execute_input": "2023-06-13T18:52:38.162857Z",
     "iopub.status.busy": "2023-06-13T18:52:38.161770Z",
     "iopub.status.idle": "2023-06-13T18:52:38.222184Z",
     "shell.execute_reply": "2023-06-13T18:52:38.221119Z"
    },
    "papermill": {
     "duration": 0.078972,
     "end_time": "2023-06-13T18:52:38.225020",
     "exception": false,
     "start_time": "2023-06-13T18:52:38.146048",
     "status": "completed"
    },
    "tags": []
   },
   "outputs": [],
   "source": [
    "df_test_mean = pd.read_csv(test_filepath, index_col='PassengerId')\n",
    "\n",
    "df_test_mean = prepare_dataframe(df_test_mean, mean_nan_fill_train)\n",
    "\n",
    "df_test_mean_norm = normalize(df_test_mean)"
   ]
  },
  {
   "cell_type": "code",
   "execution_count": 18,
   "id": "a4634708",
   "metadata": {
    "execution": {
     "iopub.execute_input": "2023-06-13T18:52:38.254900Z",
     "iopub.status.busy": "2023-06-13T18:52:38.254524Z",
     "iopub.status.idle": "2023-06-13T18:52:38.259237Z",
     "shell.execute_reply": "2023-06-13T18:52:38.258148Z"
    },
    "papermill": {
     "duration": 0.022262,
     "end_time": "2023-06-13T18:52:38.261359",
     "exception": false,
     "start_time": "2023-06-13T18:52:38.239097",
     "status": "completed"
    },
    "tags": []
   },
   "outputs": [],
   "source": [
    "# perform_cross_validation(X_mean_norm_train, y_mean)"
   ]
  },
  {
   "cell_type": "code",
   "execution_count": 19,
   "id": "6dd88f14",
   "metadata": {
    "execution": {
     "iopub.execute_input": "2023-06-13T18:52:38.291780Z",
     "iopub.status.busy": "2023-06-13T18:52:38.290774Z",
     "iopub.status.idle": "2023-06-13T18:52:42.041258Z",
     "shell.execute_reply": "2023-06-13T18:52:42.040259Z"
    },
    "papermill": {
     "duration": 3.768807,
     "end_time": "2023-06-13T18:52:42.044235",
     "exception": false,
     "start_time": "2023-06-13T18:52:38.275428",
     "status": "completed"
    },
    "tags": []
   },
   "outputs": [
    {
     "data": {
      "text/html": [
       "<div>\n",
       "<style scoped>\n",
       "    .dataframe tbody tr th:only-of-type {\n",
       "        vertical-align: middle;\n",
       "    }\n",
       "\n",
       "    .dataframe tbody tr th {\n",
       "        vertical-align: top;\n",
       "    }\n",
       "\n",
       "    .dataframe thead th {\n",
       "        text-align: right;\n",
       "    }\n",
       "</style>\n",
       "<table border=\"1\" class=\"dataframe\">\n",
       "  <thead>\n",
       "    <tr style=\"text-align: right;\">\n",
       "      <th></th>\n",
       "      <th>Transported</th>\n",
       "    </tr>\n",
       "  </thead>\n",
       "  <tbody>\n",
       "    <tr>\n",
       "      <th>0</th>\n",
       "      <td>True</td>\n",
       "    </tr>\n",
       "    <tr>\n",
       "      <th>1</th>\n",
       "      <td>False</td>\n",
       "    </tr>\n",
       "    <tr>\n",
       "      <th>2</th>\n",
       "      <td>True</td>\n",
       "    </tr>\n",
       "    <tr>\n",
       "      <th>3</th>\n",
       "      <td>True</td>\n",
       "    </tr>\n",
       "    <tr>\n",
       "      <th>4</th>\n",
       "      <td>True</td>\n",
       "    </tr>\n",
       "  </tbody>\n",
       "</table>\n",
       "</div>"
      ],
      "text/plain": [
       "   Transported\n",
       "0         True\n",
       "1        False\n",
       "2         True\n",
       "3         True\n",
       "4         True"
      ]
     },
     "execution_count": 19,
     "metadata": {},
     "output_type": "execute_result"
    }
   ],
   "source": [
    "clf = SVC().fit(X_mean_norm_train, y_mean)\n",
    "\n",
    "predictions = clf.predict(df_test_mean_norm)\n",
    "\n",
    "submission1 = pd.DataFrame(data={'Transported':predictions}, index=df_test.index)\n",
    "\n",
    "submission1.head()"
   ]
  },
  {
   "cell_type": "code",
   "execution_count": 20,
   "id": "d811e589",
   "metadata": {
    "execution": {
     "iopub.execute_input": "2023-06-13T18:52:42.075213Z",
     "iopub.status.busy": "2023-06-13T18:52:42.074781Z",
     "iopub.status.idle": "2023-06-13T18:52:42.098281Z",
     "shell.execute_reply": "2023-06-13T18:52:42.096739Z"
    },
    "papermill": {
     "duration": 0.042536,
     "end_time": "2023-06-13T18:52:42.101636",
     "exception": false,
     "start_time": "2023-06-13T18:52:42.059100",
     "status": "completed"
    },
    "tags": []
   },
   "outputs": [],
   "source": [
    "submission1.to_csv('2023-6-13_Submission1.csv')"
   ]
  },
  {
   "cell_type": "markdown",
   "id": "7c5f785b",
   "metadata": {
    "papermill": {
     "duration": 0.014031,
     "end_time": "2023-06-13T18:52:42.130614",
     "exception": false,
     "start_time": "2023-06-13T18:52:42.116583",
     "status": "completed"
    },
    "tags": []
   },
   "source": [
    "Result: 0.79541"
   ]
  },
  {
   "cell_type": "markdown",
   "id": "9a795a36",
   "metadata": {
    "papermill": {
     "duration": 0.013923,
     "end_time": "2023-06-13T18:52:42.159024",
     "exception": false,
     "start_time": "2023-06-13T18:52:42.145101",
     "status": "completed"
    },
    "tags": []
   },
   "source": [
    "**--------------------------------------------------------------------------------**"
   ]
  },
  {
   "cell_type": "code",
   "execution_count": 21,
   "id": "62aebdb6",
   "metadata": {
    "execution": {
     "iopub.execute_input": "2023-06-13T18:52:42.190991Z",
     "iopub.status.busy": "2023-06-13T18:52:42.189697Z",
     "iopub.status.idle": "2023-06-13T18:52:42.255006Z",
     "shell.execute_reply": "2023-06-13T18:52:42.253407Z"
    },
    "papermill": {
     "duration": 0.08454,
     "end_time": "2023-06-13T18:52:42.258150",
     "exception": false,
     "start_time": "2023-06-13T18:52:42.173610",
     "status": "completed"
    },
    "tags": []
   },
   "outputs": [],
   "source": [
    "df_train2 = pd.read_csv(train_filepath, index_col='PassengerId')\n",
    "df_test2 = pd.read_csv(test_filepath, index_col='PassengerId')"
   ]
  },
  {
   "cell_type": "code",
   "execution_count": 22,
   "id": "effc9410",
   "metadata": {
    "execution": {
     "iopub.execute_input": "2023-06-13T18:52:42.289656Z",
     "iopub.status.busy": "2023-06-13T18:52:42.289205Z",
     "iopub.status.idle": "2023-06-13T18:52:42.299160Z",
     "shell.execute_reply": "2023-06-13T18:52:42.298246Z"
    },
    "papermill": {
     "duration": 0.028541,
     "end_time": "2023-06-13T18:52:42.301711",
     "exception": false,
     "start_time": "2023-06-13T18:52:42.273170",
     "status": "completed"
    },
    "tags": []
   },
   "outputs": [],
   "source": [
    "df_train2 = df_train2.drop('Name', axis=1)\n",
    "df_test2 = df_test2.drop('Name', axis=1)"
   ]
  },
  {
   "cell_type": "code",
   "execution_count": 23,
   "id": "939d5d57",
   "metadata": {
    "execution": {
     "iopub.execute_input": "2023-06-13T18:52:42.332975Z",
     "iopub.status.busy": "2023-06-13T18:52:42.332557Z",
     "iopub.status.idle": "2023-06-13T18:52:42.372725Z",
     "shell.execute_reply": "2023-06-13T18:52:42.371538Z"
    },
    "papermill": {
     "duration": 0.058549,
     "end_time": "2023-06-13T18:52:42.375325",
     "exception": false,
     "start_time": "2023-06-13T18:52:42.316776",
     "status": "completed"
    },
    "tags": []
   },
   "outputs": [],
   "source": [
    "df_train2 = expand_cabin(df_train2)\n",
    "df_test2 = expand_cabin(df_test2)"
   ]
  },
  {
   "cell_type": "code",
   "execution_count": 24,
   "id": "8c5110c3",
   "metadata": {
    "execution": {
     "iopub.execute_input": "2023-06-13T18:52:42.405746Z",
     "iopub.status.busy": "2023-06-13T18:52:42.405337Z",
     "iopub.status.idle": "2023-06-13T18:52:42.413012Z",
     "shell.execute_reply": "2023-06-13T18:52:42.411773Z"
    },
    "papermill": {
     "duration": 0.026063,
     "end_time": "2023-06-13T18:52:42.415745",
     "exception": false,
     "start_time": "2023-06-13T18:52:42.389682",
     "status": "completed"
    },
    "tags": []
   },
   "outputs": [],
   "source": [
    "X2 = df_train2.drop('Transported', axis=1)\n",
    "\n",
    "y2 = df_train2['Transported']"
   ]
  },
  {
   "cell_type": "code",
   "execution_count": 25,
   "id": "49b52d1b",
   "metadata": {
    "execution": {
     "iopub.execute_input": "2023-06-13T18:52:42.447543Z",
     "iopub.status.busy": "2023-06-13T18:52:42.446736Z",
     "iopub.status.idle": "2023-06-13T18:52:42.454272Z",
     "shell.execute_reply": "2023-06-13T18:52:42.453356Z"
    },
    "papermill": {
     "duration": 0.026047,
     "end_time": "2023-06-13T18:52:42.456611",
     "exception": false,
     "start_time": "2023-06-13T18:52:42.430564",
     "status": "completed"
    },
    "tags": []
   },
   "outputs": [],
   "source": [
    "X2['Deck'] = X2['Deck'].replace('nan','F')\n",
    "df_test2['Deck'] = df_test2['Deck'].replace('nan','F')"
   ]
  },
  {
   "cell_type": "code",
   "execution_count": 26,
   "id": "ddcd5e7e",
   "metadata": {
    "execution": {
     "iopub.execute_input": "2023-06-13T18:52:42.487710Z",
     "iopub.status.busy": "2023-06-13T18:52:42.486987Z",
     "iopub.status.idle": "2023-06-13T18:52:42.500079Z",
     "shell.execute_reply": "2023-06-13T18:52:42.498739Z"
    },
    "papermill": {
     "duration": 0.032083,
     "end_time": "2023-06-13T18:52:42.503022",
     "exception": false,
     "start_time": "2023-06-13T18:52:42.470939",
     "status": "completed"
    },
    "tags": []
   },
   "outputs": [],
   "source": [
    "rs_med = X2['RoomService'].median()\n",
    "fc_med = X2['FoodCourt'].median()\n",
    "sm_med = X2['ShoppingMall'].median()\n",
    "spa_med = X2['Spa'].median()\n",
    "vr_med = X2['VRDeck'].median()\n",
    "age_med = X2['Age'].median()\n",
    "\n",
    "rs_test_med = df_test2['RoomService'].median()\n",
    "fc_test_med = df_test2['FoodCourt'].median()\n",
    "sm_test_med = df_test2['ShoppingMall'].median()\n",
    "spa_test_med = df_test2['Spa'].median()\n",
    "vr_test_med = df_test2['VRDeck'].median()\n",
    "age_test_med = df_test2['Age'].median()"
   ]
  },
  {
   "cell_type": "code",
   "execution_count": 27,
   "id": "dc418fa5",
   "metadata": {
    "execution": {
     "iopub.execute_input": "2023-06-13T18:52:42.534198Z",
     "iopub.status.busy": "2023-06-13T18:52:42.533098Z",
     "iopub.status.idle": "2023-06-13T18:52:42.539795Z",
     "shell.execute_reply": "2023-06-13T18:52:42.539022Z"
    },
    "papermill": {
     "duration": 0.024695,
     "end_time": "2023-06-13T18:52:42.542116",
     "exception": false,
     "start_time": "2023-06-13T18:52:42.517421",
     "status": "completed"
    },
    "tags": []
   },
   "outputs": [],
   "source": [
    "fill_features = ['HomePlanet', 'Destination', 'Side', 'CryoSleep', 'VIP', 'RoomService', 'FoodCourt', 'ShoppingMall', 'Spa', 'VRDeck', 'Age']\n",
    "fill_vals = ['Earth', 'TRAPPIST-1e', 'S', False, False]\n",
    "\n",
    "fill_vals_train_med = fill_vals + [rs_med, fc_med, sm_med, spa_med, vr_med, age_med]\n",
    "fill_vals_test_med = fill_vals + [rs_test_med, fc_test_med, sm_test_med, spa_test_med, vr_test_med, age_test_med]"
   ]
  },
  {
   "cell_type": "code",
   "execution_count": 28,
   "id": "41b6baad",
   "metadata": {
    "execution": {
     "iopub.execute_input": "2023-06-13T18:52:42.572889Z",
     "iopub.status.busy": "2023-06-13T18:52:42.572025Z",
     "iopub.status.idle": "2023-06-13T18:52:42.601873Z",
     "shell.execute_reply": "2023-06-13T18:52:42.600639Z"
    },
    "papermill": {
     "duration": 0.048301,
     "end_time": "2023-06-13T18:52:42.604758",
     "exception": false,
     "start_time": "2023-06-13T18:52:42.556457",
     "status": "completed"
    },
    "tags": []
   },
   "outputs": [],
   "source": [
    "X_imputed2 = fill_na(X2, fill_features, fill_vals_train_med)\n",
    "X_test_imputed2 = fill_na(df_test2, fill_features, fill_vals_test_med)"
   ]
  },
  {
   "cell_type": "code",
   "execution_count": 29,
   "id": "f8446dcb",
   "metadata": {
    "execution": {
     "iopub.execute_input": "2023-06-13T18:52:42.635829Z",
     "iopub.status.busy": "2023-06-13T18:52:42.635395Z",
     "iopub.status.idle": "2023-06-13T18:52:42.642126Z",
     "shell.execute_reply": "2023-06-13T18:52:42.640937Z"
    },
    "papermill": {
     "duration": 0.024742,
     "end_time": "2023-06-13T18:52:42.644423",
     "exception": false,
     "start_time": "2023-06-13T18:52:42.619681",
     "status": "completed"
    },
    "tags": []
   },
   "outputs": [],
   "source": [
    "map_features = ['HomePlanet','Destination','Deck','Side']\n",
    "\n",
    "map_dictionaries = [{'Earth':2, 'Europa':1, 'Mars':0}, \n",
    "                    {'TRAPPIST-1e':2, '55 Cancri e':1, 'PSO J318.5-22':0}, \n",
    "                    {'T':0, 'A':1, 'D':2, 'C':3, 'B':4, 'E':5, 'G':6, 'F':7}, \n",
    "                    {'P':0, 'S':1}]"
   ]
  },
  {
   "cell_type": "code",
   "execution_count": 30,
   "id": "33af3fe6",
   "metadata": {
    "execution": {
     "iopub.execute_input": "2023-06-13T18:52:42.674904Z",
     "iopub.status.busy": "2023-06-13T18:52:42.674447Z",
     "iopub.status.idle": "2023-06-13T18:52:42.694592Z",
     "shell.execute_reply": "2023-06-13T18:52:42.693316Z"
    },
    "papermill": {
     "duration": 0.038483,
     "end_time": "2023-06-13T18:52:42.697264",
     "exception": false,
     "start_time": "2023-06-13T18:52:42.658781",
     "status": "completed"
    },
    "tags": []
   },
   "outputs": [],
   "source": [
    "X_mapped2 = map_cat(X_imputed2, map_features, map_dictionaries)\n",
    "X_test_mapped2 = map_cat(X_test_imputed2, map_features, map_dictionaries)"
   ]
  },
  {
   "cell_type": "code",
   "execution_count": 31,
   "id": "57645fba",
   "metadata": {
    "execution": {
     "iopub.execute_input": "2023-06-13T18:52:42.728591Z",
     "iopub.status.busy": "2023-06-13T18:52:42.727791Z",
     "iopub.status.idle": "2023-06-13T18:52:42.753075Z",
     "shell.execute_reply": "2023-06-13T18:52:42.751931Z"
    },
    "papermill": {
     "duration": 0.043981,
     "end_time": "2023-06-13T18:52:42.755782",
     "exception": false,
     "start_time": "2023-06-13T18:52:42.711801",
     "status": "completed"
    },
    "tags": []
   },
   "outputs": [],
   "source": [
    "X_normalized2 = normalize_features(X_mapped2)\n",
    "X_test_normalized2 = normalize_features(X_test_mapped2)"
   ]
  },
  {
   "cell_type": "code",
   "execution_count": 32,
   "id": "7b15ab3c",
   "metadata": {
    "execution": {
     "iopub.execute_input": "2023-06-13T18:52:42.789472Z",
     "iopub.status.busy": "2023-06-13T18:52:42.788438Z",
     "iopub.status.idle": "2023-06-13T18:52:42.794420Z",
     "shell.execute_reply": "2023-06-13T18:52:42.792920Z"
    },
    "papermill": {
     "duration": 0.024537,
     "end_time": "2023-06-13T18:52:42.796930",
     "exception": false,
     "start_time": "2023-06-13T18:52:42.772393",
     "status": "completed"
    },
    "tags": []
   },
   "outputs": [],
   "source": [
    "# perform_cross_validation(X_normalized2, y2)"
   ]
  },
  {
   "cell_type": "code",
   "execution_count": 33,
   "id": "e4d50072",
   "metadata": {
    "execution": {
     "iopub.execute_input": "2023-06-13T18:52:42.828022Z",
     "iopub.status.busy": "2023-06-13T18:52:42.827167Z",
     "iopub.status.idle": "2023-06-13T18:52:46.614589Z",
     "shell.execute_reply": "2023-06-13T18:52:46.613339Z"
    },
    "papermill": {
     "duration": 3.8059,
     "end_time": "2023-06-13T18:52:46.617204",
     "exception": false,
     "start_time": "2023-06-13T18:52:42.811304",
     "status": "completed"
    },
    "tags": []
   },
   "outputs": [
    {
     "data": {
      "text/html": [
       "<div>\n",
       "<style scoped>\n",
       "    .dataframe tbody tr th:only-of-type {\n",
       "        vertical-align: middle;\n",
       "    }\n",
       "\n",
       "    .dataframe tbody tr th {\n",
       "        vertical-align: top;\n",
       "    }\n",
       "\n",
       "    .dataframe thead th {\n",
       "        text-align: right;\n",
       "    }\n",
       "</style>\n",
       "<table border=\"1\" class=\"dataframe\">\n",
       "  <thead>\n",
       "    <tr style=\"text-align: right;\">\n",
       "      <th></th>\n",
       "      <th>Transported</th>\n",
       "    </tr>\n",
       "  </thead>\n",
       "  <tbody>\n",
       "    <tr>\n",
       "      <th>0</th>\n",
       "      <td>True</td>\n",
       "    </tr>\n",
       "    <tr>\n",
       "      <th>1</th>\n",
       "      <td>False</td>\n",
       "    </tr>\n",
       "    <tr>\n",
       "      <th>2</th>\n",
       "      <td>True</td>\n",
       "    </tr>\n",
       "    <tr>\n",
       "      <th>3</th>\n",
       "      <td>True</td>\n",
       "    </tr>\n",
       "    <tr>\n",
       "      <th>4</th>\n",
       "      <td>True</td>\n",
       "    </tr>\n",
       "  </tbody>\n",
       "</table>\n",
       "</div>"
      ],
      "text/plain": [
       "   Transported\n",
       "0         True\n",
       "1        False\n",
       "2         True\n",
       "3         True\n",
       "4         True"
      ]
     },
     "execution_count": 33,
     "metadata": {},
     "output_type": "execute_result"
    }
   ],
   "source": [
    "clf_med = SVC().fit(X_normalized2, y2)\n",
    "\n",
    "predictions_med = clf.predict(X_test_normalized2)\n",
    "\n",
    "submission2 = pd.DataFrame(data={'Transported':predictions_med}, index=df_test.index)\n",
    "\n",
    "submission2.head()"
   ]
  },
  {
   "cell_type": "code",
   "execution_count": 34,
   "id": "b2957fe6",
   "metadata": {
    "execution": {
     "iopub.execute_input": "2023-06-13T18:52:46.648649Z",
     "iopub.status.busy": "2023-06-13T18:52:46.648008Z",
     "iopub.status.idle": "2023-06-13T18:52:46.665191Z",
     "shell.execute_reply": "2023-06-13T18:52:46.664008Z"
    },
    "papermill": {
     "duration": 0.03624,
     "end_time": "2023-06-13T18:52:46.668121",
     "exception": false,
     "start_time": "2023-06-13T18:52:46.631881",
     "status": "completed"
    },
    "tags": []
   },
   "outputs": [],
   "source": [
    "submission2.to_csv('2023-6-13_Submission2.csv')"
   ]
  },
  {
   "cell_type": "markdown",
   "id": "b6ae9037",
   "metadata": {
    "papermill": {
     "duration": 0.014688,
     "end_time": "2023-06-13T18:52:46.697581",
     "exception": false,
     "start_time": "2023-06-13T18:52:46.682893",
     "status": "completed"
    },
    "tags": []
   },
   "source": [
    "Result: 0.79611"
   ]
  }
 ],
 "metadata": {
  "kernelspec": {
   "display_name": "Python 3",
   "language": "python",
   "name": "python3"
  },
  "language_info": {
   "codemirror_mode": {
    "name": "ipython",
    "version": 3
   },
   "file_extension": ".py",
   "mimetype": "text/x-python",
   "name": "python",
   "nbconvert_exporter": "python",
   "pygments_lexer": "ipython3",
   "version": "3.10.10"
  },
  "papermill": {
   "default_parameters": {},
   "duration": 25.74022,
   "end_time": "2023-06-13T18:52:47.735762",
   "environment_variables": {},
   "exception": null,
   "input_path": "__notebook__.ipynb",
   "output_path": "__notebook__.ipynb",
   "parameters": {},
   "start_time": "2023-06-13T18:52:21.995542",
   "version": "2.4.0"
  }
 },
 "nbformat": 4,
 "nbformat_minor": 5
}
