{
 "cells": [
  {
   "cell_type": "markdown",
   "id": "785b66cf",
   "metadata": {
    "papermill": {
     "duration": 0.010464,
     "end_time": "2023-06-13T16:26:04.845213",
     "exception": false,
     "start_time": "2023-06-13T16:26:04.834749",
     "status": "completed"
    },
    "tags": []
   },
   "source": [
    "# Spaceship Titanic Competition\n",
    "\n",
    "*Created by: Taylor Daugherty*\n",
    "\n",
    "*Created on: 5/23/2023    Last updated: 6/13/2023 - Clean up notebook*\n",
    "\n",
    "This notebook is used to practice using cross validation.\n",
    "\n",
    "\n",
    "**Input File:** train.csv and test.csv from the spaceship-titanic competition\n",
    "\n",
    "- train.csv contains a training set of data with features and true values\n",
    "\n",
    "- test.csv contains a testing set of data with only features. This is what will be used to make predictions and submit to the competition\n",
    "\n",
    "\n",
    "**Purpose of notebook:** Gain more practice with cross validation and make submissions to the spaceship titanic competition\n",
    "\n",
    "## Table of Contents\n",
    "\n",
    "1. Import packages\n",
    "\n",
    "2. Useful functions\n",
    "\n",
    "3. Initial Model\n",
    "\n",
    "4. Improvement 1: Remove 'Converted' group\n",
    "\n",
    "5. Improvement 2: Impute NaN values\n",
    "\n",
    "    a. Constant\n",
    "    \n",
    "    b. Mean\n",
    "    \n",
    "    c. Median"
   ]
  },
  {
   "cell_type": "markdown",
   "id": "0651fe54",
   "metadata": {
    "papermill": {
     "duration": 0.00962,
     "end_time": "2023-06-13T16:26:04.865195",
     "exception": false,
     "start_time": "2023-06-13T16:26:04.855575",
     "status": "completed"
    },
    "tags": []
   },
   "source": [
    "## Import packages\n",
    "\n",
    "Import the packages necessary to run the notebook\n",
    "\n",
    "1. numpy: used for linear algebra\n",
    "\n",
    "2. pandas: used for dataframe creation and manipulation\n",
    "\n",
    "4. `SimpleImputer`: Used to fill NaN values\n",
    "\n",
    "5. `LogisticRegression`: a classification model using logistic regression\n",
    "\n",
    "6. `KNeighborsClassifier`: a classification model using KNN\n",
    "\n",
    "7. `SVC`: a classification model using SVM\n",
    "\n",
    "8. `KFold` and `cross_val_score`: used for cross validation"
   ]
  },
  {
   "cell_type": "code",
   "execution_count": 1,
   "id": "107541c4",
   "metadata": {
    "_cell_guid": "b1076dfc-b9ad-4769-8c92-a6c4dae69d19",
    "_uuid": "8f2839f25d086af736a60e9eeb907d3b93b6e0e5",
    "execution": {
     "iopub.execute_input": "2023-06-13T16:26:04.887489Z",
     "iopub.status.busy": "2023-06-13T16:26:04.886944Z",
     "iopub.status.idle": "2023-06-13T16:26:06.943428Z",
     "shell.execute_reply": "2023-06-13T16:26:06.942252Z"
    },
    "papermill": {
     "duration": 2.070986,
     "end_time": "2023-06-13T16:26:06.946286",
     "exception": false,
     "start_time": "2023-06-13T16:26:04.875300",
     "status": "completed"
    },
    "tags": []
   },
   "outputs": [],
   "source": [
    "import pandas as pd\n",
    "import numpy as np\n",
    "from sklearn.impute import SimpleImputer\n",
    "\n",
    "from sklearn.linear_model import LogisticRegression\n",
    "from sklearn.neighbors import KNeighborsClassifier\n",
    "from sklearn.svm import SVC\n",
    "\n",
    "from sklearn.model_selection import StratifiedKFold, cross_val_score"
   ]
  },
  {
   "cell_type": "code",
   "execution_count": 2,
   "id": "ef748f13",
   "metadata": {
    "execution": {
     "iopub.execute_input": "2023-06-13T16:26:06.970543Z",
     "iopub.status.busy": "2023-06-13T16:26:06.970075Z",
     "iopub.status.idle": "2023-06-13T16:26:06.975292Z",
     "shell.execute_reply": "2023-06-13T16:26:06.973924Z"
    },
    "papermill": {
     "duration": 0.019448,
     "end_time": "2023-06-13T16:26:06.978015",
     "exception": false,
     "start_time": "2023-06-13T16:26:06.958567",
     "status": "completed"
    },
    "tags": []
   },
   "outputs": [],
   "source": [
    "train_filepath = '/kaggle/input/spaceship-titanic/train.csv'\n",
    "test_filepath = '/kaggle/input/spaceship-titanic/test.csv'"
   ]
  },
  {
   "cell_type": "markdown",
   "id": "984b86c0",
   "metadata": {
    "papermill": {
     "duration": 0.010006,
     "end_time": "2023-06-13T16:26:06.999151",
     "exception": false,
     "start_time": "2023-06-13T16:26:06.989145",
     "status": "completed"
    },
    "tags": []
   },
   "source": [
    "### List of models\n",
    "\n",
    "These are the models that will be used during cross-validation. \n",
    "\n",
    "**Models:**\n",
    "\n",
    "- Logistic Regression\n",
    "\n",
    "- KNN\n",
    "\n",
    "- SVM"
   ]
  },
  {
   "cell_type": "code",
   "execution_count": 3,
   "id": "d48013e2",
   "metadata": {
    "execution": {
     "iopub.execute_input": "2023-06-13T16:26:07.026428Z",
     "iopub.status.busy": "2023-06-13T16:26:07.025942Z",
     "iopub.status.idle": "2023-06-13T16:26:07.033242Z",
     "shell.execute_reply": "2023-06-13T16:26:07.031224Z"
    },
    "papermill": {
     "duration": 0.026343,
     "end_time": "2023-06-13T16:26:07.036425",
     "exception": false,
     "start_time": "2023-06-13T16:26:07.010082",
     "status": "completed"
    },
    "tags": []
   },
   "outputs": [],
   "source": [
    "models = []\n",
    "models.append(('LR', LogisticRegression()))\n",
    "models.append(('KNN', KNeighborsClassifier()))\n",
    "models.append(('SVM', SVC()))"
   ]
  },
  {
   "cell_type": "markdown",
   "id": "2599a774",
   "metadata": {
    "papermill": {
     "duration": 0.010408,
     "end_time": "2023-06-13T16:26:07.057874",
     "exception": false,
     "start_time": "2023-06-13T16:26:07.047466",
     "status": "completed"
    },
    "tags": []
   },
   "source": [
    "### apply_imputer()\n",
    "\n",
    "This function is used in the Improvement 2 section for all three imputation methods. Here, the imputer is applied to the dataframe and the columns are returned to their correct names\n",
    "\n",
    "**Input:** A simple imputer to apply, \n",
    "           a dataframe to impute\n",
    "           \n",
    "**Output:** The imputed dataframe"
   ]
  },
  {
   "cell_type": "code",
   "execution_count": 4,
   "id": "03efd5bc",
   "metadata": {
    "execution": {
     "iopub.execute_input": "2023-06-13T16:26:07.081241Z",
     "iopub.status.busy": "2023-06-13T16:26:07.080368Z",
     "iopub.status.idle": "2023-06-13T16:26:07.086820Z",
     "shell.execute_reply": "2023-06-13T16:26:07.085548Z"
    },
    "papermill": {
     "duration": 0.021174,
     "end_time": "2023-06-13T16:26:07.089739",
     "exception": false,
     "start_time": "2023-06-13T16:26:07.068565",
     "status": "completed"
    },
    "tags": []
   },
   "outputs": [],
   "source": [
    "def apply_imputer(si, df):\n",
    "    df_imputed = pd.DataFrame(si.fit_transform(df))\n",
    "    df_imputed.columns = df.columns\n",
    "    return df_imputed"
   ]
  },
  {
   "cell_type": "markdown",
   "id": "3bd2670d",
   "metadata": {
    "papermill": {
     "duration": 0.009796,
     "end_time": "2023-06-13T16:26:07.109779",
     "exception": false,
     "start_time": "2023-06-13T16:26:07.099983",
     "status": "completed"
    },
    "tags": []
   },
   "source": [
    "### perform_cross_validation()\n",
    "\n",
    "This function goes through the steps to perform K-fold cross validation using the list of models described above.\n",
    "\n",
    "**Input:** A dataframe containing the features use to build the model, a Series of the true values associated with the feature list\n",
    "\n",
    "**Output:** Printed result for the mean and standard deviation of each model"
   ]
  },
  {
   "cell_type": "code",
   "execution_count": 5,
   "id": "18a8fa02",
   "metadata": {
    "execution": {
     "iopub.execute_input": "2023-06-13T16:26:07.132502Z",
     "iopub.status.busy": "2023-06-13T16:26:07.132028Z",
     "iopub.status.idle": "2023-06-13T16:26:07.140028Z",
     "shell.execute_reply": "2023-06-13T16:26:07.138362Z"
    },
    "papermill": {
     "duration": 0.022745,
     "end_time": "2023-06-13T16:26:07.142863",
     "exception": false,
     "start_time": "2023-06-13T16:26:07.120118",
     "status": "completed"
    },
    "tags": []
   },
   "outputs": [],
   "source": [
    "def perform_cross_validation(X_train, y_train):\n",
    "    results = dict()\n",
    "\n",
    "    for name, model in models:\n",
    "        kfold = StratifiedKFold(n_splits=10)\n",
    "        cv_results = cross_val_score(model, X_train, y_train, cv=kfold, scoring='accuracy')\n",
    "        results[name] = (cv_results.mean(), cv_results.std())\n",
    "\n",
    "    print('Model\\t\\tCV Mean\\t\\tCV std')\n",
    "    print(results)"
   ]
  },
  {
   "cell_type": "code",
   "execution_count": 6,
   "id": "2ceba79e",
   "metadata": {
    "execution": {
     "iopub.execute_input": "2023-06-13T16:26:07.166129Z",
     "iopub.status.busy": "2023-06-13T16:26:07.165726Z",
     "iopub.status.idle": "2023-06-13T16:26:07.172250Z",
     "shell.execute_reply": "2023-06-13T16:26:07.171088Z"
    },
    "papermill": {
     "duration": 0.021148,
     "end_time": "2023-06-13T16:26:07.174866",
     "exception": false,
     "start_time": "2023-06-13T16:26:07.153718",
     "status": "completed"
    },
    "tags": []
   },
   "outputs": [],
   "source": [
    "def expand_cabin(df):\n",
    "    df[['Deck','Num','Side']] = df['Cabin'].astype(str).str.split('/', expand=True)\n",
    "    df = df.drop('Cabin', axis=1)\n",
    "    df = df.drop('Num', axis=1)\n",
    "    return df"
   ]
  },
  {
   "cell_type": "code",
   "execution_count": 7,
   "id": "8d5ced9f",
   "metadata": {
    "execution": {
     "iopub.execute_input": "2023-06-13T16:26:07.197063Z",
     "iopub.status.busy": "2023-06-13T16:26:07.196623Z",
     "iopub.status.idle": "2023-06-13T16:26:07.203225Z",
     "shell.execute_reply": "2023-06-13T16:26:07.202100Z"
    },
    "papermill": {
     "duration": 0.021055,
     "end_time": "2023-06-13T16:26:07.206105",
     "exception": false,
     "start_time": "2023-06-13T16:26:07.185050",
     "status": "completed"
    },
    "tags": []
   },
   "outputs": [],
   "source": [
    "def fill_na(df, features, fill_vals):\n",
    "    df_filled = df\n",
    "    \n",
    "    for i in range(len(features)):\n",
    "        feature = features[i]\n",
    "        fill_val = fill_vals[i]\n",
    "        \n",
    "        df_filled[feature] = df_filled[feature].fillna(fill_val)\n",
    "        \n",
    "    return df_filled"
   ]
  },
  {
   "cell_type": "code",
   "execution_count": 8,
   "id": "d5c85f37",
   "metadata": {
    "execution": {
     "iopub.execute_input": "2023-06-13T16:26:07.228501Z",
     "iopub.status.busy": "2023-06-13T16:26:07.228005Z",
     "iopub.status.idle": "2023-06-13T16:26:07.234945Z",
     "shell.execute_reply": "2023-06-13T16:26:07.233610Z"
    },
    "papermill": {
     "duration": 0.021529,
     "end_time": "2023-06-13T16:26:07.237744",
     "exception": false,
     "start_time": "2023-06-13T16:26:07.216215",
     "status": "completed"
    },
    "tags": []
   },
   "outputs": [],
   "source": [
    "def map_cat(df, features, dictionaries):\n",
    "    df_mapped = df\n",
    "    \n",
    "    for i in range(len(features)):\n",
    "        feature = features[i]\n",
    "        dictionary = dictionaries[i]\n",
    "        \n",
    "        df_mapped[feature] = df[feature].map(dictionary)\n",
    "        \n",
    "    return df_mapped"
   ]
  },
  {
   "cell_type": "code",
   "execution_count": 9,
   "id": "0628f5f1",
   "metadata": {
    "execution": {
     "iopub.execute_input": "2023-06-13T16:26:07.260422Z",
     "iopub.status.busy": "2023-06-13T16:26:07.260020Z",
     "iopub.status.idle": "2023-06-13T16:26:07.266039Z",
     "shell.execute_reply": "2023-06-13T16:26:07.264559Z"
    },
    "papermill": {
     "duration": 0.020694,
     "end_time": "2023-06-13T16:26:07.268870",
     "exception": false,
     "start_time": "2023-06-13T16:26:07.248176",
     "status": "completed"
    },
    "tags": []
   },
   "outputs": [],
   "source": [
    "def normalize(feature):\n",
    "    '''\n",
    "    This function normalizes a Series\n",
    "    \n",
    "    Input: A feature of type Series\n",
    "    \n",
    "    Output: The normalized feature of type Series\n",
    "    '''\n",
    "    return (feature - feature.mean())/feature.std()"
   ]
  },
  {
   "cell_type": "code",
   "execution_count": 10,
   "id": "80591438",
   "metadata": {
    "execution": {
     "iopub.execute_input": "2023-06-13T16:26:07.291363Z",
     "iopub.status.busy": "2023-06-13T16:26:07.290960Z",
     "iopub.status.idle": "2023-06-13T16:26:07.296226Z",
     "shell.execute_reply": "2023-06-13T16:26:07.295062Z"
    },
    "papermill": {
     "duration": 0.01995,
     "end_time": "2023-06-13T16:26:07.299071",
     "exception": false,
     "start_time": "2023-06-13T16:26:07.279121",
     "status": "completed"
    },
    "tags": []
   },
   "outputs": [],
   "source": [
    "def normalize_features(df):\n",
    "    '''\n",
    "    This function normalizes all features in a dataframe\n",
    "    \n",
    "    Input: A pandas dataframe\n",
    "    \n",
    "    Output: The normalized dataframe\n",
    "    '''\n",
    "    for column in df.columns:\n",
    "        df[column] = normalize(df[column])\n",
    "    return df"
   ]
  },
  {
   "cell_type": "markdown",
   "id": "24e8f05f",
   "metadata": {
    "papermill": {
     "duration": 0.010097,
     "end_time": "2023-06-13T16:26:07.319475",
     "exception": false,
     "start_time": "2023-06-13T16:26:07.309378",
     "status": "completed"
    },
    "tags": []
   },
   "source": [
    "## Initial Model"
   ]
  },
  {
   "cell_type": "code",
   "execution_count": 11,
   "id": "fc4d062a",
   "metadata": {
    "execution": {
     "iopub.execute_input": "2023-06-13T16:26:07.342875Z",
     "iopub.status.busy": "2023-06-13T16:26:07.341620Z",
     "iopub.status.idle": "2023-06-13T16:26:07.466049Z",
     "shell.execute_reply": "2023-06-13T16:26:07.464306Z"
    },
    "papermill": {
     "duration": 0.139252,
     "end_time": "2023-06-13T16:26:07.469101",
     "exception": false,
     "start_time": "2023-06-13T16:26:07.329849",
     "status": "completed"
    },
    "tags": []
   },
   "outputs": [],
   "source": [
    "df_train = pd.read_csv(train_filepath, index_col='PassengerId')\n",
    "df_test = pd.read_csv(test_filepath, index_col='PassengerId')"
   ]
  },
  {
   "cell_type": "code",
   "execution_count": 12,
   "id": "0865e574",
   "metadata": {
    "execution": {
     "iopub.execute_input": "2023-06-13T16:26:07.491233Z",
     "iopub.status.busy": "2023-06-13T16:26:07.490789Z",
     "iopub.status.idle": "2023-06-13T16:26:07.538704Z",
     "shell.execute_reply": "2023-06-13T16:26:07.537710Z"
    },
    "papermill": {
     "duration": 0.062332,
     "end_time": "2023-06-13T16:26:07.541784",
     "exception": false,
     "start_time": "2023-06-13T16:26:07.479452",
     "status": "completed"
    },
    "tags": []
   },
   "outputs": [
    {
     "data": {
      "text/html": [
       "<div>\n",
       "<style scoped>\n",
       "    .dataframe tbody tr th:only-of-type {\n",
       "        vertical-align: middle;\n",
       "    }\n",
       "\n",
       "    .dataframe tbody tr th {\n",
       "        vertical-align: top;\n",
       "    }\n",
       "\n",
       "    .dataframe thead th {\n",
       "        text-align: right;\n",
       "    }\n",
       "</style>\n",
       "<table border=\"1\" class=\"dataframe\">\n",
       "  <thead>\n",
       "    <tr style=\"text-align: right;\">\n",
       "      <th></th>\n",
       "      <th>HomePlanet</th>\n",
       "      <th>CryoSleep</th>\n",
       "      <th>Cabin</th>\n",
       "      <th>Destination</th>\n",
       "      <th>Age</th>\n",
       "      <th>VIP</th>\n",
       "      <th>RoomService</th>\n",
       "      <th>FoodCourt</th>\n",
       "      <th>ShoppingMall</th>\n",
       "      <th>Spa</th>\n",
       "      <th>VRDeck</th>\n",
       "      <th>Name</th>\n",
       "      <th>Transported</th>\n",
       "    </tr>\n",
       "    <tr>\n",
       "      <th>PassengerId</th>\n",
       "      <th></th>\n",
       "      <th></th>\n",
       "      <th></th>\n",
       "      <th></th>\n",
       "      <th></th>\n",
       "      <th></th>\n",
       "      <th></th>\n",
       "      <th></th>\n",
       "      <th></th>\n",
       "      <th></th>\n",
       "      <th></th>\n",
       "      <th></th>\n",
       "      <th></th>\n",
       "    </tr>\n",
       "  </thead>\n",
       "  <tbody>\n",
       "    <tr>\n",
       "      <th>0001_01</th>\n",
       "      <td>Europa</td>\n",
       "      <td>False</td>\n",
       "      <td>B/0/P</td>\n",
       "      <td>TRAPPIST-1e</td>\n",
       "      <td>39.0</td>\n",
       "      <td>False</td>\n",
       "      <td>0.0</td>\n",
       "      <td>0.0</td>\n",
       "      <td>0.0</td>\n",
       "      <td>0.0</td>\n",
       "      <td>0.0</td>\n",
       "      <td>Maham Ofracculy</td>\n",
       "      <td>False</td>\n",
       "    </tr>\n",
       "    <tr>\n",
       "      <th>0002_01</th>\n",
       "      <td>Earth</td>\n",
       "      <td>False</td>\n",
       "      <td>F/0/S</td>\n",
       "      <td>TRAPPIST-1e</td>\n",
       "      <td>24.0</td>\n",
       "      <td>False</td>\n",
       "      <td>109.0</td>\n",
       "      <td>9.0</td>\n",
       "      <td>25.0</td>\n",
       "      <td>549.0</td>\n",
       "      <td>44.0</td>\n",
       "      <td>Juanna Vines</td>\n",
       "      <td>True</td>\n",
       "    </tr>\n",
       "    <tr>\n",
       "      <th>0003_01</th>\n",
       "      <td>Europa</td>\n",
       "      <td>False</td>\n",
       "      <td>A/0/S</td>\n",
       "      <td>TRAPPIST-1e</td>\n",
       "      <td>58.0</td>\n",
       "      <td>True</td>\n",
       "      <td>43.0</td>\n",
       "      <td>3576.0</td>\n",
       "      <td>0.0</td>\n",
       "      <td>6715.0</td>\n",
       "      <td>49.0</td>\n",
       "      <td>Altark Susent</td>\n",
       "      <td>False</td>\n",
       "    </tr>\n",
       "    <tr>\n",
       "      <th>0003_02</th>\n",
       "      <td>Europa</td>\n",
       "      <td>False</td>\n",
       "      <td>A/0/S</td>\n",
       "      <td>TRAPPIST-1e</td>\n",
       "      <td>33.0</td>\n",
       "      <td>False</td>\n",
       "      <td>0.0</td>\n",
       "      <td>1283.0</td>\n",
       "      <td>371.0</td>\n",
       "      <td>3329.0</td>\n",
       "      <td>193.0</td>\n",
       "      <td>Solam Susent</td>\n",
       "      <td>False</td>\n",
       "    </tr>\n",
       "    <tr>\n",
       "      <th>0004_01</th>\n",
       "      <td>Earth</td>\n",
       "      <td>False</td>\n",
       "      <td>F/1/S</td>\n",
       "      <td>TRAPPIST-1e</td>\n",
       "      <td>16.0</td>\n",
       "      <td>False</td>\n",
       "      <td>303.0</td>\n",
       "      <td>70.0</td>\n",
       "      <td>151.0</td>\n",
       "      <td>565.0</td>\n",
       "      <td>2.0</td>\n",
       "      <td>Willy Santantines</td>\n",
       "      <td>True</td>\n",
       "    </tr>\n",
       "    <tr>\n",
       "      <th>0005_01</th>\n",
       "      <td>Earth</td>\n",
       "      <td>False</td>\n",
       "      <td>F/0/P</td>\n",
       "      <td>PSO J318.5-22</td>\n",
       "      <td>44.0</td>\n",
       "      <td>False</td>\n",
       "      <td>0.0</td>\n",
       "      <td>483.0</td>\n",
       "      <td>0.0</td>\n",
       "      <td>291.0</td>\n",
       "      <td>0.0</td>\n",
       "      <td>Sandie Hinetthews</td>\n",
       "      <td>True</td>\n",
       "    </tr>\n",
       "    <tr>\n",
       "      <th>0006_01</th>\n",
       "      <td>Earth</td>\n",
       "      <td>False</td>\n",
       "      <td>F/2/S</td>\n",
       "      <td>TRAPPIST-1e</td>\n",
       "      <td>26.0</td>\n",
       "      <td>False</td>\n",
       "      <td>42.0</td>\n",
       "      <td>1539.0</td>\n",
       "      <td>3.0</td>\n",
       "      <td>0.0</td>\n",
       "      <td>0.0</td>\n",
       "      <td>Billex Jacostaffey</td>\n",
       "      <td>True</td>\n",
       "    </tr>\n",
       "    <tr>\n",
       "      <th>0006_02</th>\n",
       "      <td>Earth</td>\n",
       "      <td>True</td>\n",
       "      <td>G/0/S</td>\n",
       "      <td>TRAPPIST-1e</td>\n",
       "      <td>28.0</td>\n",
       "      <td>False</td>\n",
       "      <td>0.0</td>\n",
       "      <td>0.0</td>\n",
       "      <td>0.0</td>\n",
       "      <td>0.0</td>\n",
       "      <td>NaN</td>\n",
       "      <td>Candra Jacostaffey</td>\n",
       "      <td>True</td>\n",
       "    </tr>\n",
       "    <tr>\n",
       "      <th>0007_01</th>\n",
       "      <td>Earth</td>\n",
       "      <td>False</td>\n",
       "      <td>F/3/S</td>\n",
       "      <td>TRAPPIST-1e</td>\n",
       "      <td>35.0</td>\n",
       "      <td>False</td>\n",
       "      <td>0.0</td>\n",
       "      <td>785.0</td>\n",
       "      <td>17.0</td>\n",
       "      <td>216.0</td>\n",
       "      <td>0.0</td>\n",
       "      <td>Andona Beston</td>\n",
       "      <td>True</td>\n",
       "    </tr>\n",
       "    <tr>\n",
       "      <th>0008_01</th>\n",
       "      <td>Europa</td>\n",
       "      <td>True</td>\n",
       "      <td>B/1/P</td>\n",
       "      <td>55 Cancri e</td>\n",
       "      <td>14.0</td>\n",
       "      <td>False</td>\n",
       "      <td>0.0</td>\n",
       "      <td>0.0</td>\n",
       "      <td>0.0</td>\n",
       "      <td>0.0</td>\n",
       "      <td>0.0</td>\n",
       "      <td>Erraiam Flatic</td>\n",
       "      <td>True</td>\n",
       "    </tr>\n",
       "  </tbody>\n",
       "</table>\n",
       "</div>"
      ],
      "text/plain": [
       "            HomePlanet CryoSleep  Cabin    Destination   Age    VIP  \\\n",
       "PassengerId                                                           \n",
       "0001_01         Europa     False  B/0/P    TRAPPIST-1e  39.0  False   \n",
       "0002_01          Earth     False  F/0/S    TRAPPIST-1e  24.0  False   \n",
       "0003_01         Europa     False  A/0/S    TRAPPIST-1e  58.0   True   \n",
       "0003_02         Europa     False  A/0/S    TRAPPIST-1e  33.0  False   \n",
       "0004_01          Earth     False  F/1/S    TRAPPIST-1e  16.0  False   \n",
       "0005_01          Earth     False  F/0/P  PSO J318.5-22  44.0  False   \n",
       "0006_01          Earth     False  F/2/S    TRAPPIST-1e  26.0  False   \n",
       "0006_02          Earth      True  G/0/S    TRAPPIST-1e  28.0  False   \n",
       "0007_01          Earth     False  F/3/S    TRAPPIST-1e  35.0  False   \n",
       "0008_01         Europa      True  B/1/P    55 Cancri e  14.0  False   \n",
       "\n",
       "             RoomService  FoodCourt  ShoppingMall     Spa  VRDeck  \\\n",
       "PassengerId                                                         \n",
       "0001_01              0.0        0.0           0.0     0.0     0.0   \n",
       "0002_01            109.0        9.0          25.0   549.0    44.0   \n",
       "0003_01             43.0     3576.0           0.0  6715.0    49.0   \n",
       "0003_02              0.0     1283.0         371.0  3329.0   193.0   \n",
       "0004_01            303.0       70.0         151.0   565.0     2.0   \n",
       "0005_01              0.0      483.0           0.0   291.0     0.0   \n",
       "0006_01             42.0     1539.0           3.0     0.0     0.0   \n",
       "0006_02              0.0        0.0           0.0     0.0     NaN   \n",
       "0007_01              0.0      785.0          17.0   216.0     0.0   \n",
       "0008_01              0.0        0.0           0.0     0.0     0.0   \n",
       "\n",
       "                           Name  Transported  \n",
       "PassengerId                                   \n",
       "0001_01         Maham Ofracculy        False  \n",
       "0002_01            Juanna Vines         True  \n",
       "0003_01           Altark Susent        False  \n",
       "0003_02            Solam Susent        False  \n",
       "0004_01       Willy Santantines         True  \n",
       "0005_01       Sandie Hinetthews         True  \n",
       "0006_01      Billex Jacostaffey         True  \n",
       "0006_02      Candra Jacostaffey         True  \n",
       "0007_01           Andona Beston         True  \n",
       "0008_01          Erraiam Flatic         True  "
      ]
     },
     "execution_count": 12,
     "metadata": {},
     "output_type": "execute_result"
    }
   ],
   "source": [
    "df_train.head(10)"
   ]
  },
  {
   "cell_type": "code",
   "execution_count": 13,
   "id": "d76db5d2",
   "metadata": {
    "execution": {
     "iopub.execute_input": "2023-06-13T16:26:07.567092Z",
     "iopub.status.busy": "2023-06-13T16:26:07.566584Z",
     "iopub.status.idle": "2023-06-13T16:26:07.578740Z",
     "shell.execute_reply": "2023-06-13T16:26:07.577585Z"
    },
    "papermill": {
     "duration": 0.028852,
     "end_time": "2023-06-13T16:26:07.581726",
     "exception": false,
     "start_time": "2023-06-13T16:26:07.552874",
     "status": "completed"
    },
    "tags": []
   },
   "outputs": [],
   "source": [
    "df_train = df_train.drop('Name', axis=1)\n",
    "df_test = df_test.drop('Name', axis=1)"
   ]
  },
  {
   "cell_type": "code",
   "execution_count": 14,
   "id": "4c86116a",
   "metadata": {
    "execution": {
     "iopub.execute_input": "2023-06-13T16:26:07.607616Z",
     "iopub.status.busy": "2023-06-13T16:26:07.606205Z",
     "iopub.status.idle": "2023-06-13T16:26:07.650576Z",
     "shell.execute_reply": "2023-06-13T16:26:07.649029Z"
    },
    "papermill": {
     "duration": 0.060818,
     "end_time": "2023-06-13T16:26:07.654067",
     "exception": false,
     "start_time": "2023-06-13T16:26:07.593249",
     "status": "completed"
    },
    "tags": []
   },
   "outputs": [],
   "source": [
    "df_train = expand_cabin(df_train)\n",
    "df_test = expand_cabin(df_test)"
   ]
  },
  {
   "cell_type": "code",
   "execution_count": 15,
   "id": "db0f5b8a",
   "metadata": {
    "execution": {
     "iopub.execute_input": "2023-06-13T16:26:07.677336Z",
     "iopub.status.busy": "2023-06-13T16:26:07.676932Z",
     "iopub.status.idle": "2023-06-13T16:26:07.684752Z",
     "shell.execute_reply": "2023-06-13T16:26:07.683236Z"
    },
    "papermill": {
     "duration": 0.022611,
     "end_time": "2023-06-13T16:26:07.687480",
     "exception": false,
     "start_time": "2023-06-13T16:26:07.664869",
     "status": "completed"
    },
    "tags": []
   },
   "outputs": [],
   "source": [
    "X = df_train.drop('Transported', axis=1)\n",
    "\n",
    "y = df_train['Transported']"
   ]
  },
  {
   "cell_type": "code",
   "execution_count": 16,
   "id": "1a9f5459",
   "metadata": {
    "execution": {
     "iopub.execute_input": "2023-06-13T16:26:07.710520Z",
     "iopub.status.busy": "2023-06-13T16:26:07.710114Z",
     "iopub.status.idle": "2023-06-13T16:26:07.718944Z",
     "shell.execute_reply": "2023-06-13T16:26:07.717585Z"
    },
    "papermill": {
     "duration": 0.023423,
     "end_time": "2023-06-13T16:26:07.721581",
     "exception": false,
     "start_time": "2023-06-13T16:26:07.698158",
     "status": "completed"
    },
    "tags": []
   },
   "outputs": [],
   "source": [
    "X['Deck'] = X['Deck'].replace('nan','F')\n",
    "df_test['Deck'] = df_test['Deck'].replace('nan','F')"
   ]
  },
  {
   "cell_type": "code",
   "execution_count": 17,
   "id": "bef473e0",
   "metadata": {
    "execution": {
     "iopub.execute_input": "2023-06-13T16:26:07.744200Z",
     "iopub.status.busy": "2023-06-13T16:26:07.743804Z",
     "iopub.status.idle": "2023-06-13T16:26:07.756603Z",
     "shell.execute_reply": "2023-06-13T16:26:07.755272Z"
    },
    "papermill": {
     "duration": 0.027568,
     "end_time": "2023-06-13T16:26:07.759534",
     "exception": false,
     "start_time": "2023-06-13T16:26:07.731966",
     "status": "completed"
    },
    "tags": []
   },
   "outputs": [],
   "source": [
    "rs_mean = X['RoomService'].mean()\n",
    "fc_mean = X['FoodCourt'].mean()\n",
    "sm_mean = X['ShoppingMall'].mean()\n",
    "spa_mean = X['Spa'].mean()\n",
    "vr_mean = X['VRDeck'].mean()\n",
    "age_mean = X['Age'].mean()\n",
    "\n",
    "rs_test_mean = df_test['RoomService'].mean()\n",
    "fc_test_mean = df_test['FoodCourt'].mean()\n",
    "sm_test_mean = df_test['ShoppingMall'].mean()\n",
    "spa_test_mean = df_test['Spa'].mean()\n",
    "vr_test_mean = df_test['VRDeck'].mean()\n",
    "age_test_mean = df_test['Age'].mean()"
   ]
  },
  {
   "cell_type": "code",
   "execution_count": 18,
   "id": "973344d0",
   "metadata": {
    "execution": {
     "iopub.execute_input": "2023-06-13T16:26:07.782481Z",
     "iopub.status.busy": "2023-06-13T16:26:07.782079Z",
     "iopub.status.idle": "2023-06-13T16:26:07.789723Z",
     "shell.execute_reply": "2023-06-13T16:26:07.788182Z"
    },
    "papermill": {
     "duration": 0.02262,
     "end_time": "2023-06-13T16:26:07.792729",
     "exception": false,
     "start_time": "2023-06-13T16:26:07.770109",
     "status": "completed"
    },
    "tags": []
   },
   "outputs": [],
   "source": [
    "fill_features = ['HomePlanet', 'Destination', 'Side', 'CryoSleep', 'VIP', 'RoomService', 'FoodCourt', 'ShoppingMall', 'Spa', 'VRDeck', 'Age']\n",
    "fill_vals = ['Earth', 'TRAPPIST-1e', 'S', False, False]\n",
    "\n",
    "fill_vals_train = fill_vals + [rs_mean, fc_mean, sm_mean, spa_mean, vr_mean, age_mean]\n",
    "fill_vals_test = fill_vals + [rs_test_mean, fc_test_mean, sm_test_mean, spa_test_mean, vr_test_mean, age_test_mean]"
   ]
  },
  {
   "cell_type": "code",
   "execution_count": 19,
   "id": "9efd5972",
   "metadata": {
    "execution": {
     "iopub.execute_input": "2023-06-13T16:26:07.816351Z",
     "iopub.status.busy": "2023-06-13T16:26:07.815742Z",
     "iopub.status.idle": "2023-06-13T16:26:07.866746Z",
     "shell.execute_reply": "2023-06-13T16:26:07.865553Z"
    },
    "papermill": {
     "duration": 0.066145,
     "end_time": "2023-06-13T16:26:07.869632",
     "exception": false,
     "start_time": "2023-06-13T16:26:07.803487",
     "status": "completed"
    },
    "tags": []
   },
   "outputs": [
    {
     "data": {
      "text/html": [
       "<div>\n",
       "<style scoped>\n",
       "    .dataframe tbody tr th:only-of-type {\n",
       "        vertical-align: middle;\n",
       "    }\n",
       "\n",
       "    .dataframe tbody tr th {\n",
       "        vertical-align: top;\n",
       "    }\n",
       "\n",
       "    .dataframe thead th {\n",
       "        text-align: right;\n",
       "    }\n",
       "</style>\n",
       "<table border=\"1\" class=\"dataframe\">\n",
       "  <thead>\n",
       "    <tr style=\"text-align: right;\">\n",
       "      <th></th>\n",
       "      <th>HomePlanet</th>\n",
       "      <th>CryoSleep</th>\n",
       "      <th>Destination</th>\n",
       "      <th>Age</th>\n",
       "      <th>VIP</th>\n",
       "      <th>RoomService</th>\n",
       "      <th>FoodCourt</th>\n",
       "      <th>ShoppingMall</th>\n",
       "      <th>Spa</th>\n",
       "      <th>VRDeck</th>\n",
       "      <th>Deck</th>\n",
       "      <th>Side</th>\n",
       "    </tr>\n",
       "    <tr>\n",
       "      <th>PassengerId</th>\n",
       "      <th></th>\n",
       "      <th></th>\n",
       "      <th></th>\n",
       "      <th></th>\n",
       "      <th></th>\n",
       "      <th></th>\n",
       "      <th></th>\n",
       "      <th></th>\n",
       "      <th></th>\n",
       "      <th></th>\n",
       "      <th></th>\n",
       "      <th></th>\n",
       "    </tr>\n",
       "  </thead>\n",
       "  <tbody>\n",
       "    <tr>\n",
       "      <th>0001_01</th>\n",
       "      <td>Europa</td>\n",
       "      <td>False</td>\n",
       "      <td>TRAPPIST-1e</td>\n",
       "      <td>39.0</td>\n",
       "      <td>False</td>\n",
       "      <td>0.0</td>\n",
       "      <td>0.0</td>\n",
       "      <td>0.0</td>\n",
       "      <td>0.0</td>\n",
       "      <td>0.000000</td>\n",
       "      <td>B</td>\n",
       "      <td>P</td>\n",
       "    </tr>\n",
       "    <tr>\n",
       "      <th>0002_01</th>\n",
       "      <td>Earth</td>\n",
       "      <td>False</td>\n",
       "      <td>TRAPPIST-1e</td>\n",
       "      <td>24.0</td>\n",
       "      <td>False</td>\n",
       "      <td>109.0</td>\n",
       "      <td>9.0</td>\n",
       "      <td>25.0</td>\n",
       "      <td>549.0</td>\n",
       "      <td>44.000000</td>\n",
       "      <td>F</td>\n",
       "      <td>S</td>\n",
       "    </tr>\n",
       "    <tr>\n",
       "      <th>0003_01</th>\n",
       "      <td>Europa</td>\n",
       "      <td>False</td>\n",
       "      <td>TRAPPIST-1e</td>\n",
       "      <td>58.0</td>\n",
       "      <td>True</td>\n",
       "      <td>43.0</td>\n",
       "      <td>3576.0</td>\n",
       "      <td>0.0</td>\n",
       "      <td>6715.0</td>\n",
       "      <td>49.000000</td>\n",
       "      <td>A</td>\n",
       "      <td>S</td>\n",
       "    </tr>\n",
       "    <tr>\n",
       "      <th>0003_02</th>\n",
       "      <td>Europa</td>\n",
       "      <td>False</td>\n",
       "      <td>TRAPPIST-1e</td>\n",
       "      <td>33.0</td>\n",
       "      <td>False</td>\n",
       "      <td>0.0</td>\n",
       "      <td>1283.0</td>\n",
       "      <td>371.0</td>\n",
       "      <td>3329.0</td>\n",
       "      <td>193.000000</td>\n",
       "      <td>A</td>\n",
       "      <td>S</td>\n",
       "    </tr>\n",
       "    <tr>\n",
       "      <th>0004_01</th>\n",
       "      <td>Earth</td>\n",
       "      <td>False</td>\n",
       "      <td>TRAPPIST-1e</td>\n",
       "      <td>16.0</td>\n",
       "      <td>False</td>\n",
       "      <td>303.0</td>\n",
       "      <td>70.0</td>\n",
       "      <td>151.0</td>\n",
       "      <td>565.0</td>\n",
       "      <td>2.000000</td>\n",
       "      <td>F</td>\n",
       "      <td>S</td>\n",
       "    </tr>\n",
       "    <tr>\n",
       "      <th>0005_01</th>\n",
       "      <td>Earth</td>\n",
       "      <td>False</td>\n",
       "      <td>PSO J318.5-22</td>\n",
       "      <td>44.0</td>\n",
       "      <td>False</td>\n",
       "      <td>0.0</td>\n",
       "      <td>483.0</td>\n",
       "      <td>0.0</td>\n",
       "      <td>291.0</td>\n",
       "      <td>0.000000</td>\n",
       "      <td>F</td>\n",
       "      <td>P</td>\n",
       "    </tr>\n",
       "    <tr>\n",
       "      <th>0006_01</th>\n",
       "      <td>Earth</td>\n",
       "      <td>False</td>\n",
       "      <td>TRAPPIST-1e</td>\n",
       "      <td>26.0</td>\n",
       "      <td>False</td>\n",
       "      <td>42.0</td>\n",
       "      <td>1539.0</td>\n",
       "      <td>3.0</td>\n",
       "      <td>0.0</td>\n",
       "      <td>0.000000</td>\n",
       "      <td>F</td>\n",
       "      <td>S</td>\n",
       "    </tr>\n",
       "    <tr>\n",
       "      <th>0006_02</th>\n",
       "      <td>Earth</td>\n",
       "      <td>True</td>\n",
       "      <td>TRAPPIST-1e</td>\n",
       "      <td>28.0</td>\n",
       "      <td>False</td>\n",
       "      <td>0.0</td>\n",
       "      <td>0.0</td>\n",
       "      <td>0.0</td>\n",
       "      <td>0.0</td>\n",
       "      <td>304.854791</td>\n",
       "      <td>G</td>\n",
       "      <td>S</td>\n",
       "    </tr>\n",
       "    <tr>\n",
       "      <th>0007_01</th>\n",
       "      <td>Earth</td>\n",
       "      <td>False</td>\n",
       "      <td>TRAPPIST-1e</td>\n",
       "      <td>35.0</td>\n",
       "      <td>False</td>\n",
       "      <td>0.0</td>\n",
       "      <td>785.0</td>\n",
       "      <td>17.0</td>\n",
       "      <td>216.0</td>\n",
       "      <td>0.000000</td>\n",
       "      <td>F</td>\n",
       "      <td>S</td>\n",
       "    </tr>\n",
       "    <tr>\n",
       "      <th>0008_01</th>\n",
       "      <td>Europa</td>\n",
       "      <td>True</td>\n",
       "      <td>55 Cancri e</td>\n",
       "      <td>14.0</td>\n",
       "      <td>False</td>\n",
       "      <td>0.0</td>\n",
       "      <td>0.0</td>\n",
       "      <td>0.0</td>\n",
       "      <td>0.0</td>\n",
       "      <td>0.000000</td>\n",
       "      <td>B</td>\n",
       "      <td>P</td>\n",
       "    </tr>\n",
       "  </tbody>\n",
       "</table>\n",
       "</div>"
      ],
      "text/plain": [
       "            HomePlanet  CryoSleep    Destination   Age    VIP  RoomService  \\\n",
       "PassengerId                                                                  \n",
       "0001_01         Europa      False    TRAPPIST-1e  39.0  False          0.0   \n",
       "0002_01          Earth      False    TRAPPIST-1e  24.0  False        109.0   \n",
       "0003_01         Europa      False    TRAPPIST-1e  58.0   True         43.0   \n",
       "0003_02         Europa      False    TRAPPIST-1e  33.0  False          0.0   \n",
       "0004_01          Earth      False    TRAPPIST-1e  16.0  False        303.0   \n",
       "0005_01          Earth      False  PSO J318.5-22  44.0  False          0.0   \n",
       "0006_01          Earth      False    TRAPPIST-1e  26.0  False         42.0   \n",
       "0006_02          Earth       True    TRAPPIST-1e  28.0  False          0.0   \n",
       "0007_01          Earth      False    TRAPPIST-1e  35.0  False          0.0   \n",
       "0008_01         Europa       True    55 Cancri e  14.0  False          0.0   \n",
       "\n",
       "             FoodCourt  ShoppingMall     Spa      VRDeck Deck Side  \n",
       "PassengerId                                                         \n",
       "0001_01            0.0           0.0     0.0    0.000000    B    P  \n",
       "0002_01            9.0          25.0   549.0   44.000000    F    S  \n",
       "0003_01         3576.0           0.0  6715.0   49.000000    A    S  \n",
       "0003_02         1283.0         371.0  3329.0  193.000000    A    S  \n",
       "0004_01           70.0         151.0   565.0    2.000000    F    S  \n",
       "0005_01          483.0           0.0   291.0    0.000000    F    P  \n",
       "0006_01         1539.0           3.0     0.0    0.000000    F    S  \n",
       "0006_02            0.0           0.0     0.0  304.854791    G    S  \n",
       "0007_01          785.0          17.0   216.0    0.000000    F    S  \n",
       "0008_01            0.0           0.0     0.0    0.000000    B    P  "
      ]
     },
     "execution_count": 19,
     "metadata": {},
     "output_type": "execute_result"
    }
   ],
   "source": [
    "X_imputed = fill_na(X, fill_features, fill_vals_train)\n",
    "X_test_imputed = fill_na(df_test, fill_features, fill_vals_test)\n",
    "X_imputed.head(10)"
   ]
  },
  {
   "cell_type": "code",
   "execution_count": 20,
   "id": "8d3f1961",
   "metadata": {
    "execution": {
     "iopub.execute_input": "2023-06-13T16:26:07.893526Z",
     "iopub.status.busy": "2023-06-13T16:26:07.893072Z",
     "iopub.status.idle": "2023-06-13T16:26:07.900572Z",
     "shell.execute_reply": "2023-06-13T16:26:07.899294Z"
    },
    "papermill": {
     "duration": 0.022783,
     "end_time": "2023-06-13T16:26:07.903491",
     "exception": false,
     "start_time": "2023-06-13T16:26:07.880708",
     "status": "completed"
    },
    "tags": []
   },
   "outputs": [],
   "source": [
    "map_features = ['HomePlanet','Destination','Deck','Side']\n",
    "\n",
    "map_dictionaries = [{'Earth':2, 'Europa':1, 'Mars':0}, \n",
    "                    {'TRAPPIST-1e':2, '55 Cancri e':1, 'PSO J318.5-22':0}, \n",
    "                    {'T':0, 'A':1, 'D':2, 'C':3, 'B':4, 'E':5, 'G':6, 'F':7}, \n",
    "                    {'P':0, 'S':1}]"
   ]
  },
  {
   "cell_type": "code",
   "execution_count": 21,
   "id": "d1eb1dbb",
   "metadata": {
    "execution": {
     "iopub.execute_input": "2023-06-13T16:26:07.928430Z",
     "iopub.status.busy": "2023-06-13T16:26:07.927584Z",
     "iopub.status.idle": "2023-06-13T16:26:07.965913Z",
     "shell.execute_reply": "2023-06-13T16:26:07.964696Z"
    },
    "papermill": {
     "duration": 0.053427,
     "end_time": "2023-06-13T16:26:07.968614",
     "exception": false,
     "start_time": "2023-06-13T16:26:07.915187",
     "status": "completed"
    },
    "tags": []
   },
   "outputs": [
    {
     "data": {
      "text/html": [
       "<div>\n",
       "<style scoped>\n",
       "    .dataframe tbody tr th:only-of-type {\n",
       "        vertical-align: middle;\n",
       "    }\n",
       "\n",
       "    .dataframe tbody tr th {\n",
       "        vertical-align: top;\n",
       "    }\n",
       "\n",
       "    .dataframe thead th {\n",
       "        text-align: right;\n",
       "    }\n",
       "</style>\n",
       "<table border=\"1\" class=\"dataframe\">\n",
       "  <thead>\n",
       "    <tr style=\"text-align: right;\">\n",
       "      <th></th>\n",
       "      <th>HomePlanet</th>\n",
       "      <th>CryoSleep</th>\n",
       "      <th>Destination</th>\n",
       "      <th>Age</th>\n",
       "      <th>VIP</th>\n",
       "      <th>RoomService</th>\n",
       "      <th>FoodCourt</th>\n",
       "      <th>ShoppingMall</th>\n",
       "      <th>Spa</th>\n",
       "      <th>VRDeck</th>\n",
       "      <th>Deck</th>\n",
       "      <th>Side</th>\n",
       "    </tr>\n",
       "    <tr>\n",
       "      <th>PassengerId</th>\n",
       "      <th></th>\n",
       "      <th></th>\n",
       "      <th></th>\n",
       "      <th></th>\n",
       "      <th></th>\n",
       "      <th></th>\n",
       "      <th></th>\n",
       "      <th></th>\n",
       "      <th></th>\n",
       "      <th></th>\n",
       "      <th></th>\n",
       "      <th></th>\n",
       "    </tr>\n",
       "  </thead>\n",
       "  <tbody>\n",
       "    <tr>\n",
       "      <th>0001_01</th>\n",
       "      <td>1</td>\n",
       "      <td>False</td>\n",
       "      <td>2</td>\n",
       "      <td>39.0</td>\n",
       "      <td>False</td>\n",
       "      <td>0.0</td>\n",
       "      <td>0.0</td>\n",
       "      <td>0.0</td>\n",
       "      <td>0.0</td>\n",
       "      <td>0.0</td>\n",
       "      <td>4</td>\n",
       "      <td>0</td>\n",
       "    </tr>\n",
       "    <tr>\n",
       "      <th>0002_01</th>\n",
       "      <td>2</td>\n",
       "      <td>False</td>\n",
       "      <td>2</td>\n",
       "      <td>24.0</td>\n",
       "      <td>False</td>\n",
       "      <td>109.0</td>\n",
       "      <td>9.0</td>\n",
       "      <td>25.0</td>\n",
       "      <td>549.0</td>\n",
       "      <td>44.0</td>\n",
       "      <td>7</td>\n",
       "      <td>1</td>\n",
       "    </tr>\n",
       "    <tr>\n",
       "      <th>0003_01</th>\n",
       "      <td>1</td>\n",
       "      <td>False</td>\n",
       "      <td>2</td>\n",
       "      <td>58.0</td>\n",
       "      <td>True</td>\n",
       "      <td>43.0</td>\n",
       "      <td>3576.0</td>\n",
       "      <td>0.0</td>\n",
       "      <td>6715.0</td>\n",
       "      <td>49.0</td>\n",
       "      <td>1</td>\n",
       "      <td>1</td>\n",
       "    </tr>\n",
       "    <tr>\n",
       "      <th>0003_02</th>\n",
       "      <td>1</td>\n",
       "      <td>False</td>\n",
       "      <td>2</td>\n",
       "      <td>33.0</td>\n",
       "      <td>False</td>\n",
       "      <td>0.0</td>\n",
       "      <td>1283.0</td>\n",
       "      <td>371.0</td>\n",
       "      <td>3329.0</td>\n",
       "      <td>193.0</td>\n",
       "      <td>1</td>\n",
       "      <td>1</td>\n",
       "    </tr>\n",
       "    <tr>\n",
       "      <th>0004_01</th>\n",
       "      <td>2</td>\n",
       "      <td>False</td>\n",
       "      <td>2</td>\n",
       "      <td>16.0</td>\n",
       "      <td>False</td>\n",
       "      <td>303.0</td>\n",
       "      <td>70.0</td>\n",
       "      <td>151.0</td>\n",
       "      <td>565.0</td>\n",
       "      <td>2.0</td>\n",
       "      <td>7</td>\n",
       "      <td>1</td>\n",
       "    </tr>\n",
       "  </tbody>\n",
       "</table>\n",
       "</div>"
      ],
      "text/plain": [
       "             HomePlanet  CryoSleep  Destination   Age    VIP  RoomService  \\\n",
       "PassengerId                                                                 \n",
       "0001_01               1      False            2  39.0  False          0.0   \n",
       "0002_01               2      False            2  24.0  False        109.0   \n",
       "0003_01               1      False            2  58.0   True         43.0   \n",
       "0003_02               1      False            2  33.0  False          0.0   \n",
       "0004_01               2      False            2  16.0  False        303.0   \n",
       "\n",
       "             FoodCourt  ShoppingMall     Spa  VRDeck  Deck  Side  \n",
       "PassengerId                                                       \n",
       "0001_01            0.0           0.0     0.0     0.0     4     0  \n",
       "0002_01            9.0          25.0   549.0    44.0     7     1  \n",
       "0003_01         3576.0           0.0  6715.0    49.0     1     1  \n",
       "0003_02         1283.0         371.0  3329.0   193.0     1     1  \n",
       "0004_01           70.0         151.0   565.0     2.0     7     1  "
      ]
     },
     "execution_count": 21,
     "metadata": {},
     "output_type": "execute_result"
    }
   ],
   "source": [
    "X_mapped = map_cat(X_imputed, map_features, map_dictionaries)\n",
    "X_test_mapped = map_cat(X_test_imputed, map_features, map_dictionaries)\n",
    "\n",
    "X_mapped.head()"
   ]
  },
  {
   "cell_type": "code",
   "execution_count": 22,
   "id": "5b60f883",
   "metadata": {
    "execution": {
     "iopub.execute_input": "2023-06-13T16:26:07.993741Z",
     "iopub.status.busy": "2023-06-13T16:26:07.992705Z",
     "iopub.status.idle": "2023-06-13T16:26:08.021572Z",
     "shell.execute_reply": "2023-06-13T16:26:08.020244Z"
    },
    "papermill": {
     "duration": 0.044748,
     "end_time": "2023-06-13T16:26:08.024742",
     "exception": false,
     "start_time": "2023-06-13T16:26:07.979994",
     "status": "completed"
    },
    "tags": []
   },
   "outputs": [],
   "source": [
    "X_normalized = normalize_features(X_mapped)\n",
    "X_test_normalized = normalize_features(X_test_mapped)"
   ]
  },
  {
   "cell_type": "code",
   "execution_count": 23,
   "id": "1c33929d",
   "metadata": {
    "execution": {
     "iopub.execute_input": "2023-06-13T16:26:08.049866Z",
     "iopub.status.busy": "2023-06-13T16:26:08.049422Z",
     "iopub.status.idle": "2023-06-13T16:26:08.073379Z",
     "shell.execute_reply": "2023-06-13T16:26:08.071930Z"
    },
    "papermill": {
     "duration": 0.03974,
     "end_time": "2023-06-13T16:26:08.076258",
     "exception": false,
     "start_time": "2023-06-13T16:26:08.036518",
     "status": "completed"
    },
    "tags": []
   },
   "outputs": [
    {
     "data": {
      "text/html": [
       "<div>\n",
       "<style scoped>\n",
       "    .dataframe tbody tr th:only-of-type {\n",
       "        vertical-align: middle;\n",
       "    }\n",
       "\n",
       "    .dataframe tbody tr th {\n",
       "        vertical-align: top;\n",
       "    }\n",
       "\n",
       "    .dataframe thead th {\n",
       "        text-align: right;\n",
       "    }\n",
       "</style>\n",
       "<table border=\"1\" class=\"dataframe\">\n",
       "  <thead>\n",
       "    <tr style=\"text-align: right;\">\n",
       "      <th></th>\n",
       "      <th>HomePlanet</th>\n",
       "      <th>CryoSleep</th>\n",
       "      <th>Destination</th>\n",
       "      <th>Age</th>\n",
       "      <th>VIP</th>\n",
       "      <th>RoomService</th>\n",
       "      <th>FoodCourt</th>\n",
       "      <th>ShoppingMall</th>\n",
       "      <th>Spa</th>\n",
       "      <th>VRDeck</th>\n",
       "      <th>Deck</th>\n",
       "      <th>Side</th>\n",
       "    </tr>\n",
       "    <tr>\n",
       "      <th>PassengerId</th>\n",
       "      <th></th>\n",
       "      <th></th>\n",
       "      <th></th>\n",
       "      <th></th>\n",
       "      <th></th>\n",
       "      <th></th>\n",
       "      <th></th>\n",
       "      <th></th>\n",
       "      <th></th>\n",
       "      <th></th>\n",
       "      <th></th>\n",
       "      <th></th>\n",
       "    </tr>\n",
       "  </thead>\n",
       "  <tbody>\n",
       "    <tr>\n",
       "      <th>0001_01</th>\n",
       "      <td>-0.440360</td>\n",
       "      <td>-0.732728</td>\n",
       "      <td>0.601283</td>\n",
       "      <td>0.709396</td>\n",
       "      <td>-0.153054</td>\n",
       "      <td>-0.340570</td>\n",
       "      <td>-0.287298</td>\n",
       "      <td>-0.290800</td>\n",
       "      <td>-0.276648</td>\n",
       "      <td>-0.269007</td>\n",
       "      <td>-0.843795</td>\n",
       "      <td>-1.032805</td>\n",
       "    </tr>\n",
       "    <tr>\n",
       "      <th>0002_01</th>\n",
       "      <td>0.817212</td>\n",
       "      <td>-0.732728</td>\n",
       "      <td>0.601283</td>\n",
       "      <td>-0.336698</td>\n",
       "      <td>-0.153054</td>\n",
       "      <td>-0.175354</td>\n",
       "      <td>-0.281653</td>\n",
       "      <td>-0.248954</td>\n",
       "      <td>0.211493</td>\n",
       "      <td>-0.230181</td>\n",
       "      <td>0.919170</td>\n",
       "      <td>0.968125</td>\n",
       "    </tr>\n",
       "    <tr>\n",
       "      <th>0003_01</th>\n",
       "      <td>-0.440360</td>\n",
       "      <td>-0.732728</td>\n",
       "      <td>0.601283</td>\n",
       "      <td>2.034449</td>\n",
       "      <td>6.532879</td>\n",
       "      <td>-0.275393</td>\n",
       "      <td>1.955503</td>\n",
       "      <td>-0.290800</td>\n",
       "      <td>5.693962</td>\n",
       "      <td>-0.225769</td>\n",
       "      <td>-2.606761</td>\n",
       "      <td>0.968125</td>\n",
       "    </tr>\n",
       "    <tr>\n",
       "      <th>0003_02</th>\n",
       "      <td>-0.440360</td>\n",
       "      <td>-0.732728</td>\n",
       "      <td>0.601283</td>\n",
       "      <td>0.290958</td>\n",
       "      <td>-0.153054</td>\n",
       "      <td>-0.340570</td>\n",
       "      <td>0.517376</td>\n",
       "      <td>0.330206</td>\n",
       "      <td>2.683316</td>\n",
       "      <td>-0.098702</td>\n",
       "      <td>-2.606761</td>\n",
       "      <td>0.968125</td>\n",
       "    </tr>\n",
       "    <tr>\n",
       "      <th>0004_01</th>\n",
       "      <td>0.817212</td>\n",
       "      <td>-0.732728</td>\n",
       "      <td>0.601283</td>\n",
       "      <td>-0.894615</td>\n",
       "      <td>-0.153054</td>\n",
       "      <td>0.118702</td>\n",
       "      <td>-0.243395</td>\n",
       "      <td>-0.038046</td>\n",
       "      <td>0.225719</td>\n",
       "      <td>-0.267242</td>\n",
       "      <td>0.919170</td>\n",
       "      <td>0.968125</td>\n",
       "    </tr>\n",
       "  </tbody>\n",
       "</table>\n",
       "</div>"
      ],
      "text/plain": [
       "             HomePlanet  CryoSleep  Destination       Age       VIP  \\\n",
       "PassengerId                                                           \n",
       "0001_01       -0.440360  -0.732728     0.601283  0.709396 -0.153054   \n",
       "0002_01        0.817212  -0.732728     0.601283 -0.336698 -0.153054   \n",
       "0003_01       -0.440360  -0.732728     0.601283  2.034449  6.532879   \n",
       "0003_02       -0.440360  -0.732728     0.601283  0.290958 -0.153054   \n",
       "0004_01        0.817212  -0.732728     0.601283 -0.894615 -0.153054   \n",
       "\n",
       "             RoomService  FoodCourt  ShoppingMall       Spa    VRDeck  \\\n",
       "PassengerId                                                             \n",
       "0001_01        -0.340570  -0.287298     -0.290800 -0.276648 -0.269007   \n",
       "0002_01        -0.175354  -0.281653     -0.248954  0.211493 -0.230181   \n",
       "0003_01        -0.275393   1.955503     -0.290800  5.693962 -0.225769   \n",
       "0003_02        -0.340570   0.517376      0.330206  2.683316 -0.098702   \n",
       "0004_01         0.118702  -0.243395     -0.038046  0.225719 -0.267242   \n",
       "\n",
       "                 Deck      Side  \n",
       "PassengerId                      \n",
       "0001_01     -0.843795 -1.032805  \n",
       "0002_01      0.919170  0.968125  \n",
       "0003_01     -2.606761  0.968125  \n",
       "0003_02     -2.606761  0.968125  \n",
       "0004_01      0.919170  0.968125  "
      ]
     },
     "execution_count": 23,
     "metadata": {},
     "output_type": "execute_result"
    }
   ],
   "source": [
    "X_normalized.head()"
   ]
  },
  {
   "cell_type": "code",
   "execution_count": 24,
   "id": "3f1fd465",
   "metadata": {
    "execution": {
     "iopub.execute_input": "2023-06-13T16:26:08.103503Z",
     "iopub.status.busy": "2023-06-13T16:26:08.103065Z",
     "iopub.status.idle": "2023-06-13T16:26:34.344744Z",
     "shell.execute_reply": "2023-06-13T16:26:34.343242Z"
    },
    "papermill": {
     "duration": 26.258674,
     "end_time": "2023-06-13T16:26:34.347765",
     "exception": false,
     "start_time": "2023-06-13T16:26:08.089091",
     "status": "completed"
    },
    "tags": []
   },
   "outputs": [
    {
     "name": "stdout",
     "output_type": "stream",
     "text": [
      "Model\t\tCV Mean\t\tCV std\n",
      "{'LR': (0.789607290715977, 0.017877681236876813), 'KNN': (0.7706232556909118, 0.012676150486837862), 'SVM': (0.7958178908244382, 0.01728136494192484)}\n"
     ]
    }
   ],
   "source": [
    "perform_cross_validation(X_normalized, y)"
   ]
  },
  {
   "cell_type": "code",
   "execution_count": 25,
   "id": "f1c3fd47",
   "metadata": {
    "execution": {
     "iopub.execute_input": "2023-06-13T16:26:34.373714Z",
     "iopub.status.busy": "2023-06-13T16:26:34.373221Z",
     "iopub.status.idle": "2023-06-13T16:26:38.223816Z",
     "shell.execute_reply": "2023-06-13T16:26:38.222160Z"
    },
    "papermill": {
     "duration": 3.8669,
     "end_time": "2023-06-13T16:26:38.226651",
     "exception": false,
     "start_time": "2023-06-13T16:26:34.359751",
     "status": "completed"
    },
    "tags": []
   },
   "outputs": [
    {
     "data": {
      "text/html": [
       "<div>\n",
       "<style scoped>\n",
       "    .dataframe tbody tr th:only-of-type {\n",
       "        vertical-align: middle;\n",
       "    }\n",
       "\n",
       "    .dataframe tbody tr th {\n",
       "        vertical-align: top;\n",
       "    }\n",
       "\n",
       "    .dataframe thead th {\n",
       "        text-align: right;\n",
       "    }\n",
       "</style>\n",
       "<table border=\"1\" class=\"dataframe\">\n",
       "  <thead>\n",
       "    <tr style=\"text-align: right;\">\n",
       "      <th></th>\n",
       "      <th>Transported</th>\n",
       "    </tr>\n",
       "    <tr>\n",
       "      <th>PassengerId</th>\n",
       "      <th></th>\n",
       "    </tr>\n",
       "  </thead>\n",
       "  <tbody>\n",
       "    <tr>\n",
       "      <th>0013_01</th>\n",
       "      <td>True</td>\n",
       "    </tr>\n",
       "    <tr>\n",
       "      <th>0018_01</th>\n",
       "      <td>False</td>\n",
       "    </tr>\n",
       "    <tr>\n",
       "      <th>0019_01</th>\n",
       "      <td>True</td>\n",
       "    </tr>\n",
       "    <tr>\n",
       "      <th>0021_01</th>\n",
       "      <td>True</td>\n",
       "    </tr>\n",
       "    <tr>\n",
       "      <th>0023_01</th>\n",
       "      <td>True</td>\n",
       "    </tr>\n",
       "  </tbody>\n",
       "</table>\n",
       "</div>"
      ],
      "text/plain": [
       "             Transported\n",
       "PassengerId             \n",
       "0013_01             True\n",
       "0018_01            False\n",
       "0019_01             True\n",
       "0021_01             True\n",
       "0023_01             True"
      ]
     },
     "execution_count": 25,
     "metadata": {},
     "output_type": "execute_result"
    }
   ],
   "source": [
    "clf = SVC().fit(X_normalized, y)\n",
    "\n",
    "predictions = clf.predict(X_test_normalized)\n",
    "\n",
    "submission1 = pd.DataFrame(data={'Transported':predictions}, index=df_test.index)\n",
    "\n",
    "submission1.head()"
   ]
  },
  {
   "cell_type": "code",
   "execution_count": 26,
   "id": "7761d4c3",
   "metadata": {
    "execution": {
     "iopub.execute_input": "2023-06-13T16:26:38.252918Z",
     "iopub.status.busy": "2023-06-13T16:26:38.252449Z",
     "iopub.status.idle": "2023-06-13T16:26:38.277941Z",
     "shell.execute_reply": "2023-06-13T16:26:38.276632Z"
    },
    "papermill": {
     "duration": 0.041967,
     "end_time": "2023-06-13T16:26:38.281081",
     "exception": false,
     "start_time": "2023-06-13T16:26:38.239114",
     "status": "completed"
    },
    "tags": []
   },
   "outputs": [],
   "source": [
    "submission1.to_csv('2023-6-12_Submission1.csv')"
   ]
  }
 ],
 "metadata": {
  "kernelspec": {
   "display_name": "Python 3",
   "language": "python",
   "name": "python3"
  },
  "language_info": {
   "codemirror_mode": {
    "name": "ipython",
    "version": 3
   },
   "file_extension": ".py",
   "mimetype": "text/x-python",
   "name": "python",
   "nbconvert_exporter": "python",
   "pygments_lexer": "ipython3",
   "version": "3.10.10"
  },
  "papermill": {
   "default_parameters": {},
   "duration": 50.823089,
   "end_time": "2023-06-13T16:26:39.417716",
   "environment_variables": {},
   "exception": null,
   "input_path": "__notebook__.ipynb",
   "output_path": "__notebook__.ipynb",
   "parameters": {},
   "start_time": "2023-06-13T16:25:48.594627",
   "version": "2.4.0"
  }
 },
 "nbformat": 4,
 "nbformat_minor": 5
}
