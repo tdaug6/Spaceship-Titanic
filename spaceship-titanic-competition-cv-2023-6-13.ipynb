{
 "cells": [
  {
   "cell_type": "markdown",
   "id": "94a604ab",
   "metadata": {
    "papermill": {
     "duration": 0.01158,
     "end_time": "2023-06-13T19:36:50.999562",
     "exception": false,
     "start_time": "2023-06-13T19:36:50.987982",
     "status": "completed"
    },
    "tags": []
   },
   "source": [
    "# Spaceship Titanic Competition\n",
    "\n",
    "*Created by: Taylor Daugherty*\n",
    "\n",
    "*Created on: 5/23/2023    Last updated: 6/13/2023 - Clean up notebook*\n",
    "\n",
    "This notebook is used to practice using cross validation.\n",
    "\n",
    "\n",
    "**Input File:** train.csv and test.csv from the spaceship-titanic competition\n",
    "\n",
    "- train.csv contains a training set of data with features and true values\n",
    "\n",
    "- test.csv contains a testing set of data with only features. This is what will be used to make predictions and submit to the competition\n",
    "\n",
    "\n",
    "**Purpose of notebook:** Gain more practice with cross validation and make submissions to the spaceship titanic competition\n",
    "\n",
    "## Table of Contents\n",
    "\n",
    "1. Import packages\n",
    "\n",
    "2. Useful functions\n",
    "\n",
    "3. Initial Model\n",
    "\n",
    "4. Improvement 1: Remove 'Converted' group\n",
    "\n",
    "5. Improvement 2: Impute NaN values\n",
    "\n",
    "    a. Constant\n",
    "    \n",
    "    b. Mean\n",
    "    \n",
    "    c. Median"
   ]
  },
  {
   "cell_type": "markdown",
   "id": "1c949f70",
   "metadata": {
    "papermill": {
     "duration": 0.008556,
     "end_time": "2023-06-13T19:36:51.016327",
     "exception": false,
     "start_time": "2023-06-13T19:36:51.007771",
     "status": "completed"
    },
    "tags": []
   },
   "source": [
    "## Import packages\n",
    "\n",
    "Import the packages necessary to run the notebook\n",
    "\n",
    "1. numpy: used for linear algebra\n",
    "\n",
    "2. pandas: used for dataframe creation and manipulation\n",
    "\n",
    "4. `SimpleImputer`: Used to fill NaN values\n",
    "\n",
    "5. `LogisticRegression`: a classification model using logistic regression\n",
    "\n",
    "6. `KNeighborsClassifier`: a classification model using KNN\n",
    "\n",
    "7. `SVC`: a classification model using SVM\n",
    "\n",
    "8. `KFold` and `cross_val_score`: used for cross validation"
   ]
  },
  {
   "cell_type": "code",
   "execution_count": 1,
   "id": "fd631f3a",
   "metadata": {
    "_cell_guid": "b1076dfc-b9ad-4769-8c92-a6c4dae69d19",
    "_uuid": "8f2839f25d086af736a60e9eeb907d3b93b6e0e5",
    "execution": {
     "iopub.execute_input": "2023-06-13T19:36:51.036542Z",
     "iopub.status.busy": "2023-06-13T19:36:51.035984Z",
     "iopub.status.idle": "2023-06-13T19:36:52.935957Z",
     "shell.execute_reply": "2023-06-13T19:36:52.934646Z"
    },
    "papermill": {
     "duration": 1.913808,
     "end_time": "2023-06-13T19:36:52.939018",
     "exception": false,
     "start_time": "2023-06-13T19:36:51.025210",
     "status": "completed"
    },
    "tags": []
   },
   "outputs": [],
   "source": [
    "import pandas as pd\n",
    "import numpy as np\n",
    "from sklearn.impute import SimpleImputer\n",
    "\n",
    "from sklearn.linear_model import LogisticRegression\n",
    "from sklearn.neighbors import KNeighborsClassifier\n",
    "from sklearn.svm import SVC\n",
    "\n",
    "from sklearn.model_selection import StratifiedKFold, cross_val_score"
   ]
  },
  {
   "cell_type": "markdown",
   "id": "279cf02d",
   "metadata": {
    "papermill": {
     "duration": 0.007505,
     "end_time": "2023-06-13T19:36:52.954584",
     "exception": false,
     "start_time": "2023-06-13T19:36:52.947079",
     "status": "completed"
    },
    "tags": []
   },
   "source": [
    "### File paths\n",
    "\n",
    "These are the filepaths to the original data"
   ]
  },
  {
   "cell_type": "code",
   "execution_count": 2,
   "id": "15f9694f",
   "metadata": {
    "execution": {
     "iopub.execute_input": "2023-06-13T19:36:52.971890Z",
     "iopub.status.busy": "2023-06-13T19:36:52.971500Z",
     "iopub.status.idle": "2023-06-13T19:36:52.976482Z",
     "shell.execute_reply": "2023-06-13T19:36:52.975154Z"
    },
    "papermill": {
     "duration": 0.016991,
     "end_time": "2023-06-13T19:36:52.979300",
     "exception": false,
     "start_time": "2023-06-13T19:36:52.962309",
     "status": "completed"
    },
    "tags": []
   },
   "outputs": [],
   "source": [
    "train_filepath = '/kaggle/input/spaceship-titanic/train.csv'\n",
    "test_filepath = '/kaggle/input/spaceship-titanic/test.csv'"
   ]
  },
  {
   "cell_type": "code",
   "execution_count": 3,
   "id": "b3338549",
   "metadata": {
    "execution": {
     "iopub.execute_input": "2023-06-13T19:36:52.997525Z",
     "iopub.status.busy": "2023-06-13T19:36:52.997105Z",
     "iopub.status.idle": "2023-06-13T19:36:53.082173Z",
     "shell.execute_reply": "2023-06-13T19:36:53.080541Z"
    },
    "papermill": {
     "duration": 0.097275,
     "end_time": "2023-06-13T19:36:53.084855",
     "exception": false,
     "start_time": "2023-06-13T19:36:52.987580",
     "status": "completed"
    },
    "tags": []
   },
   "outputs": [],
   "source": [
    "df_train = pd.read_csv(train_filepath)\n",
    "df_test = pd.read_csv(test_filepath)"
   ]
  },
  {
   "cell_type": "markdown",
   "id": "06e32f79",
   "metadata": {
    "papermill": {
     "duration": 0.007499,
     "end_time": "2023-06-13T19:36:53.100240",
     "exception": false,
     "start_time": "2023-06-13T19:36:53.092741",
     "status": "completed"
    },
    "tags": []
   },
   "source": [
    "### Fill Lists\n",
    "\n",
    "There are many features with missing values in the dataset. For this reason, almost every column needs to fill missing values.\n",
    "\n",
    "These two lists are designed to identify features and common values to fill the NaN values with.\n",
    "\n",
    "- The first variable is a list of feature names that have missing values and will need to be filled\n",
    "\n",
    "- The second variable is a list of the most frequent values for their respective columns"
   ]
  },
  {
   "cell_type": "code",
   "execution_count": 4,
   "id": "3752bc77",
   "metadata": {
    "execution": {
     "iopub.execute_input": "2023-06-13T19:36:53.117275Z",
     "iopub.status.busy": "2023-06-13T19:36:53.116893Z",
     "iopub.status.idle": "2023-06-13T19:36:53.122531Z",
     "shell.execute_reply": "2023-06-13T19:36:53.121040Z"
    },
    "papermill": {
     "duration": 0.017224,
     "end_time": "2023-06-13T19:36:53.125166",
     "exception": false,
     "start_time": "2023-06-13T19:36:53.107942",
     "status": "completed"
    },
    "tags": []
   },
   "outputs": [],
   "source": [
    "fill_features = ['HomePlanet', 'Destination', 'Side', 'CryoSleep', 'VIP', 'RoomService', 'FoodCourt', 'ShoppingMall', 'Spa', 'VRDeck', 'Age']\n",
    "fill_freq = ['Earth', 'TRAPPIST-1e', 'S', False, False]"
   ]
  },
  {
   "cell_type": "markdown",
   "id": "296afa90",
   "metadata": {
    "papermill": {
     "duration": 0.007283,
     "end_time": "2023-06-13T19:36:53.140482",
     "exception": false,
     "start_time": "2023-06-13T19:36:53.133199",
     "status": "completed"
    },
    "tags": []
   },
   "source": [
    "### Mapping Lists\n",
    "\n",
    "There are many columns in the dataset that contain purely categorical data. Categorical data cannot be used in machine learning models, so the data must be converted to numbers\n",
    "\n",
    "These two lists are designed to identify features and common values to map the categorical data.\n",
    "\n",
    "- The first variable is a list of feature names that have categorical values and will need to be mapped\n",
    "\n",
    "- The second variable is a list of dictionaries to use in mapping. The mapping values are based on frequency in the dataset with higher numbers corresponding to higher frequency"
   ]
  },
  {
   "cell_type": "code",
   "execution_count": 5,
   "id": "f1e0431f",
   "metadata": {
    "execution": {
     "iopub.execute_input": "2023-06-13T19:36:53.157875Z",
     "iopub.status.busy": "2023-06-13T19:36:53.157429Z",
     "iopub.status.idle": "2023-06-13T19:36:53.164556Z",
     "shell.execute_reply": "2023-06-13T19:36:53.162575Z"
    },
    "papermill": {
     "duration": 0.019387,
     "end_time": "2023-06-13T19:36:53.167543",
     "exception": false,
     "start_time": "2023-06-13T19:36:53.148156",
     "status": "completed"
    },
    "tags": []
   },
   "outputs": [],
   "source": [
    "map_features = ['HomePlanet','Destination','Deck','Side']\n",
    "\n",
    "map_dictionaries = [{'Earth':2, 'Europa':1, 'Mars':0}, \n",
    "                    {'TRAPPIST-1e':2, '55 Cancri e':1, 'PSO J318.5-22':0}, \n",
    "                    {'T':0, 'A':1, 'D':2, 'C':3, 'B':4, 'E':5, 'G':6, 'F':7}, \n",
    "                    {'P':0, 'S':1}]"
   ]
  },
  {
   "cell_type": "markdown",
   "id": "9cff282d",
   "metadata": {
    "papermill": {
     "duration": 0.007274,
     "end_time": "2023-06-13T19:36:53.183012",
     "exception": false,
     "start_time": "2023-06-13T19:36:53.175738",
     "status": "completed"
    },
    "tags": []
   },
   "source": [
    "### List of models\n",
    "\n",
    "These are the models that will be used during cross-validation. \n",
    "\n",
    "**Models:**\n",
    "\n",
    "- Logistic Regression\n",
    "\n",
    "- KNN\n",
    "\n",
    "- SVM"
   ]
  },
  {
   "cell_type": "code",
   "execution_count": 6,
   "id": "3ce45c8d",
   "metadata": {
    "execution": {
     "iopub.execute_input": "2023-06-13T19:36:53.200992Z",
     "iopub.status.busy": "2023-06-13T19:36:53.200608Z",
     "iopub.status.idle": "2023-06-13T19:36:53.207040Z",
     "shell.execute_reply": "2023-06-13T19:36:53.205237Z"
    },
    "papermill": {
     "duration": 0.019551,
     "end_time": "2023-06-13T19:36:53.210220",
     "exception": false,
     "start_time": "2023-06-13T19:36:53.190669",
     "status": "completed"
    },
    "tags": []
   },
   "outputs": [],
   "source": [
    "models = []\n",
    "models.append(('LR', LogisticRegression()))\n",
    "models.append(('KNN', KNeighborsClassifier()))\n",
    "models.append(('SVM', SVC()))"
   ]
  },
  {
   "cell_type": "code",
   "execution_count": 7,
   "id": "ed5ab27b",
   "metadata": {
    "execution": {
     "iopub.execute_input": "2023-06-13T19:36:53.229365Z",
     "iopub.status.busy": "2023-06-13T19:36:53.228895Z",
     "iopub.status.idle": "2023-06-13T19:36:53.247092Z",
     "shell.execute_reply": "2023-06-13T19:36:53.244986Z"
    },
    "papermill": {
     "duration": 0.03128,
     "end_time": "2023-06-13T19:36:53.250305",
     "exception": false,
     "start_time": "2023-06-13T19:36:53.219025",
     "status": "completed"
    },
    "tags": []
   },
   "outputs": [],
   "source": [
    "rs_mean = df_train['RoomService'].mean()\n",
    "fc_mean = df_train['FoodCourt'].mean()\n",
    "sm_mean = df_train['ShoppingMall'].mean()\n",
    "spa_mean = df_train['Spa'].mean()\n",
    "vr_mean = df_train['VRDeck'].mean()\n",
    "age_mean = df_train['Age'].mean()\n",
    "\n",
    "rs_test_mean = df_test['RoomService'].mean()\n",
    "fc_test_mean = df_test['FoodCourt'].mean()\n",
    "sm_test_mean = df_test['ShoppingMall'].mean()\n",
    "spa_test_mean = df_test['Spa'].mean()\n",
    "vr_test_mean = df_test['VRDeck'].mean()\n",
    "age_test_mean = df_test['Age'].mean()\n",
    "\n",
    "mean_nan_fill_train = [rs_mean, fc_mean, sm_mean, spa_mean, vr_mean, age_mean]\n",
    "mean_nan_fill_test = [rs_test_mean, fc_test_mean, sm_test_mean, spa_test_mean, vr_test_mean, age_test_mean]"
   ]
  },
  {
   "cell_type": "code",
   "execution_count": 8,
   "id": "8127d887",
   "metadata": {
    "execution": {
     "iopub.execute_input": "2023-06-13T19:36:53.270837Z",
     "iopub.status.busy": "2023-06-13T19:36:53.270382Z",
     "iopub.status.idle": "2023-06-13T19:36:53.286696Z",
     "shell.execute_reply": "2023-06-13T19:36:53.285438Z"
    },
    "papermill": {
     "duration": 0.029428,
     "end_time": "2023-06-13T19:36:53.289083",
     "exception": false,
     "start_time": "2023-06-13T19:36:53.259655",
     "status": "completed"
    },
    "tags": []
   },
   "outputs": [],
   "source": [
    "rs_med = df_train['RoomService'].median()\n",
    "fc_med = df_train['FoodCourt'].median()\n",
    "sm_med = df_train['ShoppingMall'].median()\n",
    "spa_med = df_train['Spa'].median()\n",
    "vr_med = df_train['VRDeck'].median()\n",
    "age_med = df_train['Age'].median()\n",
    "\n",
    "rs_test_med = df_test['RoomService'].median()\n",
    "fc_test_med = df_test['FoodCourt'].median()\n",
    "sm_test_med = df_test['ShoppingMall'].median()\n",
    "spa_test_med = df_test['Spa'].median()\n",
    "vr_test_med = df_test['VRDeck'].median()\n",
    "age_test_med = df_test['Age'].median()\n",
    "\n",
    "med_nan_fill_train = [rs_med, fc_med, sm_med, spa_med, vr_med, age_med]\n",
    "med_nan_fill_test = [rs_test_med, fc_test_med, sm_test_med, spa_test_med, vr_test_med, age_test_med]"
   ]
  },
  {
   "cell_type": "markdown",
   "id": "f491de12",
   "metadata": {
    "papermill": {
     "duration": 0.007122,
     "end_time": "2023-06-13T19:36:53.304226",
     "exception": false,
     "start_time": "2023-06-13T19:36:53.297104",
     "status": "completed"
    },
    "tags": []
   },
   "source": [
    "### perform_cross_validation()\n",
    "\n",
    "This function goes through the steps to perform Stratified K-fold cross validation using the list of models described above.\n",
    "\n",
    "**Input:** A dataframe containing the features use to build the model, a Series of the true values associated with the feature list\n",
    "\n",
    "**Output:** Printed result for the mean and standard deviation of each model"
   ]
  },
  {
   "cell_type": "code",
   "execution_count": 9,
   "id": "2e7aa41c",
   "metadata": {
    "execution": {
     "iopub.execute_input": "2023-06-13T19:36:53.320987Z",
     "iopub.status.busy": "2023-06-13T19:36:53.320504Z",
     "iopub.status.idle": "2023-06-13T19:36:53.329428Z",
     "shell.execute_reply": "2023-06-13T19:36:53.328108Z"
    },
    "papermill": {
     "duration": 0.021245,
     "end_time": "2023-06-13T19:36:53.332824",
     "exception": false,
     "start_time": "2023-06-13T19:36:53.311579",
     "status": "completed"
    },
    "tags": []
   },
   "outputs": [],
   "source": [
    "def perform_cross_validation(X_train, y_train):\n",
    "    '''\n",
    "    This function goes through the steps to perform Stratified K-fold cross validation using the list of models described above.\n",
    "    \n",
    "    Input: \n",
    "        - A dataframe containing the features use to build the model\n",
    "        - A Series of the true values associated with the feature list\n",
    "    \n",
    "    Output: Printed result for the mean and standard deviation of each model\n",
    "    '''\n",
    "    results = dict()\n",
    "\n",
    "    for name, model in models:\n",
    "        kfold = StratifiedKFold(n_splits=10)\n",
    "        cv_results = cross_val_score(model, X_train, y_train, cv=kfold, scoring='accuracy')\n",
    "        results[name] = (cv_results.mean(), cv_results.std())\n",
    "\n",
    "    print('Model\\t\\tCV Mean\\t\\tCV std')\n",
    "    print(results)"
   ]
  },
  {
   "cell_type": "markdown",
   "id": "2073e69a",
   "metadata": {
    "papermill": {
     "duration": 0.007107,
     "end_time": "2023-06-13T19:36:53.348027",
     "exception": false,
     "start_time": "2023-06-13T19:36:53.340920",
     "status": "completed"
    },
    "tags": []
   },
   "source": [
    "### expand_cabin()\n",
    "\n",
    "This expands the 'Cabin' column into the 'Deck' and 'Side'. \n",
    "\n",
    "The 'Num' feature is removed because there are two many unique values. The 'Cabin' feature is removed since it is not needed after the expansion\n",
    "\n",
    "**Input:** A dataframe to with the Cabin feature to expand\n",
    "\n",
    "**Output:** A new dataframe with the cabin expanded to 'Deck' and 'Side' and without 'Cabin' or 'Num'"
   ]
  },
  {
   "cell_type": "code",
   "execution_count": 10,
   "id": "a1eb3cab",
   "metadata": {
    "execution": {
     "iopub.execute_input": "2023-06-13T19:36:53.366263Z",
     "iopub.status.busy": "2023-06-13T19:36:53.365223Z",
     "iopub.status.idle": "2023-06-13T19:36:53.371265Z",
     "shell.execute_reply": "2023-06-13T19:36:53.370397Z"
    },
    "papermill": {
     "duration": 0.017486,
     "end_time": "2023-06-13T19:36:53.373121",
     "exception": false,
     "start_time": "2023-06-13T19:36:53.355635",
     "status": "completed"
    },
    "tags": []
   },
   "outputs": [],
   "source": [
    "def expand_cabin(df):\n",
    "    '''\n",
    "    This expands the 'Cabin' column into the 'Deck' and 'Side'.\n",
    "    \n",
    "    Input: A dataframe to with the Cabin feature to expand\n",
    "    \n",
    "    Output: A new dataframe with the cabin expanded to 'Deck' and 'Side' and without 'Cabin' or 'Num'\n",
    "    '''\n",
    "    df[['Deck','Num','Side']] = df['Cabin'].astype(str).str.split('/', expand=True)\n",
    "    df = df.drop('Cabin', axis=1)\n",
    "    df = df.drop('Num', axis=1)\n",
    "    return df"
   ]
  },
  {
   "cell_type": "markdown",
   "id": "00c98d23",
   "metadata": {
    "papermill": {
     "duration": 0.007781,
     "end_time": "2023-06-13T19:36:53.388725",
     "exception": false,
     "start_time": "2023-06-13T19:36:53.380944",
     "status": "completed"
    },
    "tags": []
   },
   "source": [
    "### fill_na()\n",
    "\n",
    "Fill the NaN values of the features with the fill values\n",
    "\n",
    "**Input:** A dataframe, a list of features, a list of fill values\n",
    "\n",
    "- Dataframe to fill the missing values in\n",
    "\n",
    "- A list of features to look for missing values\n",
    "\n",
    "- A list of values to fill the missing values of the feature with\n",
    "\n",
    "**Output:** A dataframe with the found missing values filled"
   ]
  },
  {
   "cell_type": "code",
   "execution_count": 11,
   "id": "2a68d545",
   "metadata": {
    "execution": {
     "iopub.execute_input": "2023-06-13T19:36:53.406349Z",
     "iopub.status.busy": "2023-06-13T19:36:53.405798Z",
     "iopub.status.idle": "2023-06-13T19:36:53.411743Z",
     "shell.execute_reply": "2023-06-13T19:36:53.410466Z"
    },
    "papermill": {
     "duration": 0.017459,
     "end_time": "2023-06-13T19:36:53.414195",
     "exception": false,
     "start_time": "2023-06-13T19:36:53.396736",
     "status": "completed"
    },
    "tags": []
   },
   "outputs": [],
   "source": [
    "def fill_na(df, features, fill_vals):\n",
    "    '''\n",
    "    Fill the NaN values of the features with the fill values\n",
    "    \n",
    "    Input:\n",
    "        - Dataframe to fill the missing values in\n",
    "        - A list of features to look for missing values\n",
    "        - A list of values to fill the missing values of the feature with\n",
    "    \n",
    "    Output: A dataframe with the found missing values filled\n",
    "    '''\n",
    "    df_filled = df\n",
    "    \n",
    "    for i in range(len(features)):\n",
    "        feature = features[i]\n",
    "        fill_val = fill_vals[i]\n",
    "        \n",
    "        df_filled[feature] = df_filled[feature].fillna(fill_val)\n",
    "        \n",
    "    return df_filled"
   ]
  },
  {
   "cell_type": "markdown",
   "id": "baa922e5",
   "metadata": {
    "papermill": {
     "duration": 0.007768,
     "end_time": "2023-06-13T19:36:53.430920",
     "exception": false,
     "start_time": "2023-06-13T19:36:53.423152",
     "status": "completed"
    },
    "tags": []
   },
   "source": [
    "### map_cat()\n",
    "\n",
    "Map categorical data to be numeric\n",
    "\n",
    "**Input:** A dataframe, a list of features, a list of dictionaries\n",
    "\n",
    "- Dataframe for the mapping to take place in\n",
    "\n",
    "- List of features that contain categorical data\n",
    "\n",
    "- List of dictionaries to govern how to map the feature\n",
    "\n",
    "**Output:** A dataframe with the given features mapped according to the dictionaries"
   ]
  },
  {
   "cell_type": "code",
   "execution_count": 12,
   "id": "dcef0fb9",
   "metadata": {
    "execution": {
     "iopub.execute_input": "2023-06-13T19:36:53.449605Z",
     "iopub.status.busy": "2023-06-13T19:36:53.449010Z",
     "iopub.status.idle": "2023-06-13T19:36:53.454531Z",
     "shell.execute_reply": "2023-06-13T19:36:53.453749Z"
    },
    "papermill": {
     "duration": 0.01759,
     "end_time": "2023-06-13T19:36:53.456601",
     "exception": false,
     "start_time": "2023-06-13T19:36:53.439011",
     "status": "completed"
    },
    "tags": []
   },
   "outputs": [],
   "source": [
    "def map_cat(df, features, dictionaries):\n",
    "    '''\n",
    "    Map categorical data to be numeric\n",
    "    \n",
    "    Input:\n",
    "        - Dataframe for the mapping to take place in\n",
    "        - List of features that contain categorical data\n",
    "        - List of dictionaries to govern how to map the feature\n",
    "    \n",
    "    Output: A dataframe with the given features mapped according to the dictionaries\n",
    "        \n",
    "    '''\n",
    "    df_mapped = df\n",
    "    \n",
    "    for i in range(len(features)):\n",
    "        feature = features[i]\n",
    "        dictionary = dictionaries[i]\n",
    "        \n",
    "        df_mapped[feature] = df[feature].map(dictionary)\n",
    "        \n",
    "    return df_mapped"
   ]
  },
  {
   "cell_type": "markdown",
   "id": "1eab555f",
   "metadata": {
    "papermill": {
     "duration": 0.007527,
     "end_time": "2023-06-13T19:36:53.472223",
     "exception": false,
     "start_time": "2023-06-13T19:36:53.464696",
     "status": "completed"
    },
    "tags": []
   },
   "source": [
    "### normalize()\n",
    "\n",
    "Normalizes a Series\n",
    "\n",
    "**Input:** A feature of type Series\n",
    "\n",
    "**Output:** The normalized feature of type Series"
   ]
  },
  {
   "cell_type": "code",
   "execution_count": 13,
   "id": "c3c84ea3",
   "metadata": {
    "execution": {
     "iopub.execute_input": "2023-06-13T19:36:53.489806Z",
     "iopub.status.busy": "2023-06-13T19:36:53.489218Z",
     "iopub.status.idle": "2023-06-13T19:36:53.495067Z",
     "shell.execute_reply": "2023-06-13T19:36:53.493432Z"
    },
    "papermill": {
     "duration": 0.01817,
     "end_time": "2023-06-13T19:36:53.498234",
     "exception": false,
     "start_time": "2023-06-13T19:36:53.480064",
     "status": "completed"
    },
    "tags": []
   },
   "outputs": [],
   "source": [
    "def normalize(feature):\n",
    "    '''\n",
    "    This function normalizes a Series\n",
    "    \n",
    "    Input: A feature of type Series\n",
    "    \n",
    "    Output: The normalized feature of type Series\n",
    "    '''\n",
    "    return (feature - feature.mean())/feature.std()"
   ]
  },
  {
   "cell_type": "markdown",
   "id": "c9356b81",
   "metadata": {
    "papermill": {
     "duration": 0.007448,
     "end_time": "2023-06-13T19:36:53.513859",
     "exception": false,
     "start_time": "2023-06-13T19:36:53.506411",
     "status": "completed"
    },
    "tags": []
   },
   "source": [
    "### normalize_features()\n",
    "\n",
    "Normalizes all features in a given dataframe. This will normalize ALL features, so ensure that the inputted dataframe consists only of numeric values.\n",
    "\n",
    "**Input:** A dataframe to normalize\n",
    "\n",
    "**Output:** A normalized dataframe"
   ]
  },
  {
   "cell_type": "code",
   "execution_count": 14,
   "id": "8ad3a3f7",
   "metadata": {
    "execution": {
     "iopub.execute_input": "2023-06-13T19:36:53.530719Z",
     "iopub.status.busy": "2023-06-13T19:36:53.530383Z",
     "iopub.status.idle": "2023-06-13T19:36:53.535388Z",
     "shell.execute_reply": "2023-06-13T19:36:53.534306Z"
    },
    "papermill": {
     "duration": 0.01607,
     "end_time": "2023-06-13T19:36:53.537595",
     "exception": false,
     "start_time": "2023-06-13T19:36:53.521525",
     "status": "completed"
    },
    "tags": []
   },
   "outputs": [],
   "source": [
    "def normalize_features(df):\n",
    "    '''\n",
    "    This function normalizes all features in a dataframe\n",
    "    \n",
    "    Input: A pandas dataframe\n",
    "    \n",
    "    Output: The normalized dataframe\n",
    "    '''\n",
    "    for column in df.columns:\n",
    "        df[column] = normalize(df[column])\n",
    "    return df"
   ]
  },
  {
   "cell_type": "code",
   "execution_count": 15,
   "id": "e77714c7",
   "metadata": {
    "execution": {
     "iopub.execute_input": "2023-06-13T19:36:53.555702Z",
     "iopub.status.busy": "2023-06-13T19:36:53.554942Z",
     "iopub.status.idle": "2023-06-13T19:36:53.561623Z",
     "shell.execute_reply": "2023-06-13T19:36:53.560231Z"
    },
    "papermill": {
     "duration": 0.018464,
     "end_time": "2023-06-13T19:36:53.563890",
     "exception": false,
     "start_time": "2023-06-13T19:36:53.545426",
     "status": "completed"
    },
    "tags": []
   },
   "outputs": [],
   "source": [
    "def prepare_dataframe(df, fill_nans):\n",
    "    df = df.drop('Name', axis=1)\n",
    "    df = expand_cabin(df)\n",
    "    df['Deck'] = df['Deck'].replace('nan','F')\n",
    "    \n",
    "    fill_vals = fill_freq + fill_nans\n",
    "    df_filled = fill_na(df, fill_features, fill_vals)\n",
    "    \n",
    "    df_mapped = map_cat(df_filled, map_features, map_dictionaries)\n",
    "    return df_mapped"
   ]
  },
  {
   "cell_type": "markdown",
   "id": "e1478834",
   "metadata": {
    "papermill": {
     "duration": 0.00732,
     "end_time": "2023-06-13T19:36:53.579232",
     "exception": false,
     "start_time": "2023-06-13T19:36:53.571912",
     "status": "completed"
    },
    "tags": []
   },
   "source": [
    "**--------------------------------------------------------------------------------**"
   ]
  },
  {
   "cell_type": "markdown",
   "id": "2214fb41",
   "metadata": {
    "papermill": {
     "duration": 0.008537,
     "end_time": "2023-06-13T19:36:53.595497",
     "exception": false,
     "start_time": "2023-06-13T19:36:53.586960",
     "status": "completed"
    },
    "tags": []
   },
   "source": [
    "## Fill with Mean\n",
    "\n",
    "This model fills the missing values for spending features with the mean of the feature\n",
    "\n",
    "**Unique attributes:**\n",
    "\n",
    "- Fill NaN with feature mean\n",
    "\n",
    "**Result of CV:** The model used to make predictions was SVM because it had the highest accuracy score\n",
    "\n",
    "**Accuracy:** The accuracy after submitting the predictions\n",
    "\n",
    "    0.79541"
   ]
  },
  {
   "cell_type": "code",
   "execution_count": 16,
   "id": "cfbec8df",
   "metadata": {
    "execution": {
     "iopub.execute_input": "2023-06-13T19:36:53.616936Z",
     "iopub.status.busy": "2023-06-13T19:36:53.616495Z",
     "iopub.status.idle": "2023-06-13T19:36:53.693207Z",
     "shell.execute_reply": "2023-06-13T19:36:53.691811Z"
    },
    "papermill": {
     "duration": 0.0902,
     "end_time": "2023-06-13T19:36:53.695564",
     "exception": false,
     "start_time": "2023-06-13T19:36:53.605364",
     "status": "completed"
    },
    "tags": []
   },
   "outputs": [],
   "source": [
    "df_train_mean = pd.read_csv(train_filepath, index_col='PassengerId')\n",
    "\n",
    "df_train_mean = prepare_dataframe(df_train_mean, mean_nan_fill_train)\n",
    "\n",
    "X_mean_train = df_train_mean.drop('Transported', axis=1)\n",
    "y_mean = df_train_mean['Transported']\n",
    "\n",
    "X_mean_norm_train = normalize_features(X_mean_train)"
   ]
  },
  {
   "cell_type": "code",
   "execution_count": 17,
   "id": "7345bd3d",
   "metadata": {
    "execution": {
     "iopub.execute_input": "2023-06-13T19:36:53.711964Z",
     "iopub.status.busy": "2023-06-13T19:36:53.711656Z",
     "iopub.status.idle": "2023-06-13T19:36:53.753954Z",
     "shell.execute_reply": "2023-06-13T19:36:53.752315Z"
    },
    "papermill": {
     "duration": 0.053755,
     "end_time": "2023-06-13T19:36:53.756926",
     "exception": false,
     "start_time": "2023-06-13T19:36:53.703171",
     "status": "completed"
    },
    "tags": []
   },
   "outputs": [],
   "source": [
    "df_test_mean = pd.read_csv(test_filepath, index_col='PassengerId')\n",
    "\n",
    "df_test_mean = prepare_dataframe(df_test_mean, med_nan_fill_test)\n",
    "\n",
    "df_test_mean_norm = normalize_features(df_test_mean)"
   ]
  },
  {
   "cell_type": "code",
   "execution_count": 18,
   "id": "0f96d88f",
   "metadata": {
    "execution": {
     "iopub.execute_input": "2023-06-13T19:36:53.774373Z",
     "iopub.status.busy": "2023-06-13T19:36:53.773714Z",
     "iopub.status.idle": "2023-06-13T19:36:53.779461Z",
     "shell.execute_reply": "2023-06-13T19:36:53.778161Z"
    },
    "papermill": {
     "duration": 0.017181,
     "end_time": "2023-06-13T19:36:53.782051",
     "exception": false,
     "start_time": "2023-06-13T19:36:53.764870",
     "status": "completed"
    },
    "tags": []
   },
   "outputs": [],
   "source": [
    "# perform_cross_validation(X_mean_norm_train, y_mean)"
   ]
  },
  {
   "cell_type": "code",
   "execution_count": 19,
   "id": "0cf4f255",
   "metadata": {
    "execution": {
     "iopub.execute_input": "2023-06-13T19:36:53.799807Z",
     "iopub.status.busy": "2023-06-13T19:36:53.799380Z",
     "iopub.status.idle": "2023-06-13T19:36:56.355241Z",
     "shell.execute_reply": "2023-06-13T19:36:56.353728Z"
    },
    "papermill": {
     "duration": 2.568074,
     "end_time": "2023-06-13T19:36:56.358192",
     "exception": false,
     "start_time": "2023-06-13T19:36:53.790118",
     "status": "completed"
    },
    "tags": []
   },
   "outputs": [
    {
     "data": {
      "text/html": [
       "<div>\n",
       "<style scoped>\n",
       "    .dataframe tbody tr th:only-of-type {\n",
       "        vertical-align: middle;\n",
       "    }\n",
       "\n",
       "    .dataframe tbody tr th {\n",
       "        vertical-align: top;\n",
       "    }\n",
       "\n",
       "    .dataframe thead th {\n",
       "        text-align: right;\n",
       "    }\n",
       "</style>\n",
       "<table border=\"1\" class=\"dataframe\">\n",
       "  <thead>\n",
       "    <tr style=\"text-align: right;\">\n",
       "      <th></th>\n",
       "      <th>Transported</th>\n",
       "    </tr>\n",
       "    <tr>\n",
       "      <th>PassengerId</th>\n",
       "      <th></th>\n",
       "    </tr>\n",
       "  </thead>\n",
       "  <tbody>\n",
       "    <tr>\n",
       "      <th>0013_01</th>\n",
       "      <td>True</td>\n",
       "    </tr>\n",
       "    <tr>\n",
       "      <th>0018_01</th>\n",
       "      <td>False</td>\n",
       "    </tr>\n",
       "    <tr>\n",
       "      <th>0019_01</th>\n",
       "      <td>True</td>\n",
       "    </tr>\n",
       "    <tr>\n",
       "      <th>0021_01</th>\n",
       "      <td>True</td>\n",
       "    </tr>\n",
       "    <tr>\n",
       "      <th>0023_01</th>\n",
       "      <td>True</td>\n",
       "    </tr>\n",
       "  </tbody>\n",
       "</table>\n",
       "</div>"
      ],
      "text/plain": [
       "             Transported\n",
       "PassengerId             \n",
       "0013_01             True\n",
       "0018_01            False\n",
       "0019_01             True\n",
       "0021_01             True\n",
       "0023_01             True"
      ]
     },
     "execution_count": 19,
     "metadata": {},
     "output_type": "execute_result"
    }
   ],
   "source": [
    "clf_mean = SVC().fit(X_mean_norm_train, y_mean)\n",
    "\n",
    "predictions_mean = clf_mean.predict(df_test_mean_norm)\n",
    "\n",
    "submission_mean = pd.DataFrame(data={'Transported':predictions_mean}, index=df_test_mean_norm.index)\n",
    "\n",
    "submission_mean.head()"
   ]
  },
  {
   "cell_type": "code",
   "execution_count": 20,
   "id": "b5fb8114",
   "metadata": {
    "execution": {
     "iopub.execute_input": "2023-06-13T19:36:56.378042Z",
     "iopub.status.busy": "2023-06-13T19:36:56.377289Z",
     "iopub.status.idle": "2023-06-13T19:36:56.393590Z",
     "shell.execute_reply": "2023-06-13T19:36:56.391463Z"
    },
    "papermill": {
     "duration": 0.029733,
     "end_time": "2023-06-13T19:36:56.397060",
     "exception": false,
     "start_time": "2023-06-13T19:36:56.367327",
     "status": "completed"
    },
    "tags": []
   },
   "outputs": [],
   "source": [
    "submission_mean.to_csv('2023-6-13_Mean-fill-Nan_Submission1.csv')"
   ]
  },
  {
   "cell_type": "markdown",
   "id": "0418a1d1",
   "metadata": {
    "papermill": {
     "duration": 0.008909,
     "end_time": "2023-06-13T19:36:56.415796",
     "exception": false,
     "start_time": "2023-06-13T19:36:56.406887",
     "status": "completed"
    },
    "tags": []
   },
   "source": [
    "Result: 0.79541"
   ]
  },
  {
   "cell_type": "markdown",
   "id": "df8f52aa",
   "metadata": {
    "papermill": {
     "duration": 0.008308,
     "end_time": "2023-06-13T19:36:56.435046",
     "exception": false,
     "start_time": "2023-06-13T19:36:56.426738",
     "status": "completed"
    },
    "tags": []
   },
   "source": [
    "**--------------------------------------------------------------------------------**"
   ]
  },
  {
   "cell_type": "code",
   "execution_count": 21,
   "id": "1133fb03",
   "metadata": {
    "execution": {
     "iopub.execute_input": "2023-06-13T19:36:56.454105Z",
     "iopub.status.busy": "2023-06-13T19:36:56.453758Z",
     "iopub.status.idle": "2023-06-13T19:36:56.517225Z",
     "shell.execute_reply": "2023-06-13T19:36:56.516531Z"
    },
    "papermill": {
     "duration": 0.075077,
     "end_time": "2023-06-13T19:36:56.519469",
     "exception": false,
     "start_time": "2023-06-13T19:36:56.444392",
     "status": "completed"
    },
    "tags": []
   },
   "outputs": [],
   "source": [
    "df_train_med = pd.read_csv(train_filepath, index_col='PassengerId')\n",
    "\n",
    "df_train_med = prepare_dataframe(df_train_med, med_nan_fill_train)\n",
    "\n",
    "X_med_train = df_train_med.drop('Transported', axis=1)\n",
    "y_med = df_train_med['Transported']\n",
    "\n",
    "X_med_norm_train = normalize_features(X_med_train)"
   ]
  },
  {
   "cell_type": "code",
   "execution_count": 22,
   "id": "104e4518",
   "metadata": {
    "execution": {
     "iopub.execute_input": "2023-06-13T19:36:56.537509Z",
     "iopub.status.busy": "2023-06-13T19:36:56.537062Z",
     "iopub.status.idle": "2023-06-13T19:36:56.581244Z",
     "shell.execute_reply": "2023-06-13T19:36:56.579940Z"
    },
    "papermill": {
     "duration": 0.056173,
     "end_time": "2023-06-13T19:36:56.583928",
     "exception": false,
     "start_time": "2023-06-13T19:36:56.527755",
     "status": "completed"
    },
    "tags": []
   },
   "outputs": [],
   "source": [
    "df_test_med = pd.read_csv(test_filepath, index_col='PassengerId')\n",
    "\n",
    "df_test_med = prepare_dataframe(df_test_med, med_nan_fill_test)\n",
    "\n",
    "df_test_med_norm = normalize_features(df_test_med)"
   ]
  },
  {
   "cell_type": "code",
   "execution_count": 23,
   "id": "556f3310",
   "metadata": {
    "execution": {
     "iopub.execute_input": "2023-06-13T19:36:56.602422Z",
     "iopub.status.busy": "2023-06-13T19:36:56.601622Z",
     "iopub.status.idle": "2023-06-13T19:36:56.605836Z",
     "shell.execute_reply": "2023-06-13T19:36:56.604604Z"
    },
    "papermill": {
     "duration": 0.016116,
     "end_time": "2023-06-13T19:36:56.608246",
     "exception": false,
     "start_time": "2023-06-13T19:36:56.592130",
     "status": "completed"
    },
    "tags": []
   },
   "outputs": [],
   "source": [
    "# perform_cross_validation(X_mean_norm_train, y_mean)"
   ]
  },
  {
   "cell_type": "code",
   "execution_count": 24,
   "id": "49b23e3d",
   "metadata": {
    "execution": {
     "iopub.execute_input": "2023-06-13T19:36:56.628360Z",
     "iopub.status.busy": "2023-06-13T19:36:56.627601Z",
     "iopub.status.idle": "2023-06-13T19:36:59.174256Z",
     "shell.execute_reply": "2023-06-13T19:36:59.172091Z"
    },
    "papermill": {
     "duration": 2.559812,
     "end_time": "2023-06-13T19:36:59.176828",
     "exception": false,
     "start_time": "2023-06-13T19:36:56.617016",
     "status": "completed"
    },
    "tags": []
   },
   "outputs": [
    {
     "data": {
      "text/html": [
       "<div>\n",
       "<style scoped>\n",
       "    .dataframe tbody tr th:only-of-type {\n",
       "        vertical-align: middle;\n",
       "    }\n",
       "\n",
       "    .dataframe tbody tr th {\n",
       "        vertical-align: top;\n",
       "    }\n",
       "\n",
       "    .dataframe thead th {\n",
       "        text-align: right;\n",
       "    }\n",
       "</style>\n",
       "<table border=\"1\" class=\"dataframe\">\n",
       "  <thead>\n",
       "    <tr style=\"text-align: right;\">\n",
       "      <th></th>\n",
       "      <th>Transported</th>\n",
       "    </tr>\n",
       "    <tr>\n",
       "      <th>PassengerId</th>\n",
       "      <th></th>\n",
       "    </tr>\n",
       "  </thead>\n",
       "  <tbody>\n",
       "    <tr>\n",
       "      <th>0013_01</th>\n",
       "      <td>True</td>\n",
       "    </tr>\n",
       "    <tr>\n",
       "      <th>0018_01</th>\n",
       "      <td>False</td>\n",
       "    </tr>\n",
       "    <tr>\n",
       "      <th>0019_01</th>\n",
       "      <td>True</td>\n",
       "    </tr>\n",
       "    <tr>\n",
       "      <th>0021_01</th>\n",
       "      <td>True</td>\n",
       "    </tr>\n",
       "    <tr>\n",
       "      <th>0023_01</th>\n",
       "      <td>True</td>\n",
       "    </tr>\n",
       "  </tbody>\n",
       "</table>\n",
       "</div>"
      ],
      "text/plain": [
       "             Transported\n",
       "PassengerId             \n",
       "0013_01             True\n",
       "0018_01            False\n",
       "0019_01             True\n",
       "0021_01             True\n",
       "0023_01             True"
      ]
     },
     "execution_count": 24,
     "metadata": {},
     "output_type": "execute_result"
    }
   ],
   "source": [
    "clf_med = SVC().fit(X_med_train, y_med)\n",
    "\n",
    "predictions_med = clf_med.predict(df_test_med_norm)\n",
    "\n",
    "submission_med = pd.DataFrame(data={'Transported':predictions_med}, index=df_test_med_norm.index)\n",
    "\n",
    "submission_med.head()"
   ]
  },
  {
   "cell_type": "code",
   "execution_count": 25,
   "id": "09dda5f1",
   "metadata": {
    "execution": {
     "iopub.execute_input": "2023-06-13T19:36:59.196273Z",
     "iopub.status.busy": "2023-06-13T19:36:59.195590Z",
     "iopub.status.idle": "2023-06-13T19:36:59.204850Z",
     "shell.execute_reply": "2023-06-13T19:36:59.202996Z"
    },
    "papermill": {
     "duration": 0.02226,
     "end_time": "2023-06-13T19:36:59.208003",
     "exception": false,
     "start_time": "2023-06-13T19:36:59.185743",
     "status": "completed"
    },
    "tags": []
   },
   "outputs": [],
   "source": [
    "submission_med.to_csv('2023-6-13_Median-fill-Nan_Submission1.csv')"
   ]
  },
  {
   "cell_type": "markdown",
   "id": "e73ee282",
   "metadata": {
    "papermill": {
     "duration": 0.007965,
     "end_time": "2023-06-13T19:36:59.224908",
     "exception": false,
     "start_time": "2023-06-13T19:36:59.216943",
     "status": "completed"
    },
    "tags": []
   },
   "source": [
    "Result: 0.79635"
   ]
  }
 ],
 "metadata": {
  "kernelspec": {
   "display_name": "Python 3",
   "language": "python",
   "name": "python3"
  },
  "language_info": {
   "codemirror_mode": {
    "name": "ipython",
    "version": 3
   },
   "file_extension": ".py",
   "mimetype": "text/x-python",
   "name": "python",
   "nbconvert_exporter": "python",
   "pygments_lexer": "ipython3",
   "version": "3.10.10"
  },
  "papermill": {
   "default_parameters": {},
   "duration": 21.877493,
   "end_time": "2023-06-13T19:37:00.359645",
   "environment_variables": {},
   "exception": null,
   "input_path": "__notebook__.ipynb",
   "output_path": "__notebook__.ipynb",
   "parameters": {},
   "start_time": "2023-06-13T19:36:38.482152",
   "version": "2.4.0"
  }
 },
 "nbformat": 4,
 "nbformat_minor": 5
}
